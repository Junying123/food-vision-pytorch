{
  "nbformat": 4,
  "nbformat_minor": 0,
  "metadata": {
    "colab": {
      "provenance": [],
      "gpuType": "T4",
      "authorship_tag": "ABX9TyPqKsQ199ekC5a5HED0i4Ks",
      "include_colab_link": true
    },
    "kernelspec": {
      "name": "python3",
      "display_name": "Python 3"
    },
    "language_info": {
      "name": "python"
    },
    "accelerator": "GPU",
    "widgets": {
      "application/vnd.jupyter.widget-state+json": {
        "3d2c9bbbc3d047c5a7d58c523c6a491f": {
          "model_module": "@jupyter-widgets/controls",
          "model_name": "HBoxModel",
          "model_module_version": "2.0.0",
          "state": {
            "_dom_classes": [],
            "_model_module": "@jupyter-widgets/controls",
            "_model_module_version": "2.0.0",
            "_model_name": "HBoxModel",
            "_view_count": null,
            "_view_module": "@jupyter-widgets/controls",
            "_view_module_version": "2.0.0",
            "_view_name": "HBoxView",
            "box_style": "",
            "children": [
              "IPY_MODEL_7df162c6a03b4958ae27e74b606234bf",
              "IPY_MODEL_f439f5f52410476a888c86f9c8ad66b8",
              "IPY_MODEL_6f8ebc04e71146b080c59249b124b314"
            ],
            "layout": "IPY_MODEL_d13a995c38a84a538cd2df75c2bb522b",
            "tabbable": null,
            "tooltip": null
          }
        },
        "7df162c6a03b4958ae27e74b606234bf": {
          "model_module": "@jupyter-widgets/controls",
          "model_name": "HTMLModel",
          "model_module_version": "2.0.0",
          "state": {
            "_dom_classes": [],
            "_model_module": "@jupyter-widgets/controls",
            "_model_module_version": "2.0.0",
            "_model_name": "HTMLModel",
            "_view_count": null,
            "_view_module": "@jupyter-widgets/controls",
            "_view_module_version": "2.0.0",
            "_view_name": "HTMLView",
            "description": "",
            "description_allow_html": false,
            "layout": "IPY_MODEL_774cc44b581e4bbcb9724619e7f89e3e",
            "placeholder": "​",
            "style": "IPY_MODEL_a42d416ca1cc458cbe69c892f37f338c",
            "tabbable": null,
            "tooltip": null,
            "value": "100%"
          }
        },
        "f439f5f52410476a888c86f9c8ad66b8": {
          "model_module": "@jupyter-widgets/controls",
          "model_name": "FloatProgressModel",
          "model_module_version": "2.0.0",
          "state": {
            "_dom_classes": [],
            "_model_module": "@jupyter-widgets/controls",
            "_model_module_version": "2.0.0",
            "_model_name": "FloatProgressModel",
            "_view_count": null,
            "_view_module": "@jupyter-widgets/controls",
            "_view_module_version": "2.0.0",
            "_view_name": "ProgressView",
            "bar_style": "success",
            "description": "",
            "description_allow_html": false,
            "layout": "IPY_MODEL_06bdfd70281c48c9bc29fac2e32cfa28",
            "max": 10,
            "min": 0,
            "orientation": "horizontal",
            "style": "IPY_MODEL_8659a0cd6a2c4d6c9667584d8e53b21e",
            "tabbable": null,
            "tooltip": null,
            "value": 10
          }
        },
        "6f8ebc04e71146b080c59249b124b314": {
          "model_module": "@jupyter-widgets/controls",
          "model_name": "HTMLModel",
          "model_module_version": "2.0.0",
          "state": {
            "_dom_classes": [],
            "_model_module": "@jupyter-widgets/controls",
            "_model_module_version": "2.0.0",
            "_model_name": "HTMLModel",
            "_view_count": null,
            "_view_module": "@jupyter-widgets/controls",
            "_view_module_version": "2.0.0",
            "_view_name": "HTMLView",
            "description": "",
            "description_allow_html": false,
            "layout": "IPY_MODEL_4869fd0d88c7475bbdcdf6d1afaf2a72",
            "placeholder": "​",
            "style": "IPY_MODEL_388dab2f9a70441d891a4ee94962e0e4",
            "tabbable": null,
            "tooltip": null,
            "value": " 10/10 [05:44&lt;00:00, 34.74s/it]"
          }
        },
        "d13a995c38a84a538cd2df75c2bb522b": {
          "model_module": "@jupyter-widgets/base",
          "model_name": "LayoutModel",
          "model_module_version": "2.0.0",
          "state": {
            "_model_module": "@jupyter-widgets/base",
            "_model_module_version": "2.0.0",
            "_model_name": "LayoutModel",
            "_view_count": null,
            "_view_module": "@jupyter-widgets/base",
            "_view_module_version": "2.0.0",
            "_view_name": "LayoutView",
            "align_content": null,
            "align_items": null,
            "align_self": null,
            "border_bottom": null,
            "border_left": null,
            "border_right": null,
            "border_top": null,
            "bottom": null,
            "display": null,
            "flex": null,
            "flex_flow": null,
            "grid_area": null,
            "grid_auto_columns": null,
            "grid_auto_flow": null,
            "grid_auto_rows": null,
            "grid_column": null,
            "grid_gap": null,
            "grid_row": null,
            "grid_template_areas": null,
            "grid_template_columns": null,
            "grid_template_rows": null,
            "height": null,
            "justify_content": null,
            "justify_items": null,
            "left": null,
            "margin": null,
            "max_height": null,
            "max_width": null,
            "min_height": null,
            "min_width": null,
            "object_fit": null,
            "object_position": null,
            "order": null,
            "overflow": null,
            "padding": null,
            "right": null,
            "top": null,
            "visibility": null,
            "width": null
          }
        },
        "774cc44b581e4bbcb9724619e7f89e3e": {
          "model_module": "@jupyter-widgets/base",
          "model_name": "LayoutModel",
          "model_module_version": "2.0.0",
          "state": {
            "_model_module": "@jupyter-widgets/base",
            "_model_module_version": "2.0.0",
            "_model_name": "LayoutModel",
            "_view_count": null,
            "_view_module": "@jupyter-widgets/base",
            "_view_module_version": "2.0.0",
            "_view_name": "LayoutView",
            "align_content": null,
            "align_items": null,
            "align_self": null,
            "border_bottom": null,
            "border_left": null,
            "border_right": null,
            "border_top": null,
            "bottom": null,
            "display": null,
            "flex": null,
            "flex_flow": null,
            "grid_area": null,
            "grid_auto_columns": null,
            "grid_auto_flow": null,
            "grid_auto_rows": null,
            "grid_column": null,
            "grid_gap": null,
            "grid_row": null,
            "grid_template_areas": null,
            "grid_template_columns": null,
            "grid_template_rows": null,
            "height": null,
            "justify_content": null,
            "justify_items": null,
            "left": null,
            "margin": null,
            "max_height": null,
            "max_width": null,
            "min_height": null,
            "min_width": null,
            "object_fit": null,
            "object_position": null,
            "order": null,
            "overflow": null,
            "padding": null,
            "right": null,
            "top": null,
            "visibility": null,
            "width": null
          }
        },
        "a42d416ca1cc458cbe69c892f37f338c": {
          "model_module": "@jupyter-widgets/controls",
          "model_name": "HTMLStyleModel",
          "model_module_version": "2.0.0",
          "state": {
            "_model_module": "@jupyter-widgets/controls",
            "_model_module_version": "2.0.0",
            "_model_name": "HTMLStyleModel",
            "_view_count": null,
            "_view_module": "@jupyter-widgets/base",
            "_view_module_version": "2.0.0",
            "_view_name": "StyleView",
            "background": null,
            "description_width": "",
            "font_size": null,
            "text_color": null
          }
        },
        "06bdfd70281c48c9bc29fac2e32cfa28": {
          "model_module": "@jupyter-widgets/base",
          "model_name": "LayoutModel",
          "model_module_version": "2.0.0",
          "state": {
            "_model_module": "@jupyter-widgets/base",
            "_model_module_version": "2.0.0",
            "_model_name": "LayoutModel",
            "_view_count": null,
            "_view_module": "@jupyter-widgets/base",
            "_view_module_version": "2.0.0",
            "_view_name": "LayoutView",
            "align_content": null,
            "align_items": null,
            "align_self": null,
            "border_bottom": null,
            "border_left": null,
            "border_right": null,
            "border_top": null,
            "bottom": null,
            "display": null,
            "flex": null,
            "flex_flow": null,
            "grid_area": null,
            "grid_auto_columns": null,
            "grid_auto_flow": null,
            "grid_auto_rows": null,
            "grid_column": null,
            "grid_gap": null,
            "grid_row": null,
            "grid_template_areas": null,
            "grid_template_columns": null,
            "grid_template_rows": null,
            "height": null,
            "justify_content": null,
            "justify_items": null,
            "left": null,
            "margin": null,
            "max_height": null,
            "max_width": null,
            "min_height": null,
            "min_width": null,
            "object_fit": null,
            "object_position": null,
            "order": null,
            "overflow": null,
            "padding": null,
            "right": null,
            "top": null,
            "visibility": null,
            "width": null
          }
        },
        "8659a0cd6a2c4d6c9667584d8e53b21e": {
          "model_module": "@jupyter-widgets/controls",
          "model_name": "ProgressStyleModel",
          "model_module_version": "2.0.0",
          "state": {
            "_model_module": "@jupyter-widgets/controls",
            "_model_module_version": "2.0.0",
            "_model_name": "ProgressStyleModel",
            "_view_count": null,
            "_view_module": "@jupyter-widgets/base",
            "_view_module_version": "2.0.0",
            "_view_name": "StyleView",
            "bar_color": null,
            "description_width": ""
          }
        },
        "4869fd0d88c7475bbdcdf6d1afaf2a72": {
          "model_module": "@jupyter-widgets/base",
          "model_name": "LayoutModel",
          "model_module_version": "2.0.0",
          "state": {
            "_model_module": "@jupyter-widgets/base",
            "_model_module_version": "2.0.0",
            "_model_name": "LayoutModel",
            "_view_count": null,
            "_view_module": "@jupyter-widgets/base",
            "_view_module_version": "2.0.0",
            "_view_name": "LayoutView",
            "align_content": null,
            "align_items": null,
            "align_self": null,
            "border_bottom": null,
            "border_left": null,
            "border_right": null,
            "border_top": null,
            "bottom": null,
            "display": null,
            "flex": null,
            "flex_flow": null,
            "grid_area": null,
            "grid_auto_columns": null,
            "grid_auto_flow": null,
            "grid_auto_rows": null,
            "grid_column": null,
            "grid_gap": null,
            "grid_row": null,
            "grid_template_areas": null,
            "grid_template_columns": null,
            "grid_template_rows": null,
            "height": null,
            "justify_content": null,
            "justify_items": null,
            "left": null,
            "margin": null,
            "max_height": null,
            "max_width": null,
            "min_height": null,
            "min_width": null,
            "object_fit": null,
            "object_position": null,
            "order": null,
            "overflow": null,
            "padding": null,
            "right": null,
            "top": null,
            "visibility": null,
            "width": null
          }
        },
        "388dab2f9a70441d891a4ee94962e0e4": {
          "model_module": "@jupyter-widgets/controls",
          "model_name": "HTMLStyleModel",
          "model_module_version": "2.0.0",
          "state": {
            "_model_module": "@jupyter-widgets/controls",
            "_model_module_version": "2.0.0",
            "_model_name": "HTMLStyleModel",
            "_view_count": null,
            "_view_module": "@jupyter-widgets/base",
            "_view_module_version": "2.0.0",
            "_view_name": "StyleView",
            "background": null,
            "description_width": "",
            "font_size": null,
            "text_color": null
          }
        },
        "89c5f0da6afa47f8b680b722265b31bb": {
          "model_module": "@jupyter-widgets/controls",
          "model_name": "HBoxModel",
          "model_module_version": "2.0.0",
          "state": {
            "_dom_classes": [],
            "_model_module": "@jupyter-widgets/controls",
            "_model_module_version": "2.0.0",
            "_model_name": "HBoxModel",
            "_view_count": null,
            "_view_module": "@jupyter-widgets/controls",
            "_view_module_version": "2.0.0",
            "_view_name": "HBoxView",
            "box_style": "",
            "children": [
              "IPY_MODEL_ec3c00b342a6482c8bda5e15ebeeb482",
              "IPY_MODEL_60d1e961f0fe4bc9a579871f1c97d9a3",
              "IPY_MODEL_8acf484001cd45349d6df0cbb2cafc84"
            ],
            "layout": "IPY_MODEL_2e9ef461b0bd46c7aef1f216e99ad17f",
            "tabbable": null,
            "tooltip": null
          }
        },
        "ec3c00b342a6482c8bda5e15ebeeb482": {
          "model_module": "@jupyter-widgets/controls",
          "model_name": "HTMLModel",
          "model_module_version": "2.0.0",
          "state": {
            "_dom_classes": [],
            "_model_module": "@jupyter-widgets/controls",
            "_model_module_version": "2.0.0",
            "_model_name": "HTMLModel",
            "_view_count": null,
            "_view_module": "@jupyter-widgets/controls",
            "_view_module_version": "2.0.0",
            "_view_name": "HTMLView",
            "description": "",
            "description_allow_html": false,
            "layout": "IPY_MODEL_c18afff555d248038e24d174e3c092f4",
            "placeholder": "​",
            "style": "IPY_MODEL_6c12d48a2048498983091aed8e4e8d88",
            "tabbable": null,
            "tooltip": null,
            "value": "100%"
          }
        },
        "60d1e961f0fe4bc9a579871f1c97d9a3": {
          "model_module": "@jupyter-widgets/controls",
          "model_name": "FloatProgressModel",
          "model_module_version": "2.0.0",
          "state": {
            "_dom_classes": [],
            "_model_module": "@jupyter-widgets/controls",
            "_model_module_version": "2.0.0",
            "_model_name": "FloatProgressModel",
            "_view_count": null,
            "_view_module": "@jupyter-widgets/controls",
            "_view_module_version": "2.0.0",
            "_view_name": "ProgressView",
            "bar_style": "success",
            "description": "",
            "description_allow_html": false,
            "layout": "IPY_MODEL_78c58581cca143d5826ad9ceec6ec38e",
            "max": 10,
            "min": 0,
            "orientation": "horizontal",
            "style": "IPY_MODEL_a9cf1a83fdcf4150ac379ddf781e4c01",
            "tabbable": null,
            "tooltip": null,
            "value": 10
          }
        },
        "8acf484001cd45349d6df0cbb2cafc84": {
          "model_module": "@jupyter-widgets/controls",
          "model_name": "HTMLModel",
          "model_module_version": "2.0.0",
          "state": {
            "_dom_classes": [],
            "_model_module": "@jupyter-widgets/controls",
            "_model_module_version": "2.0.0",
            "_model_name": "HTMLModel",
            "_view_count": null,
            "_view_module": "@jupyter-widgets/controls",
            "_view_module_version": "2.0.0",
            "_view_name": "HTMLView",
            "description": "",
            "description_allow_html": false,
            "layout": "IPY_MODEL_80207656f1ed4b8dae9686bf015e857e",
            "placeholder": "​",
            "style": "IPY_MODEL_4caa1c3d38734e7ba3df3b3d87d96837",
            "tabbable": null,
            "tooltip": null,
            "value": " 10/10 [08:47&lt;00:00, 56.66s/it]"
          }
        },
        "2e9ef461b0bd46c7aef1f216e99ad17f": {
          "model_module": "@jupyter-widgets/base",
          "model_name": "LayoutModel",
          "model_module_version": "2.0.0",
          "state": {
            "_model_module": "@jupyter-widgets/base",
            "_model_module_version": "2.0.0",
            "_model_name": "LayoutModel",
            "_view_count": null,
            "_view_module": "@jupyter-widgets/base",
            "_view_module_version": "2.0.0",
            "_view_name": "LayoutView",
            "align_content": null,
            "align_items": null,
            "align_self": null,
            "border_bottom": null,
            "border_left": null,
            "border_right": null,
            "border_top": null,
            "bottom": null,
            "display": null,
            "flex": null,
            "flex_flow": null,
            "grid_area": null,
            "grid_auto_columns": null,
            "grid_auto_flow": null,
            "grid_auto_rows": null,
            "grid_column": null,
            "grid_gap": null,
            "grid_row": null,
            "grid_template_areas": null,
            "grid_template_columns": null,
            "grid_template_rows": null,
            "height": null,
            "justify_content": null,
            "justify_items": null,
            "left": null,
            "margin": null,
            "max_height": null,
            "max_width": null,
            "min_height": null,
            "min_width": null,
            "object_fit": null,
            "object_position": null,
            "order": null,
            "overflow": null,
            "padding": null,
            "right": null,
            "top": null,
            "visibility": null,
            "width": null
          }
        },
        "c18afff555d248038e24d174e3c092f4": {
          "model_module": "@jupyter-widgets/base",
          "model_name": "LayoutModel",
          "model_module_version": "2.0.0",
          "state": {
            "_model_module": "@jupyter-widgets/base",
            "_model_module_version": "2.0.0",
            "_model_name": "LayoutModel",
            "_view_count": null,
            "_view_module": "@jupyter-widgets/base",
            "_view_module_version": "2.0.0",
            "_view_name": "LayoutView",
            "align_content": null,
            "align_items": null,
            "align_self": null,
            "border_bottom": null,
            "border_left": null,
            "border_right": null,
            "border_top": null,
            "bottom": null,
            "display": null,
            "flex": null,
            "flex_flow": null,
            "grid_area": null,
            "grid_auto_columns": null,
            "grid_auto_flow": null,
            "grid_auto_rows": null,
            "grid_column": null,
            "grid_gap": null,
            "grid_row": null,
            "grid_template_areas": null,
            "grid_template_columns": null,
            "grid_template_rows": null,
            "height": null,
            "justify_content": null,
            "justify_items": null,
            "left": null,
            "margin": null,
            "max_height": null,
            "max_width": null,
            "min_height": null,
            "min_width": null,
            "object_fit": null,
            "object_position": null,
            "order": null,
            "overflow": null,
            "padding": null,
            "right": null,
            "top": null,
            "visibility": null,
            "width": null
          }
        },
        "6c12d48a2048498983091aed8e4e8d88": {
          "model_module": "@jupyter-widgets/controls",
          "model_name": "HTMLStyleModel",
          "model_module_version": "2.0.0",
          "state": {
            "_model_module": "@jupyter-widgets/controls",
            "_model_module_version": "2.0.0",
            "_model_name": "HTMLStyleModel",
            "_view_count": null,
            "_view_module": "@jupyter-widgets/base",
            "_view_module_version": "2.0.0",
            "_view_name": "StyleView",
            "background": null,
            "description_width": "",
            "font_size": null,
            "text_color": null
          }
        },
        "78c58581cca143d5826ad9ceec6ec38e": {
          "model_module": "@jupyter-widgets/base",
          "model_name": "LayoutModel",
          "model_module_version": "2.0.0",
          "state": {
            "_model_module": "@jupyter-widgets/base",
            "_model_module_version": "2.0.0",
            "_model_name": "LayoutModel",
            "_view_count": null,
            "_view_module": "@jupyter-widgets/base",
            "_view_module_version": "2.0.0",
            "_view_name": "LayoutView",
            "align_content": null,
            "align_items": null,
            "align_self": null,
            "border_bottom": null,
            "border_left": null,
            "border_right": null,
            "border_top": null,
            "bottom": null,
            "display": null,
            "flex": null,
            "flex_flow": null,
            "grid_area": null,
            "grid_auto_columns": null,
            "grid_auto_flow": null,
            "grid_auto_rows": null,
            "grid_column": null,
            "grid_gap": null,
            "grid_row": null,
            "grid_template_areas": null,
            "grid_template_columns": null,
            "grid_template_rows": null,
            "height": null,
            "justify_content": null,
            "justify_items": null,
            "left": null,
            "margin": null,
            "max_height": null,
            "max_width": null,
            "min_height": null,
            "min_width": null,
            "object_fit": null,
            "object_position": null,
            "order": null,
            "overflow": null,
            "padding": null,
            "right": null,
            "top": null,
            "visibility": null,
            "width": null
          }
        },
        "a9cf1a83fdcf4150ac379ddf781e4c01": {
          "model_module": "@jupyter-widgets/controls",
          "model_name": "ProgressStyleModel",
          "model_module_version": "2.0.0",
          "state": {
            "_model_module": "@jupyter-widgets/controls",
            "_model_module_version": "2.0.0",
            "_model_name": "ProgressStyleModel",
            "_view_count": null,
            "_view_module": "@jupyter-widgets/base",
            "_view_module_version": "2.0.0",
            "_view_name": "StyleView",
            "bar_color": null,
            "description_width": ""
          }
        },
        "80207656f1ed4b8dae9686bf015e857e": {
          "model_module": "@jupyter-widgets/base",
          "model_name": "LayoutModel",
          "model_module_version": "2.0.0",
          "state": {
            "_model_module": "@jupyter-widgets/base",
            "_model_module_version": "2.0.0",
            "_model_name": "LayoutModel",
            "_view_count": null,
            "_view_module": "@jupyter-widgets/base",
            "_view_module_version": "2.0.0",
            "_view_name": "LayoutView",
            "align_content": null,
            "align_items": null,
            "align_self": null,
            "border_bottom": null,
            "border_left": null,
            "border_right": null,
            "border_top": null,
            "bottom": null,
            "display": null,
            "flex": null,
            "flex_flow": null,
            "grid_area": null,
            "grid_auto_columns": null,
            "grid_auto_flow": null,
            "grid_auto_rows": null,
            "grid_column": null,
            "grid_gap": null,
            "grid_row": null,
            "grid_template_areas": null,
            "grid_template_columns": null,
            "grid_template_rows": null,
            "height": null,
            "justify_content": null,
            "justify_items": null,
            "left": null,
            "margin": null,
            "max_height": null,
            "max_width": null,
            "min_height": null,
            "min_width": null,
            "object_fit": null,
            "object_position": null,
            "order": null,
            "overflow": null,
            "padding": null,
            "right": null,
            "top": null,
            "visibility": null,
            "width": null
          }
        },
        "4caa1c3d38734e7ba3df3b3d87d96837": {
          "model_module": "@jupyter-widgets/controls",
          "model_name": "HTMLStyleModel",
          "model_module_version": "2.0.0",
          "state": {
            "_model_module": "@jupyter-widgets/controls",
            "_model_module_version": "2.0.0",
            "_model_name": "HTMLStyleModel",
            "_view_count": null,
            "_view_module": "@jupyter-widgets/base",
            "_view_module_version": "2.0.0",
            "_view_name": "StyleView",
            "background": null,
            "description_width": "",
            "font_size": null,
            "text_color": null
          }
        },
        "bc6b12ccfb6b4b459890e9210b743915": {
          "model_module": "@jupyter-widgets/controls",
          "model_name": "HBoxModel",
          "model_module_version": "2.0.0",
          "state": {
            "_dom_classes": [],
            "_model_module": "@jupyter-widgets/controls",
            "_model_module_version": "2.0.0",
            "_model_name": "HBoxModel",
            "_view_count": null,
            "_view_module": "@jupyter-widgets/controls",
            "_view_module_version": "2.0.0",
            "_view_name": "HBoxView",
            "box_style": "",
            "children": [
              "IPY_MODEL_a3ee5225da844092a7e5e4bf10ccb6ac",
              "IPY_MODEL_8ce412f065f44226baabc6a4fecaf1ae",
              "IPY_MODEL_8210539929ea4451a2979a08e2c94ccc"
            ],
            "layout": "IPY_MODEL_300cd7155eb74484bafdbab3081f495d",
            "tabbable": null,
            "tooltip": null
          }
        },
        "a3ee5225da844092a7e5e4bf10ccb6ac": {
          "model_module": "@jupyter-widgets/controls",
          "model_name": "HTMLModel",
          "model_module_version": "2.0.0",
          "state": {
            "_dom_classes": [],
            "_model_module": "@jupyter-widgets/controls",
            "_model_module_version": "2.0.0",
            "_model_name": "HTMLModel",
            "_view_count": null,
            "_view_module": "@jupyter-widgets/controls",
            "_view_module_version": "2.0.0",
            "_view_name": "HTMLView",
            "description": "",
            "description_allow_html": false,
            "layout": "IPY_MODEL_16239a5af1b5447aa80420a939a4bebb",
            "placeholder": "​",
            "style": "IPY_MODEL_0915c601f8c6483e8d1a5bb26196eac3",
            "tabbable": null,
            "tooltip": null,
            "value": "100%"
          }
        },
        "8ce412f065f44226baabc6a4fecaf1ae": {
          "model_module": "@jupyter-widgets/controls",
          "model_name": "FloatProgressModel",
          "model_module_version": "2.0.0",
          "state": {
            "_dom_classes": [],
            "_model_module": "@jupyter-widgets/controls",
            "_model_module_version": "2.0.0",
            "_model_name": "FloatProgressModel",
            "_view_count": null,
            "_view_module": "@jupyter-widgets/controls",
            "_view_module_version": "2.0.0",
            "_view_name": "ProgressView",
            "bar_style": "success",
            "description": "",
            "description_allow_html": false,
            "layout": "IPY_MODEL_b4bc5b3542724e4c9ab87aa3dcca7829",
            "max": 150,
            "min": 0,
            "orientation": "horizontal",
            "style": "IPY_MODEL_065e637b22b14fa9949a3eca4995e198",
            "tabbable": null,
            "tooltip": null,
            "value": 150
          }
        },
        "8210539929ea4451a2979a08e2c94ccc": {
          "model_module": "@jupyter-widgets/controls",
          "model_name": "HTMLModel",
          "model_module_version": "2.0.0",
          "state": {
            "_dom_classes": [],
            "_model_module": "@jupyter-widgets/controls",
            "_model_module_version": "2.0.0",
            "_model_name": "HTMLModel",
            "_view_count": null,
            "_view_module": "@jupyter-widgets/controls",
            "_view_module_version": "2.0.0",
            "_view_name": "HTMLView",
            "description": "",
            "description_allow_html": false,
            "layout": "IPY_MODEL_5230f5e1d5ff49938a0b23e8be79ad09",
            "placeholder": "​",
            "style": "IPY_MODEL_b2b65829e8c34c5b8cbf09fd88feb0be",
            "tabbable": null,
            "tooltip": null,
            "value": " 150/150 [00:31&lt;00:00,  3.53it/s]"
          }
        },
        "300cd7155eb74484bafdbab3081f495d": {
          "model_module": "@jupyter-widgets/base",
          "model_name": "LayoutModel",
          "model_module_version": "2.0.0",
          "state": {
            "_model_module": "@jupyter-widgets/base",
            "_model_module_version": "2.0.0",
            "_model_name": "LayoutModel",
            "_view_count": null,
            "_view_module": "@jupyter-widgets/base",
            "_view_module_version": "2.0.0",
            "_view_name": "LayoutView",
            "align_content": null,
            "align_items": null,
            "align_self": null,
            "border_bottom": null,
            "border_left": null,
            "border_right": null,
            "border_top": null,
            "bottom": null,
            "display": null,
            "flex": null,
            "flex_flow": null,
            "grid_area": null,
            "grid_auto_columns": null,
            "grid_auto_flow": null,
            "grid_auto_rows": null,
            "grid_column": null,
            "grid_gap": null,
            "grid_row": null,
            "grid_template_areas": null,
            "grid_template_columns": null,
            "grid_template_rows": null,
            "height": null,
            "justify_content": null,
            "justify_items": null,
            "left": null,
            "margin": null,
            "max_height": null,
            "max_width": null,
            "min_height": null,
            "min_width": null,
            "object_fit": null,
            "object_position": null,
            "order": null,
            "overflow": null,
            "padding": null,
            "right": null,
            "top": null,
            "visibility": null,
            "width": null
          }
        },
        "16239a5af1b5447aa80420a939a4bebb": {
          "model_module": "@jupyter-widgets/base",
          "model_name": "LayoutModel",
          "model_module_version": "2.0.0",
          "state": {
            "_model_module": "@jupyter-widgets/base",
            "_model_module_version": "2.0.0",
            "_model_name": "LayoutModel",
            "_view_count": null,
            "_view_module": "@jupyter-widgets/base",
            "_view_module_version": "2.0.0",
            "_view_name": "LayoutView",
            "align_content": null,
            "align_items": null,
            "align_self": null,
            "border_bottom": null,
            "border_left": null,
            "border_right": null,
            "border_top": null,
            "bottom": null,
            "display": null,
            "flex": null,
            "flex_flow": null,
            "grid_area": null,
            "grid_auto_columns": null,
            "grid_auto_flow": null,
            "grid_auto_rows": null,
            "grid_column": null,
            "grid_gap": null,
            "grid_row": null,
            "grid_template_areas": null,
            "grid_template_columns": null,
            "grid_template_rows": null,
            "height": null,
            "justify_content": null,
            "justify_items": null,
            "left": null,
            "margin": null,
            "max_height": null,
            "max_width": null,
            "min_height": null,
            "min_width": null,
            "object_fit": null,
            "object_position": null,
            "order": null,
            "overflow": null,
            "padding": null,
            "right": null,
            "top": null,
            "visibility": null,
            "width": null
          }
        },
        "0915c601f8c6483e8d1a5bb26196eac3": {
          "model_module": "@jupyter-widgets/controls",
          "model_name": "HTMLStyleModel",
          "model_module_version": "2.0.0",
          "state": {
            "_model_module": "@jupyter-widgets/controls",
            "_model_module_version": "2.0.0",
            "_model_name": "HTMLStyleModel",
            "_view_count": null,
            "_view_module": "@jupyter-widgets/base",
            "_view_module_version": "2.0.0",
            "_view_name": "StyleView",
            "background": null,
            "description_width": "",
            "font_size": null,
            "text_color": null
          }
        },
        "b4bc5b3542724e4c9ab87aa3dcca7829": {
          "model_module": "@jupyter-widgets/base",
          "model_name": "LayoutModel",
          "model_module_version": "2.0.0",
          "state": {
            "_model_module": "@jupyter-widgets/base",
            "_model_module_version": "2.0.0",
            "_model_name": "LayoutModel",
            "_view_count": null,
            "_view_module": "@jupyter-widgets/base",
            "_view_module_version": "2.0.0",
            "_view_name": "LayoutView",
            "align_content": null,
            "align_items": null,
            "align_self": null,
            "border_bottom": null,
            "border_left": null,
            "border_right": null,
            "border_top": null,
            "bottom": null,
            "display": null,
            "flex": null,
            "flex_flow": null,
            "grid_area": null,
            "grid_auto_columns": null,
            "grid_auto_flow": null,
            "grid_auto_rows": null,
            "grid_column": null,
            "grid_gap": null,
            "grid_row": null,
            "grid_template_areas": null,
            "grid_template_columns": null,
            "grid_template_rows": null,
            "height": null,
            "justify_content": null,
            "justify_items": null,
            "left": null,
            "margin": null,
            "max_height": null,
            "max_width": null,
            "min_height": null,
            "min_width": null,
            "object_fit": null,
            "object_position": null,
            "order": null,
            "overflow": null,
            "padding": null,
            "right": null,
            "top": null,
            "visibility": null,
            "width": null
          }
        },
        "065e637b22b14fa9949a3eca4995e198": {
          "model_module": "@jupyter-widgets/controls",
          "model_name": "ProgressStyleModel",
          "model_module_version": "2.0.0",
          "state": {
            "_model_module": "@jupyter-widgets/controls",
            "_model_module_version": "2.0.0",
            "_model_name": "ProgressStyleModel",
            "_view_count": null,
            "_view_module": "@jupyter-widgets/base",
            "_view_module_version": "2.0.0",
            "_view_name": "StyleView",
            "bar_color": null,
            "description_width": ""
          }
        },
        "5230f5e1d5ff49938a0b23e8be79ad09": {
          "model_module": "@jupyter-widgets/base",
          "model_name": "LayoutModel",
          "model_module_version": "2.0.0",
          "state": {
            "_model_module": "@jupyter-widgets/base",
            "_model_module_version": "2.0.0",
            "_model_name": "LayoutModel",
            "_view_count": null,
            "_view_module": "@jupyter-widgets/base",
            "_view_module_version": "2.0.0",
            "_view_name": "LayoutView",
            "align_content": null,
            "align_items": null,
            "align_self": null,
            "border_bottom": null,
            "border_left": null,
            "border_right": null,
            "border_top": null,
            "bottom": null,
            "display": null,
            "flex": null,
            "flex_flow": null,
            "grid_area": null,
            "grid_auto_columns": null,
            "grid_auto_flow": null,
            "grid_auto_rows": null,
            "grid_column": null,
            "grid_gap": null,
            "grid_row": null,
            "grid_template_areas": null,
            "grid_template_columns": null,
            "grid_template_rows": null,
            "height": null,
            "justify_content": null,
            "justify_items": null,
            "left": null,
            "margin": null,
            "max_height": null,
            "max_width": null,
            "min_height": null,
            "min_width": null,
            "object_fit": null,
            "object_position": null,
            "order": null,
            "overflow": null,
            "padding": null,
            "right": null,
            "top": null,
            "visibility": null,
            "width": null
          }
        },
        "b2b65829e8c34c5b8cbf09fd88feb0be": {
          "model_module": "@jupyter-widgets/controls",
          "model_name": "HTMLStyleModel",
          "model_module_version": "2.0.0",
          "state": {
            "_model_module": "@jupyter-widgets/controls",
            "_model_module_version": "2.0.0",
            "_model_name": "HTMLStyleModel",
            "_view_count": null,
            "_view_module": "@jupyter-widgets/base",
            "_view_module_version": "2.0.0",
            "_view_name": "StyleView",
            "background": null,
            "description_width": "",
            "font_size": null,
            "text_color": null
          }
        },
        "2d5b5124552944d4a846ec780fcaad0f": {
          "model_module": "@jupyter-widgets/controls",
          "model_name": "HBoxModel",
          "model_module_version": "2.0.0",
          "state": {
            "_dom_classes": [],
            "_model_module": "@jupyter-widgets/controls",
            "_model_module_version": "2.0.0",
            "_model_name": "HBoxModel",
            "_view_count": null,
            "_view_module": "@jupyter-widgets/controls",
            "_view_module_version": "2.0.0",
            "_view_name": "HBoxView",
            "box_style": "",
            "children": [
              "IPY_MODEL_f77bddec45364335bab4ee35768e65b1",
              "IPY_MODEL_dfe9a05485fe481d888ab34a1b02fcdd",
              "IPY_MODEL_2e6139d2968940978b677554ff90e007"
            ],
            "layout": "IPY_MODEL_8136298082044342afe25eb8404a6410",
            "tabbable": null,
            "tooltip": null
          }
        },
        "f77bddec45364335bab4ee35768e65b1": {
          "model_module": "@jupyter-widgets/controls",
          "model_name": "HTMLModel",
          "model_module_version": "2.0.0",
          "state": {
            "_dom_classes": [],
            "_model_module": "@jupyter-widgets/controls",
            "_model_module_version": "2.0.0",
            "_model_name": "HTMLModel",
            "_view_count": null,
            "_view_module": "@jupyter-widgets/controls",
            "_view_module_version": "2.0.0",
            "_view_name": "HTMLView",
            "description": "",
            "description_allow_html": false,
            "layout": "IPY_MODEL_191b7aabb75d4bb49086fbeb54204037",
            "placeholder": "​",
            "style": "IPY_MODEL_c4d74c0be2ae4e5db3f777de006eb117",
            "tabbable": null,
            "tooltip": null,
            "value": "100%"
          }
        },
        "dfe9a05485fe481d888ab34a1b02fcdd": {
          "model_module": "@jupyter-widgets/controls",
          "model_name": "FloatProgressModel",
          "model_module_version": "2.0.0",
          "state": {
            "_dom_classes": [],
            "_model_module": "@jupyter-widgets/controls",
            "_model_module_version": "2.0.0",
            "_model_name": "FloatProgressModel",
            "_view_count": null,
            "_view_module": "@jupyter-widgets/controls",
            "_view_module_version": "2.0.0",
            "_view_name": "ProgressView",
            "bar_style": "success",
            "description": "",
            "description_allow_html": false,
            "layout": "IPY_MODEL_a6444b813e694f58ae91c8766d19c97a",
            "max": 150,
            "min": 0,
            "orientation": "horizontal",
            "style": "IPY_MODEL_941c9df481b744cd946e2baa066e921f",
            "tabbable": null,
            "tooltip": null,
            "value": 150
          }
        },
        "2e6139d2968940978b677554ff90e007": {
          "model_module": "@jupyter-widgets/controls",
          "model_name": "HTMLModel",
          "model_module_version": "2.0.0",
          "state": {
            "_dom_classes": [],
            "_model_module": "@jupyter-widgets/controls",
            "_model_module_version": "2.0.0",
            "_model_name": "HTMLModel",
            "_view_count": null,
            "_view_module": "@jupyter-widgets/controls",
            "_view_module_version": "2.0.0",
            "_view_name": "HTMLView",
            "description": "",
            "description_allow_html": false,
            "layout": "IPY_MODEL_9561a965d11840bfb1661290748f7adb",
            "placeholder": "​",
            "style": "IPY_MODEL_5c6475bc77204924894c17eee72b8b9e",
            "tabbable": null,
            "tooltip": null,
            "value": " 150/150 [00:47&lt;00:00,  3.13it/s]"
          }
        },
        "8136298082044342afe25eb8404a6410": {
          "model_module": "@jupyter-widgets/base",
          "model_name": "LayoutModel",
          "model_module_version": "2.0.0",
          "state": {
            "_model_module": "@jupyter-widgets/base",
            "_model_module_version": "2.0.0",
            "_model_name": "LayoutModel",
            "_view_count": null,
            "_view_module": "@jupyter-widgets/base",
            "_view_module_version": "2.0.0",
            "_view_name": "LayoutView",
            "align_content": null,
            "align_items": null,
            "align_self": null,
            "border_bottom": null,
            "border_left": null,
            "border_right": null,
            "border_top": null,
            "bottom": null,
            "display": null,
            "flex": null,
            "flex_flow": null,
            "grid_area": null,
            "grid_auto_columns": null,
            "grid_auto_flow": null,
            "grid_auto_rows": null,
            "grid_column": null,
            "grid_gap": null,
            "grid_row": null,
            "grid_template_areas": null,
            "grid_template_columns": null,
            "grid_template_rows": null,
            "height": null,
            "justify_content": null,
            "justify_items": null,
            "left": null,
            "margin": null,
            "max_height": null,
            "max_width": null,
            "min_height": null,
            "min_width": null,
            "object_fit": null,
            "object_position": null,
            "order": null,
            "overflow": null,
            "padding": null,
            "right": null,
            "top": null,
            "visibility": null,
            "width": null
          }
        },
        "191b7aabb75d4bb49086fbeb54204037": {
          "model_module": "@jupyter-widgets/base",
          "model_name": "LayoutModel",
          "model_module_version": "2.0.0",
          "state": {
            "_model_module": "@jupyter-widgets/base",
            "_model_module_version": "2.0.0",
            "_model_name": "LayoutModel",
            "_view_count": null,
            "_view_module": "@jupyter-widgets/base",
            "_view_module_version": "2.0.0",
            "_view_name": "LayoutView",
            "align_content": null,
            "align_items": null,
            "align_self": null,
            "border_bottom": null,
            "border_left": null,
            "border_right": null,
            "border_top": null,
            "bottom": null,
            "display": null,
            "flex": null,
            "flex_flow": null,
            "grid_area": null,
            "grid_auto_columns": null,
            "grid_auto_flow": null,
            "grid_auto_rows": null,
            "grid_column": null,
            "grid_gap": null,
            "grid_row": null,
            "grid_template_areas": null,
            "grid_template_columns": null,
            "grid_template_rows": null,
            "height": null,
            "justify_content": null,
            "justify_items": null,
            "left": null,
            "margin": null,
            "max_height": null,
            "max_width": null,
            "min_height": null,
            "min_width": null,
            "object_fit": null,
            "object_position": null,
            "order": null,
            "overflow": null,
            "padding": null,
            "right": null,
            "top": null,
            "visibility": null,
            "width": null
          }
        },
        "c4d74c0be2ae4e5db3f777de006eb117": {
          "model_module": "@jupyter-widgets/controls",
          "model_name": "HTMLStyleModel",
          "model_module_version": "2.0.0",
          "state": {
            "_model_module": "@jupyter-widgets/controls",
            "_model_module_version": "2.0.0",
            "_model_name": "HTMLStyleModel",
            "_view_count": null,
            "_view_module": "@jupyter-widgets/base",
            "_view_module_version": "2.0.0",
            "_view_name": "StyleView",
            "background": null,
            "description_width": "",
            "font_size": null,
            "text_color": null
          }
        },
        "a6444b813e694f58ae91c8766d19c97a": {
          "model_module": "@jupyter-widgets/base",
          "model_name": "LayoutModel",
          "model_module_version": "2.0.0",
          "state": {
            "_model_module": "@jupyter-widgets/base",
            "_model_module_version": "2.0.0",
            "_model_name": "LayoutModel",
            "_view_count": null,
            "_view_module": "@jupyter-widgets/base",
            "_view_module_version": "2.0.0",
            "_view_name": "LayoutView",
            "align_content": null,
            "align_items": null,
            "align_self": null,
            "border_bottom": null,
            "border_left": null,
            "border_right": null,
            "border_top": null,
            "bottom": null,
            "display": null,
            "flex": null,
            "flex_flow": null,
            "grid_area": null,
            "grid_auto_columns": null,
            "grid_auto_flow": null,
            "grid_auto_rows": null,
            "grid_column": null,
            "grid_gap": null,
            "grid_row": null,
            "grid_template_areas": null,
            "grid_template_columns": null,
            "grid_template_rows": null,
            "height": null,
            "justify_content": null,
            "justify_items": null,
            "left": null,
            "margin": null,
            "max_height": null,
            "max_width": null,
            "min_height": null,
            "min_width": null,
            "object_fit": null,
            "object_position": null,
            "order": null,
            "overflow": null,
            "padding": null,
            "right": null,
            "top": null,
            "visibility": null,
            "width": null
          }
        },
        "941c9df481b744cd946e2baa066e921f": {
          "model_module": "@jupyter-widgets/controls",
          "model_name": "ProgressStyleModel",
          "model_module_version": "2.0.0",
          "state": {
            "_model_module": "@jupyter-widgets/controls",
            "_model_module_version": "2.0.0",
            "_model_name": "ProgressStyleModel",
            "_view_count": null,
            "_view_module": "@jupyter-widgets/base",
            "_view_module_version": "2.0.0",
            "_view_name": "StyleView",
            "bar_color": null,
            "description_width": ""
          }
        },
        "9561a965d11840bfb1661290748f7adb": {
          "model_module": "@jupyter-widgets/base",
          "model_name": "LayoutModel",
          "model_module_version": "2.0.0",
          "state": {
            "_model_module": "@jupyter-widgets/base",
            "_model_module_version": "2.0.0",
            "_model_name": "LayoutModel",
            "_view_count": null,
            "_view_module": "@jupyter-widgets/base",
            "_view_module_version": "2.0.0",
            "_view_name": "LayoutView",
            "align_content": null,
            "align_items": null,
            "align_self": null,
            "border_bottom": null,
            "border_left": null,
            "border_right": null,
            "border_top": null,
            "bottom": null,
            "display": null,
            "flex": null,
            "flex_flow": null,
            "grid_area": null,
            "grid_auto_columns": null,
            "grid_auto_flow": null,
            "grid_auto_rows": null,
            "grid_column": null,
            "grid_gap": null,
            "grid_row": null,
            "grid_template_areas": null,
            "grid_template_columns": null,
            "grid_template_rows": null,
            "height": null,
            "justify_content": null,
            "justify_items": null,
            "left": null,
            "margin": null,
            "max_height": null,
            "max_width": null,
            "min_height": null,
            "min_width": null,
            "object_fit": null,
            "object_position": null,
            "order": null,
            "overflow": null,
            "padding": null,
            "right": null,
            "top": null,
            "visibility": null,
            "width": null
          }
        },
        "5c6475bc77204924894c17eee72b8b9e": {
          "model_module": "@jupyter-widgets/controls",
          "model_name": "HTMLStyleModel",
          "model_module_version": "2.0.0",
          "state": {
            "_model_module": "@jupyter-widgets/controls",
            "_model_module_version": "2.0.0",
            "_model_name": "HTMLStyleModel",
            "_view_count": null,
            "_view_module": "@jupyter-widgets/base",
            "_view_module_version": "2.0.0",
            "_view_name": "StyleView",
            "background": null,
            "description_width": "",
            "font_size": null,
            "text_color": null
          }
        },
        "6b72d65b063e4ab3a49dba4406bb6ee9": {
          "model_module": "@jupyter-widgets/controls",
          "model_name": "HBoxModel",
          "model_module_version": "2.0.0",
          "state": {
            "_dom_classes": [],
            "_model_module": "@jupyter-widgets/controls",
            "_model_module_version": "2.0.0",
            "_model_name": "HBoxModel",
            "_view_count": null,
            "_view_module": "@jupyter-widgets/controls",
            "_view_module_version": "2.0.0",
            "_view_name": "HBoxView",
            "box_style": "",
            "children": [
              "IPY_MODEL_941bab4a18364dc5bb596b65464ca708",
              "IPY_MODEL_d33727ce40864960a92bb2570dcf0048",
              "IPY_MODEL_d8750feb04d04a0ea7ca010edfedf26d"
            ],
            "layout": "IPY_MODEL_b054e5bae0b142a99de1e4a612053eb7",
            "tabbable": null,
            "tooltip": null
          }
        },
        "941bab4a18364dc5bb596b65464ca708": {
          "model_module": "@jupyter-widgets/controls",
          "model_name": "HTMLModel",
          "model_module_version": "2.0.0",
          "state": {
            "_dom_classes": [],
            "_model_module": "@jupyter-widgets/controls",
            "_model_module_version": "2.0.0",
            "_model_name": "HTMLModel",
            "_view_count": null,
            "_view_module": "@jupyter-widgets/controls",
            "_view_module_version": "2.0.0",
            "_view_name": "HTMLView",
            "description": "",
            "description_allow_html": false,
            "layout": "IPY_MODEL_1f67eedd0367413a81adc75ef8a47314",
            "placeholder": "​",
            "style": "IPY_MODEL_6b96d040ce4a45029fac132eb09f8d99",
            "tabbable": null,
            "tooltip": null,
            "value": "100%"
          }
        },
        "d33727ce40864960a92bb2570dcf0048": {
          "model_module": "@jupyter-widgets/controls",
          "model_name": "FloatProgressModel",
          "model_module_version": "2.0.0",
          "state": {
            "_dom_classes": [],
            "_model_module": "@jupyter-widgets/controls",
            "_model_module_version": "2.0.0",
            "_model_name": "FloatProgressModel",
            "_view_count": null,
            "_view_module": "@jupyter-widgets/controls",
            "_view_module_version": "2.0.0",
            "_view_name": "ProgressView",
            "bar_style": "success",
            "description": "",
            "description_allow_html": false,
            "layout": "IPY_MODEL_089dae93fb95477abf4ecec7d9c8a046",
            "max": 5,
            "min": 0,
            "orientation": "horizontal",
            "style": "IPY_MODEL_d2d0180859a0482d85b6cf64542a7570",
            "tabbable": null,
            "tooltip": null,
            "value": 5
          }
        },
        "d8750feb04d04a0ea7ca010edfedf26d": {
          "model_module": "@jupyter-widgets/controls",
          "model_name": "HTMLModel",
          "model_module_version": "2.0.0",
          "state": {
            "_dom_classes": [],
            "_model_module": "@jupyter-widgets/controls",
            "_model_module_version": "2.0.0",
            "_model_name": "HTMLModel",
            "_view_count": null,
            "_view_module": "@jupyter-widgets/controls",
            "_view_module_version": "2.0.0",
            "_view_name": "HTMLView",
            "description": "",
            "description_allow_html": false,
            "layout": "IPY_MODEL_b07dab2403f34ccc9144b2dc5b71a792",
            "placeholder": "​",
            "style": "IPY_MODEL_fd8c6bc1e52d414a80b1307d9d7b1ec9",
            "tabbable": null,
            "tooltip": null,
            "value": " 5/5 [24:25&lt;00:00, 290.78s/it]"
          }
        },
        "b054e5bae0b142a99de1e4a612053eb7": {
          "model_module": "@jupyter-widgets/base",
          "model_name": "LayoutModel",
          "model_module_version": "2.0.0",
          "state": {
            "_model_module": "@jupyter-widgets/base",
            "_model_module_version": "2.0.0",
            "_model_name": "LayoutModel",
            "_view_count": null,
            "_view_module": "@jupyter-widgets/base",
            "_view_module_version": "2.0.0",
            "_view_name": "LayoutView",
            "align_content": null,
            "align_items": null,
            "align_self": null,
            "border_bottom": null,
            "border_left": null,
            "border_right": null,
            "border_top": null,
            "bottom": null,
            "display": null,
            "flex": null,
            "flex_flow": null,
            "grid_area": null,
            "grid_auto_columns": null,
            "grid_auto_flow": null,
            "grid_auto_rows": null,
            "grid_column": null,
            "grid_gap": null,
            "grid_row": null,
            "grid_template_areas": null,
            "grid_template_columns": null,
            "grid_template_rows": null,
            "height": null,
            "justify_content": null,
            "justify_items": null,
            "left": null,
            "margin": null,
            "max_height": null,
            "max_width": null,
            "min_height": null,
            "min_width": null,
            "object_fit": null,
            "object_position": null,
            "order": null,
            "overflow": null,
            "padding": null,
            "right": null,
            "top": null,
            "visibility": null,
            "width": null
          }
        },
        "1f67eedd0367413a81adc75ef8a47314": {
          "model_module": "@jupyter-widgets/base",
          "model_name": "LayoutModel",
          "model_module_version": "2.0.0",
          "state": {
            "_model_module": "@jupyter-widgets/base",
            "_model_module_version": "2.0.0",
            "_model_name": "LayoutModel",
            "_view_count": null,
            "_view_module": "@jupyter-widgets/base",
            "_view_module_version": "2.0.0",
            "_view_name": "LayoutView",
            "align_content": null,
            "align_items": null,
            "align_self": null,
            "border_bottom": null,
            "border_left": null,
            "border_right": null,
            "border_top": null,
            "bottom": null,
            "display": null,
            "flex": null,
            "flex_flow": null,
            "grid_area": null,
            "grid_auto_columns": null,
            "grid_auto_flow": null,
            "grid_auto_rows": null,
            "grid_column": null,
            "grid_gap": null,
            "grid_row": null,
            "grid_template_areas": null,
            "grid_template_columns": null,
            "grid_template_rows": null,
            "height": null,
            "justify_content": null,
            "justify_items": null,
            "left": null,
            "margin": null,
            "max_height": null,
            "max_width": null,
            "min_height": null,
            "min_width": null,
            "object_fit": null,
            "object_position": null,
            "order": null,
            "overflow": null,
            "padding": null,
            "right": null,
            "top": null,
            "visibility": null,
            "width": null
          }
        },
        "6b96d040ce4a45029fac132eb09f8d99": {
          "model_module": "@jupyter-widgets/controls",
          "model_name": "HTMLStyleModel",
          "model_module_version": "2.0.0",
          "state": {
            "_model_module": "@jupyter-widgets/controls",
            "_model_module_version": "2.0.0",
            "_model_name": "HTMLStyleModel",
            "_view_count": null,
            "_view_module": "@jupyter-widgets/base",
            "_view_module_version": "2.0.0",
            "_view_name": "StyleView",
            "background": null,
            "description_width": "",
            "font_size": null,
            "text_color": null
          }
        },
        "089dae93fb95477abf4ecec7d9c8a046": {
          "model_module": "@jupyter-widgets/base",
          "model_name": "LayoutModel",
          "model_module_version": "2.0.0",
          "state": {
            "_model_module": "@jupyter-widgets/base",
            "_model_module_version": "2.0.0",
            "_model_name": "LayoutModel",
            "_view_count": null,
            "_view_module": "@jupyter-widgets/base",
            "_view_module_version": "2.0.0",
            "_view_name": "LayoutView",
            "align_content": null,
            "align_items": null,
            "align_self": null,
            "border_bottom": null,
            "border_left": null,
            "border_right": null,
            "border_top": null,
            "bottom": null,
            "display": null,
            "flex": null,
            "flex_flow": null,
            "grid_area": null,
            "grid_auto_columns": null,
            "grid_auto_flow": null,
            "grid_auto_rows": null,
            "grid_column": null,
            "grid_gap": null,
            "grid_row": null,
            "grid_template_areas": null,
            "grid_template_columns": null,
            "grid_template_rows": null,
            "height": null,
            "justify_content": null,
            "justify_items": null,
            "left": null,
            "margin": null,
            "max_height": null,
            "max_width": null,
            "min_height": null,
            "min_width": null,
            "object_fit": null,
            "object_position": null,
            "order": null,
            "overflow": null,
            "padding": null,
            "right": null,
            "top": null,
            "visibility": null,
            "width": null
          }
        },
        "d2d0180859a0482d85b6cf64542a7570": {
          "model_module": "@jupyter-widgets/controls",
          "model_name": "ProgressStyleModel",
          "model_module_version": "2.0.0",
          "state": {
            "_model_module": "@jupyter-widgets/controls",
            "_model_module_version": "2.0.0",
            "_model_name": "ProgressStyleModel",
            "_view_count": null,
            "_view_module": "@jupyter-widgets/base",
            "_view_module_version": "2.0.0",
            "_view_name": "StyleView",
            "bar_color": null,
            "description_width": ""
          }
        },
        "b07dab2403f34ccc9144b2dc5b71a792": {
          "model_module": "@jupyter-widgets/base",
          "model_name": "LayoutModel",
          "model_module_version": "2.0.0",
          "state": {
            "_model_module": "@jupyter-widgets/base",
            "_model_module_version": "2.0.0",
            "_model_name": "LayoutModel",
            "_view_count": null,
            "_view_module": "@jupyter-widgets/base",
            "_view_module_version": "2.0.0",
            "_view_name": "LayoutView",
            "align_content": null,
            "align_items": null,
            "align_self": null,
            "border_bottom": null,
            "border_left": null,
            "border_right": null,
            "border_top": null,
            "bottom": null,
            "display": null,
            "flex": null,
            "flex_flow": null,
            "grid_area": null,
            "grid_auto_columns": null,
            "grid_auto_flow": null,
            "grid_auto_rows": null,
            "grid_column": null,
            "grid_gap": null,
            "grid_row": null,
            "grid_template_areas": null,
            "grid_template_columns": null,
            "grid_template_rows": null,
            "height": null,
            "justify_content": null,
            "justify_items": null,
            "left": null,
            "margin": null,
            "max_height": null,
            "max_width": null,
            "min_height": null,
            "min_width": null,
            "object_fit": null,
            "object_position": null,
            "order": null,
            "overflow": null,
            "padding": null,
            "right": null,
            "top": null,
            "visibility": null,
            "width": null
          }
        },
        "fd8c6bc1e52d414a80b1307d9d7b1ec9": {
          "model_module": "@jupyter-widgets/controls",
          "model_name": "HTMLStyleModel",
          "model_module_version": "2.0.0",
          "state": {
            "_model_module": "@jupyter-widgets/controls",
            "_model_module_version": "2.0.0",
            "_model_name": "HTMLStyleModel",
            "_view_count": null,
            "_view_module": "@jupyter-widgets/base",
            "_view_module_version": "2.0.0",
            "_view_name": "StyleView",
            "background": null,
            "description_width": "",
            "font_size": null,
            "text_color": null
          }
        }
      }
    }
  },
  "cells": [
    {
      "cell_type": "markdown",
      "metadata": {
        "id": "view-in-github",
        "colab_type": "text"
      },
      "source": [
        "<a href=\"https://colab.research.google.com/github/Junying123/food-vision-pytorch/blob/main/Food_Vision_Deployment.ipynb\" target=\"_parent\"><img src=\"https://colab.research.google.com/assets/colab-badge.svg\" alt=\"Open In Colab\"/></a>"
      ]
    },
    {
      "cell_type": "markdown",
      "source": [
        "# Food Vision Model Deployment"
      ],
      "metadata": {
        "id": "Ks5AD2ixHP61"
      }
    },
    {
      "cell_type": "markdown",
      "source": [
        "\n",
        "- FoodVision ideal scenario: User takes photo on mobile device, prediction returns fast.\n",
        "- Two main criteria: model works on mobile device with compute constraints, makes fast predictions. Depending on use case, requirements may vary.\n",
        "- Two main questions: where will it be stored? Does it return predictions immediately or later?"
      ],
      "metadata": {
        "id": "cJUOgzDQG9qX"
      }
    },
    {
      "cell_type": "markdown",
      "source": [
        "![image.png](data:image/png;base64,iVBORw0KGgoAAAANSUhEUgAABTAAAAF8CAIAAAB32gMxAAAgAElEQVR4AeydCVhUR7r3STLfvZPJndFJcjOZO6G6m4amaWhodmRHZN/aBcUVUHFDWRQFV3BF1ADuRkXcEHdQMbhjNNE4xiVucYnBJRpNomjUaMYk5/OcwkMH6GZpaLvpfz0+yeH0OVVv/Wo59Va99ZYJgwACIAACIAACIAACIAACIAACIAACIKBzAiY6TxEJggAIgAAIgAAIgAAIgAAIgAAIgAAIMFDIUQlAAARAAARAAARAAARAAARAAARA4BUQgEL+CqAjSRAAARAAARAAARAAARAAARAAARCAQo46AAIgAAIgAAIgAAIgAAIgAAIgAAKvgAAU8lcAHUmCAAiAAAiAAAiAAAiAAAiAAAiAABRy1AEQAAEQAAEQAAEQAAEQAAEQAAEQeAUEoJC/AuhIEgRAAARAAAQMi8DTp0+fPHny+PHjn3766cGDB1VVVffu3fvhhx/u3r17586d77777tatWzdv3rx+/fq1a9e++eabr7/++vLly5cuXbp48eKFCxfOnTt35syZL7/88tSpUydOnDjOhWPHjh09evTIkSOHDx8+dOjQJ598UlFRsX///n379u3Zs2f37t3l5eU7d+4sKyvbvn37tm3bSkpKtmzZsnnz5k2bNm3YsKG4uLioqGjt2rVr1qxZtWpVYWHhihUrli9fvmzZso8++mjx4sWLFi1auHDh/Pnz586dm5eXl6vD8OGHH87hwmwuzOJCDhdmciH7ZZjBhelcmMaFqVyYwoXJXMjiQubLMIkLE7kwgQvjuTCOC2O5kKES0rkwZsyY0VxI48IoLozkQioXUlRCMheSkpJGcGE4FxK5MIwLQ1XCEC4M5sIgLiQkJAzkwgAu9OdCvEqI40IsF/pxoS8X+vTp05sLvVRCTy7EcKEHF7pzIRqhcQS6d+/eo0ePmJiYnj17Uq69e/fu27dvv379YmNj4+LiaMn0799/wIABAwcOTEhIGDRo0ODBg4cMGULLOTExcfjw4SNGjEhKSkpOTqY1JTU1deTIkaNGjUpLSxs9evSYMWPS09MzMjLGjh07bty48ePHT5gwYeLEiZMmTcrkQlZW1uTJk6dMmTJ16tRp06ZNnz59xowZ2dnZM2fOzMnJmTVr1uzZs+fMmZPLhTwu5Ofnz507d968efPnz1+wYMHChQsXcWHx4sVLliz56KOPli5dumzZsuXLlxcUFKzgQmFh4apVq1avXr1mzZq1a9cWcWHdunXFxcXr16/fsGHDxo0bN23atHnz5i1c2Lp1a0lJSWlp6bZt27Zv375jx44yLuzcufPjjz8uLy/ftWvX7t279+zZs3fv3n1c2L9//4EDByoqKg4ePPjJJ58cOnToMBc+/fTTI0eOHD169NixY8ePH//iiy9Onjx5+vTpM2fOnD179vz581999dWlS5cuX7789ddff/PNN9euXbt+/frNmzdv3br13Xff3b179/vvv//xxx/v37//4MGDhw8fPnr06MmTJ0+fPmUQ2joBKORtvYSRPxAAARAAgVdN4OnTp48ePXrw4MEPP/xw586db7/99vr161evXr106dL58+fPnDlz8uTJ48ePU9W0oqJi3759u3btKisrKy0t3bJly4YNG4qKilatWrVixYqlS5cuWrRo/vz5eXl5s2fPzs7OnjZtWlZW1sSJE8eOHTtmzJiRI0empKQMHz586NChCQkJ8fHx/fr169WrV48ePbp27apUKsPDw0NCQgICAjp27Ojt7e3h4eHq6urk5KRQKORyuZWVlYWFBUEAARAAARDQewIWFhaWlpZWVlbW1tZyudzW1lahUDg4ODg5OTk7O7u6unbo0MHDw8PT09PLy8vHx8fPz8/f379Tp06BgYHBwcGhoaFhYWERERFRUVGdO3fu0qVLdHQ0ncHp2bNnr169+vTp069fv7i4uPj4+AEDBtDJmiFDhgwdOjQxMXHEiBHJyckpKSkjR7JTM6NHj05PT8/IyBg3btyECRMmTZqUmZmZlZU1ZcqUadOmzZgxIzs7OycnZ/bs2R9++GFubm5eXt7cuXPnz5+/cOHCRYsWLVmyZOnSpcuXLy8oKFixYsXKlStXr169du3aoqKi4uJiOpmyefPmLVu2lJSUbNu2bceOHWVlZXTeZPfu3Xv37t23b9+BAwcOHjx46NChw4cP//vf/z5+/PjJkye//PLLM2fOnD9//uLFi5cvsxMilZWV16+zsyG3b9++c+fO999/f+/evaqqqocPHz5+/Fj3kyBQyBkEEAABEAABEGgNAvv37ycIIAACIAACIAACxk2ge/fujPoAhVw9G/wCAiAAAiAAAloQyE3vThBAAARAAARAAASMngBz99+MmgCFXA0Y3AYBEAABEAAB7QjkpoYQQvISXZlyJf6BAAiAAAiAAAgYG4H/7IgkXHhWuU/dmAIKuToyuA8CIAACIAACWhGYPTKCEPLhUBdjG38gvyAAAiAAAiAAAky58um2aoX8p8pD6oYUUMjVkcF9EAABEAABENCKwKyRXaCQY0AGAiAAAiAAAkZL4NHWcMKFe98cUzekgEKujgzugwAIgAAIgIBWBLJHRRNCZg5yNtqBCDIOAiAAAiAAAsZM4P6maoX8zjcn1Q0poJCrI4P7IAACIAACIKAVgRlpvQgh0wY4GfNYBHkHARAAARAAAaMlcLc4lHDh5tfn1A0poJCrI4P7IAACIAACIKAVgWmj+xFCMuMcjXYggoyDAAiAAAiAgDETuFXEunclhFz75rK6IQUUcnVkcB8EQAAEQAAEtCIwOS2eEDKhn4Mxj0WQdxAAARAAARAwWgLXVlUr5N988426IQUUcnVkcB8EQAAEQAAEtCKQmTaQEJLR295oByLIOAiAAAiAAAgYM4ErK4IIF65cuaJuSAGFXB0Z3AcBEAABEAABrQhMzhhGCBndEwo5jmEHARAAARAAAWMkcGFZIOHC5cswWddqTIWXQQAEQAAEQKDJBDIzkgghydEKY14cQN5BAARAAARAwGgJnFlSrZBfvHhR3TACK+TqyOA+CIAACIAACGhFYGJGKiFkWGdbox2IIOMgAAIgAAIgYMwEvljQiXDhwoUL6oYUUMjVkcF9EAABEAABENCKwISxaYSQgRFyYx6LIO8gAAIgAAIgYLQEjub7Ey6cO4djz7QaU+FlEAABEAABEGgygXFjMwghsaE2RjsQQcZBAARAAARAwJgJHMrtSLhw5swZdcMIrJCrI4P7IAACIAACIKAVgYwMViHvFSQz5rEI8g4CIAACIAACRktg70xfwgUo5FqNqPAyCIAACIAACDSDQHp6OiGkeyco5MboWddoR5/IOAiAAAiAAE+gbKo34cLZs2fVDSSwQq6ODO6DAAiAAAiAgFYERo8eTQjp4mfFf5hxAQIgAAIgAAIgYDwEtmZ6ES5gD7lWIyq8DAIgAAIgAALNIJCWxjp1i/CWGs/IAzkFARAAARAAARDgCWycWK2Qf/XVV+oGElghV0cG90EABEAABEBAKwKjRo0ihIR4WPIfZlyAAAiAAAiAAAgYD4E1GR6EC1DItRpR4WUQAAEQAAEQaAaB1FT2HPJObhLjGXkYQ04Tu9h6O5n/tjNK+8wezfe3kYq2ZHppH5WWMWyb4m0jFZVN89Eynua9rj8cmie/PrzVpGrZDOAp3RXu9ua/bI9skcw2Q4AWSReRgIDuCRSkuRMuXLp0Sd1AAivk6sjgPgiAAAiAAAhoRSAlJYUQ4udiofsRgGGluDvb10oi7BVk/WhreF3Jz30U6OFgHh8u//3jFtCB68Zf605+oou7vfm6cR617tM/n5RGEGIqNhO0iEK+MNmNEDK1v1O9aenyZlI3O0LIomQ3dYlmJzh7OppvbZ25Az3hoLno1ZHRh/tNrZZNBf5se6RAYEoI+bk0okXy21QBWiRRRFIvgSY17WfbIhYkufm7WliIBU5yswVJbrrpluuV3FBuLuL6+RdHrly+fFndkAIKuToyuA8CIAACIAACWhGgCrmno7mhjBtelZyT4x0JFwrS3GvJ8J8dkYEdJPTXqs31qOu1nm/wz0/mdJRLRWeWBKh7cmp/J0LIiG529T7wdWEQIcRNIa7316bezE90IYTMHOTc1Bdb/PnRPe0JIctGdVAXM30gvZe9uge0ua8nHDQXvTYZbO13m1otmwr8VlEIIcRCLGipjDRVgJZKt6XiabAbaamEdBBP45v2L9sju/hZEULsZKJIH6mZiO2YF6qfxdOB8AaRxLwRrvQTdvXqVUZNgEKuBgxugwAIgAAIgIB2BJKTkwkhHRRQyBs49oxXyJ3k4id/XIKbNdiZvAw/bWkBhXxcHwdCyJ6ZvupGcs/LIu8Wh6r79eySAEJIkHvL+AXIS2QHanOHu6pLTmf3KZbV6fXbBTDlyl+2R36/Xi0WLeXUEw6ai17LPLbq602tlk0Ffm0Vq5DbyUQtlYumCtBS6bZUPA12Iy2VkA7iaXzTXj/ekxAyvKsd3blwZkmAhVggl4qwSK65mHKHVSvk165dUzemgEKujgzugwAIgAAIgIBWBJKSkgghLrYts5qq+ZNv0L9mJ9Ro3dkJNfbb+3L8BAJTe2szwoVn27Q1l32wOdzFViwQmH63rpm65eUCdoW8a8eWOcpuzlB2hfyjVLXr0jor1sw41khhwwRPnaWompD+cFCVyoCum1otmwr8+urgF9NY7vYtNrfYVAH0qiy070b0KjuNF4b2Eruza2YzvZ3MCSEPW2KqtPFiGNyTMwdVf+Bu3rypbkgBhVwdGdwHARAAARAAAa0IjBgxghDiaGNmcAMIHQtMFxCGdraVSYQiITnL2ZOfXhxgaS6QiAX/nt+JsMFUVaqzSwIGRshlEqG1pahrR6t9OX78rz+XRkwb4BTsYWkhFtjJRBm9HejG1/IZPtaWnJElF506f3sH5/jJJMK8xJpV67vFoWkxCoVMJJcKU7orCCExATI+OaZceW1VyIhudnYykUQs6BtifakgSPXXLZleUT5SqYWwg8I8tbvi5poQ/lc6E7EqvbahPn1g/yxfG6koPlx+b2NYRm97uVQotWAFeFwSkTPI2dnWzNpSNK6PQ615ig0TPIM9LCViQUdXybQBTg/+aOf/1bLAwUrbDgpzK4mwR4Ds+Hx/mta0Aayh/qZJXjum+nR0lViaCzJ626vuky8e7ymXCqn/ub0zfWUS4aAo+Z3i0BHd7GytRBZiwaRYx1oev75dG5Ley97RxkwmEYZ5SYvHq9X26+Xw1bLAXkHWcqnISS5Oi1HcLqqZQ/m1LGrucNfADhILscDFVjyuj8Pd9WE0I5cKguytzbr4WT0uicgd5iqXsth3zfBtjMyqRb99irdCJvJ2Mr9aGPxse+SEfg721mZ2MlF2gpPqeuDRfP8oHymtaWkxin4hNjZSkaeDea3tFc0rytOLA+LDbKy4Sh7tLzswq6aSM+VKbaplvcD5akkvvl0bkhytoPxHxbDVvpZ/SnXlu2GCp41UFO5leWVFUFaco7OtmUQs6B9uw5cRU66sVwB1+f33/E5yqWhNRo35xq9lUT0DrcM8LUuzvORSoa+zxalFAddWhfQIkFmIBe725psmed3fFD61v5Ono7mFWNA7yFo1dQ1tli/3ywVBR/L9lb5WluaCDgrzfTnVWmgju5Gn2yIXJbt1cmOrqKONWXK0QrVK/LghLL2XvYONmVwq7B9uc7UwmIevjmpjKjBTrlTX/A/ndrS3Nuvmb/Voa/jkeEeZRCiXiqjPCNWmTcVQ17sWjmadk2X0dqCP7cvxI4R0dIXX0gZMwGjvSgi5ffu2uiEFFHJ1ZHAfBEAABEAABLQiMHz4cEKIouXsPPlBWxu7WJDE+jabFOtYzJlEhnhYXl8dzC2Mm3483efR1vBa+1evrw6RWggJIZ6O5lE+UhF7SXh9j26JlEtF3fyt7GSsBp7SXcGUKw/nduwXYmMhFhBi2i/EZmhn23o9t1FhBkbIKeTHJRFejuwqkJejebCHJZsSIb2DrPkiuFUUouBScZKLO/tZCQVEbCb4YkEn+kDZVG9CiNRC2LWjFV1NcrY1u7exWnukK04bJ9bvZf3CskCxmYAQ4mBjJhSQcC9LOqFA/+vjZOFsy9oOjO1Ts6+7YjY7RKZ5d7EVE0LCvKTPy6o9Y18tDLaSsLDc7VluhJhaSYQ/bmCFyeHWcHoFWdMRtq0Vy01VBaLbICf0Y8fiZzlTVWrDTIhphLeUcp4+sMa64bt1odS0wUluRtMihHy5uP6t+3U5XCoI4rJpGuZp2cmNdSLgJBf/wInKlCtPLWI3Dsilwmh/macDWzodFOZ0R8PZJQG0vDq6srpQhLeUTqA0RmbVot+S6UW3y6bFKGJDbQghoZ6WNJu8L/rLBUEWYoFAYNrJTeLvakEIEQlJ3xDrQVHyxyV/sOZoRlHSyAkh3k7mEd5SzqeaKe9UT8tqWRc4X5/pxbdrQxxs2Nrl6WBO+RNConyk/GMaynd1ukckW7sI3WPs6Vgdg7+rhJ88qiuAhvzSbqGLX41Zyu5sX9q1bpnk2c2f3dXs6WDu6WhOm4lMIhQITD24iuFqJ6bNVvV1DW2WL/dQT3ZGTy4VKX2tCDEVCEzpRFsju5GRPdgpDBupKNpfRtvprMHVriLubQxzt2crrZNcTNnKpUK6VUcD1cZUYA3N/3JBkL8r244UMnb6rLOflUhIErvYMuVK1abNlCs19K7PtkUsSnajrfhWUYiNVGQmIsfmVU/q8XUDF7UI0NpOCLl79y6jJkAhVwMGt0EABEAABEBAOwKJiYmEEFurFtt4Wesz32b+XD6KXXihDsPiw1jlx0bKKoS5w9hl6gebWYXcSiLk85vKLVOP7MGq2VTTJoRIxIL7m9hN5k5yMSHVRunPyyKTutmp+oqjC8t8VHUvlo7sQAgZ8FIhpw5yBytt6brofM49j6pCnhzNjryHdral68N0TEynAJhy5Z3i0PXjPfll6izOMpzmiylXpvdiXaltm+JdVwx6h19a2TyJVdq/WECNBUhsqM3vH0c93Rbpbs8qIXdebnq/Wxyan+hCN3v/tjMqjoNZOrk6/qGdbenEB83Lrhm+bgrxt2vZFfsPOeN5QkhSN7vfdkbtmckqPLGhNrxgK8ewZTTmpVM33m8wnU24XRQqEQusLWt2k2b0ZrM2vKvdf3aw0wGlk9mJicw4Rz5C1Yu6HJS+VuZmghMv5zWoU+55I2rMFs4vDXz28giu8X1ZvwBLUqtdxP+4IYxwga7nb5/i/dWyQKZc2aDMtYqeKVcGuVsK2SmRav/z+2exWFK5+R2mXBntLyOEHM7tSPOieV9xU4tyiJItLH62ZS9XIjJJteamZbWsC1y1OJhy5RiuZo7r40CrCt3y3VlFJdZcvr/tjKJTZkM721I7C2paUji62hikrgAa8ntlBbtPRCQkfDuijW5SbHV1CveqnimjJX44tyOtADEBsv/siPz946gOClYBvvHSOEVzm6XlThVmOndGW71q7W2wG3G2NRMITOls18+lEdkJTp/PrVZc6YxhQqT8l+2sbOP7OjjbmtEDJjRTbbACa27+dF/Di5ksSulucShtQbWatubela8n9LEVLwuUv4+LugRoz/DCV+i9e/cYNQEKuRowuA0CIAACIAAC2hGgCrlcWqNJ1v1U4w5TrlyT4UFVQaZc+cOGMLqg1DvImioD9zexCrm1ZfW8xm87o2TcMu/11TW23yHc2vWhD1nVaDCnybjbm+cNc7nAaWKqkGUSoaudpl39VBheIac+3s99xGp0TLnyszx2rB/tX22y/vvH1YoHVWufbotcnc7mpU9wzRL6zTUhucNch3a2ndDPgW6dHRRVvfxOtZSPp6s9/XvXDFYDdJKLKYqX0w1k58sDw+lQ7+CcGmPma6tCZg9xGay0HdPLvmcgu+Kdw3lx/8+OSM46oEZ7V8VCBbM0F1DD2vNLAwkh3fxr1iQ3T/LibQ2YcuVxbh+B1ELIm6nT9WTKgdfHLhUE/bYz6udSdmFNVZ9XTfrFnEstDg+3VJd4n2DrPsHWvYOsuVXKGk2YzsKM7WM/MEI+KdaRqosp0dWO8e8UhxJChALCr8fS5DTLzNdDvuiZciXV3DwdzSn/S5wHAVq4P7MH4P1hW/XRfH86B1Erd/TPJhXls20RdQuLWlhQ4wstq2Ut4HUFpvokneFiypXH5rFZi3y5Qt6Y8nVTsAYa/J6IE9xcUt+Q6nZRS4AG80tXkunsz287o6gFB29wQYspxKPa1WIVN4X3Ykn/1KJqiwzORoNc5vaSNKbN0gh5DZw2B154plzZYDdCJ7+CPSzzhrn8e34nfvfHr2VREtZIh9R1Y9Eg1QYrMDXFr7f58zObdduFatNusHelVeVJKVs/neRmfL7qViHc4QnQKZgX/eeDBw/UjSmgkKsjg/sgAAIgAAIgoBWBlwo5Vsgb2GK3iVP2eEXom5XBq9M9+PVPuuAptaie16AL5uZmfziBiSrh1NvQT1vCU7srqLksISTYw5IflzPlSpGQtQHmh0p1L+jwlArzbHskIaY20poSpJoJP/SnwpA6YeWY6pXAkiwvalGv+siwzqylKFOuHMGd/r1Xvct3aprbK6hmy3qYJ7sYSJd8eXPTsqnVa+DF4z3piq5qcnnDXJhy5e0iVk3lMdbK+OwhrHs5fqaAap5K3xqFfEsmq5DzD1Cj8QjvGhtmqjPTxXk6h6IqA13h5C35a6VeiwM9ZIt7nT37mgY7meiTOdVr0VTal79U/5+3mKCv17VM0SwzU65ULXoqIR1J8+fSXVjGzlP0D2cNB56XRQoF7KYJPi/UCiA+rMasgP+JKVc2qShpFvhJKBpP3xB2euWzvI7aV8tawFXlZMqV/9nBnjquutfm+HxWIQ9wq94t3JjydbVjFXJ+5zZd5eZnsmoJoDm/TLmyaBzr35u+fnoxu2HBz8WCF5tqv/mJbD2nk3p0RwP/AJ2/oDpwg22WKVfScuf3kqiWO42zwW7kcUlEei97c27LCZ24oabd361jm6GqvQ8vZINUG6zAGpo/U66k81x124Vq026wd6XSUkmGvuzH+Czgol4C1JqAEPL48WNGTYBCrgYMboMACIAACICAdgSoQq6qztX7tcbNHVN9CCHdO9WonapMfuAskEVCwt/kdreaUiNPepMuz1I19ZuVwY+2hldtDt840WtQlJyurv9aFkWfJMRUVYni4+Qv6K5vqnTR4am9dY1bPqqz8ec//f5xlFwqFJuxLtAGRMjjw2wyejvwZ6rRdSRLc8Gemb5Pt0XeWBNCR2aje1bv+k7swpola1DIy6axZHgDeKZc2b0TayZ9bVW1dQC1sqbe0e9tDDMTsRvIP8vr+Mv2yJ+2hNP1c3q6+BNuRVcg+AM3PtfZCaxTN7qWzpQrb6xhj7kKfrnkyJQr6ag97qW2ST3t8XMoL2wHArid3tSo+D87IsVmAnMzQd4wl8Qutv3Dbcb0sv/0pWk3nyh/UYsDXcx3UOMNsWpzuJmI3dJ/fXXI87LI66tDhne1I4RM7FdtwEwrTN3XNcv8wvpAteipbLS8eLfSdJmX7rzlTdbH9XF4uCX8q2WBvs7sNnJ+LobPHb1oUlH+WsaagQgF5Om26v3/L6wSwrzYjdnXVoVoWS1fqKy1gNcS9SfOQkG149rJ1UOblwdcNaZ8qZ0Lb2T+yRzWtISvybUE0JzfF5s7nm6LpBv4zy8NnDucPUSKTjNRyfuHs/tceEsTaputOp1EHQ1Q546a2yyNkJb7/lnVjtxqlTtTrmywG6HWGQ82h+/L8R3f18FMRGQS4aOt4bQZEmJa9xDBBqlqrsCamz/dPkMdUtQq7lpNW3PvSt+lpTk5vv4dKLXix5/UHuSFP7xnz56pG1NAIVdHBvdBAARAAARAQCsCVCGXqWx+xtCkXgJ0uK+q/qk+9v16dk2JEMKfQ06Hy/zx3VTVcVOIn5dFPtvOqoLdO8nogPg/OyJ9nFg1iY7FXyiWcinryJ3u7VRNhb+mpsW8zTndfUqXoG8XhVJDXNU1amrdyjv6el4WeWCWH50suLeR3czMH1r+YHP4MG4XN6860s3PK0arPfZs3TjWAJ66UqMSUit03hSfrhxSRfpqIXs2FX8k2801IdS3Fu/FvVcQq8xP6OdADU2vrAgK9rCk58zRze08UroGK5MIeYdw1IqBnzShlPgt5bxCXrmq2l/0gAh2KoTfvs6UK/ni41HzF3U5UBWL33L8+Vz/XkEyukmBThYkRFab/d/bGEbTmtq/2qUc1VfrbhVpUOZaRc+UK/uFsJrexeXVbvOpYtYzsNru+sySALpTmtZPQki/EBt+6ofPHb1oUlG+cKJOV30Xp1RvjKczQb7OFtR4Xptq+WJ5vy7wWtJ6co4Md0xlN1P8sj0yJoCtOYSQitnVmyMaLF/qE+7kQta74eOSCOp6jXeXUFcAzfllypXULGJYZ1u6Y5w3EuFnRnjz+LqKK3VwyOvAGtos5UDLnQrPlCtrlXuD3cgv29npg4TIGt9+dB7tm5Vs66DNcECEnHZKj0siisZ5UuE1U9VcgRts/tRIQdXwgWa2VtPW0LvyleSX7ZFF4zzvvnRdwd/HRb0EkjhLKELI8+fPGTUBCrkaMLgNAiAAAiAAAtoRoAq5laTG4LnerzVuls9g14FVbVBVmbxcUyK8Fvrt2hDOcxvxd5XQ3eMSsYD3mURXy53k4i5+VnIp61Rc1TkZXaxwsWV/7aAwr7XNmClX0sUffrssXT4SCUkXPyvqopx6SnO1E1MLat77cbiXZY8AGXUtTjUZplxJ976GeUnp4ViEC1ILYXy4/Kct4bynrr4h1ldW/OGwNEogbxhrSZ6dUO2fmSlXUsWGN8I/s4Q1oraSCLdN8X5eFkmXJbv4WYV6st7IONfc7D7nW0XsinrlqmC6zOhowx4MRncp0/VzaqOruupI/aUkrq4AACAASURBVJOHelpSf3J01M7bqBeksT7e+G3b/HbrfiE2NK3LBUGcsmoa4mHZzd+KYvn3/Grn86rly5Qr63LgqYZ6WnJFbCoSEmrx/vvHUXTBM8JbGukj5a2CZRLhgAj5k9KIxyXs7m5VkwqaXIMy1yp6plzZkXNMzXt3f8AtzgsFZGFytZ58hNs37uVoPipGUTqZLYJaWeP/bFJRqhZWkLsl9RNuJRHy5a5ltawLnJeTXlDze4HANMpHSrVZisLWSkS1ygbLV875ZbQQC7p2rD7soFeQjN9yXFcAvnLWm1+mXHl/U7i1pYhWaTfFH9xA0N31vM82utda1aC6sx/riT3I3ZL2IXztqrfN8uXO065b7pq7kd8/jqJe9+VSYfdOMmo6EeZpSbPP59TWij0JgnrESIthXVRqpqq5AjfY/Glf4WL7B3RMubJW09bcu9LqcWye/7DOttQ5XK2agz/rEhjBmfC88GqpYUABhVwDHPwEAiAAAiAAAs0nQM8hh0Jed4BS687ZJQEONmYZvWuO76r1QP9wG0cbM9XTer9bF5oSbffiZGy5VBQfZkOPLqdvPS6JGBWjcJKLzUSsxj57iIvqGVT0V4lY4GBjxh9EpJrct2tDPBzMVXX4vTN9Q7hTzQM7SHZM9fm1LGpQlNzaUrRrRrVF69klAYOVtnYykdhM4ONkkZfoSl2LM+XKKyuCYgJkluYCZ1uz+DCbw7kdB0bIzc0E0f4y6g5t5iBnS3OBl6M5v7asKszWTPaYZd4GnilXzh3Onq3Nn2n8+8dRo2IU1pai+ZwH8pMLO4VxxzV1UJinxSguFQSNilFIxDXHsN0qChnZQ+FgY/bCh3mEt5Rfwd48yUsuFZXPqHEvd3JhJy9Hc2tLEbUO+GJBJ0tzwbQB1avQn+Z2dLAxo+cYU4G/Whbo4WD+IpvXV1cvkl8qCBqitLW1YrEEuEnyEl3rTn/wma3L4fzSwPhwuUQssLc2iwuz4bUjplx5cXlQtL9Mwh1CPiBC/mlux/gwG3MzQa8ga0o+wE3CGybwSTQoMy16uluBvjVYaetqJ+bdGTDlyoXJblILIb/pYNZgZ0LIqBhFxWy/66tDeN97fKL8RVOLkm4cSOxiayMV2VqJBkXJa51vr021ZMqVdYHzotKL3dm+Ed7sEesdFOaLkt2el0WO6WVvbSk6/nJWRXP5is0EZiL2tAIJdzB47jBX3v8fjb+uADfWhGjIL1OuXJzCugbkT2TgBR4YIecd773YAf6kNMLfVZKl4tL/aL6/m0Jsb23G1yINbfbFkn5ajEIuFd4uCuWTqFXuDXYjP20Jz05wcrEVi4Ts9oqsOEfVXohvhhZigb+rJDvBid+Ao4FqgxVYc/P/fn2oQiZStWqhuavVtF/4xdTQu9JXCke7yyRC/ggAnhIu6iVADaOEQqGGwQQUcg1w8BMIgAAIgAAINJ/AyxXymh3I9X6tcRMEQMAQCZxZEkC9hZGXwdnWjLfKNsQctZTMz7axRgpO8tqLsVrG/7wski7X83NhWkaI10FABwTokX7m5uYaBhNQyDXAwU8gAAIgAAIg0HwC1U7drGr8MOvg248kQAAEdEDgt51RTnKxrZXo4vKgcx8F7pzmQ5d8xWYC3pOZDsTQzyTurme9J3ipuKBvETmfbYswNxNYiAVPSiNaJEJEAgI6IEB9i0qlUg2DCSjkGuDgJxAAARAAARBoPgGqkNta1xzPo4NvP5IAARDQAYGn29hjz3ydLXhL7F/LolTPu9aBDHqbBPUf5m7fwnOR1NmEuoPl9JYGBDNyAkM7s8dAyOVyDYMJKOQa4OAnEAABEAABEGg+AaqQ29vWnNVs5OMSZB8E2hIB6hjcTSEeorSNC7OhDvMCO0h412VtKbNNysv5payvQf50wCa9W+/DfYKt/V0l1FHcgVnVnt7rfRI3QUDfCNCOQqFQaBhMQCHXAAc/gQAIgAAIgEDzCVCF3ElRfUiSvo0SIA8IgIA2BH4ujZg3wrWTm8RCLLC2FHXvJFuV7s4fsKdNzIb+7pPSCE9H815BLdb1FY/3dLAxs5IIl49yN3Q4kN/YCFCnbk5OThoGE1DINcDBTyAAAiAAAiDQfALDhw8nhLg4Vh+YbGyjEOQXBEAABEAABIycQGIXBSHEzc1Nw2ACCrkGOPgJBEAABEAABJpPICkpiRDSwYU9YBb/QAAEQAAEQAAEjI3AiO5OhBAPDw8Ngwko5Brg4CcQAAEQAAEQaD6B5ORkQohnh+qjm41tFIL8ggAIgAAIgICRE0iK6cCOBDw9NQwmoJBrgIOfQAAEQAAEQKD5BFJSUggh3h6uRj4cQfZBAARAAARAwDgJjOzrzZ4C6OWlYTABhVwDHPwEAiAAAiAAAs0nkJqaSgjx8/EwzlEIcg0CIAACIAACRk4gY0AAOzXv7a1hMAGFXAMc/AQCIAACIAACzScwcuRIQkhgJxzSgy30IAACIAACIGCMBDKHRRBCfH19NQwmoJBrgIOfQAAEQAAEQKD5BNLS0gghkRFhRr4+gOyDAAiAAAiAgHESmDEymrWV8/PTMJiAQq4BDn4CARAAARAAgeYTSE9PJ4T06NHdOEchyDUIgAAIgAAIGDmB3PGxMFlv/kAKb4IACIAACICANgQyMjIIIbGxscyubkY+IkH2QQAEQAAEQMAICXw0IxFe1rUZSuFdEAABEAABEGg+gfHjxxNCBg8ezOyPNcJRCLIMAiAAAiAAAkZOYO38sVDImz+QwpsgAAIgAAIgoA2BSZMmEUKSk5OZQ8OMfESC7IMACIAACICAERIoKcwmhLi7u2sYTmAPuQY4+AkEQAAEQAAEmk8gKyuLEJKRkcEcGW2EoxBkGQRAAARAAASMnEBF6TJCiLOzs4bBBBRyDXDwEwiAAAiAAAg0n8D06dMJIZmZmczxrDY2IvmmMOBgjufqNIfpsVZJUWa9/D4IcnxvYi/LNpZNZAcEQKDxBPIHy0snuTb+eTwJAsZA4NzRMkKIra2thsEEFHINcPATCIAACIAACDSfQE5ODiGkS5cuuWO65Q5zNaB/E/oqUrvZDI6Q9vIXR3kQf4f/c7Z819K03f+985f/efNPJupDeAfT6QMcDSinEBUEQKBFCIzqbkM7hjf/+w1n6bv9QyQtEi0iAQFDJ5A1fhQhRCqVahhMQCHXAAc/gQAIgAAIgEDzCSxatIjoX/jggw/+7//+7/333//HP/7x7rvv/v3vf//b3/721ltv/fd///ef/vSn1157Tb263ahf3n77bf3LNCTSOwLvvffeX7mgd5JBoOYS+Otf/6raR7z22mtvvfXWu++++8EHHzQ3SrwHAm2EgIWFBaM+QCFXzwa/gAAIgAAIgIAWBH788ceFCxfm6jZMmTJl1KhRCQkJ3bp1CwgIcHZ2lkgk//rXv955552//OUvqsPlFrn+85///M477wgEAplM5ubmFhISMmXKFN3mGKkZDIEJEyb07NnTxsbmzTff5KufwUgPQRsiMH36dGdnZ75kVS9sbGx69uw5ffr0huLA7yDQNgns3r1bw2gCCrkGOPgJBEAABEAABPSIwJ07dy5cuHD48OHS0tKCgoJZs2aNHTt24MCBnTt39vb2NjMzUx0Ba3/91ltvicViT0/PkJCQ7t27DxgwIDU1dfLkyQUFBQcOHLhy5YoeoYEoekygtLQ0JSVFoVCo1kmBQJCcnFxZWanHgkO0ZhIoKSmJjY1t166daonTa6VSmZ+fj3JvJlm81kYJQCFvowWLbIEACIAACBgUgYcPH16+fPnTTz/dunXr4sWLp0yZkpiY2K1bNx8fH6lU+ve//73u0LZF7rz99tsKhSIqKmrEiBFz5szZuHHj0aNHr169alDwIKzeETh48GBWVpavr2+tWhoVFZWXlwd9TO8KrHUEqqioSE5OFggEtaqBiYmJQqGAZt461BGr4RGAQm54ZQaJQQAEQAAEDI7Ad999d/r06T179qxdu/bDDz8cN25cfHx8aGiom5sbIaTuaLVF7rzzzjs2NjadOnXq27dvenr6rFmzCgoKSkpKDh06dPbs2du3bxscRgiszwROnTqVn5//Ygm0ffv2qhXYzs4uOTm5oqJCn4WHbK1KoLKyMi8vz8fHR7Vi0GuFQpGSknLq1KlWFQCRg4A+E4BCrs+lA9lAAARAAAQMgMCjR4+uXr165MiR0tLSpUuXTps2bcSIET169PDz85PJZO+++27dMWiL3Gnfvr2lpaW3t3d0dPTw4cOnTZu2dOnSbdu2HTt27Pr16wYADiIaPgF1SrhAIIiNjS0sLKyqqjL8XCIHLUagqqpKnUG7UCiEZt5ioBGRQRGAQm5QxQVhQQAEQAAEdEvg999///7778+dO7d///7i4uK5c+eOGzdu4MCBkZGRrq6uIpHorbfeahHtulYkr7322rvvvmttbd2xY8eePXumpKRkZ2evWLFi586dX3zxxc2bN58/f65bEkgNBKoJVFZWrly5Mi4uTigUqtbbdu3aUYt0rHairjSGwKlTp5KTk+3s7FRrkYmJiVAojIuLKy0tbUwkeAYE2gABKORtoBCRBRAAARAAgeYTePbsWWVl5ZEjR7Zu3bpw4cIJEyYMHDgwLCzMwcHhn//85xtvvFFrsNgif77xxhvvv/++nZ1dYGBg375909LSZs+evWrVql27dp06der27du//fZb87OEN0GgpQlUVVXVq4SbmJj4+PhkZmbCIr2lkRtRfJWVlYWFhVFRUbV61/bt20MzN6J6YMRZhUJuxIWPrIMACICAcRCoqqq6cOHCgQMHioqK5syZk5aW1rt3744dO8pkslZylvb666+/9957crk8ICCgT58+VN9es2bNnj17zpw5c/fu3d9//9042COXBkygqqqqXgfpJiYmdFt4SUkJLNINuID1UnRq0F7LDxw0c70sKwjVYgSgkLcYSkQEAiAAAiDwSgg8ePDg0qVLn3zyycaNG+fPnz9hwoSEhISIiAgXFxeBQPDnP/+51qqL9n+q2pP36tUrNTU1Jydn5cqVdH37u+++w/r2K6kJSLRFCKhzkN6uXTu6LRw+0luEMyLRTODFxofMzMxaBu3QzDVDw68GSgAKuYEWHMQGARAAAWMh8OTJk8uXLx86dGjDhg3z5s0bP378gAEDwsPDO3To0Hr+yf/nf/7H3Nzc29u7a9euiYmJU6dOXbZs2a5du44fP37z5k1jQY98Gg2BysrKeh2km5iYYFu40dQCPc0o9dBey6AdmrmelhbEahYBKOTNwoaXQAAEQAAEWo4ANSnfv3//2rVrZ8+enZqaGhMT4+PjI5FI/vrXv2q/oF03hv/6r/8yNTV1dnaOiIhISEiYOHHiwoULt2zZ8tlnn129evXZs2ctlznEBAJ6SoBapNf1zWZiYiIQCF542yopKdFT0SGWURKoqqoqLCyMjY1t164d36tDMzfKutDWMg2FvK2VKPIDAiAAAnpI4MaNG8ePH9+1a9fy5cunT58+fPjwrl27uru7C4XC1jApNzExad++vVQqpS7KR44cOWvWrDVr1uzdu/fcuXM//vijHiKCSCCgGwL0oDJfX19epaEX1Ef6C4UHFum6KQikog2BF/4LkpOTVbeaQzPXhifefbUEoJC/Wv5IHQRAAATaAoFbt26dOHFi9+7dK1asyM7OTk5OjomJ8fPzs7KyaiWvaSYmJv/6179cXFzCw8PpEveiRYu2bt169OhRqBNtoUohDy1KQMNiOHXPBh/pLcobkemOAD07DZq57ogjpVYgAIW8FaAiShAAARBoiwR++OGHEydOlJSUzJ07Nz09PTo62tXV9Z///GetdbYW/PPtt9+Wy+XBwcH9+/efNGnSkiVLduzYcfLkybt377ZFwMgTCLQwAX5neN1WGRUVhcXwFsaN6F4pAWjmrxQ/EteKABRyrfDhZRAAARBoewQuX75cUVGxcuXKqVOnDhw4MCgoSCqV/uUvf6k7pm+ROyKRyMvLq3v37mlpaXPmzCkuLj58+PDXX3/d9sAiRyCgGwKnTp1KSUlRKBS1Wih2huuGP1J5tQSgmb9a/ki9GQSgkDcDGl4BARAAAcMm8Msvv1y5cqWiomL16tUzZswYOnRoRESEvb39u+++W2sEr/2ff/nLX8RisaenZ/fu3ZOTk2fOnLlq1ao9e/acO3fu3r17hs0R0oOAPhEoLS2t10ObnZ1dXl7ei0Ok9ElYyAICrU6goqKiXg9w2KDR6uiRQBMJQCFvIjA8DgIgAAIGQuD+/ftnzpzZuXPnRx99NGnSpPj4+MDAQB8fn3feeUd7NVs1hnbt2llaWvr5+cXExIwcOXL27Nlr1649cODAV1999eDBAwOhBTFBwFAJUD28ffv2qq2SHlcGo3RDLVTI3aIESkpKap2aJhQKs7Ky4HCkRTEjsuYTgELefHZ4EwRAAAT0gcDNmzc/++yzoqKiGTNmDBkyJCQkRCaTvfXWW7VG583+88033xSJRB4eHkqlcsiQIZMnT16yZElpaennn39+7do1fSAAGUDACAlUVFTExcXV0sPbtWsXGxtbWFhYVVVlhEyQZRDQQICemmZnZ6f6NVQoFCtXrkR70cANP+mAABRyHUBGEiAAAiDQAgQePnx44sSJzZs3z5o1a8iQIYGBgebm5qoDi8ZcqzNK//Of/yyRSAICAgYOHDht2rQ1a9YcOnTo0qVLDx8+bAHREQUIgEALEaisrMzKynqxvqfa3qkejmPDW4gxomnjBCorK2sdmWZiYhIXFwdT9jZe8HqcPSjkelw4EA0EQMAoCVy8eHHv3r3Lly/PysoaOHBgcHCwtbX13/72N9Xxd7Ovqd/yiIiI4cOHz549e+PGjceOHbtz545RkkamQcCQCKxcubLu4eHUWTrW9wypICGr3hCo15Q9Pz8fDUpvishYBIFCbiwljXyCAAjoIYHz588XFRWNGzcuJibGzc3t/fffb7amXetFutzdv3//yZMnFxQU7Nmz5+LFi3pIACKBAAhoJlBVVVV3SdzOzg526Zq54VcQaCSBqqqqvLw81ZPM6YI5dpg3EiAe054AFHLtGSIGEAABEGgUgQcPHhw6dGjx4sXDhw93c3PT/iCx9u3by2SyoKCgQYMGzZgxY926dUeOHLl9+3ajpMFDIAAC+k2AquKqc2303DLoCfpdbpDOUAlUVFTU8v0GO3ZDLUtDkxsKuaGVGOQFARAwEALnz5/fuHFjTk5OQkKCv7+/NqvfpqamAQEBiYmJc+bMWbdu3aFDh65cufL06VMDIQExQQAEmkwgKytL1WGbj48Ptog3GSJeAIGmE6A7zNu1a8fPhfn6+mIWrOkg8UYTCEAhbwIsPAoCIAACmgl8+eWX8+bN69atmzrfafwHXt2Fqampt7d3bGzs5MmTi4uLv/jiCyjempnjVxBoYwSqqqqUSiXfRcTGxkIZaGNFjOzoPwHqkl3Vjj0lJQV7y/W/4AxUQijkBlpwEBsEQEBfCDx8+HDTpk1xcXFNVcLFYnFwcPDIkSMXLFiwd+/eK1eu6EuWIAcIgMArIlBZWalQKKg2DlX8FRUCkgWBGgKFhYW8Wq5QKE6dOlXzG65AoIUIQCFvIZCIBgRAwMgIPHjwYNmyZT4+PvxCluYLqVQaERExfvz4devW4YtuZJUF2QWBRhE4deoUPc9MIBDgBKZGIcNDIKATAoWFhbwRe35+vk7SRCJGRAAKuREVNrIKAiDQIgR27dqlalBarx5ubm4eHR09a9asAwcO3Lhxo0XSRSQgAAJtmEBlZSXdNG5nZwfL2DZc0MiagRKoqqriXb7FxcUZaC4gtn4SgEKun+UCqUAABPSRwMaNG21tbevVwE1MTMzMzJKSknbv3v3w4UN9lB4ygQAI6DEBesZ4u3btYEGjx6UE0YydQGxsLB0D+Pr6GjsL5L/lCEAhbzmWiAkEQKDtEvj555979+5dryru4eExY8aMs2fPtt3cI2cgAAKtSyAzM5N2L5mZma2bEmIHARDQgkBVVZWdnR1aqxYI8Wo9BKCQ1wMFt0AABECgFgEvL69a2ritre2aNWvu379f60n8CQIgAAJNJUC3jpuYmMChelPR4XkQ0DGByspKfjwAexYdw2+ryUEhb6sli3yBAAi0GIEhQ4bwX18TE5N33nln6dKlLRY7IgIBEDBuAqdOnaI9TFRUlHGTQO5BwDAI8JvJfXx8DENiSKnfBKCQ63f5QDoQAIFXTeD69euq2nhISMgPP/zwqoVC+iAAAm2HAOzV205ZIifGQaCkpIQfGMAFo3GUeevmEgp56/JF7CAAAoZOoLS0lP/upqWlGXp2ID8IgIC+EeBPT8QGcn0rGsgDAvUSqKio4AcGJSUl9T6DmyDQeAJQyBvPCk+CAAgYI4Hi4mL63W3fvv2TJ0+MEQHyDAIg0JoEoJC3Jl3EDQKtQoBXyDGP1ip8jSxSKORGVuDILgiAQBMJfP/992+++aaJiYmpqWkTX8XjIAACINAwAV4hxx7yhmHhCRDQAwJVVVW8Ql5YWKgHEkEEwyYAhdywyw/SgwAI6IBATk4O/fRmZGToIDkkAQIgYFQE+JONhUKhUWUcmQUBAyWgarJeUVFhoLmA2PpDAAq5/pQFJAEBENBTAr/++qtSqTQxMXnttdc+/PBDPZUSYoEACBgmgby8PH61jZ6ihMPPDLMkIXUbJ1BYWGhiYlJYWKjaZtFa23ip6yR7UMh1ghmJgAAIGD6B0NBQOmgeMWJE3dxUVFTA1WpdLLgDAiDQIAHVY42Tk5PpWD8vL6/BF/EACICALgnQ087y8vL4bSYCgUCXAiCttkoACnlbLVnkCwRAoIUJPH361Nvbm+rkLi4uX375JZ8AnTVXKpX8HVyAAAiAQOMJCAQC2rcIhULan8TGxjb+dTwJAiCgAwK0kfKuXk1MTODRTQfYjSEJKOTGUMrIIwiAQMsQePbsWVJSEv0kv/HGGykpKY8ePWIYprKysl27diYmJljUahnQiAUEjIwAfxS5iYnJ1KlTTUxMfHx8jIwBsgsCek3g1KlT9OvP26u3a9cOlnF6XWaGIxwUcsMpK0gKAiCgHwR279797rvv0g/zP/7xj6VLl/722290UcvExIRuAdUPSSEFCICAXhN4YQGblZVFJ/Vol2JiYqJQKExMTNq3b6/XokM4EDAyAvxXXigU0tZKl8cLCwuFQiGm442sOrRwdqGQtzBQRAcCIGAMBO7cuRMYGMgPoK2srA4ePEhdJbdv3x5T5sZQB5BHENCSQFVVFbWsiYuLe6GT877W+Y5Fy/jxOgiAQAsSoGYs1tbWtIW2a9fu2rVrvr6+9E/sMWlB1EYYFRRyIyx0ZBkEQKBlCKxevfq9997jR8++vr5SqdTExMTX17dlEkAsIAACbZpARUUF1cmVSqXqQUq0V2nTWUfmQMDACFBHbu+//z5tnpMnT+aXyqGNG1hZ6p+4UMj1r0wgEQiAgOEQePjw4bBhw15//XX6hX799df/67/+y8TEJDk52XAyAUlBAAReGYFTp07x6+S862ban8DW5pWVChIGgToE7OzsaMM0MTFxdHRs3749/RPaeB1UuNFkAlDIm4wML4AACIAAwzCFhYWlpaX0ANITJ064urryn2p6UVFRAVAgAAIg0CAB3llULat19CENosMDIKAzAvwn/s033+SvMfmuM/5tOyEo5G27fJE7EACBViHAD6Cp76UXu8iysrLGjRtnamrKf6dfe+21NWvWtEryiBQEQKBtEeD9Rdnb2/N9SHFxcdvKJXIDAoZKoLKykm+Y/EVhYaGh5gdy6xkBKOR6ViAQBwRAwEAI5OXl1bIvpR9p/jxh+ufUqVMNJEMQEwRA4FUSUD35jPYeMIV9leWBtEFAhUAtFw/t2rUrKSlR+R2XIKAVASjkWuHDyyDQSgSePn366NGjBw8e/Pjjj3fv3r19+/aNGzcqKyuvXLly8eLF8+fPnzlz5uTJk8ePHz969Oinn3566NChgwcP7t+/f9++fbt37y4vLy8rK9u+fXtpaemWLVs2b968YcOG4uLioqKi1atXr1y5csWKFcuXL//oo48WLVq0cOHCefPm5efn5+bmzp49OycnJzs7e/r06VOmTMnKypo0adL48ePHjh2bnp4+evTokSNHpqSkJCUlJSYmDh06dPDgwQkJCf3794+Li+vXr1/v3r179erVo0eP6Ojobt26de3atcvL0JkLSqUyiguRkZERXAjnQtjLEBoaGsKF4ODgIC4EBgYGcKFTp07+L0NHLvj5+flywcfHx5sLXl5eni+DBxfc3d07cMHNzc2VCy4uLs5ccHoZHB0dHbhgb2+v4IKdnZ0tF+Qvg42NjTUXZDKZFRekUqklFz744IO3335b1YaNDqb5/7733ntEX4OFhYVEIpFKpVZWVtbW1nK53NbWVqFQ2NvbOzo6Ojk5ubi4uLq6dujQwcPDw9PT08vLy8fHx8/PjxZFQEBAUFBQSEhIaGhoWFhYREREVFRU586du3Tp0rVr1+jo6B49esTExPTq1at37959+/aNjY2Ni4uLj48fMGBAQkLC4MGDhwwZMnTo0MTExBEjRiQlJaWkpKSmpo4aNWr06NFjxozJyMgYO3bs+PHjJ06cOGnSpMzMzMmTJ0+dOnX69OkzZszIzs7OycmZPXv2nDlz8vLy5s2bt3DhwiVLlixfvnzFihWrV68uKipav3795s2bt27dun379p07d+7atWvfvn0VFRWHPjlw5NNPjh09fPzzw6eOHzlz8vPzp49dOnv8yvkvKi+eunHl9K2rX969dvbHm+eqbl346buvnnx/kfmpkvnpG+bh18yDy8yDS0zVReb+Beb+OebeWebHL5kfTzE/nGS+P8F8f5y5e4y58zlz5wjz3WfM7cPM7UPMrYPMrQrm2/3Mzb3MzT3Mjd3M9XLm+k7mWhlzbQdTifd3XgAAIABJREFUWcp8U8J8s5W5upn5eiPz9Qbmynrm+WNGD8O1HayEV7cw35Sykl/fydzYxWbq2wNsHm8fZnN99xgL4YeTLJZ751hKDy6x3H6qZB5dZx5/yzz5jvn5e+bZj8wvVcx/fmKeP2F+faqHedW9SNRk/f/9v/9He4/3339f9zIgRRAAgboEkpOT+W+6nZ0d3a1W9zHcAYHmEYBC3jxueMvoCDx58mTZsmWzZs3Kzs6eOnVqVlbWxIkTx44dO2bMGKqjDh8+fOjQoQkJCfHx8bGxsb17946JiYmOju7cuXNERERYWFhQUJC/v7+vr6+np6e7u7uLi4ujo6OdnZ2NjY2VlZWFhQVBMHwC77333l//+tc33niD/3KbmJj87//+r+HnDDmoh4CFmcDKQiiXihQyMye52NVO7OFg7uVo7uci6eQqCXa3DPO0jPKx6uJnFe0v6xlo3SfYOi7MZkC4fHCU7VCl7YiudinRdmkx9hm9Hcb3dZgU6zg53nH6QOeZCc65w1yPHixn9Cxs2rQpL9k3L9G1kf+OzvVv5r95QUfnhxxdEH50YQSzP445MIA5OIj5ZAhzKJE5nMR8msp8Noo5Mob5fCxzbALz70nM8cnMF9OYE9nMyRzm9BzmyzzmzDzm7ALm3GLm/FLmQgFzsZC5tLq+qYQ97CwJO5VwiJ09ufM5O5Xw/Ql2euXeGeb+eXba5cFl5uFVbjbhBvP4FvPzd8zT75ln95hfHrT4bEJVVZWq4ygTE70YpB3Vj5DXyqGgoODBgwd61eZu3LjRyplG9I0l8Pe//51+1t3d3Rv7Dp5rZQJ62Gab3YHoRV/fbOnxIgjojEBZWRkxtGBhYWFpaSmTyWxsbORyuUKhcHBwcHJycnFxcXNz8/Dw8PT05Fc76VJnaGgoXedUKpVdunSJ5gJd5OzZsydd5+zTp0/fvn379etHlzrj4+P79+8/cODAhISEQYMG8Wuew4YNS0xMHD58eFJSUnJycgobkkempo4amZo2KnX0qJHpo0dljBmVMWbk2DGjxmekTRibNnHs6EnjRmeOH501fvTkCaOnTBw9bdKY6ZljZmSlZ2eNmZmVnjN5zKwp6bOnpM+Zmp47PSNvRkbejPS86WPyZ4yZm50+L3vM/OwxC2aOWZgzZuHM0YtyRi+ambY4J21JzqiPckYtncX+WzZr5PLZIwtmp66Yk7pidkrhnOSVc1JWzklaNSdp9Ycj1nw4Ym3uiCL2X+K63MR1Hw4rzh26PnfohryhG/OGbMofsjl/8Bb236AteQO35g0syR9Qmj9g29z+2+fGb58bt2NuXBn7r9/OuX3njw6L8rF84/XXIr0lu+f13DMvZu+8mH3ze+ybF71/XvSBed0OzOtSMa/LwXmdP5mvPDQ/6vD8qMPzwj+dH/7pvLAj80OPzA85Mi/4yNzAI3MDjuR3OpLv34L/Dud2PJTb8eCcjhVzOu6f5bdvlt/eHL/dM33LZ/h+PN2nbJrPjmk+26b4lE723prlvSXLe3Om98aJXusneBaP9ywa57F2rOeasZ6r0j0Kx7ivGO1RMNp92Sj3j0Z2WJLaYVGK28LkDguS3eaNcMsfzqptucNc5wxxmTWYVTKzE5xnDHSeNsBpSrzT5HjHzFjHSbGOE/qyuujY3g4ZvR3G9LQf3dN+VA9FandFSrQiqZvdiK52iV3shipthyhtB0fZJkTKB4TL48Ns4sPksaE2fYNtegdZ9wqy7hlo3aOTLNpf1rUjq/129rWK8rGK8JaGeVqGekqD3S2D3C0D3CT+rhYdXSS+zhbejhZejuaeDhbu9uZudmIXW7GT3MzRRuxgbaaQmdlaieRSkbWlyMpCKLUQSsQCC7FQ963fw91NZ/1bIxPSPQQjTPGDDz7gzW3+9Kc/GSGBV5jlI0eOMPoTfjydOkD5CmkgaVUC9PyUdu3aqd7E9SsnsCvbl3lwhTH8AIXc8MsQOdAJgaKiIkJIeHj43Ln58+fPXbhg3uJF8z9asmDZRwtXLF9cuHzxqhVL1q5cWrRqafHqZRuLlm9eV7CluKB0w4rtGwvLNq/8eMuqXSUr95Su2rd99YEdqw+WrTlcvvbT8rVHdq09trfo+L51X+wrOlWx7suD684cLDp/qPirw8WXPl135bN1V48WXzu2/vqxdTePr7v9RfGdE8V3T6z78fS6+6eLH3y57qezRY/PFT09v45d+bmynrm8jrm8lrm0hrm4il0R+moFc2E5c2Epc34Ju1J0bhG7ZHRmHvNlPruCdPpD5tRs5tQs5uRMdmXpi2nMF1PZhaZ/Z7ErTscmMJ+PZxegjqazK1FH0tglqU9TmU+TmcMjmEPDmUPD2AWrg4OZigSmYgBzoD+7kLU/ltnXl9nbm9nTk9kTw+zuzuzqxuzqypR3ZsqV+AcCbYbA0+2Rj0oiHmwJv7cp/O76sO+Kw26uDbm2OuTqyuDLK4IvLAs6syTg9OKALxZ0OjaPnU85nOtfMafjPm7iY+d0dsqjZDI707F+AjvHsTrDY8Vo9+Vp7ktSOyxM7jC1vxMhRGZlpZO+rbGJPHjwgHAhdxg7z1L3X2asY7Q/Oy3SUv86KMxpikb439dff93ExASj/xYsejq/XOu/AwYMyOVChw4dCCHLly9n9Cdc3Zw7zJUQEu0vU21ujWlfQe6WLYgOUYFAgwSsLUWNqZmNf0a1ztd7TT8QucNc2a1khh+gkBt+GSIHOiGwYsUKQsikWMc2o1EgIyAAAvpJ4FJBECFEJBLppG9rbCJHjhwhXNBPaPVKdWNNiDamJRsnetU7EGzezdTuisYPRtv2k80AuHGiV4NFeW5pYD3VYHd3doJ4Xx9mXz/mQDw7fcxufxjKTiurbH+IDmJnwXJzcxvbHnTw3I1yqpCzKodOZrS1bC/qCqhl21EzKo/+vLI8zV0dJd3c101F0k0q0f4yts0Oc2Ue39RBc2ztJKCQtzZhxN9GCCxatIgQMm2Ak246GqQCAiBgtAROLQogXHj+/Ln+dKCGqJAbbRVCxptKoHpwr1cK+e1DOlbImwoNz4PAKyRA22xmrCPz8139+VA2WxIo5M1GhxeNi0BeXh4hZNZg51fY+yBpEAABYyBwJN+fcOHJkyf6089CITeGume0edRHhfyHE1DIjbZCIuMNEqBtNtpfBoVcf8YJkAQEWp1AdnY2ISQ/0aXBPgIPgAAIgIA2BPbl+BIu6JXPZyjk2pQp3tVzAvqokN87C4Vcz6sNxHuFBGoU8mf3W10HaP0EsELe+oyRQpsgkJWVRQhZlOz2CnsfJA0CIGAMBHZM9SFc+OGHH/Sn+4RCbgx1z2jzqI8KedVFKORGWyGR8QYJ1Cjkzx/rz4ey2ZJAIW82OrxoXATGjh1LCClIc2+wj8ADIAACIKANgY0TvQgXbt++rT/9LBRybcoU7+o5AXd71qW/fjl1e3wTCrmeVxuI9woJ1Cjkv/2iPx/KZksChbzZ6PCicREYOXIkIWRNhscr7H2QNAiAgDEQWDnGnXDhxo0b+tPPQiE3hrpntHmkLU6/FPJn96GQG22FRMYbJEAV8mB3S/35SmojCRRybejhXSMiMGzYsBcnA2+c6NVgH4EHQAAEQEAbAouS3QgXrl27pj+dLBRybcoU7+o5Adri9Esh/+0XKOR6Xm0g3iskQBVyQoj+fCW1kQQKuTb08K4RERgwYAAhpHSy9yvsfZA0CICAMRCgo3BCyNWrV/Wnk4VCbgx1z2jzSLigXwo5w+QO61B90rJOziE32tJHxg2RABRy/RkeQBIQ0B2BPn36EEI+nu5jiN0WZAYBEDAgAtMGOBEuXL58WXd9XEMpLV++nEplQCQhKgg0kgCt23qnkI/whkLeyBLEY8ZGAAp5Qx9t/A4CbZFAdHQ0IWRfjq+xdXnILwiAgI4JjOvjQLhw8eJF/elNc3NzqVQ6poHkQEAHBGjd1juFPLkTFHIdlD6SMEQCUMj1Z3gASUBAdwQiIyMJIZ/M6WiI3RZkBgEQMCACqd0VhAsXLlzQXR/XUEpQyA2oCkHUphKgLU7vFPLUECjkTS1KPG8kBKCQN/TRxu8g0BYJBAYGEkIO50IhVxpJX49sgsCrIpDYxZZw4fz58/rTm0Ihf1X1AenqgABtcXqnkKdFEUJSuyt0QABJgIBhEYBCrj/DA0gCAroj4OPjQwj5FAo5XMuAAAi0MoEhSijkmPgDAZ0SIFzQO4V8TDdCSLS/zLA0JUgLAjogAIVcdyoQUgIB/SHg7s6eDHwk318HvQySAAEQMGYCCZFywoVz587pTx+IFXJjrpNtPu+0xemdQp7REwp5m697yGDzCEAh15/hASQBAd0RcHV1JYR8PhcKuU5XLZrXTeMtEDBoAvFhNoQLZ8+e1V0f11BKUMgNulJBeM0EaIvTO4V8XCwUcs0Fh1+NlgAU8oY+2vgdBNoiAScn9iCi4/M7GW3fh4yDAAjohkBsKBRyTPyBgO4InFvK+ohh3afl5urV+CV34kAo5LrpdZGKwRGAQq5XnRWEAQEdEXBwYA8i+mJBm1XIt03xtpGKyqbhoPVWHwUmdrH1cbL4bWdUY75/R/P9baSiLZlejXkYz7QNAr2DrAkXTp8+raMOrhHJYIVcQ+2aP8JVJhFeWxWi4Rn8pLcEjuT70xandwp55jAo5M2uNindFe725r9sj2x2DAuS3GykIgcbs/F9HR5sDq8bj5Yf6JYdd1VtDlf6Wvm7WvxaVjO6WJTsJpeKbK1E80a41pVf+zvF4z3lUtGK0e7aR9XUGKCQN+K7jUdAoM0RsLOzI4ScXGgACnnV5nB/V0nvIOsGe7dPcztamgvWZHgw5cqkbmwGFyW7NfhWSz1wb2OYvbXZEKVtS0VoEPE82x4pEJgKBKaqn0wNki9MdiOETO3vpOGZZv+Un+jibm++bhxbAVrj36WCoBWjOzQypy0uwLNtEQuS3PxdLSzEAie52YIkt98/rhmmtHhyLRhhz8BqhfzMmTP605Xqg0K+f5avj5OFp6P55YKgxgBvXmfYmJhrPUO3/ZfPaMsTmheX19OcW7sPqcW5lf7UX4V8cjIhJDPWsZUyXjfa04sDEiLldjKRhVgQ7S9r6skyj7aGL0hy69rRytJcIJcKewdZ75rhWzcVHdyhn1pCyM+lEc1L7sX3ixBiIRb4OFkQQupVaOt+oJvUIhoz7qq33dWbo8GcN9BJKrWFZsHSXOBuby6TCLX/AtYV5uaaEDeFWCAw/SxP14cQQSHXn+EBJAEB3RGQy1k3S6cXB9TbD+rVzeur2ZNLX5yV8nBLzYTuf3ZEHsn3f1zyhy8TPV0pM4792I/uaU8IWTaqg87y8nUh+7WztzbTWYr6kNC3a9nSsbUSNVKY/EQXQsjMQc6NfL5Jj03tz27EGNHNrklvNf5hanp97qPAxr/SUk/+sj2yi58VIcROJor0kZqJ2BaxUIfzTdpkhB9nQCHnMT7cEj60c7XzeULIgVl+/E8aLprXGWqIUN1P4/uyJlTbpnire6AN3I8JkBFCajXn1u5DdMNNfxXyaaN1eQ75gVl+IiHbVXZyk3T2sxIKCCGmRWMbO2P705Zwf1dWd5VaCLv4WXk6mHMjEULHGLopSj6VW0Xsp9ZCLODvNPWiII115TtzkPN/dkQWjnb/YUNY3RjqfqCb1CLSYhSEkOWjNC0v19vu6kqya4YvISTKR6pqfEezMHuIy+OSiEZOYtaNWfVOvcKcWhRAiKmWxgiqqTTymv9QMm0imLSJXCATINDqBGQydixyZskrUC0a2Tfxj/3+cZRMwn5UVX3CfziU1esGRclVH1PIWDVl/yx2AntcH3ZAuTq9sZ9ePp5mXzzbHvliW36Yl7TZMRjii1cLgwkhHRTmjRQ+L5H1Jjh3eKsYmz0vi7xbHNpISZrxGFXILyx7Ba1m/XhPQsjwrnbUXvHMkgALsUAuFWm/RNAMDk19hU4lEELg1I1Ht4gzFfF3lVhbsr3W0cYdeNG8zpBPtPEXtJ1umODZ+FcM7skenEJea1jf2n2Ibijpr0I+Y5wuFfJQT8sXKnhBWrV++OXiAIHAVCIW1JrKV1coc7hhRrS/7P6m6sWAM0sCrC1Fr2Ta/doqViG3kzV27rtuprLiHAkhmveL1f1AN6lF0Ik8aqVYVwB6p952V/dh+tX4ZM4flqlpFjZObLEtb+qE6RvCWnWVTtbpjCQU8lbXfJAACOghAYlEUndxoG6fqCd3egWx0weq9uce3Fy12EzAL5tfWMa6sZGIBc+4HVaZ3LdHxwNKuVSkOkegJ/RaVQyqkPu7WjQyFTrE+ShVd5YLjRSswccuFwTZyUQiIflJxVKjwbda6gFan3dn11hLejuxyzV8/W+phFojHqUvu7b/Yu/o+fPn9aczfLUm6/c3hR+b5//7x1G0HL9stLFSMzrDZpRp7jB24qxoXFtWyOniZ73rhM0gplev6K9CPjNLlwo5HSeo9th0/uublcGNKS/a1mqpl9+sDL6++hX4Vri+mp37drdv7Nx33QxSs0HN+1C0/EA3ZtzVmHZ3f1O4QGDqJDerNeNMs7Cz5XwDqRNmS6YXIWRoZ53uQIRCrj/DA0gCArojYG7OjuZfyVpf3e9Eg3cWJLEbjxMiq9fDv1wcQF4Gfrp3xegOhJD48Opnpg1grZc3TfLaMdWno6vE0lyQ0dte1faJKVd+uzYkvZe9o42ZTCIM85IWj68efZ5aFEB3i51Y0CnSR2ohFsQEyH58ad/11bLAXkHWcqnISS5Oi1HcLqpZku0bYr0gqXrX+tNtkYuS3Tq5SSzEAkcbs+RoRVV9PlR2TPWRS4XeTuanFwdcXx3SP9xGaiF0tDFbP97zq2WB8WE2VhKhi61486SaKeF/z+8kl4pURwm/lkX1DLQO87T8z44/uHuhkfs6W5xaFHBtVUiPAJmFmN18tWmS1/1N4VP7O3k6mluIBb2DrO+u/4P12tklAQMj5DKJ0NpS1LWj1b6cP9jT3ioKSY5WyKUiZ1uz9F7s1oBInz/YBWhAlJ3gTAhZla7JpO3kwk4xATJLc4GzrVnuMNfU7gqFjE2LjqsuFwQldbOztzazEAtCPS1V/fYdnOMnkwjzEtnl9+1TvBUykbcTuzv3SL6/0pfdBNhBYb4vp0anZcqVfFq2VqKegdYBbhIKvNZG8T0zfamV+Mt6R7p3kvH19kXZ0ZKythRF+8s0mx8fzfeP4iqVnUyUFqPoF2JjIxV5OpjT6qEud4WjWWvDjN4ONNF9OX6EkI6uEl4Gfb4I92LXqdgO58IFRm/Cq1XI+fJyt2e74lrrtPyvdS+a0Rmqa86XCoLsrc26+Fk9LonIHeYqlwo7KMzpFtmZg9h2uv5ll3h9dXCfYGt3e/On29geppGdGxVeXW9wenGA1EKouu3i0dbwADdJbKgNffHaqpAR3ezsZCKJWNA3xPrSy2326vrni8uDFDLRh0NdVKFRl5P8Cif9aWumF7W64mol+58BEdUfDtU+ZP8sXxupKD5cfm9jWEZve7lUKLUQpnRXPC6JyBnk7GxrZm0pGtfH4dm2P+ycUpdfVala+1p/FfJZ03WpkG/J9FKdxz8+n/V1ZyYitBo3WAqTYtklZblUuGxUB34AwL+1YYKnjVQU7mV5ZUVQVpyjs62ZRCzoH25T62OqbphB49FcW75dW/2pdZKLR3HW4J3cNPX56j4fazI8CDHlazshRCYR1uvUre4HWrVFUJk1fDTpuGtLptfpxQF04/3ACPmTl5veNbQ7niq92D7F+8V0c2p3BX+/JMvLQsxuOeCD1ELIo96S6RXlI5VasD1YanfFzTU1MybqOivNwtxdH0YIcbDR6Q5EKOQMAggYIQHChYsvhzh8r6efFycXdlLtHKcPZJVtuuwWF1Y9ehvBeXHjfWPmcAPKXpx7546uElsr1i5UVYn9bl2ovbUZIcRJbhblI6WfK7pO9cOGMC/H6t1ibgpxBwV7TY2XLhUEcVPspmGelp3cWCsDJ7m43jWWkT3YzVQ2UlZDc7ZlE5o1uJ6N01szvbr5s+uH3k7mTnKxtaWIyxfrJs3SXCAQmL6YKbA0FxBienBOtVZczFkvd/Gz4gtrdza720ohE9WaceAj93Qw93Q0FwpIuJelTCIUCEzp0oGrnTjYg1WWVGO7vjpEasHuEfB0NI/ykdI9ePxsxe2iUEcbNjs+ThZB7tWKVs/AGpd7mhHRGXQNJmdfLmaNsYUCEuZpGeEtfaG9i4SkT7D1YKXtz6URd9eHvfCASghxtmUVCbEZ+4Xe9HK2guoqA7mx9ZZML2rzFuppSa27ebD8yJ6mJTYTdPGzCuzAluaLAi2b5lN3pHJyYae4MBuhgN3CFx9mkxaj2DOzWrG/XBBEBwreTuYR3lKBwJQQ061q3MjThwUC005uEjo3LxKSviHWg6Lkj0s05e7ZtohFyW60ft4qCrGRisxE5Ng8f74O6PMFNRwlhHz11VeM3gSqkEf710ysvBKGTnIxIeSGyghSsxhN7Qw1NOezSwJoR9fRlZ03pM0tJoAFQjeO0j3ke2f60nXFaH8ZXbBqZOfGlCs19AYH57CTSt5ONSt+ecPYjUiDOb+Yt4pC6BYkJ7mY7v4VmwnosSDq+me66dTRpmZV7TQ3dWuuYkhF2R6b508XPyViQXy4PKW7Yu/L5qzah1xYFkh7GAcbM9p5Ug70vz5OFrRjH9vHni8yDfnln9HBhf4q5B/O1qVCror659II+sHiZ/ZVf633+rt1oS62bPMkhAgFpFeQ9bYp3vxHdnW6RyQ7cmA1fPq5pEMCf1cJP0ejYZihuXXQBQMH7lPr6WBOY6Z7qusVlSlXavg4nl4cMCBCTj/cXTtaxYbajO/rwGdENcK6H2jVFsGUKzV/NOm4a9ZgZzqvTelN6V/tw09Du1OVgSlXUtP3lWNqJu4PfdixT7C1XMqOTBxtzLr5W2X0dnhexs4Plk1ltXephbBrRytqcORsa3ZvY/Uag7rOqkFhaM98pzU3wdXKNRRy5v+z9x5wUR17/z958uT53yT3Xk3uk/ye5F5mGx2WpQmIICAinV0LaGzYCxaw94AlYmVtUTQabNiNqMiaxERTLhpzc0kxRW8SYklPxBRLEvX8mfNdhuMunF3YZTm7fM/rvPSwe3bKe+bMnM/Md76DBxJohwQIf3y4qQ1Ww5q0Qdb8ebvCuIwcLM26hHgo5OTi9hRPlUwhJ9DyRvMSmk00wSJzQsjEPpo7x7QvLaGSlc29cAbdzAF0and8bw3MKpfPp206c9by3BQ6367xU1wvz/jpYPrmKVGwdlcX5+uhlL1Tv10cuCRt1Ftpp0ClTOYOw+o3yjOKRoadWd2kfIIpxEBfxZWddGQXRhwIITt59zNn19LxiN7djAr8P89T73EKOWG6MS+Lin+hM1IhVTY/CdYEbxR3g9Lvl+j3+9HMu5VaGHFgkmBSNg1tcl/j4DTc76WSwSwTTIkX8p7zOIMOOmChD3xxRPBzEWdRkNo3i40rxyB8NucMrwtD0wKgOGCi2M9LDmPwmybTUmOTXZxBB29gYWoVVJK1E6ghLitliIuVC8wKNlqawFOllEWHNOgH+HAM7wmWvZS/zNc0liRhQXAGHfS4zNMveDpg2l48dywoKCA29sQ+l+xFcv3AzYULF6TT2EpEkAfwA0zW+z5obmMo/jj/sJdOBLGVpUcWdP2Yd5EAVfH44rjnpnSGMaZnRoTB6y9n0FnfuIm0Br8eyoCRrO/2UCOju5XaCA0VP/B0QJs2tmcgPOknl1P1nl8/Y9Zo+3ztQDro57fXGltaGFZo1O7096PU5Yf5WhuTNgRm/OqGVsFG6V/raFMMXcndSu3Nw5lRwXSgk721i+TXkY+ndAV5cXGbCPLbFVrYOEAuI1DDrSyO7/emTekXBPUKij4pik6Jw8/vHNPC4PXYnoGgb/P53rO0ftMs8dcM8doynbc+mz0wBEbBYHV3T8FAvEkWLHYfQ9MCCCGsvzP5Ofxp3kGbPBHinSa8d3mqqHVb7YH0cxvpQsL48IYVbU09dyaJgY05zq413QZoRAb1RszeB+BX3+xO3TMnmr0OwTrz4lyjnxqRxko8MQOT6TJycVwmybbxTxTkHB5IoL0RuHv3LuGPD0qcwMs6tHGjtLQh3j0nGl6JhqXTifHxveneZlumUn+hMG7KGkRYCuXtIQNL4A830Y6hT4JR07J+9PyWpDvHtDfK6fRj3YYi0/sb5zo2T6EWwkyUQrA/HUyvm4/191YMTPYfmOw/IMkfZumFhlUsAeBCObmLtz43/Oza7o2ORrOb87NoRuYONhokg2Wdp0rGLOtCAqiFNrsfxsthnvnOMS3M/ze1DBVebVO6eMPPaw/QXNSNtVevN5Y+byBgNJq9c8w49iFcJpfCz6K/vpKKZOjemPn9P/VU3vev35TOIiJ4X6l8pvHtlG6UZ5gskzuzmhoZgv6/W6mFGQPhCkAYEYepM94w7x5BDnlnChyqwaAUOp8PccWENgjst9bQuBp9fecMujvHtGAXwEqhbljn1mGjqGBv5JxBJ0yS8Gbz3J3mtwse35u6hbeYOwjqejmNMUytFK9Rwnjb/Doths4jUcNsFORmG/KBKGUPlDWFZX1jaPFx/mZ3Ksz+sTk9SAC8l0PLIDRCgW+tbNwstgagEGDVCTwL0aEedyu1dyuNOgcGKG8eztw+owsh1FIGEtBo+1w3SQgJYw0pmL2YvL5DCD/zjTlrFeFDzqAzaUNg1j1MrWJrWWHejK1ihTE1MF+ymF8WS2tfoCAXEr5zTAuvCi3emeLHfWm7Znfp3c3oCyM0QMmcd0QG0VEkNgb0Dj9kA12M+GuGxdoCXS1bbQHdk8nqMJZNa7oPUJjim92ad9DCJ8Jip8kmQp6fRt3EwHhfarTx3YMz6Jp67lhG4AKe3E9LTTeDHJxCxxTMd567vCOlODdibM85b2v0AAAgAElEQVTAuYND4N2PefMRaazEEwNbuJnHZZJUO/6JgpzDAwm0NwJ//PEH4Q+n8LIO7d2u2fSFbEIfDdgyVSyk3i/f5Cd74zp5gs1SrsADx/Ix97hhh+0rdXFGQX51v1GUAgf4VyEnoOs4gw70ucnuXLDvCH9zw3IsjZ/CxBEoJPjXQxkz+gd78DbVIDJFDIxBNzIXSpd3UH+qsWEN48pg9Ms0WNls6nMbrG3BLFM4CG3SQ0CHtGqccWklDF6ofeTsNuj8vt5F56mu8XLdQ9kg/jmDDrYDfbEorm67FJnMPUjg6BUEM5u9t4gIVhYwA1GWBrj4oyJTLiMRGhX7fP/T1LcKTHrDsq4An3vczMKqBJhVOyC4GUIAHzDMQh48/8FoDsQlhFyxKJYQIrKTPGyFwtLGGXSQX3/ve5IEDlrNdzGFGKMFQwBglzGUX3ZhMXcQL78jS5OjBsK0SecabKEJIf/5z384yRxSmCG/XUFHeermftn0jjWlZn1jKP44swpsvm0hzKuDm0xCSM94X5iphuRZ2bhZbA32zqXt2ER+n0Jo2KHJhWQDGeG/zIS10faZM+hADql95DfKM3gx4B6mVpn4g4AsXOfH/sxnyE3aEFgN1D+pYV1DGu+4m82yruGNbqA/sphfawrXLvegIGcY71ZqYfW1cMCdfSt+8fnWZDYmDnceXRgLs+VHFxrHlMGsgy1mBvs16JrFXzPEa4t5VwvD9IlNrCG3pvsAQc4G4hvNu3kHLXwiLHaa8N6lVBi9jX63h473CWf1m3ruTBID7yTmdkPD+RlykxVhhwpjYGGdsK1gb4MijZV4YuYOpjv1iPvAM0m2jX+iIOfwQALtjcCtW7cIfzjFPuTQxn1VRlv2kADqR8fHUw7d5N1KbVwnuk1oQgRdAAyDsnB/0Ui6znxp/X7Xl3iJm1w/S/z70UyVUuahlOlzw8f1ChyWHjC9fzAzk+YMOnjNYlZPEObvRzM9VTIr/XzAjNO1A+knlsbNGRSiVFA3Kr+80LCVurDtBs3MTJehI2eprVu41ZPfg5r9/ObhTA2/x9uHm3qsHk/NsPW597gyEgY+LJ0OKrNJ6QtbqMU7G5vgDDrYXvVGvecVfhbancXFGXSwGPvj53rAiLJQEoOITaj3LmYREewV35QgZ0bdy0Z3ul6e8daaBFiEVjQyDKajPZR0eTl7SbpbqQWfWF+WUVN/GJcBvQ0EQFfATnjsfX1cL6PrVOj/tkyNulGe8cnmJHgJYOpdyBCufb3kvl4NAxmcQQf2w8IkcQYdTAh/sa3BrwwLCmKcPTDkp4PpHz/XA2ovyIxbhzPEcweBvLaCmiTMH2pclcdClvIF1F5CyGeffSadxraYX87atmvIfz1ETULqhhrZikdryrFZjaHI48wZdDA8Z96mwRDh0HT1D3vToD4LzYWsbNwstgbXDqR7KGXeHnSzDJh5BqOtu5VatY9cpaSeOIdnqIemBcwcEMKax6baZ0AHI3TbZkSBXyi2uMYE7J1jWrmskU2kTNoQaN+YqTxn0GV3p1t+sKcbDHphOw+L+TVJQ+v9yQT5pEmTpPPEcRwHo2AmHWvrceAMuvlDqWM28BDGRrStifGHvWngw4UZR8CvQNayDVzAjwAbUIP2GSqM+GuGeG0x72qP8ePFAU1sdWlN9wHTyyITA3UNgnkHbfJEiHea8N7Vl/dDwRl0P+6jpotCO5SmnjuTEoFXDraMjn0L7RIs5YMPwWTM20P20pK4m4czL+1IgU5/2lNGa0eRxko8MbCnOltfxtLQehcoyCXVWGFikIAjCPz222+EP8SNl1qv3WlZyMyvyQR+RgUC2Tqd2pbDIbTAh3VEbL9rfpNwdz8vOVsGCUOtwn0mhZujbMinFuwmM+ScQQfilq0QO7OaOgcSWndDqn47QgXzyEzqqQs+gdc4oa21EAL0lGyjdZggElpTD+C90wktGmAoOrdnIKzpYjM2wmDhGlp5ZlMHK9KFC61B9MJKTs6gg/6MoYNX0sggFaCDtfowP/Dbkcx+/F6+KqWMvZGII4J5MOHQiUmC3y+hvpfri5T+3yfBl7lphbn6TZONu6bBUlLmFwrsS5ldK2fQAVhWz2ECjbmgM49rXK9Ak9cvYfJgRTrzUwBfwWDKhnyjd32YT4jr5NloOOYxDk4JYDN44rmD6H47klk2O9p86kCYTqldM1PPL774gpPMUbxiCTMzaSti8MJa58kM7FMgGevzItNjvIX60zx51jeG4o8zNDVCexmICxbRwGN+ZafRvxqM+jWrcRNvDZgAgDlM4fbO8ObN9lD4oyLz1WXxbJSwqfa5bjgMJhK7hnmAlbLIBu/g0O6zUroDFntaTdoQMEZgNvB1jrhgdSvboASMldjIr8X8mhdla3zCBHlWVpZkHjiaEAcLcvZ6ML2/6R4rgF3kWbt1OANc8a+ZEMGU/LsbEnmvou7MmhpWUUEX8+uhDHDRypykiL9miNeWRrvaOtO5k8vv2fSE1R+L3QcswIalZ+xXJhfmHbTJE2HehQk7TRj+YC9Ot45QkzfPezd+b/S5M0kGLGYxd3IE4T83pWHbVGhCk6KMVvHXDqTn9gwkhMwbTMesLTZWIokBnsKXLpNE2v1PFOSSaqwwMUjAEQRu375N+IOJNLu3LK0RICwNIoQId2O+Xp4BjjcDfe/xMQ62ysJ5Y7CbTY32Bvc8F7Yk8cLPPaWLd58EX/C4zpyIgNJjnrpYdj4ooT7ACSGp0d78ymp3oaE7u+1upRZ8aKt95Nnd/WAiNC3am/Xr7E64gEXazGABlnmHCrbcgLwnRXkzNXh1f7q/t4L3t0QigxpsvE1CZkua2WDz27yLOOFKaZjATIryhrfMKztTYLYqIcILEualkjHXJmBlLZcRbawPTA6Ano/r5Akm9+KImM+zQSn+zDWOSZphXXpMqMeUfkHl87uyMRTOoPu0NAmcYKXWe7lXKgh7w4DZCeEqu2686QQz0rt2IF2poP5y2WZLINEjNKppTwW/WBTH3stNkgR/wiBIeKBqQJI/23KsZlsyWCskRXmDy3pfLzmL0TwceFduQe4gqLfWJOT2DGS7/ZmHL8FPYDSqblfCixcvOqKBsy6OYn4HpraaIV8zIWJQij8jo4ujro9hpA+MYNNjGhZempep9Y2h+OMMU/QKOTGJAsw12TTg22sToN3bMye6WY2beGvAGXSwBAP6o5kDGtyVsx+mx3j3TfSD9pnZCTfVPkMuYJKcEHdfwQisSQbr/gQnWCEByrQYH/Y4m7Qh4Pi9aGTDBhmguNgD/n4J9U7i6yUHDcaSLd5BmCfGvp+gIK/z1P1HRaavFx3bVcjJgCTq9gXOnNQAthea+LN2bFEsLDoLD1Rld/cDQzy5jAgdasKuH54qWe9uvtAR9E/yYx29+GuGeG2BrlYmc9fG+kAnC91ZoK+i0ZF98c6RM+jgpchkE1OTimfeQZs8EczQrNFOE3xP7JrdhQULo7GDUwLYiH+jzx27Hy4W89ujsnEN9i3sbsvW38HnMDqZFuMD+4lCY+LjKR+arv7pQJr4m5hIYvjivsdUkCWjlS5QkFvXdeNdSMC1CBD+YPqzldoX+wb7ze7UbhFeyV28mcUyhL9zVpcAH4VJG33g6Ri1j0K4/uffz3aPCfXw91bAej/YdGSMLjDQV6FSyhIjvfTjIphnozeKu9VtNibsd1lePtzUY2i62kslC/ZXDkkLYG9m7Aa4+PlgetHIsPBAlUJOYkI9CoeEstlykzvrVm7nZ2lCApRs/qduf+zMWB+h6/Kvd6XW7bkdplYyB++cQQfTRISQGfW+6MxDrts9ZUSGGlwlwbfXyzMSIryElpynVyVEBqmC/ZUsL1/vSs3P0qh95GofxdC0AKHpAWfQvVgUl9GVbs8eGaRaOyHi2oH0gcn+XioZU7niiJaM6uTtIYsJ9ajZRuemzM9lo+keyFP6BZ1cHn9xe7KJSL6wJWlQCo0uyI+mTQjkys6ULiEeQpP1qf2C1D5y4V7xz+ZF+njKmT2bYTFdN66N9Xl1WSNxmaTt1uGMaU8F+3srgvwUbEq8zm7i0o6Ucb0CA3wUgb6KUVo121bN5Ofw5725S7E+d/Dz0mlRfl5y86GiRuOSyIf1AolcvnxZOu1o8ZLCNpwhhw2ToB2GfxVyAoq0aGSYj6eceZRotBCb1RiKP86JkV5sfonFVbGwq9pHwWx2OIPutRXdwtTKjZPo3FSzGjfx1oAz6FaMDff1kg9I8mdWNpCMD0oSR+sCNX60fY4N89SPi4AdMTiDTqR9ZpPkdQNAQ9ONu4uzfAkvrpdnzBwQ4u0hCw1Qbpth3GDJpA15oSBG7SMXWiusHk83bGdO+GCJsr+3Yu0Eo1dni/kVpqGVrlGQg9VDr3jfOv1sfkSHeEBdsvisfbEtZc6gkMgglaeKbrExvX+wybStSilTKqiXEy+VLCrYozg3QuhtQfw1o26JlnhtYV1t5yCP9XmRf1RkTu9PO6C3zdyPQ0US6Rw5g+7wgq5+XnJm3NFU3TPpoE2eCM6gE+k0y2ZHq33kQv+yn5YmpUZ7CxuTRp87k8Qc5vchN9845uL25LqxOZMXs/88n9Qv0c/bg7p2H5oW8EZxtxEZag+lLCvB77cjmeKNVVOJuXYgXSZzN99UxSSd9v0TBTmHBxJohwTkcjpyzKY97dusYGiOIfBHRSYMnDvSEWhrZ+3OsQYfPIQ/wgNVzHLVvrFfL8+YNZDufseO1osLUv5+SSKsVGcxdgpUms8D2DebbR4arLokhHz11VecZI7ionltKMjbvFBcOwHgBZPJbNfOrHnuUJCbM2mNT24dpj4gwtRiFmqtEW8bhumYTvO7PalyGQlTK9l6LgdnuWwW9SIstNlxQAJQkEvm7QATggQcSEClont1CCdAHNDcYBT2JQB+XDxVMrbE2r7ht0loMwdQ16brJkZ+szv1xNL4JaM6efDu95jPOTumqn8S9c+0Pi/y2oH0k8tbNy7YOC1MrQr0VXyyOencxh7HFsXCXIRwBb4dcyedoHJSqVvBOg/233zzjQMbOQtRFS+ejYJcOpXEvikJDVAS4i5cmW/f8CUe2jV+Uzdavdv3GvLWLibwbS709tLaMbZ5+A7rNMFvDrNndHDGYbGeg6esQJAnJXS10HU5ydduTpJOTCYSaGMCnp7UObnQr7iD2zuMznYCYDkGm2bZHpoUQgDfe2FqJVs78P3eNPCjztwa2yud/JYn7uGBKgfEBWm+eZh6uInr5MlsGm9XaIWbwNsra1ILB3wX1e3x/u2337ZxwyeIvviZmSjIpVZVbEzPq8viL2xJgnXp2lgfG0Nz6p8T/kBB3qqFCJucRQV7tGos0gnckZ0mbGrbNcxD6G3XMSjAU6MuztdkQVlrxw6CPEuXKuimnPgSBbkTFx4m3ZEEfH1963YLc+SODq3dlrWr8Acm+ydEeIE7mVeXNe5z1UmBwGyqv7eiZ7xvWoyPUkEIIcPSA1qja4QNwx0TFxQHuGSPDFKN0QUOSQsAJ0A9OnsxJ0BOWmriyR6ZqaalSMgPP/zASeYoXjQNBbl4wTndt+AlhJ8eJyabFTtdXmxMMP/A4Qx5Iz5KbAQr/PmHm6hLP42fQviha187stOEjRKyEvwcabh+akW8Qk48lLL3SxIdXJQoyCXzdoAJQQIOJBAQQI1IX1vRzcEtDkZnFwK750SHBCh9veSbpxh9EdklWCkE8uuhjFXjwqNDPRRyEuirGJTi/0JBTGuocc6g+/VQhn5cRFSwI+ICtjfKM9ZMiOge6eWpkvl7K7K7+22bQXdBlwL51kvDGB3dh4YQcvXqVQc2chaiKp6fh4K89Qq9TUJ+sSiuS4iHl0qmH2d0sdYmyZBCpPwDR3Af8lYti+vlGdGhHv2T/Fs1FkkF7shO89bhjAXDQjV+iis7UxwGYc6gkKQo7zZxeGwU5D3TLHRdTvI1zpA7SUFhMtuaQGAgfUVuakNLh7V9GBESQAIuT2BcLw3hj2vXrrV1y9cQf3HhBBTkLl/32m0G4YkrLi5uqPESuMrKyiKEFOe29+GSdlstMeMiBIyCvFeGBJ5UOyQBBbkdIGIQ7YFAcDB1Li2+I6VIw4FfIQEkgASsJDCxj1GQ//TTT9JpXYsLclGQW1mCeJvTESD8gYLc6QoOE9xuCdQL8kzp9JK2pAQFuS308LftiEBYWBghpPKZ2Hbb9mHGkQAScAyBqf2CCH9cv35dOo1s8dOjUZA7pgJgLI4nAE8cCnLHk8cYkUDLCBgFeW+tdHpJW1KCgtwWevjbdkQgIiKCEOLyGyC3rFnEXyEBJGBHAk/nhBL+uHXrlnQa2eJ5I1CQ27GUMShJEYAnDgW5pAoFE4MERAjUC/Ke0uklbUkJCnJb6OFv2xGBmJgYQsiBp2NEWgf8CgkgASRgO4GikdQehxDyxx9/SKeR3Vw0BgW57YWLIUiTADxxKMilWTqYKiRgTmB4Ot2OJKtPL+n0krakBAW5LfTwt+2IQHJyMiFk1+wu5o0CfoIEkAASsCOBVePCCX/cvXtXOo1s1Z65KMjtWMoYlKQIwBMnVUHeWVKsMDFIQAoEinOp4SoKcum8JGBKkIAjCPTq1YsQsm2Gq22aJYVWFdOABJCAkMCmyZ0JfziiabM6jqpdM1GQC4sJr12JADxxEhXkE7q6EmrMCxKwCwEQ5MUrl1vdiUn6Rpwhl3TxYOKkQ2DgwIGEENfbxdouzSIGggSQgB0J7JzVhRAik8mk0wByHFdVNhUFuR1LGYOSFIHOQR50gzFpbnuW111SrDAxSEAKBIyCXGLPbIt7bRTkLUaHP2xfBEaPph6G1+dFSqEZwjQgASTgwgQOFlCPFQqFQlKNbNX2PBTkLlzr2nnWsroHSFeQT0pp56WD2UcC5gRQkEvqDQETgwQcRCA/P58Qsnp8hHmjgJ8gASSABOxIwLA4lhDi4eHhoNbNumiqSnHbM50dSxmDkhQBKQvyqtLRkmKFiUECUiCAgty6rhvvQgKuRWDOnDmEkBVjw6XQDGEakAAScGECp1bE/+Mf/3jsscfWrl174MCB06dPX7t2rc0b1Kotw3GG3IVrXTvPmqQF+fa8dl46mH0kYE4ABXmbvxVgApBAGxBYvHgxIaRoZCfzRgE/QQJIAAnYkcChwi5//vOf3e49Hn300aioqH79+s2aNevZZ581GAzV1dXffvutw1rDqs05KMjtWMoYlKQISFqQ75opKVaYGCQgBQIoyB3W+2NESEBCBPR6PSFk/tBQKTRDkkpD9br4mq09JJUkTAwScF4CPx9Mu1eJW/7L3d09MjIyOzt71qxZGzdufPnllz/99FO7t55VmwagIHfeeoUpFyeQlUj3NJamU7eqvYXiicdvkUA7JFCQEyrBZ7bFPS86dWsxOvxh+yKwadMmQsjcwSHtsNUzz3LN1h5bp4QMSSTy//eQm5ub/P89ZH4PfoIErCSwarR665QQHNZhuHpH//0B/rCsxUXv+Pvf/96lS5fs7Ozp06evWrXqhRdeOHv27JUrV1rWdldt7EsISY7yZunECxMC5zb1OL06QbLnlmlR+nEREj+3TItqbYAmpQZ/ZiVqJPhyn5WVRQipOrik0TRf2pFiO6st02P046OM54Qu+oYzWj8hWj8hxnhOjNFP7Co4Y/UT68+8OH3DGa/PY2c3fT49R+jCsnsE3XsGZyeZnyHZSY2eodlJ9WdyaHbDGZadbH52yk42O1PCsxs5I7JTGj0js1P4MzUy+56zc3aq+RmVnXrvmRaVndaliTM6O838jMlOi8lONz+7Zqc3ck4ertXPHUrPecME53D9PDhH6OeN0D8N50j90+wcpX+aPwtG6xvOMfoCdo7VF7IzV1/IznH6wnH6+fTcsnLa6cNr6HlkLX+uO31k3emjz9af608fXX+6YgN/lpyuKDldsVFwbjp97Ln6c/PpSnZuOV35/GlDqeDcetpAz3Nv7Oe+e4f7Hs5/c99Xcz9Ucz+8y5/vcT+8l6VLleAz27LuleM4FOQtRoc/bF8EysrKSPs+nnzyyUcfffThhx++//77hSrg/vvv79ChQ/tmg7lvOYEnn3ySVaf777//wQcf7Nix4//93/+1PERX+WVYWBjHcd98881bb721Z8+epUuXjh8/vnfv3p07d5bJZAxayy6eeOKJ8PDwjIyMMWPGLFq0aPv27a+//vrFixc5keMVarKOBxJwYQKbN2/mpHSAIHdh4Jg1JGAjgePHj3MucaAgd4lixEy0PoGPP/7Yz8eLtLOjKRHONMADDzzQzpBgdu1P4NFHH33wwQfvu+8+Vq/c3Nzuu+++Bx98sEOHDo8//rj9o3SGEMeNG8eJHl9//fWZM2d27969ePHiUaNGJSUl+fr6/uUvfxFibMG1QqGIj48fMmTI/PnzN2/e/PLLL3/00Uc3btzgXu4PezU7AzxMIxJoNgF/f/9z585xUjr27dvX7GzY9gN/f/8sFz2K8WgRgYKCAofViM6dOzer/krwmW1x+4GCvMXo8IdIwDUJ1NbWlpeXDxkyRC6XN/o236FDB61Wq9frq6urXROBSa7u/Mbd+Y27fYs/b3K3b3K3b3B/XK8/f+V+/4X7/ef68yfut2v1Zy136yp//sjd+pG79QN38wfu5vfcze/oeeM77sa33I1vuBtf0/P619z1r7jrX3K/wnmF+/UyPX+5xJ8XuV8ucj9/wf1cU39+zv30GffTp8bz2n+4axfqz/Nc7Sf8+TFX+zF39SP+/JC7eo6eP57jfqDmXrzdVzU1A/v+39Qq7Ds4/8V99zY9vz3LffsWPb85w31zmvumynh+/U/u6zfp+dUb3Fev8+dr3Jen6s+T3JVX+fMV7soJ7vLL/PkSd/kl7tKL/Hmcu2TgLhq4i5XcxWPcF3BWcF8cbbSysQ/jIv3zh6aVl0yv/Xcp9+k+7tO93H/21J+7uQu7uAtl/LmTO7+DP7dz57dzn2zjz63cJ6Xcx6Xcx89zH2/hPtrCfbSZP5/jPtrEfbiJ+3Aj92EJd66EO7eBO7feeH7wLPfBOnq+v5Z7fw1/rubeW8W9pzee7xZz767kzxVc9XL+XMZVL+P+vZQ/l3D/LuLeKeLeWcy98wz3r0X150LuXwu4txdwb8/n3i7kzhZyZwu4s08bz7fmcW/NpeeZOSbV0Po/f/31148++uill156/vnnFy5cOHbs2J49e3bu3Fkul//pT39iSJt70eGvfwnw9UzpHjMqJ2vh7Iml6545Uf78+bcNtKZdO19f9/5z7q3jVScO8OfBqldeqD8PVb1Szp+Hq16F80jVq0erTh6tOllBz1MVVaeOVZ2qrDplqDpl2Ff2fPGyRfz5TPEy/ly+uNh4FhUvZ+eS4hVLilcsrT+XFa/gz5XLi1cuN3/5HD58uMPeLBuNqLmvm0SSR1JSUqO5s+OH5mVn5SdVVh/WP1B4JxJAAkigtQmgIG9twhg+EnACAiDC8/Pzg4KCGn1Nl8lkOTk57UiEO0GhuVoSS0tLY2NjG61+Jh8GBQXVDRht3bq1pqbG1Si0fn5qa2s//vjj1157be/evWvXri0oKBgzZkyvXr2io6O9vb0feeQRE9rW/Pnoo49qNJr09PSxY8cuXrx4+/btJ0+ebA3Hcq2PB2NAAkgACSABJOBoAijIHU0c40MCEiFgUYRrNJq8vLzS0lKUPRIpsnaSjJMnTxYUFFgpzuVyuU6nW7VqVXux13BIJfjiiy9Onz594MCBNWvWzJw5c/DgwYmJiX5+fh07drRGnwvvefzxxyMiInr27JmXl7dy5cp9+/adOXPmq6++ckg+MBIkgASQABJAAk5AAAW5ExQSJhEJ2IuARREeGxtbp4VOnjxZW1trr0gxHCTQYgInT56ss8uoWyLRoUMHocxr9Lpjx45xcXGFhYWnTp1qcYz4Q3ECt27d+uyzz9544429e/fq9fpp06YNGDAgPj7e29u7WcvX/+d//kepVMbFxQ0aNGjOnDkbN240GAznzp27fv26eALwWySABJAAEkACLkYABbmLFShmBwk0QuDUqVOFhYWNmqOzBeF105KN/BI/QgKSIVBdXa3X63Nycqz0MR4XF1e3CqO8vBxHlxxWhtevXz9//vzJkyfLysqWL18+adKkvn37du3aVaFQNDqG0uiHHTp0UKvVaWlpY8eOLSoq2rlz5xtvvPHFF184LBcYERJAAkgACSABRxJAQe5I2hgXEnAcgerq6rqpwroJQ/NXXlgQjrbojisMjMneBGpqauoqcE5OjkajMa/h5p8EBQWhOLd3ITQ7vO+//766urqysnLjxo3z5s0bNmxYUlKSv7+/9Zbw//jHP6Kjo/v16zd9+vR169ZVVla+99571AM8HkgACSABJIAEnJYACnKnLTpMOBIwI1BdXb1q1aq6JbXmL7ixsbF5eXmHDh3C2UIzbPiBcxOora2tq9h11dt6cY4+4aRW5Ddv3oSp9R07dixZsmTixIlZWVnR0dEqlerhhx82H2Ex+eSRRx4JDw/X6XTTpk1bvHhxaWnpSy+9dO7cuatXr0otp5geJIAEkAASQAImBFCQmwDBP5GAkxGoqanZunVrncAw36WMLQh3sixhcpGADQSa6xMOxbkNsB30059//vn8+fOnTp3as2ePXq+fOXPmoEGDEhMTAwIC/va3v5mIc5M/H3zwQZVKFRMT07dv39zc3KKioh07dpw6dQqdwDuo8DAaJIAEkAASsEQABbklQvg9EpAeATYTbiLC2YJw9DgtvULDFLUBARDnVvqEk8vlKM7boJDsEeUXX3xRVVV14MCB1atXjx8/Pj09PSAgwBonc4899lhISIhWqx03btzSpUt3795dVVV1+fJleyQKw0ACSAAJIAEkYBUBFORWYcKbkECbE2Ai3MQcHUV4mxcNJsApCIBPuOaKc1zi4RSF21Qif0nxDLsAACAASURBVPzxx3feeefgwYPFxcUTJ07s3bt3ZGTkE088YTKL3uifMpksJiZmwIABc+bM2bBhw/Hjx999993vvvuuqbjwcySABJAAEkACLSOAgrxl3PBXSMARBCyao+NMuCOKAeNwOQLNEufoEM7lyp9m6PPPP3/jjTd27txZVFSUm5ubkZGh0WhMhjsbFepubm7u7u6RkZFarXbs2LELFizYvHmzwWCorq5Gue6SVQUzhQSQABJobQIoyFubMIaPBJpHQESEy2SyPHTM1jyceDcSsECgZeLcQqD4tdMSuHHjxgcffHD8+PH169fPmDGjX79+0dHRf//735sS5+afy+Xy6Ojo7OzsSZMmrVixYvfu3W+++eZXX33ltEgw4UgACSABJNC6BFCQty5fDB0JWEOgtra2vLw8Pz/fZE24m5sbs0ivqamxJii8BwkggRYTaJY4j4uLW7VqFVqptJi20/3w008/PXHixObNm+fOnTtgwIAuXbo0S6g/9NBDarW6Z8+e06dP37hx44kTJ3BzdaerA5hgJIAEkEBrEEBB3hpUMUwkYBWBU6dONbVVuEajKSgoqHNJZVVAeBMSQAL2JsDEufkUqMknHTt2RG9w9sbvTOFduHDh5ZdfLikpmT59eu/evUNDQ//617+aVBKRPxUKRXx8/ODBg+fOnfvcc8+9/PLLn3zyiTPlH9OKBJAAEkACthFAQW4bP/w1EmgmgZqamqa2Cu/QoUNOTk5paSn6kWomVLwdCbQuAeu3UoMF56dOnWrdBGHokifw448/vv3223v37i0qKho+fHhsbOyTTz4pIsvNv3r88cfDw8P79u07a9askpKSl1566fz585LPNyYQCSABJIAEmk0ABXmzkeEPkEALCJw6dapRi3Q3NzeNRpOXl4eT4S2gij9BAo4ncOjQoTpXDhqNxlxBCT/p2LGjTqfbunUrLjZxfBlJNsabN2++//775eXlS5cuHTlyZLdu3ZRKpbDaWHP92GOPaTSa1NTUESNGPP300yUlJceOHfvggw8km2tMGBJAAkgACYgTQEEuzge/RQItJwDu2XQ6XaOee7VabWlpKb6st5wv/hIJtCmBmpqaukc4JyenQ4cO4joqKCiosLAQV5u3aXFJOvIrV65UVVXt2rWrqKhozJgxqampvr6+Dz74oHi9Mv+WEJKYmJibm7tq1arjx49//vnnks42Jg4JIAEkgAR4AijIsSIgATsTAKP0uldw87clMEo/dOiQnaPE4JAAEmhTArDgPDY21vypF34il8vz8/PRoL1Ny8qZIv/666+rqqrKysoWLVo0fPjwhIQEmUwmrFEWr//0pz+FhIT0799/4cKFhw4dev/9969fv+5MCDCtSAAJIIF2QAAFeTsoZMyiQwhUV1c3ZZQO25Xh/JhDygEjQQJtSaC2tvbQoUN1ziDEhRP4gSsvL2/LtGLcTkvgk08+qaioWL16dX5+fkpKiqenp0VlLrzh8ccfj4yM7N+//7x587Zt2/bPf/7z2rVrTgsDE44EkAAScHoCKMidvggxA21LoKampikdrtFo9Ho9GqW3bQFh7EigrQjAtLn4anNQ5jha11Zl5ErxfvLJJ8eOHYPV6XFxcY899phQhFu8fuSRRzp37jxkyJBly5ZVVlaiubsr1Q3MCxJAAhIngIJc4gWEyZMogdra2lWrVjVql446XKJlhslCAm1EoLa2trS0VKvViogiuVxeWFiI43dtVESuGe3Vq1dff/31kpKS/Pz8xMREhUIhUgPNv3r44YejoqLGjx+/adOms2fPuiYjzBUSQAJIQAIEUJBLoBAwCU5FoLq6esiQIebvLmiX7lTFiIlFAm1AgBm0i/iBi4uLwz0X2qBs2k2Un3322YkTJ0pKSqZMmRIbG9usLdO7dOkyffr0I0eO/PLLL+0GGGYUCSABJNDqBFCQtzpijMBlCJw8eTIuLs5EioOfNrQ4dZlSxowgAccQgKXmTSlzuVy+detWx6QEY2nnBC5cuLBv374ZM2akpaVZP4seERExd+5c9FDYzisPZh8JIAG7EEBBbheMGIiLE6itrdXpdCZSPDY2trS0tLa21sUzj9lDAkig1QiIW7MHBQXhYF+rsceAGydw48aNt99+e8uWLRMnToyJibE4hf7ggw+mpKSsXr36yy+/bDxE/BQJIAEkgARECaAgF8WDXyIBjlu1apXJRuI5OTm41BOrBhJAAnYkUFNTo9frG/XNXlhYaMeIMCgk0FwCV65cOXny5KZNmyZOnKhWq03GpoV/hoeHL1my5MqVK82NAu9HAkgACbRnAijI23PpY94tEzBZLo5S3DIyvAMJIAEbCJSWlpo7Zg8KCkJjHBug4k/tSeC7777btWtX//79//a3vwnVuPB68ODBFy5csGesGBYSQAJIwHUJoCB33bLFnNlMQKjGNRoNzorbTBQDQAJIwCoCJ0+eNJktj4uLs+qXeBMScCCBt956a/78+VFRUUI1zq6zs7M/+eQTByYHo0ICSAAJOCUBFOROWWyYaAcQEKrxgoICB8SIUSABJIAEGIHa2tq8vDymbdzc3IYMGcK+xQskICkCv/zyS3l5ubDfZFV34MCB169fl1RqMTFIAAkgAUkRQEEuqeLAxEiFQE1NDXuZKC0tlUqyMB1IAAm0MwLV1dVCT+zo462dlb/zZffHH38sKip64oknWB/q5uaWkJDgfDnBFCMBJIAEHEUABbmjSGM8TkUgJycHXiZQjTtVuWFikYALEhBq8pycHBfMIWbJ5QjcuHFj0aJFDz30EJPlqampLpdLzBASQAJIwD4EUJDbhyOG4koE2PQ4vvu6UrFiXpCA8xI4efIkEzbOmwtMeXsj8PHHHz/22GOs6paVlbU3AphfJIAEkIA1BFCQW0MJ72lfBPR6PbxAnDx5sn3lHHOLBJCAVAnExsZiuyTVwsF0NUngo48+YvuGPvXUU03eh18gASSABNoxARTk7bjwMetNECgoKHBzc9NoNE18jx8jASSABBxNgE2S40Cho9FjfLYRmDZtGowl/eUvf7EtJPw1EkACSMA1CaAgd81yxVzZQkCr1bq5ucXGxtoSCP4WCSABJGBfAjhDbl+eGJpjCFRWVkLV/dOf/uSYGDEWJIAEkIBzEUBB7lzlhal1BAEU5I6gjHEgASTQTAIoyJsJDG+XBAG2Fxr6dZNEeWAikAASkB4BFOTSKxNMUVsTAJN1nCFv63LA+JEAEmggcOjQIRTkDTjwykkInD17Fuqtm5vb6dOnnSTVmEwkgASQgEMJoCB3KG6MzCkIlJaWurm5dezYkaW2hj/Yn3iBBJAAEnAMgZycnI4dO9bU1MTFxaEgdwxzjKUFBKqrq2tqakx+eO7cuf/93/+FetujRw+Tb/FPJIAEkAASAAIoyLEmIAFTArW1tSYvvh06dBDqc9Mf4N9IAAkggdYh0KFDBzc3t+eee45NM5rLntaJGUNFAtYSqK6uNhnF5jju7NmzjzzyCNRbd3f3y5cvWxsc3ocEkAASaGcEUJC3swLH7FpHAJaRx8XFwe3wTozvwdbBw7uQABKwD4GamhrQM0FBQXAhk8nsEzSGggTsRKC2tlYul7u5ueXk5ECQd+7cWbJkyQMPPACV9oknnvj888/tFBsGgwSQABJwQQIoyF2wUDFLthMAq/U6X+uwwxDsAIy7DdkOFkNAAkjAegJsqzMQNkLNU1BQcOjQIeuDwjuRQCsRgPHrDh061NbWchx35cqVqKgoVmOVSuXFixdbKWoMFgkgASTgGgRQkLtGOWIu7EaATYPDrDhMkoMg1+v1dosGA0ICSAAJWCIADiaZtoEhwpqaGpgwR8eTlvjh961OgFVR6B83bdoEXSdU2oiIiKtXr7Z6IjACJIAEkICTE0BB7uQFiMm3KwEwEA0KCqob6WfvGaWlpXBdUFBg19gwMCSABJCAGAHWCoG8kclk1dXVHTt2hD/RZkeMHX7X+gSYBYdGo7l8+XJMTIxw8KhXr16//fZb66cCY0ACSAAJOD0BFOROX4SYATsSqK2thdF9nU7Hrjt27Lh48WI3NzetVmvHuDAoJIAEkIA4gZycHFA4sEZ36tSpTI3XDRSK/xa/RQKtSqC2thZqY4cOHebPn//QQw8J1fjSpUtbNXYMHAkgASTgSgRQkLtSaWJe7ECgurqaafIZM2bAG0Z0dLSbm1tQUJAdIsAgkAASQAJWEGCCB1qhJ554gqlx5j3LimDwFiTQKgRg6bibm5tCoRBK8SeeeGL9+vWFhYXo46BVuGOgSAAJuCIBFOSuWKqYJ9sIME1OCPnzn/8sfNWwLWD8NRJAAkjAWgJ5eXnQ+IAOZzOQqMatJYj3tRqBQ4cOCXtGdv2Xv/yFXaOPg1bDjwEjASTgagRQkLtaiWJ+7EKgurpao9GwFws3N7f777+fOV23SxQYCBJAAkigKQKwsTNrgv7rv/4LrlGNN0UMP3ckgb///e+scppfdOjQIScnp7q62pFJwriQABJAAs5LAAW585Ydprx1CdTW1ppocjc3N3S03rrQMXQk4EAC586dOy3VIzU11c3NLTg4WKh25s6d60A8GBUSaJzAggULhNWSXYMOR0v1xqnhp0gACSCBpgmgIG+aDX6DBDiOOVWCd44uXbogFSSABEwINKVq9+/frxc9Jk+enG31ERUVRdrNAQ3O//zP/zC18+ijjzo+91YXjuUbJ0+eLFoXLH+5f//+pmqa+OeXLl0yqbH4p5DApUuXxAHSb//5+ul/njr95snTb7wC9mKCmvmILiN5at4Y/dICei55Wr9knr5orr5ojn7xbP3imfrFM/TPTNc/M02/aKp+0RT9wsn6hZP0C/P1C/L0Cybq50/Qzx+vnz9OX5irLxyrLxijLxitf3qU/umR+qdH6OcN188bpp87VD93iH5Ojn7OYP2cQVsWjzi9e9bpXTNOl00/XTb1dNmU0zsnnd6Rf3r7xNPbJ5zbn8/9awH3diF39mnurbncLdx3TVjaeI0EkIAUCTiZID9z5oyXlxfBAwk4kIBwV1U3NzcHxoxRIQFKoGfPnpzEjuTkZBcom6SkpCypHg888MCTTz75wAMPgOzp1KkTpNQFsEstC8ePH5fU41VVVSU1RCbpYQso3NzcHn/8cZNvpfbnvrItHB5IAAkgAWkTcDJBvmnTJoIHEnA4gb/+9a///d//DW/GTz75pMPjxwjbOwFOYocEyyMgIMDyLK1T3REQEHDfffe5ubk9/PDDEgTuMkkqLi6W1ONVXFwsfbZ/efj/c3Nziwp0z0rwc8BpC5Cs3rhfqaQqOCYGCSCBRgg4mSBfv349IaRXr17FuRESPJeN7lQ0stMzIzotHBZWOCS0YEjo3EEhsweGzBwQMu2p4Cl9g/KzNHlZQeN7a3J7Bo7RBY7MVA9PVw9NU+ekBgxM9u+f5N8v0T8rwa93N9+ecb7aWN/0GJ/UaJ/kKO/ESK+ECM/4cK/YMM/oEI+oYI9IjaqTWhmmVgX7KwN9FWofhZ+X3MdT7qmUETxah8D9999/3333tU7Y7T1UT6XM20Pm5yUP8FYE+iqC/JShAbSGR2hUUcEe0SGeXUM94zp5JkR4JUZ6JUV5p0b7pEV7Z3b10cX59or3zUrw69vdr3+S/4Ak/8EpAUPSAoalB4zIUI/WBo7VBY7rpZnYR5OfFTS5b9DUfsEz+ofMGhAyZ1DI0zmhBTmhC4aGLRoeVjSy09JRnZaPCS/OjdCPi1gzIfLZvM7r8yM3Tu68eWrU89O6bJ3RZfvMLmWzo3fPid47L+ZAQdcXCruWz+96dFFsxaJYw+K4l5bEn1gW/+ry+NdWdnujOKFqlR3Ofdtpi0cI4SR28Iki3A/vcT+8V3V8R5VhO39uqzJsrTKU7tuytHjhFHoumFy8YBJ/5hcvyC+en5el7ZGlTczKFJ7dszLZmdC5UxAEjv8Cgccee8zuKJKivG0XUcPT1fbqhY8XxdnleYFALu1I4Qw6a87i3AhCiDQFOU3VmTnW5KJN7tk5LXRRjm+bRG19pFWrEgghKMg5PJAAEpA8AScT5GvXriWELFtaZH2LjHcKCdw6or1xOPN6eeavhzJ+fiHjp4Pp1w6m1x5Iv7o//cf96T/sS/tub9q3e+j59e60r3alflmWenlnyqUdKRe3p3yxPaVmW8rn25I/LU3+z/PJF55PuvB88idbkj7enPTRc0nnNvX4YGOP90sS3yvp8e6GxOr1ie88m/ivdd3fXtf97Nrub63pfmZN99Or7SBR7Pje1n6COr064cwaWgpn19IS+de67u88m/jv9YnvbqDl9T5fcOc29fhwU4+PnqMFen5L8gW+iD8tTf5sa/Ln25JrtqVc5KvBpR0pl3emfFmW+tWu1K93p32zm9aW7/amfb837Yd9aVf30+p07WDGtYPpP7+Q8cuhjF8PZVwvz7x5JPPWEa2wKuK1NQSqDNsIf0itKzGmyjrZY01Obb/n0o4UF3uirx1Mtx0LhiBCQOqC/PVckcTjVxYJGAV5r0yptZ+YHiSABJCACQEnE+QrV66s2xp6xTIU5FYN/1vsrvAGJIAEpEzgpT16wh937941abvb9k9IlZTRYdqQgEUCk7KDJT1D/kqOxSzgDSIEQJBHRYa3bWuJsSMBJIAELBJwMkG+dOlSQoh+5VKRJhi/QgJIAAm4BoHK7c8Q/rhz547F1txhN5w7dw5S5RqQMRftlkBW9wBJC/Ljfdpt0dgl4yDIJbjkx2FtNUaEBJCAsxBwMkH+zDP09XStfpldGmsMBAkgASQgZQIVW+YR/pBUj8K8QEsZHaYNCVgkkJWolq4gX7ncYvrxBnECKMgl1XFgYpAAEhAh4GSCvLCwkBCyfjUKcjRZRwJIwPUJHN04jfCHSCPu+K+YID+3qYf4CzF+iwSkTCArUUMImTRpkuMfIpEYwct68bJnpIzOKdKGglykmuFXSAAJSIqAkwnyuXPnEkI2PVvsFJ0BJhIJIAEkYAuByo0TCX/cvn1bOj0HE+RVqxJsyR3+Fgm0LYGsHtSlf1ZWlnQeLo7jsrKy6Lz9ksK2heMCsTNBfu3aNUkVMSYGCSABJGBCwMkE+cyZMwkhz5egIHf9uUEXeBvALCABGwm8tGFUXYtHCEFBbiNJ/DkSMCdQMDJeuoJ88WzzBOMnzSLABHlVVRWHBxJAAkhAwgScTJBPmTKFEFK6YUWzGmW8GQkgASTgjAReWTeA8AcKcmcsPkyzxAkU5ydJV5AvmiZxetJPHgpyCasPTBoSQAL3EHAyQZ6Xl0cI2VqyUvo9AaYQCSABJGAjgdfWUeNVnCG3ESP+HAk0SqB4Uop0BXnhhEbTjB9aTwAF+T3v+/gHEkACEibgZII8NzeXELKtBJ26ock6EkACrk/gzPpMwh84Q279WzjeiQSsJFA8OV26gnzeCCtzgbc1RQAFuYTVByYNCSCBewg4mSAfNYquqNy+YUlT7S9+jgSQABJwGQLvb0wm/CGpfcjRqZvLVLB2npHiqVrpCvLZOe28dGzPPgrye9738Q8kgAQkTMDJBPmwYcMIITtKltreUmMISAAJIAGJE/h8qxQF+ebNmwl/oJd1idcfTJ44geJpPaUryGc+JZ54/NYiARTkElYfmDQkgATuIeBkgnzw4MGEkJ0liy02xHgDEkACSMDZCXy7O5Xwh6RmyGGfZEIICnJnr2DtPP2SFuTT+7Tz0rE9+yjI73nfxz+QABKQMAEnE+T9+/cnhJRtWGR7S40hIAEkgAQkTuDGYeMackl1IijIJV5tMHlWEiie3ke6M+RTtVbmAm9rigAT5MXFxZJqQjExSAAJIAETAk4pyHeVoCB3fXdWTXWx+DkSaFcECH+YNNxt+ycK8nZVA104s5sX5khXkE9KcWHyjskaCvK27SkwdiSABKwn4GSCvF+/foSQ3RufcUxrjrEgASSABNqWgEwmI4Rcv37d+ma9te9EQd62VQJjtxeBql0zpSvI87rbK5vtNhwU5K3dF2D4SAAJ2IuAkwny7OxsQsiekgXttoPBjCMBJNCuCBD++OGHH+zV6NseDgrydlUDXTizVXvmSleQT+jqwuQdkzUU5La39hgCEkACjiHgZIK8Tx+64mtvSaFjWnOMxRkJjOsV2DXM484xqxbgnV6VEOCjOFgQ44w5tUua102MDPBRhAQo5wwKuXYg3S5hYiB2JED449KlS47pEqyJBQW5xfLNzw6KCvb47UimxTvb8IbaA+m6ON+ECM/bFVa1liZJtVced8+JVvsonp8WZRK+A/6UtCDP7ewAArZE4YDe08Y6hoLcmvYc70ECSEAKBJxTkG90VkH+yrI4f29F0cgw815war8gf2/Ff55PMv+qxZ/8uC8t2F85RhfY4hCc7ofXyzMIcVcpZVYK8mfzIgkhC4c1UiK2533VuPCoYI9ds7vYHlQrhXB+S1Kdl0RPlSw2zJMQsmZCRCtFJAy2LtLnp3U20QD2ZXXrcMa6iZEJEZ6eKlmYWrluYuTdypZIDmGy2+qa8Mf58+el0GFAGtpKkL+yLC42zDM61OPClma3k2+vTRiZqfbzknupZHGdPGcNDG5BIFbWgVtHMmUyd0LIjfIMK3/S1G32fS5MYhmtCySEPJ0TavK5NX/aMY+Xd6REBqlkMvd/6rtZE7Ud76naWyjdGfJcm1rjdzckjsxUa/wUnipZVoLfG8XNZvvTwfSNkzr3TfQL8lMoFUTjp8jtGXhpR8PK9lbtPTmDzvY6hoJcOr0GpgQJIAFxAk4myHv16kXXkD87x45dsiODWj0+ghDSqEKOD6eK6MWiODum59NSKreC/ZV2DFPiQUGWI4NUVqZz1bhwQsiSUZ2svL9Zty0cFkYImdBH06xfWX/zayu6qX0U75ckWv8Tkzu3TI2C7P9+NLN0WtT3e9NMbmiNP3NSAwgh5zb2EAZuR1a/HcnsFe9LCH2DzIz1USoIIeTZvEhhdE50TVNPyLvvvstJ5nC8IP/pYPrYnlQ9wvHqsnjrS/CPisyp/YIIITKZe/dIL12cb5AfrRMqpaxiUaz14Vh/55dlKTDOZf1PmrrTjs+FSRTHF8cRQrSxPlaOXZr83I555Ay66vWJhLg73qagav8ilxTkry6LV8jps9I90qtnvK+cuqFwL5vVjKHhSztSwgNV8LhFBqmyu/t1DvIghIQGKL/YZtTkrdp7cgad7XUMBTmHBxJAAk5CwMkEuU6nI4TsWjPD5OXAWf5cOZbKv0YVWo/OXoSQl5bYU5DfOkL3TEqL8XEWPran84OSREJIUpS3lUHpx9EhktXjbZqLaCquPyoyv92d2tS3tn8+e2CIjXWmcEgoIcTBFvsgyD967h5BbkdWe+ZEE0LG99aAwfD7JYmeKpnaR+Gkk+SEP6qqqqTTpzhekK/nLVkSIrz8vamWPr0qwfrHZ84g+phEBXuwoau7ldqKRbGeKpmHUvZ+yT310PpgRe78YhsV5Bo/hcg9Vn5lx+fCJEYYtHptRbMnTiEcO+YRAhyU4k8IKZ/v0IXTVQeXuKQgT432rpPgW6YaVwG8tyFRJnP3Usl+PWSVycbdSm1yFxpC726+720wDvjeOabNz6YDWxPrh5hbtffkDDrb69i+eTHQfuK2Z9LpPjAlSAAJNErAyQR5ZiZVmM4ryJeM6kQImdw3yOTdiDPodHF0Tu9luwpyzqBT+yhGadXm0bnqJxd4G+ze3XytzOAKfohk4ySpr9Yzz861A+nhgdTO8+tdLdf8054KJoQYFrfKPKF5mjmD7sKWJI2fQiEnPx9srfXqBfwog9DYpGsYndv5qdVibDSn9vqQEGr8fOLEiUZb8Db50PGC/Or+9LfWJNyt1EJRMpFgETI/Qucul5FPNptaue/mB276JfpZDKS5N1zcngxDAM39ocPuv7o/XSZzD1MrWzxKZfc8Hiyg2mlsT4cusKp6YSUhJDk5uU2eo6YizcrKIoQU22Cy3iWEtnjCNhZGsj7fmmxNHXtpCbWe6BzkceteJwh/VGRunR7FFta1du9pex0rzqUD7hQm7kPeVG3Dz5EAEpAGAScT5Onp6VSQr55iTaciwXvA/nDmgBDztMF8xSvLGmbIPyhJHJFBFz36eyt6d/M9sdRopXl5R4rGT8F665uHM5O7eK8cG87CzO0Z2C3CC/4clOK/bqLRWPfWkcylozqlRnt7qmQaP8XMASGNLnE8ujBW7SOP6+RZvT7xi20pfRP9PFWyqGCP/U/HXN2fvnBYWHSoh6dKNiDJ/9s9Rgvns2u7q30U22Y0eOW5XaF9qod/WrT370fvcWv0yrK4AB/F0HT1j/vSZg4IVvvIfTzl+dlBvx7KWDqqU6dApb+3YvbAkFuH7xnIbwoF5PHb3alT+wUF+SnUPjQoQojJS/bHz/Xon+Sv9lGEqVVT+wV9VdagYItG0iESYcoZRnbx72e790v08/aQBfoqnurhnxjp5eslDw9UwSroC1uSJvbRBPsrPVWy1GhvoRHsqRXxfl5y/Tg6/X5kQdcgP0XXMI/PSpNvHcmcOzgk2F+p8aMOBYTvxKdXJWhjfaCApvYLGpwSEOCjiA7xqL3X3ZphcSy8YJH6o3ukscTf3ZA4NC3Al682WQl+TRn37pjZBZRefQDEz0t+7UD6ayu6BfgoEiK8PtzUMHNYOi1K46eAOW2WkQtbkqpWJejifL09ZJ2DPE4sbai6nEH3w960mQNCQgKUXipZeoz3Md42+KUlcWBAziLN7m6UQ0JWQL6pjFhMQOk0aofPnrITS+MJIeyJYMXqLBfAqqKigpPM4XhBzgorKpgqDeuXfy8YRm1AGjVKunNMG+hL59u/20MbBIv1iqWh0YsrO1PysoKgkZnCW8izRxLuv7IzZUb/4NAApZ+XPC3GZ/ecaPj83Q2JPp5y4ZKKX15IT4z0ykkN4Aw68+fih71pM/oHhwQo1T7yZyzRrQAAIABJREFUYekBn5U2SKwvtqVM6KPR+Cm8VLJBKf7nm15pf2RB17ohqknZpkPDTSWSZUE8j6yp7BSoLM6NmJRNm+VOgUpQhiLtMGfQfbsnjRASEuDQBVZVh1fB8yWZZ4smxHZBfrAgZr1gkc7baxMIIUoFuXn4nu640ZrMGXT5WRprRgQa7T1FOusBSf5pMT7CV4Kh6eqe8feMnlt8jppKc6OfoyCXVMXGxCABJCBCwMkEeVoa7bPL9PmNNr7S/xAshMf31vzygnF68G6l9uZhaticHkMtxE4uN6rui9tTfDzpIrDoUA9trA+sB4N3uHMbewinX44tiq3bCs7HUw79HAwqhwc2soh65gA6Har2kfeK99XwqyjzzV7IOIPuhYKYPgl0uj46xCM61EMuI+kx3n5ecpnMHcbdIzQqsGfrVd+VwutdoK+CDai/zA+xB/kpTBYofvRcD5WSLmgLCVBCyCAs4d/YMM9OgUpCyKyBwaw0RVBwBt2vhzJiQuk7ekyoB6SKEDIgyZ/9/PyWJD5w97Ro7+6RdF1AmFrFFkvDbOq+eU16WX9vAzV4VillveJ9YVlBXQgVi2LBIfm3e9Lq/AMTQjoFKnvF+0LW9j9tDG3dROoxbkQGtVA4WBADYy5T+wWBzXZqtDeUAtPwF7YkeapksNI1IYL6FFDIyaAU/1FatYmp4RvF3QanBHiqZIS4D04JGNszEFzHQQiEkK5hHhldfXjPUu4vNOZD/t0NicMz1KEBlHbvbr45qQFzBoXcOaY9vKArRC2sG+N60eW7kE6WERjZUfsoeOMOd5nMnQmAq/vToaqEBlAskIzv96b9+9nuQ9IC5DLqRm5oWsDUfkFsjYaQFUyk87lrJCMWE3DrcMb6vEiYRP2yLCXAh3okemtNM4ycWeWRwgXhj4MHD4q04w7+qg0FeZiarmsVepYSL6O0GJ+6ha9HFzZuA9I/iZpJgzGFxXolEtGVnSkh/KMUHeIBjQwsz2Y/+XpXarA/fdbC1EptrA+MhUEVPbWCDhh1DfNgN+tz6cqm0bwzTpPn4sd9aTAkEaZWQURqH/l13nXcl2UpsDY+TK2CZcMqpexf6xrfyxrM+LdObxhC5Qw6kURyBp3FPEJTKZeRtGjvjK4Uu0JOBib7j9YF3ijPEG+HIe9QuN+05jIfBhkuqo48C8+Xg58g8ehsF+TCbN4oz0iKom8XIzOttZUDH58W/cCZ957inXUmrflEuEjEi+/CmES3WMeE+bLmGgW5eE3Db5EAEpAOAScT5KmpqU4tyJ8ZQb18iRxMkE/iZ3qZcfsbxd3qTAO8VLKr+9N/P5oJWh1U5Yz+VGYTQqr4dZVg+CdUU6zfSoigchTeZf+oyJzYR8PWmLF72AUMELAFxpAAmHz+/Wjm3UotuHiB0G4dyYR3QbYCEGaqG/Xfu2i4EcIBXrj+a113SH9OagAMT0QF01EA9lomgoIz6GBx6WhdIMwzr51ATdSEglwX5+uhlL1T/2IKjmGZO3Ggd3hBkwsXgcOZ1UY5B4sO2M/hjWRoWgAsV4bJWD8v4yvypsmdCSHDeUEOYJOivHn/OgSmL15ZRi0D2TxVVoIfIYS9BllcIg4GBazIOINuDO82mQ1nwLAIS4/wTrgemkb9q7HcwYdQIsJJRXiREr7cwxtemFr14z5qJQHYC4YY3TWDJfyQtAAYoHl5SdyUfkHsrUullEWHNMgPiNSElcWMiCeA5RQqT5vsqMTSYOMFPB379u3jJHMwQb65fpGqjXm0/ucB/PiX9a4ZwtRUBps4LGDRgaM44T4IVtYrFgJcTOcb4dkDQ6AVgrW1wqk/GAwd31sDT0H5fDpBDc/Lr4cyYOwJJurvVmojNHTQAdoBk+cCnqyRmerfjtBGeM6gkE6BShjezcuixkFjewZCW3RyOdX5jXYEnEH3VA86EnF27T1yXSSRnEFnMY/QVL5Z7817Kb8+i1noiLfDgHFgMk2VSXNkgtq+f7q8IL9doR2ZqSaEyGXk43vddoiQ9PWikwEW7VDMe0/xzhoet+r1xkXptw5nmLhasFjHRNLc6FcoyCXTaWBCkAASsEDAyQR5cjJdm1e2cnyjja/0P4Q1V9GhHkPSAgYm+8OZkxowMlMNEyxgsn7nmNaP7xEvbm/YYiSFd7Ly+krqgwd0FEzsRAap4H0OdlObN5iaaFY+08iMEKjHCI1Knxv+aanpikoTevB6l9LF6B2t9gBdLFA37cN6U36ep6HPhqwNTaNmlpxBB3MdjS71BO++YWoVM9WGm8GqmTPoQIieWkGNBSyigFlr5rL7n3o6cpGVYDSE/ukgTba/twJQD0jyh7X6TAPDwEGjuOreQW/QTdTo3DuD89YaavsHCx3vVmqh1IQL82CNK2hX3iz8HkEOVKNDPSDvsOvYwGQ6nw9xRQU3xHV6FY1rfO8mnbT7eckjNA2mELcOG9/s2VgGZ9AJ08NywS7gDfjfz97zXv4mP/oze2DDwgqojWyFAmfQQUaYAv9wE7XaGJRCM3K7QsvPe5AvyxpqL4vxzjFtnSVIbJgn+wQuhKysyYhIAljI18spkDC10sRMg93gFBfw3O3atYuTzMEEOVs44zCS0NaZrOAQiR0EeVPSAhrSUsEO2NbUK/PoOgUqZTL3q/uNdk/QSmTGGr1p3jmmhSHU81uS7hzT3iinFhx1m6JN72+0A4JkgAUKPPWsiRA+F+zJMncbcbfSGMWVnfShu3k4c/uMLoTQCWrz1HIGHTSbwl7AYiLF82jefJ1ZTZuvQn6QzmI7DImc2IdaSh9ffM/il0bTb68Pqyo2wvMlmWeLJsReM+R3jmnH96ZIm7vNBDxlrK9virZJ72mxswZLKzYu8OM+avDo7SFj4YvXMXab9RcoyGl9wgMJIAFnIOBkgjwlhXqvLVuZa32LLKk7wRZx2lMN9tgseeBjFix4r/Hq10PZ0FHV2RPCnrEgwrfNoKtki0aGgRCaPTDEx1PeozNdRZwQ4eWpkjW6OPyPisyCIaFsEe/43hqYk2FpEF7AYPaqccal6d/vpX2n2kfO7oFXOvZq+PWuVLmMeChlv7yQDp7V4sNNRRf89sUiOi3cP6nBl1Ia7xKW9dNr+FnuioV01locBe9G3j3Ap8GbMbwKs3EE2DeF0IN6xoJD46dgvoUn8K+ATfnSq/NhI5fdox4r+AUCsHEdLHoUxl5naw1GsDC7deBp6qZIOEMOE1xL6ndZ++g5qmOHpdNRDIgrWiD+YRqNjXEw8uxCIb/H0hUy6+/dQIMz6KBeNbXBLwhykxevE0tpAS0abtybHVzdEkLq6g+LGjLCTP2FGfl6FzVj8fVqqCrsV3AB+xuZfChkZU1GRBLAQub3UnK0mygWu70uoNLu2LGDk8zRVoL8dgUdzamb+IUFI9YQhuex0X0E7hzTglx/WzBRLFKvfj6YPm9wqHAsNbdnIJgsyWTuQQKf6rBkN7HercPV/cbRTEg8/KuQE2Zysncu3RcAnFeDMTlrIoTPhciTBe2kMHy4NjFKZ8Sg9RYaGognsm5bRPE8QvMlHB/cL2j9LLbDkLC5g6k/fEf6mNy3mXpZr7NW4KR0FBQUWLOEm5Vmoxd3K7Xgy0A49NPoneYfwmj7pskWfJ2a9J7inTVn0MH9zL3ixe30dY71LBbrmHk6LX6CglxK9RrTggSQgBgBJxPksIZ85/KxFhtiad4ACwKZuylhImFdMZuq5ade3dlSc86ggxXIoFov7aA9Wa943/lD6Xz4G8XdQD/D3OaQ+mlqYfggbn87kll7IL1sdjS8kEUFG6dqTe7kDLph6dSYmaUHNLYursH/SjTvx1Wo/IdnUNO4Fwpinue9aulzG/zMCcMHTSu0pczuTk212e6mYKW5d67R6ZEICngDEG60Du+vbMOh349meqpkIo6CYMy+KUHOGXRgRr5latSN8oxPNicBNxCitw5neChlclmDp5y7lVpY4QmTwxULqWEq6G0gABZ9zAH4O7y5/rheRsfCENfsgSE/HUz/+LkecZ3oMvKmXqk5g44Qd6GAv11BDSuE6eEMOlhDy9gKC4Iz6Aan0FI2WV8NLnaZJIDZvDq7AOEMOWSE+SAUZuQ6NStwJ8Rd+LovjNfXS24u14WsrMmISAJYXK+toOYS84caDenZ5851Qfhj69atYg25Y79rK0H+6yFqsVLnpA0WSlhTjrCEJybUw1zDl82ic8gx9eYqEJpIvfqsNJntzAzJCA9UfVqa9DNvhiMcmAO/HgH1O+39fjRTpaRbrOlzw8f1ChyWHjC9fzAz7YaW2UMp8/aQ/XQwHcyFPigxmvUKnwv+yaJji+YDqXcrtWofuUopmzkgeHiGemhawMwBIcxBgzko6E2ES/HFE2kxj6ypXDa60/XyjLfWJAArsNuy2A5DCmG7eLZmxzzZdv+keNE0KEpOSgc8X8yMq2W5hncDwi+Jaq6J0MZJdLFVeKDK/Kn5tDSJ+e807z1FOmtmV8VqPnhPYF4VraljzUWBglxK9RrTggSQgBgBJxPk4GV9+9IRzW2XJXI/9HNsG09hqmCukvnfgvdCtj82iNjIIBWbpUyI8FQq6Fa3dW7Jfz+aCauXQQ1un9FFGDJc3zqc4esl75foBw7M7xzTguMWoeYX/grE4dtrjWunz66lK72Fk73wviV8NQQhp4vz7Z9EBTab8RYGyxl0u2bT9+C5gxssomFBI1vnWTabzhctrZ9GFkcBS9lhOv2rstTIILr8Uhg7jCwwq9QzqxP6J/mxtQAwH/X8tCanAt4voT6QIUz4d1wv43p1ZrbAZhKem0LfY5h/JjDOF1qNggBmUwSgY5/qYTQrNY9rcEoA+HI3YQh/qn3kCjn5Ya/R132dp2IYl9mQb/SrD8MTcZ082eoAk3BG8GMosA6CfQVlDb7ovt+bBm72qGXKbOMQCVPyzNbdJCMDeF9ZQ9PV4G7qlxfSt06PYvaxsEzXxIrYhJXFjADJphIAefntSGbZ7OimxgVYfiV+AbVuy5YtnGSOthLkYONa5/CMGeaAF4n0GO+mxOfvRzNhT+a0GJ/LO4xrKH4/Sndv8uC9SzIXjFANrKlX5hUmmvcrCa7jfjuS2S+RNoBCJ50wWMlcbHAGnXBLKs6gA20DU5rCEUaT5wKa1uEZahgJrVt/XjY7GlppMLZnHiL/qMh8dVl8U807GMkLd1LgDDrxRFrMo3nz1SfBF1oANsLbVDsMSMEKTOj0yxy1fT8pfmYmlBQnpQOeL7bwqgVZ3jqd2tDB3Hijanx9XqTIU/MzHRiizhdSuniz3ooz6F4sioPlS9DpmPee4p01uBVYOIzaXv16KAM8/9VZrbMdByzWseaiYIK8qqpKSiWMaUECSAAJmBJwMkGekUFnSLYuHtLcdlki98PUscmmXJC23t2oY/OyWUYtfWVnCkyVJER4wepxL5VM6O0G3GgRQvKy6NY1tyu09cLJXTjvwTJ+t1ILluFhatVTPfzjw+nsKzPtZrexC1h7zIJ6mxfkwk1ie8bTBCdFeTMhfeeYFhyeE+IeGdSwtpmFCRdgt180shP7HJy6M8Pp90uoIbevlxx8rYmjgBkwhZzaC4ArmiG8o7IIjQrs0j8ooW7S6zwYpUZ78yTdhcaizO3ZoBR/tr0qSxhcgNqM0KimPRX8YlGcUNx+WpoEXqZS6124KxWE6VuYoWVLSTmDrhvvV4/5eL92IF2poO522KZHVfy68ZhQjyn9gsrnd2XjLyZJgj9hCV94oKpXvC/dM/ZwRs22ZPDcnhTlDT7nfb3kDKx5IGCgy3bUgxuYi77MWB+1Dx2MWJ8XqVLK/L0bTP0hIyxkk4ywZKh95H0SfMGFfskk4zDB8jHUiXR4oGpAkj/bjcyEFQuhqYyIJwAy8taahNyegY2aK5ujkOwnhD82btxo2ni33d+OF+RrJkQMSvEHUxpCiC6O7gsA6g5coKXHGL1dmJfjl2Up4JBcLiMZXX16xRsrpMZPAX4lhT+xpl4J74drWF0ik7lrY31gpBLCCfRVgIOJC1uS+HE995Qu3n0SfMHjutCnGiyvgLKeOaBhTVNTz0Wgr6JPgi+oo6n9aBfAGrr0GO++iX4QRVPu5Rfz2z2aOLMUT6TFPHIGHbjwaLT5YslrtB0GjLzb0XvswsxR2/cTlxTkf1RkQleokFP/pkJvNWwvNItPTc22ZLZfQLcIr76Jfmywe84g42C6ee8p3llf2Un3vCCEZMb6wOsN2ER0DvIAmxdr6lizKgAK8rbrJTBmJIAEmkfAyQS5VkvXED6/KKdZjbJ0bn5nXfe6Jb7MFZYwYYVDQj1VMqZwYBOa/CyN2keu9lEMTQtgRozwq2sH0lO6eIcHqthM4/HFcb5echED3Z8Ppk/uGxSmVslk7j6e8lFauhm4MA3C6xEZauZYiDPorpdnJER4gYceuO30qoTIIFWwv1KYZpDHhJAZ9f6KhGHC9QsFMWofuXBGa/X4CLWPnDlqgsVv/t6KtRPoDt4WUby8JC6lC91cvUdnr6MLY29XaEdp1f7eCuYc6MNNPYamq71UsmB/5ZC0AGGCOYNuyahO3h6ymFCPmm0NO/oKk21YTDeW08b6vLos/uL2ZKEghw26BqX4e6lkQX60mJg7d9goqEuIh9BkfbQuMEKjYpvDcQbds3mRPp5y5lZg2Wi6L/qUfkEnl8df3J5iEpcwVTDJMKVfkBdvk79stHGA49KOlHG9AgN8FIG+ilFaNduKzOS38OfhBV39vORsSIXd896GxMxYHw+lLK6TJ8y5HV7QNdhfyRaWT+0XpPaRC3d0N8nI17vo5vChAXR79vhwzxVjw8H5M2fQ3TqcMe2pYH9vRZCfgk3mX9mZYsJKPCMWE8AZdKXTovy85MznPMudc13UtXh0TGT9ek4yBxPkDvOyDn7+eRLGfxRyAsK1aGSYj6dcaL5hXr6/HaFT4lkJVKaq+Fq9cmy4yRw1/MqaemUePkweZnT18VTJOgd5rM+L/KMic3p/WsnZAvXzW5LG6AIDfRUqpSwx0ks/LgKMlVhoK8aG+3rJByT5C+2E4bmAPcnhzi/LUib3DQrhn6yECK+ikWFsGvyDksTRukCNH40iNsxTPy6CbW3AYoGLw/w+5Oa7YIgn8sWiOPE83tt8mTaV4u3wtQPpMpm7+f4LJim375/Fi2dDfZLMs0UTYuMM+d1Kba94X9jOw/i01P8XHeIBVcKap+aPisw9c6Kzu/up+Z0jQwOUA5P9mQkGFIR57/n1rlSR95b/PJ/UM97XU0UfAQhq1bjwAB8FW8ZlsY41qwKgIJdUxcbEIAEkIELAyQS5TqcjzizIm9WXOOPNdyu1MI7OxLAz5kKY5uvlGbMGGjeWq6t7MLVr8lIivN+W6/dLEmGNOkQE25ubzGLZEj7+1hkJQGVYu3YtJ5mDCXLYatEZqbbzNH+3h/rgDFMrRVbENBfRnWMNXsSg0oYHqqxvKmFJv9A6oLkJaMH9xUXzIKmSebZoQmwU5C3g4Ko/QUEuqYqNiUECSECEgJMJ8l69ehFCNs8f4Kr9h7PnC/yceapkbOmgs+cIFm2uz4u8diD95PL4JaM6efD+mYTe7OySR97nsyrQV/HJ5qRzG3scWxQLkw8qpUw4Y2aXuDAQJyJA+EOv14u04w7+CgW5E9WfppIKjh7A+0ZT9zTr85kDqI/0dRMjv9mdemJps5tKWJklXJbVrNhbdnPxkkJ4vhz8BIlHV7xyuXDzzpZlDX/FGXQoyMVrGn6LBJCAdAg4mSDv3bs3IWTT032xs5EagQtbkm4ezgTrbpGduqSWbPH0gMPw8EAVMy79fm8aeM5rym+5eIAi3948TLdYi+vkyUy7b1doTTZ7F/k5fuWSBO5WGjf6QkHukuXbhpmCLTm6hnk0arrf3ITBDpRhamXLmkpw5KmL8xVfpNPcVFm8v3jpQsIf0nknozPky55BQW6x7Ky5AQW5pCo2JgYJIAERAk4myPv06UMIKZmXbU1bjPc4jMDdSm3dmu3IIJWad9ny6rJ4h0Xd2hHBPt7+3oqe8b5pMT6wi/uw9IDWeHEE1+KRQaoxusAhaQHgnq1HZ69G3eS2dsYxfCkQYIJ8zZo1Iu24g7/CGXIp1A3b0zC+twaEn10M12HnzhY0ladWxCvkxEMpe79+szfbs2ZlCCB9pbYPOczb2+Jl3crsu/xtKMgd3DVgdEgACbSYgJMJ8uzsbELIhjm9XL4jcboM7prdJSbUw89LvnlKlNMlXiTBvx7K0I+LiAr2UMhJoK9iUIr/CwUxraHGOYPuRnnGmgkR3SO9PFXUpXl2d79tM+j+5yLJw69cmwAT5NJ06oZryJ26+t06nLFgWKjGT3Flp3FDOFuy8+uhjFXjwqNDm91UzhkUkhTlLfQ5b0symvXb4hVLCH+0+BWqNX4Ivt9RkDerKBu9GQV5a9RPDBMJIIHWIOBkgvypp56iDodnUc/beCIBJIAEXJsAE+TS3PYMBblrVz+Xz51EBfn8PDRZt0vdQ0HeGrIBw0QCSKA1CDilIF87PdMujTUGggSQABKQMgEmyLds2dIaHUDLwqyqqiL8gYJcypUH02aRALhPk5zJekEuCnKLZWfNDSjIW9bC46+QABJwPAEnE+T9+/cnhKyemmpNW4z3IAEkgAScmgAT5FtLNzu+e2gqRhTkTl2pMPGMAPOG0FRVb5PPi+eNQEHOysiWCybI26QcMVIkgASQgPUEnEyQDxo0iBCyanKSLW00/hYJIAEk4BQE7hwzelnfuXWT9c16a9+JgtwpKg8m0gKB430kKshn56Agt1B21i1aREHe2n0Bho8EkIC9CDiZIB8+fDghRD8JBTkuoUcCSMD1CTBBvnvrens1+raHg4LcLmoBA2ljAi/3l6ggn0l95aBTN9urBwpy21t7DAEJIAHHEHAyQT527FhCyMq8BNtbagwBCSABJCBxAkyQ798moW3PUJBLvNpg8qwiIFlBPp1u74qC3KpCFJ0qR0HuGCGBsSABJGA7AScT5BMnTiSErJgQZ3tLjSEgASSABCROgAnyw9tX2t7c2ysEFOQSrzaYPKsIvJIDM+T+/v72ejTsEk7xVLpQBQW5VYWIgtwudQ4DQQJIoK0JOJkgnzJlCiFk+XgU5K5vrGt7Z4whIAFnJ8AE+YndS9u6s2iIHwW5s9crTD8lcHIkCPKsrKyGyi2Bq+JJKSjI7VJFcYZcAtUZk4AEkIBVBJxMkM+aNYsQsnRstF0aawwECSABJCBlAkyQ/3N/kVUtukNuQkEu5TqDabOWwOu5EhXkE+NRkFtbiFbMkHcO8XVIu4iRIAEkgARaTsDJBHlBQQEhpGh0Z7s01hgIEkACSEDKBG5XGL2sV5c/0/Jm3t6/REEu5TqDabOWwJv5EhXkuZ1RkFtbiFYI8qykMHs3gRgeEkACSMDOBJxMkC9atIgQsngUCnI0WUcCSMD1CTBBfv7YfDu3/bYFR/jj3KYednlvxkCQQBsQkKYgv/MbGFrjGnLbq4SRJApy21p7/DUSQAIOIOBkgnzZsmWEkEUjUZC7vhSxvTPGEJCAsxNggvzy8XkO6A+sjeLOb4Q/nB0vpr9dE6iaJsUZ8ltXUZDbq1rWC/JQa1s2vA8JIAEk0EYEnEyQ6/V6QsjCcancmdn8OYs7w5+nZ3L0nGE8q6ZzVdPqz6lc1VTun1Pqz8ncm5Pqz3zuzXzuzTzujYmCcwL3+vj6cxz3+jju9VzuNTjHcq+NoeepMdyp0fw5ijvFnydHcidH8Odw7uRw7tXh3KvD+HMo9yp/vjKEeyXHeJ4YzNFzUP05kHt5QP3Zn3u5P/fSU/zZj3sJzr7ci9n1Zxb3Ypa9uqvWCOfU0v+/vTMBb6M4/7+e5qFPr+ex+3ueP+WhzUi+7yO2EyeOr8RxfFtyEonccuKENAmJ7RyQw4mc+94NVwjUwYE0hAKpAwTscpkzgVJqDnMVqEuAAm1BgUJLuebv3ZHX65XlSLGlXWm/87xPspJXO+98Zkba787MO7nOuyv8cWVcEwT0RkAS5J88tFql34jBsv32v0RMwnfsM6uFr9OnVorfmcvE78Yrxe/ABcLX3SPzhG+2h2YKX19DTi4Ngb923zL17LVFQWTnjpWFAPaLL8KzG5kgdzgcg7Vyld775gtu4wJhynpFPn3jNvpGK339VvpaC33tFvrqzbT7MO0+RF+5gb58PX35WvoST1/k6IsHaNc++uc99M+76Qu76J+20z9to89vpc830z9ups9tos81CfdL7B6J9dln2I1QPX2K3fAso08sdd3SdC4Sb2BY/51PHxHvT4R7kuDrxS5BPjVDpbpEtiAAAiDgLYEgE+SHDh0ihFgsFg5p+AQO7OOY7d/L9dsebr/cdnP7mO3i9sltJ7evz/bu4PbuWN1w1disjB//+EcGg6GkePKOLRu5vdu5vdsE2yPZVm6P3LZwe0TbvYXb3TzQHNzuPtu1mRtgm7hdzJq4XaLtbOIE2yizDdxOme1Yz/XbOm6HZNdw25ldzW2XbC23fS23bS23bY3MVnPbRNu6inNZI7eVWQO3VbQtDdyWepmt5LaI1ryC67eruGZmy7nm5ZyD2TLOIdlSzrGU27yU2/xrmS3hNi/hNl/JbZJsMbeJ2SJuk2hNi7imOpkt5JpE27iA67dabiMzO7fRvmD6pP8L+1n+2ITVdZXchvmizeM2zOPWz+PWz+2zOdx6ZrO5dZLN4tYxm8mtE+2amdw1V8jMxl0j2tVWrt9mcFdLNp1by2wat1ayGm5tDbfGIjMzt0Zmq83c6uo+q+JW99mqSk6wCpmVc6vKuUZmZVwjs1Kusc8aSjiXTeUaJCvm6iWbwtUzK+LqRVtZxK2c3GeTuJXMCrkVzAq4FZLlcyvyuauY5XFXMcvlruqz5RM5l+VwyyWbwC3LVtiBpeOImAS5q6XEvOK9SM3NzTZlstqsVpt1hmgvjfHvAAAgAElEQVTTbdZpthnTbDNqRLPYplts08226dWCTasSrdI2rdJWU2GrKRetzFZTlpyUwHzAv6FBwDYlccRtUVUKvzzbo6212Gw2QgjHcVRLiT0msNlsg3avwTqUsoMF+rWrL8+wWae7TOjRUqeusc2Q+rW5v3crOvi0Stu0Clk3L7fVCD3dZilltmrpXH5bo2BbG/it9fzWlfyWFfyWqwRrXs43L+Obl/KOpbzj17xjCb/5Sn7zlbYqMTxedZGWqhe+gAAIgMAgBIJMkB8/fpwgaYnA5ZdfHh4ePmrUKMPANGrUKC25CV8GIRAWFiZV2iWXXBIeHn755ZcPch7eUptAXFwc1VhSG4nW8y8pKbEKaYZ1xnTRpllnTLNOrxHNYp1usU43W6dVi1ZlnVZlrakUrcJaU2G1lFstZaKVWs2lVnOJaFOt5mJrdbG1eopoRdaqImvVZNEmWSsLRSuwVhZYK/JFy7NW5Fkrcq3lE0XLsZbnWMsmiDbeWjbeWpo9ITNR6xwD4p/WBHlLS0tAyq2XTLQ1A4IigQAIgMAgBIJMkH/22Wc33XTT8MeGcYVhEtixY8esWbOSk5MlRac4GDt27DCzwMf9SiA5OTk/P3/mzJljx4790Y+EeQ0s/fKXv7RYLE1NTX7NHRf3icATTzwxyJe3qm91dHS4F6GxsVFUoRf4JykpiSCBgN8IlBRk9j93KMu2lmZbS8eJNtZaIphrcs3GBawNnz9/nmopnT9/vqWlxb1/1dXVXaBriX8O4f6VlJR0QQKNjY0KdOfOndNS9cIXEAABEBiEQJAJ8kFKgLcCS+DUqVO1tbXh4eF9Cm7A/2azubW11el0BtYp5OYbgZ6eHqnawsPDa8Vkt9vlY+aFhYVHjx5FVfpGFmePHIHu7u4zPibFjbiXL73UORdUAvITglEUeaN25GW84LGX/NlpLS0tXtY29NXIdbL+K50/f95L/iN4Wnd3d78HOAIBEAABHROAINdx5ftS9K6uroaGBuhwX5hp+tyurq76+nqj0Sgpc4PBYLFYCgsL09LSFG9CmWu6LuEcCIAACIAACIAACIBA0BKAIA/aqguI4z09PQcPHjSZTHKFxo7DwsLsdntbWxsGUQNSFf7KpKuri+d5hQg3icldrh89etRffuC6IAACIAACIAACIAACIKA/AhDk+qtzL0rsdDqPHj1aWFjorsONRmN9fX1nZ6cXl8EpwUSgp6entbXVbDbLJ667NwA2xf3UqVPBVDb4CgIgAAIgAAIgAAIgAAKaJABBrslqUc8ptkTcXYalpaXxPN/V1aWea8g5cAR6Jz64T2hXtAoo88DVB3ICARAAARAAARAAARAIUQIQ5CFasT4Wy9MScQRp8xFkqJ3e09PT+yDGbDYr1Lj8pclkamhowMOaUKt7lAcEQAAEQAAEQAAEQMD/BCDI/c9Ywzk4nU73JeLS4nANOw7XAk3A6XS2tbXZ7XbFwnKFMm9ubu7p6Qm0c8gPBEAABEAABEAABEAABIKTAAR5cNbb8LxmS8QtFotcTbHF4RjnHB5aXXy6t5E4HA5FHDh5W0pPT0dgdl00BRQSBEAABEAABEAABEBgeAQgyIfHL6g+3dPTc/ToUYUOZ4vDMaoZVDWpFWedTmdra6tiA3O5MrdYLAjMrpXagh8gAAIgAAIgAAIgAALaIwBBrr06GWmP2NZl6enpcqUEHT7SmPV+vc7OTk9x4Fj4N0Tm13sTQflBAARAAARAAARAAATcCECQuyEJlTcG1eFhYWH19fWYlx4qlazFcrA4cINOaO/d0B6LzLVYZ/AJBEAABEAABEAABEBAJQIQ5CqB91u2LE6bYjzcYDAUFBS0trb6LVtcGASUBNiE9kE3NsdUdiUsvAYBEAABEAABEAABENAlAQjyEKn2QeO0GQwGo9HocDiwRDxEqjloi8EitIeFhcnXTbCp7JivEbS1CsdBAARAAARAAARAAASGSwCCfLgEVf/8qVOnFHHamOYxm81tbW2quwcHQEBOoK2tzX2peXp6+sGDB51Op/xMHIMACIAACIAACIAACIBAyBOAIA/WKu7q6qqtrQ0PD5cPOWJIPFirU39+d3V1uSvz2tpaDJjrry2gxCAAAiAAAiAAAiCgXwIQ5EFW9z09Pc3Nzb3BsRQ6HKvEg6wi4W4fAXdlzgbMsc6ijxD+BwEQAAEQAAEQAAEQCFkCEORBU7WepqaHhYXZ7Xaol6CpSDjqgUBXV5diS/PCwsKjR49iKrsHYHgbBEAABEAABEAABEAg6AlAkGu9Cp1Op6chcaPRyPM85IrWqxD++UigtbW1oKBAPgcEU9l9RIjTQQAEQAAEQAAEQAAEgoMABLl264mtEpfLEum4oKAAAdu0W3PwbCQI9PT0KAbM09PTMWA+EmhxDRAAARAAARAAARAAAa0QgCDXSk3I/ejs7CwsLJTkt/zAbDZ3dnbKT8YxCIQwgd4JIA6Hw2g0Sr2gN5Bhc3Mz1miEcKWjaCAAAiAAAiAAAiCgHwIQ5Nqq6yGkOBaKa6uq4E1gCbS2tqalpUmy3GAw1NbWQpYHthKQGwiAAAiAAAiAAAiAwAgTgCAfYaAXfTmn09nQ0MD0RlhYmFx4QIpfNFV8MMQIdHZ2KpaXNzc3I4xCiNUyigMCIAACIAACIAAC+iEAQa6Juu7q6pJ2FC8oKJB2NSsoKMC2zJqoITihJQIKWR4eHo5uoqX6gS8gAAIgAAIgAAIgAALeEoAg95aU/85ra2tjarygoMBisbCxcaPRiLXi/mOOK4cAgc7OTvna8tbW1hAoFIoAAiAAAiAAAiAAAiCgKwIQ5CpXd2dnJ1Pgdru9traWHdfX12MWrsoVg+yDgQAL+Sat74AmD4ZKg48gAAIgAAIgAAIgAAL9BCDI+1kE/sjpdLLZ6ZIaDwsLw35mga8I5BjUBLq6uqShcswrCeqqhPMgAAIgAAIgAAIgoDcCEORq1rjdbjcYDGlpaTzPGwyGsLAwLIVVsz6Qd9AScDqdLAZ7eHg4ZpcEbTXCcRAAARAAARAAARDQHQEIctWq3Ol0sqXjnZ2d7ABj46pVBjIOfgJOp5ONkzscjuAvDUoAAiAAAiAAAiAAAiCgCwIQ5KpVc2trq8Fg6I2jbjabDQaD3W5XzRVkDAIhQYD1qd7ehP3JQ6I+UQgQAAEQAAEQAAEQCH0CEOSq1bHD4TAYDPX19SwkFebZqlYTyDiECEhhEUOoTCgKCIAACIAACIAACIBAyBKAIFetatnAeEFBgcFgMJvNqvmBjEEghAiwDhUeHh5CZUJRQAAEQAAEQAAEQAAEQpYABLlqVSsph964blg9rlo1IOPQIsC6FWath1atojQgAAIgAAIgAAIgELIEIMhVq1oWYp3NsMVeTapVAzIOLQKSIEefCq2KRWlAAARAAARAAARAIDQJQJCrVq9sDTkT5IhBpVo1IOMgJ9DT01NYWCjJb5PJxPoUZp0EecXCfRAAARAAARAAARDQBQEIctWqubOzkymH3tBuiOimWjUg4yAnwB5ssa3OnE6n1KckiR7k5YP7IAACIAACIAACIAACoUwAglzN2mXbJvdufsbEQ09PT0NDQ1dXl5o+IW8QCCoCckEubXsm9amgKgqcBQEQAAEQAAEQAAEQ0B0BCHI1q1za86y1tbXXD7m0UNMt5A0CwUNA3mvYzgXSlPXCwkIsBgmemoSnIAACIAACIAACIKBHAhDkatZ6T08PEw92u73XDyYt6uvr1fQJeYNAUBGQBLl8vnpcXBzrWexRV1AVCM6CAAiAAAiAAAiAAAjoiAAEuQqV7XQ6LRYLkwpsTI9tm8ykRUFBgQo+IUsQCE4CkiBnB9Ia8t6dz9hzruAsFrwGARAAARAAARAAARDQBQEIchWquaurSxq+k0K7tbW1sRnsEOQqVAmyDFoCTIfb7XYpvjrrXOhHQVulcBwEQAAEQAAEQAAEdEQAglydypZG81pbW9nOyXa7nR1ASKhTJcg1OAmwriTNUWdqPC0tDTsXBGd9wmsQAAEQAAEQAAEQ0BcBCHLV6luarH7nnXcyFZGdnd0bHRqCXLUqQcZBSIAJ8p/97GesExkMhp/85CeI5RaENQmXQQAEQAAEQAAEQECPBCDIVat1p9MZFhZmMBjCw8MnTpxoMBh+8YtfQJCrVh/IODgJSJNNJEGOjQODsybhNQiAAAiAAAiAAAjokQAEuZq1Li0gJ4RIcgIj5GpWCfIONgIKQT5r1qxgKwH8BQEQAAEQAAEQAAEQ0C8BCHKV616SEz/96U+ZJocgV7lKkH1QEWChEFnfueSSS4LKdzgLAiAAAiAAAiAAAiCgdwIQ5Oq3ABbLTRohX7Bggfo+wQMQCBICNTU1Ut9xOBxB4jXcBAEQAAEQAAEQAAEQAAGBgN8F+blz5856kY4cOcJ7l2zDTkRj6Ve/+tWoUaMkUfHDH/5wZB0sLS0dNrP+C6xatcq7ihpw1t133+1FKxhwyvnz54UWqsP0zRf0k1foJ93002766av009cEc75OnW8Idv5Nev4vffYW/ext0d6hn/+Vft4j2t/ov98V7Rz94j3R3qdffCDYlx/QL/9+9vEHRHvw7OPtgj3RfvaJjrNP/OHsk384++RDLnvq4bOCPSLao2efYvbY2ac7zz79uGDPPH72mSf+0H6a5/b324A6D9CLn//851Lf2blzp3uuA1qV3150d3frsKmiyCAAAiAAAiAAAiAAAsMkMJQg7+jokN/drlq1ql+WDTzKyckhSMMgcNlll11yySVMV4waNWoYV9LdR3NycgY2xsFfLVq0SN6Y2fGRI0eoxlJ3dze/cx2/PFuyVVek26YkDmHJcRG6q3VZgS+99NIf/OAHBoPhxz/+seztoDzMyUq2lefYKnJsFRMHs1xbhcLybJUKy29eaeU32vkmO99U22cL+CbRNi3kmck6g36ffFEkEAABEAABEAABEFCfwFCCnAR/GnRwWHYvOgKHR44cGZFRt4ceeogtI7/ssstG5ILSRS44+2DRokWDq9jB3g2xhy9nzpxRvxfKPKirqwv+bhfoEki7FQQ645DIj1tbQ5FAAARAAARAAARAAARUInBhQc4ty3a3usoUa1GidUrSQEu2TnG3FOuUlCR9D+IR79Kll146atSosLAw707HWS4CVnOp1TKolVktLqubN4Pbfo1gO0Tbu33ChAmEEK0JcqvVSghptKW7dzov3zlzsGiY1rGr0Mu8VD+NfRGV50QnRvw/c36c8KWkV6urTPG1OqxFiYQQx7JKigQCIAACIAACIAACIKASgQsLctpuUcvOHSsbprRoWZPj602qr+c77JnBrgEc9kxfS+3l+Xdtyru4GvR7k+u5j0nflpYWlbre4Nkyr84cLPI7AfX6NYqmEQLcsmxCiLV84uBtEe+CAAiAAAiAAAiAAAj4n4CmBblGblvhRggS6BPkHMf5v5f5kANbEQBBHoJNTntPQFyCvCLfhwaKU0EABEAABEAABEAABEaUAAS5auP/kBxqEnjnHjYWrTVBTsQEQa5m29CecvYTDZcgrywc0d8UXAwEQAAEQAAEQAAEQMAHAhDkEOS6JPDWCQhyP8k8XDZYCLgEeXWRD78YOBUEQAAEQAAEQAAEQGBECXgU5GfOnCFiCpabS/gJAj4Q6BPkDodjRDvUcC/GOh1GyH2oSt0MaI84E5cgN08dbqvF50EABEAABEAABEAABC6WAAS5LseHoWH6BLnVar3YvuOXzxExQZCPuPjEBd0JMEGek53ll6aMi4IACIAACIAACIAACHhBAIIcglyXBN64jU1Z15Qg7+7uJmKCIHdXj3hnxAkwQd6785kXvxQ4BQRAAARAAARAAARAwC8EIMh1KUcxQv5aiwYFubROBIJ8xMUnLuhOAILcLz+quCgIgAAIgAAIgAAI+EIAghyCXJcEIMjxUEb3BCDIffmtxLkgAAIgAAIgAAIg4BcCEOS6lKO6lyL0tRaHw0EI0dSUdYyQu4/i4h3/EYAg98uPKi4KAiAAAiAAAiAAAr4QgCCHINclge5DHMdBkPtP7OHK2icAQe7LbyXOBQEQAAEQAAEQAAG/EIAg16UcxQj5y9dqUJB3dHQQMWENufbVbAh4CEHulx9VXBQEQAAEQAAEQAAEfCEAQQ5BrksCmhTk7BkBIQSCPATkrvaLAEHuy28lzgUBEAABEAABEAABvxCAINelHMUIOQQ52oDuCUCQ++VHFRcFARAAARAAARAAAV8IQJBDkOuSQNc+DU5Zxwi59keVQ8lDCHJffitxLgiAAAiAAAiAAAj4hQAEuS7lqO7HBukLOyHIQ0lboiwXQQCC3C8/qrgoCIAACIAACIAACPhCAIIcglyXBCDI8VBG9wQgyH35rcS5IAACIAACIAACIOAXAp4F+TNPEjFdxMBL8H7k7MGi5PiIk468QBbBeU+lpTChKDvm29NmP+WrSrm8L8uJjbkp8RG3rs3x/iPDPfP5ZoyQD5ehF4L2uhXZyfERqQkR16/I/v5BV/Pml41LiotIT4w4VD+e+aBK+1T0O0dt5rjUqH//vjIAWGi75d6t+cnxEae3FwyaXWB6BAS5X35UcVEQAAEQAAEQAAEQ8IWAZ0H+1GNETIPeL/rpzUf3FhZkxeRmRv/lSImvWTx/fdHi6pTEWFNslLFwbMz6uWMu4iI31o8nhGxbmCXlfnD5uJwx0XdsmCi9M+IHSyyphJDN9swRv7J0QfdySX9yP3jzSMmtaycong74lcN7x8rGp0cZjaOf4Se7++OXd57dqE9B/uJNxYurU9ISI2KijNaixKe4iwHuZV97/TdTCSEJsaaxqZGEkBMbc2m75ZXDxYSQpLiIrJQoQsjvxYdf7u3Tr+2NtShFv5s2KYEQ8sfrp1xce3ujZZBeM8SlVs5II4RIjyQUZwamR0CQ+/JbiXNBAARAAARAAARAwC8EPArylpuvJ2JS3Cn66eVnJyuX1gi6lKXH9k7yPqNvTlevmZlOCDEaR08ZH2spTEhPjCCEREUaPQ1Aebr4weXjCCG7rxwrnbBtYRYhZMWMNOmdkT3o2FlICDEXxH/3gL+Gx2m7xb1cQ5TCXp5MCOm+ear8HH9z6DpUTMjonDHR/7uvWp6vv451Kcgf2zspwiT0sCnjY2smJZiMhJDRx9f78LDJp77WsjqHELJ3ydgP7yhPiDXxy8bRdsvhRuGZF79s3AfHy+JjTDeKg+Tu7dPf7c29380vE5r9/dsGH7K+YDucWZzo3muG+BT7ympZ7XFWSAB6BAQ5RQIBEAABEAABEAABtQl4FOTcnm1ETEPcU47gnw6JQ9NF2bFJcYKWPnuwyPuLb5yXQQjJGRP98uFi9qnvHzSf3l4QE2WMjjS+fHiAsBz6svzybELItVdlS6d9c7r64xPl0ssRP2Djck/sv5iBSu+dcS/XEJ9lgvy13wzg5m8OtN0yryyJEHJqS/4Qvo3Yn7QtyLtvGQB/pEpdnhvXK8GPrHGJwJduKjYaR8dGGb9oq/IyC5/6WnNtJiGELQD5+ET5V/cKuWyaL7zJavnjE+Xs+Yt7+/R3e3Pvd4024aHeRc+FuUIU5N7PymEkj60b6mmIv3sEBLnav7/IHwRAAARAAARAAASoZ0G+u5mIycs79WGe9undlc9dV/T9g+b8rGhCyEs3uaT1BS8rzoAdbTKSN1qUs9xPbMwlhMwsTrzgRaQT9i8VRshvbpwgvePXg0/vrjQaR2elRErLa/2Unffl+suRkrTEiAgT+fxkgBbTSkU+6cgjhCytSZXe8ePBmbVanrLup4JPzBA6l7xm2fOvvx4t9SZHX/va2lljCCGP7Bkw24XpXsVjF+/bpzd+XvCcQftd03zhud7t1wylkIe4clF2DCHkn7+rGOIc+Z8c4tOK3zUJ0/g9mb97BAQ5bgFAAARAAARAAARAQHUCngX5rk1ETJ5uFv30fs4YQTN4P9C0daEw4DbolPLvHjCnJgjj7f+4Uxjivm9rfnpiRH6WsED9zMEiS2FCXLRxQnr0I3sKpbLsWjyWEHLbNf3zSB/fPykx1sQvF8bMpSu801r61X3VTfMzxiRFpiVG7FqcJVfUr/9m6uySpJR4YZXsmpnpfz/ucYD9vq35hJBGW7rkwJtHSsYkRU6blPBFWxW3LDsl3jQhPbpjp8vDv91WtmJGWlpiRGyUcV5Z0psDV9qfdOSZC+LjY4SPNNrS3ztWJl3WvVzSn+QHD+0ujBSA9SfbFNfjDDmH+7cVpMSb8rOiX7yp+N3byxZWJsfHmDKTI+/cmPv6b6YuqEhOiDWNS426Z7MyNt7Q/n98ZwUhJCM5Uu6Sv46fbtChID/pyJMvWn7++qJeCRoZQf57r1fLBLzva23NeTFRwoT4oVNyfAQLoubePuXt7eHdhYmxpivNKR+dKF8xIy01QVgAv9meqVjdMJx+R9stWxYI3yQ3rBzfaEvvjeyYEm/aXpf19f0uMt+eNl97VfbUCbExUcZxqVEb5mZ8fKdLe//ekZcYK64E6CttXVWK1G7/9buKdXMyMpIjY6OMlXlxD/RFcdteJ6yFOenIe/Gm4umThe+iRVUpX54aMFXB3z0CgpwigQAIgAAIgAAIgIDaBDQnyFmop3MyMSnd2g56UJEXP8TKz9klwizoP+wSBO1JRx6bp1qeGxcTZUyJj7AUJhAy2mgcLSlbNmx116Z+JXnDSmHJ6yLxDlu6wpqZ6Wxed3luXJq4Xl1arP7mkRJx1HF0RW7clPGxhJCslChP42Zs2urRq/v1/yuHi/MyhUcSk7OFW/+qfKF0bJD/g+NlbG18VkoUWwAcFWn80w2uGFSntwnaPj7GNH1yAptlMDY18pO7XJrBvVyDwvzzjVNqK5JNRhITZVxQkbxmZvpDu13PAuQcfu/Im1EkRMDKz4rOSolKiusnGRdtNBpHV+TFx0UbCRn9+P7+0dGh/Wf+sNr/yJ9rBFwF16Ugl1f6f05VleQIM9gXV/erR/kJ7sfe97UnD0yeW5qUkSzEcqvIjZtbmiTZmCTxzbz4OSVJm+ZnsidZ7u1T3t5eOVzM5L3Y10ZX5cezTrdjUX/wxWH2O9puYavWIyNIdKTRUpiQEi9o7Ktnj2EcxBXdJCXeZC1KzBUnGkxIj2ZzDZ67rmh2ibCAPDbKuKAypcGW/nBfr/n07ko2KyEzWXjKZjSOJmQ0+zbYc6Xw7G/vkrHs6dW4VCHE3daFysiOfu0REORq//4ifxAAARAAARAAARAYYsr6zg1ETO735X59JzleGKL1ftl2Vopwf69Y8Cx5yALFydeFMhGSlRLFxOr1K4RF445a133wNbOFSbb3bu1fxnzLqgmEEPmQV0lOnBgNyxUh+dG9QlQ2aZTbUpgQHWl8oU8ns/DR163oX5Qu+UbbLbOmCs8LFIGd//U7YaBYWnx739b818Xl3PVWYY3r0ppUNjDYuW8SIaShb3T9oxPld27MPX+Pa545W77LLXPl614uuRuK46hIY25GtOJNdw6VeYKcS02IeP+3wlD8jkXCiB8h5LdikLA/Xj+FEDJ9coJ0naH9Z6fNLRWAPHutDxEEpOv7dtAnyDmOo5pJbNC+t0H6VhbPc549Xefb0+bF1SmEEJORsNbl6Uz5+772tQUVQpi0Jw8MiI/A1kUrqti9fSraG4sxQQhhD8v+frw8NsqYFBchzUwZfr9j4/8p8RHvtAoT+J33VGalRBqNo6X5/K/eMvWrvoiD7FHa4UbXtm1f319NCCnKjpHjou0WNmm/tiKZffDh3YWrZ6azUfcD4uqYmCjj2NRI5z2V3TcLEeknjVNewa89AoJcM10fjoAACIAACIAACOiXgOcR8h3riJgUt5j+fsmGwpx9wvKC2TGR4GmKO5MErbINrpkslBT4q7cI98HzypJYRg1iYKcHd/RHWj62bqJCkLMr5GZGMzHQu0kYIWRuqXCFz05Wsi2d2HjgnJIkcRC+X64rijN1gjCE/nbrgNXvH50oZ0qJBcFiH/n+QXN8jDBkx9Tvf++tvv0awTGWLzvnvWNl3LLspTWpTfMz2KLcK82uwU/3cik8kV5+94CZEFKQpRQG7hwarMK+TU3zM9hn2fznmCijNP85IzkyJsrI/uqN/7TdwvaCkqboS16N/MGTy5j61aEg/+4B81XThbojhLAg517i9bWvsbjl0nAxy4UNJiuiGLq3T0V7e158vhMfY5KmqbPZLqw7jEi/Y1PW1891DYnTdgubVX7DSpfqfoqbvH7umEVVKZvtmSwKXYPVtfnC52LHL5sYJyf57WlzrDhv/4Pj/YtHpBOYIO+tg1vXChEr2GO48twBV/B3j4Agp0ggAAIgAAIgAAIgoDYBz4J8+1oiJukOMgAH354W1GDvwK800nvBTNmkdBbJWXHydw+YmYR4Xra3MBuzkialvyZulbywMpl9doW4ObBcQtyzWYg0Jh8hZ1eQtkaTX+GD42XMf0JG9x2QtMQIhfyQ/GSCXDEdgF0kNSFCOo22W87fI0h99yRNd29rzmM7WsnPWdYXIE1Rrs9PVm6an1lbkSxNJF5Wk/rp3a7Rdbb9mDx32m5x58AeTBzf4IpK9d4xoexyJc9ierPt3C7oP8uOBdZq39n/QEThxoi97FysT0H+/YPm1eIegfL52F5S9bWv1VUJg/CKjcRqxWFzRRUr2qd7e2Mzxqvy4yVX2aMuFh5iRPodm1TC9mZjubBt23YtFibG7/u1EO5RkVZd4Yr+8OWpKvcR8g/vEJ6sJcSaJJ/lB+yCkRHkMzF64j/uFE6umdQ/o4Sd7NceAUFOkUAABEAABEAABEBAbQKeBfnWVURM8ptIfx9/0Sbc1/YGaZMWP18wRxaIOC8z2l3DH18vjCHn9Q1ls0uxIM+P7nUtjX7hBmFm9fJprsjey6cJe6HLBTlbmy0p9t5hcHYFti6dtlvkV/j6/uqYKKP3YbrLFB8AAA5CSURBVMnYKJ9iwfw/xSnriot8/6A5Jd4UFWlcN2dMXVXKgorkdXMypAXeX56qiokyxkUbH9pd+N97q88dK2NOrp3lGu5TlOud1lK2ZpXRJoSMS42SBuoTYk3uKsKdA1sOIPnw6d3CI4NS2SBhzSRhnTmL2jW0/1Its82Zn+IGTHKW/jqSB3oV5GwcmC2yYM9KvKfqa19jMlsRSJw1G8UTNEX7pO0WRXtjKyDkz8WKxQANrNePSL9j0lce9I6NkJ/YmOu8pzIyQvgmeff2sm9OV797exmbYrBpvmupy3cPmE1G4dGbHKao0oVF44onbuycXYuFJR5X9O0B8cldwkIVxRg7bbf4tUdAkFMkEAABEAABEAABEFCbgGdBvqWeiEl+i+nvY3ZXSgj58I7+yOSH6sdX5sVJwk/hw9f3V7OR2Iq8eCmu+Nf3Vx+9Oic6UojzfPfAWN9sGu2fb3TFQmNyetZU15R1tjSUTSJlGXXsFJaIy2eGsytIu6wprrCwUlg3K02Sf/ZaIeDTu7cPMmeVtlvYjPpXB246zQaTU+KVA2tsRFqKHvfN6erH9k5icpdxK8lxzXc9f0/lshrhyYIkGNzLpcAof8mW2StWAXjicKZvx3jmdl5m/+LzOWJEPWkf+CH8l3JfYhHclj4ivT/yB52LrVYrIURXU9aPXp3DOvXVs8cMqsZHtq+xUG3y3kTbLawpKnYXc2+fivbGXkoh1mi7hQnynttcG7YNv9+xJwVV+fEsVNu5Y2UT0qONxtF/P15+Tpz9IUW/++SuCjb4v21hf1Q5FouRrT+XVrazLrCg0hU+/d+/rzx6dQ578sWejEgTbb66r5oFU1TsCe/XHsEEeVJSkto/Q8gfBEAABEAABEAABPRLwLMgb15BxDTyWmiwGFTXrcieV5ZkmyIEKyaEWAoT7OXJTNZmpwnxhyvzlKsrJcc+OF7G4pmbjKQqP37apAS2u3JaYoT7zluTs4Vl212HXPucnxfHvkxG12Lah3cL8jsx1jSvLOmtW4Wl3U/sn0wIqS7onyvLriAFTldcQYoIXZ4bVzYxjpDRESYixUKXfGYHO8Vd1uQx5HrHxNg0gQiTMrKXdOXKvLgrihNZtGppPjAjUJEXby6Il3acio8xLahM+fxkpXu5FJ7IX7LJtONSo+aUJE3OjmV/cucglo682LdjvFOcVJ8p27SMrWMvyYlj2n5o/1kuRULtjGZPGeQujfzxo3a9CfJvTlcniLtzRZjInJL+sOf28mRpWHhk+xqb8n39wIiGLDyblCOrWff2qWhvR9YIjxKkNdu9QdfY8535ZclshbbUui6637Evn4RYU1pixLRJCawTbbYLY+DfP2hmkdWr8uOrC+LZkz72RVHXt1cZe/qQkRxZkRcv9Zqe20pZQPiUeNOMItf3EgsFx+LYyeNNTp8szCiZX5bM5uEHoEc02oQYllarlSKBAAiAAAiAAAiAAAioRMCzIHcsI2IaeS00mCCvLhD295KnCBNZN0eYcb1rcVZ8jElaqzyoP/+7TxgStxYJMjUq0lg4NubA0nFspEtx/pqZ6SnxJvne4DfWj4+PMUmzu3dfOTYu2piXGc0G397/bdnEjGj5lPUlltTstCgp3jJttyiu8OotUxdUpsRGGcckRdZWJEviX+EJbbfcK+5Dzm765X8tHh8rDXfL33/lcPESS2paYkRUpLEgK4Zfni3tk/zWrSUzixPjooWgzQsqkp/iJi+qSomONFqLElkcLEW55JdVHH91b9XaWWOS4iLSEyNuanBFtGIc7OWuxfa9y9obrGkZyZFy8VxdIOxlJV3twzvKy3PjslIipZjzQ/jP1skbjaPdA7xLFxzJg4dn602Qf/+gedqkBLZBgLyjEUJyM6JZQxrZvva324SN+hSD4W/dWpKaEHFioyv0gFSnivap6HdPc5MzkiPlMv7130ydmBHd29rfvd01SD7Mfje3NOmK4sS3bi2ZPjkhKtKYnRZ1cPm4b0+bmYdvtJRYixJjxU3I66pSnuYmL6hIjo40zi5JYui+PFW1bk5GXLQxMznytmv6NzL88I7yNTPTM8UAh5PGxexfOo71x+MbclPiTS/1Pc+i7Za3W0vKc+NS4iPks0782iOsxcIifwhyigQCIAACIAACIAAC6hHwLMg3LyFiku6YcTDiBP5xZ7nJSLJSIqX7/hHPIoguyNb8s6cwfndbf4Lc70gHe9CmzUyDpd/5u0dYpwo7KUKQq/f7i5xBAARAAARAAARAYIh9yDctImLS5i11yHjFVpme3ta/83nIFM3XgrA58Iodqn29iLfn9wnyM2fOaOdrIGD7kHtLKXg0tq8lCop+5+8eYS3JhCDXTveHJyAAAiAAAiAAAvok4HmEvGkhEZOvd7o43ycCT3PCGvX8rOhBJ9j7dKmgPvn4hlwWO0AKiOXf4nTMYFPWIcj9y1mrkl77/S4APcJaKuzlhhFyff72o9QgAAIgAAIgAAIaIeBZkG+wEzHp8349kKVmWyhZixJ1O3H98f2TIkwkOtL48mFXsL0A8NesIJ+Q3h+pPgAcdJuFlvtdYHqEtWw8BLlGfonhBgiAAAiAAAiAgG4JeBbk6+cSMen2fj1gBf/q3qqtCzPTEiPe/+3gu6MFzBO1Mto4L6MkJ+6P17v2oguMGxoU5C0tLYJAKkoMDAGd56LlfheYHmEtnwhBrtvffhQcBEAABEAABEBAIwQgyC06lyW6Lb4GBfmZM2cgyHXbIANfcGtFPgS5Rn6J4QYIgAAIgAAIgIBuCXgW5OtmETEF/jYROYJAAAhYZ0wnhGhqDTkEeQDqHVlIBOpmlkKQ6/a3HwUHARAAARAAARDQCAGPgvwu7koiJunuDQcgEEoErDOmaVOQ54zBGnLMWwkEAU7cSgNB3TTyYww3QAAEQAAEQAAE9EnAoyA/c3s9EVMoaTCUBQQkApoV5IQQyUkcgID/CHCOZRgh1+cPP0oNAiAAAiAAAiCgHQKeBfltVxEx+e92EFcGARUJJCcnaXOEHIJcxVahq6y5LcJTV4yQa+f3GJ6AAAiAAAiAAAjokIBnQd66hIhJV3eoKKx+CLDmrcE15BDk+mmE6paU274WglyHv/ooMgiAAAiAAAiAgKYIeBbkR+qImNS9ZUTuIOAnAqx5a0qQU0rR6fxU3bisOwFu5wYIcooEAiAAAiAAAiAAAqoS8CzIW+xETO63cXgHBEKAAGve2hLk3/0PnS4EmlawFIHb3QxBTpFAAARAAARAAARAQFUCngX5LXOImILl5hJ+goBPBFjz1pYg/+pTdDqfKhEnD4cAt3dH7/oIh8NBkUAABEAABEAABEAABFQi4FmQ33wFEdNwbvjwWRDQLAHWvLUlyP/zMTqdZhtM6DnGHdhHCOE4jiKBAAiAAAiAAAiAAAioRMCzID80nYgp9G5DUSIQoO0W1ry1Jci/eA+dDo0zQAQ6ZnAcB0FOkUAABEAABEAABEBAVQKeBfmN1URMAbo7bLcgIxAIJAHWvLUlyD//K/Pq3LGyQKJAXnok8PBsCHKKBAIgAAIgAAIgAAJqE/AoyM+fshIx6fFWFU8HdEBgQvZYre1DTp1vWIsSBa8OFqHfgYB/CTxqhyBX+/cX+YMACIAACIAACIAA9SjI6aevETHRT16BgUDoEbDOmKY5Qf7PFyDI/atCB3/SNI12zKB/sNGHZtKHZ9NH5tJH5tPHFtDH6mjnYvr4EvrEUvrkcvrUCvp0PX26kT6zmp65mp5dR5/dQJ9ron/cTJ9vpn/aSv+0nb6wi/55D+3aR188QF/i6cvX0VduoN2HaPdh+uot9LUW+vqt9I3b6JvH6F+O07dO0Ld/R9++m75zkv61jfbcS/92P333QXqug773EH3/Efr+Y/SDx+nfn6QfPk0/OkM/fo7+43n6zxfov7rov16in3TTT1+jzjfo+b/Qz96mn/+V/vtd+sV79IsP6Jcf0v98TP/7T/rVJ/R/Tvr1Z/SbL+i3/6HffkW/+5p+/y376YMgxy0ACIAACIAACIAACKhOwLMg79sSmSCBQOgS0NaU9Y+eZYL8onnnjIm2TUkchiXZpiTZipNFS7EVp9iKU21TU21T02xT00UbYysZYyvJEC3TVpppK80SbaytdKytbJytLFu08bby8bbyCaLlLLJO4tfP4tfP5jfM4TfM5TfO4zfO55vsfFMt37SA37SQ37SI37yY33wl71jCO37NNy/lm5fxzcv5LVfxW1bwW1fyWxv4bY38tlX89tX89jX89rX8jqv5HdfwO9fxO9fzuzbwuzbyu5v43Zv43Zv5PQ5+TzO/dwu/dyu/bxu/bwe/fye/fxe/fzd/YA9/YC/P7eO5/Tx/gOc5PrDJFqjkfRNCUDeKBAIgAAIgAAIgAALqERhKkJeUlBAkEAhdAklJSefOnaPaSf9+l2taGLq8UTItEujo6NBOD4AnIAACIAACIAACIKA3AkMJ8qBm0d3dfQZpIIGOjg7Ob+muu+4amJsmXp0/fz6omzGl9IIcL6JK6+rqrEi+EGhsbLwIzj59pKOj44J17dMJwd7y4T8IgAAIgAAIgAAI6IFAyApyPVQeyggCIAACIAACIAACIAACIAACIBC8BCDIg7fu4DkIgAAIgAAIgAAIgAAIgAAIgEAQE4AgD+LKg+sgAAIgAAIgAAIgAAIgAAIgAALBSwCCPHjrDp6DAAiAAAiAAAiAAAiAAAiAAAgEMQEI8iCuPLgOAiAAAiAAAiAAAiAAAiAAAiAQvAQgyIO37uA5CIAACIAACIAACIAACIAACIBAEBOAIA/iyoPrIAACIAACIAACIAACIAACIAACwUsAgjx46w6egwAIgAAIgAAIgAAIgAAIgAAIBDGB/w9iD0I460rJFwAAAABJRU5ErkJggg==)"
      ],
      "metadata": {
        "id": "dnnJdOnWADdb"
      }
    },
    {
      "cell_type": "markdown",
      "source": [
        "### On-device or Cloud?\n",
        "- On-device: Fast and private since data stays on the device, but limited by device power and storage.\n",
        "- On cloud: Scalable and accessible from anywhere, yet can be more expensive and slower due to data transfer, with potential privacy concerns."
      ],
      "metadata": {
        "id": "qVGKQS-JEPQS"
      }
    },
    {
      "cell_type": "markdown",
      "source": [
        "For FoodVision Mini, we'd prefer a model on-device with 95% accuracy and one-second latency per prediction over a cloud-based model with 98% accuracy and 10 seconds latency per prediction. The on-device model may be smaller and less powerful, but its faster performance outweighs the slight decrease in accuracy."
      ],
      "metadata": {
        "id": "JQTocVi3GH-B"
      }
    },
    {
      "cell_type": "markdown",
      "source": [
        "### Online OR Real Time ?\n",
        "- Online predictions happen in real-time, such as when an image is uploaded and immediately transformed with predictions returned, or when a purchase is verified by a model for non-fraudulent transactions.\n",
        "- Offline predictions occur periodically, like when a photos application sorts images into categories while the mobile device is charging."
      ],
      "metadata": {
        "id": "y7UDCUqtM0_4"
      }
    },
    {
      "cell_type": "markdown",
      "source": [
        "Comparing our top two models, EffNetB2 and ViT feature extractors, in an experiment."
      ],
      "metadata": {
        "id": "yMCaO4G6PiPR"
      }
    },
    {
      "cell_type": "code",
      "execution_count": null,
      "metadata": {
        "colab": {
          "base_uri": "https://localhost:8080/"
        },
        "id": "MKOu_UshE6p7",
        "outputId": "9674698d-3fe8-412f-eefe-3ad2a270228c"
      },
      "outputs": [
        {
          "output_type": "stream",
          "name": "stdout",
          "text": [
            "torch version: 2.1.2\n",
            "torchvision version: 0.16.2\n"
          ]
        }
      ],
      "source": [
        "# For this notebook to run with updated APIs, we need torch 1.12+ and torchvision 0.13+\n",
        "try:\n",
        "    import torch\n",
        "    import torchvision\n",
        "    assert int(torch.__version__.split(\".\")[1]) >= 12 or int(torch.__version__.split(\".\")[0]) == 2, \"torch version should be 1.12+\"\n",
        "    assert int(torchvision.__version__.split(\".\")[1]) >= 13, \"torchvision version should be 0.13+\"\n",
        "    print(f\"torch version: {torch.__version__}\")\n",
        "    print(f\"torchvision version: {torchvision.__version__}\")\n",
        "except:\n",
        "    print(f\"[INFO] torch/torchvision versions not as required, installing nightly versions.\")\n",
        "    !pip3 install -U torch torchvision torchaudio --index-url https://download.pytorch.org/whl/cu118\n",
        "    import torch\n",
        "    import torchvision\n",
        "    print(f\"torch version: {torch.__version__}\")\n",
        "    print(f\"torchvision version: {torchvision.__version__}\")"
      ]
    },
    {
      "cell_type": "code",
      "source": [
        "# Continue with regular imports\n",
        "import matplotlib.pyplot as plt\n",
        "import torch\n",
        "import torchvision\n",
        "\n",
        "from torch import nn\n",
        "from torchvision import transforms\n",
        "\n",
        "# Try to get torchinfo, install it if it doesn't work\n",
        "try:\n",
        "    from torchinfo import summary\n",
        "except:\n",
        "    print(\"[INFO] Couldn't find torchinfo... installing it.\")\n",
        "    !pip install -q torchinfo\n",
        "    from torchinfo import summary\n",
        "\n",
        "# Try to import the going_modular directory, download it from GitHub if it doesn't work\n",
        "try:\n",
        "    from going_modular import data_setup, engine\n",
        "    from helper_functions import download_data, set_seeds, plot_loss_curves\n",
        "except:\n",
        "    # Get the going_modular scripts\n",
        "    print(\"[INFO] Couldn't find going_modular or helper_functions scripts... downloading them from GitHub.\")\n",
        "    !git clone https://github.com/Junying123/food-vision-pytorch.git\n",
        "    !mv food-vision-pytorch/going_modular .\n",
        "    !mv food-vision-pytorch/helper_functions.py .\n",
        "    !rm -rf food-vision-pytorch\n",
        "    from going_modular import data_setup, engine\n",
        "    from helper_functions import download_data, set_seeds, plot_loss_curves"
      ],
      "metadata": {
        "id": "CpppIOaMHO0t"
      },
      "execution_count": null,
      "outputs": []
    },
    {
      "cell_type": "code",
      "source": [
        "device = \"cuda\" if torch.cuda.is_available() else \"cpu\"\n",
        "device"
      ],
      "metadata": {
        "colab": {
          "base_uri": "https://localhost:8080/"
        },
        "id": "p0hMks1sR8WB",
        "outputId": "5b96e41c-3d5a-4f8d-9a2e-3428ee49c632"
      },
      "execution_count": null,
      "outputs": [
        {
          "output_type": "execute_result",
          "data": {
            "text/plain": [
              "'cuda'"
            ]
          },
          "metadata": {},
          "execution_count": 7
        }
      ]
    },
    {
      "cell_type": "markdown",
      "source": [
        "# 1.Getting data"
      ],
      "metadata": {
        "id": "gfhfQONAT6_O"
      }
    },
    {
      "cell_type": "markdown",
      "source": [
        "- The EffNetB2 model was trained on 20% of the pizza, steak, and sushi data from Food101, while the ViT model was trained on 10%.\n",
        "- Our goal is to deploy the best model for our FoodVision Mini problem.\n",
        "- We will start by downloading the 20% pizza, steak, and sushi dataset.\n",
        "- Next, we will train an EffNetB2 feature extractor and a ViT feature extractor on the dataset.\n",
        "- Finally, we will compare the two models."
      ],
      "metadata": {
        "id": "2ZrQjkuAUctT"
      }
    },
    {
      "cell_type": "markdown",
      "source": [
        "**Steps for Deployment**\n",
        "1. Download the pizza_steak_sushi_20_percent.zip dataset.\n",
        "2. Conduct multiple experiments to compare the performance of EffNetB2 and ViT models.\n",
        "3. Recreate an EfficientNetB2 feature extractor for deployment.\n",
        "4. Recreate a ViT feature extractor for deployment.\n",
        "5. Make predictions with trained models and track their results.\n",
        "6. Compare model results, prediction times, and size to determine the best performer.\n",
        "7. Create a Gradio demo for the best performing model.\n",
        "8. Prepare the Gradio demo for deployment.\n",
        "9. Deploy the Gradio demo to HuggingFace Spaces for public access.\n",
        "10. Prepare for a big surprise in the project.\n",
        "11. Deploy the big surprise."
      ],
      "metadata": {
        "id": "PxyK-GCpQnpa"
      }
    },
    {
      "cell_type": "code",
      "source": [
        "# Download pizza, steak, sushi images from GitHub\n",
        "data_20_percent_path = download_data(source=\"https://github.com/Junying123/food-vision-pytorch/raw/main/pizza_steak_sushi_20_percent.zip\",\n",
        "                                     destination=\"pizza_steak_sushi_20_percent\")\n",
        "\n",
        "data_20_percent_path"
      ],
      "metadata": {
        "colab": {
          "base_uri": "https://localhost:8080/"
        },
        "id": "-cDS4I7_T8S5",
        "outputId": "09aa664c-2ea8-458d-80de-d16ab0432ac6"
      },
      "execution_count": null,
      "outputs": [
        {
          "output_type": "stream",
          "name": "stdout",
          "text": [
            "[INFO] Did not find data\\pizza_steak_sushi_20_percent directory, creating one...\n",
            "[INFO] Downloading pizza_steak_sushi_20_percent.zip from https://github.com/Junying123/food-vision-pytorch/raw/main/pizza_steak_sushi_20_percent.zip...\n",
            "[INFO] Unzipping pizza_steak_sushi_20_percent.zip data...\n"
          ]
        },
        {
          "output_type": "execute_result",
          "data": {
            "text/plain": [
              "WindowsPath('data/pizza_steak_sushi_20_percent')"
            ]
          },
          "metadata": {},
          "execution_count": 8
        }
      ]
    },
    {
      "cell_type": "code",
      "source": [
        "# Setup directory paths to train and test images\n",
        "train_dir = data_20_percent_path / \"train\"\n",
        "test_dir = data_20_percent_path / \"test\"\n",
        "\n",
        "train_dir, test_dir"
      ],
      "metadata": {
        "colab": {
          "base_uri": "https://localhost:8080/"
        },
        "id": "_BizNgISUvFz",
        "outputId": "82801223-3102-4b05-f980-3ac4cb3b56df"
      },
      "execution_count": null,
      "outputs": [
        {
          "output_type": "execute_result",
          "data": {
            "text/plain": [
              "(WindowsPath('data/pizza_steak_sushi_20_percent/train'),\n",
              " WindowsPath('data/pizza_steak_sushi_20_percent/test'))"
            ]
          },
          "metadata": {},
          "execution_count": 9
        }
      ]
    },
    {
      "cell_type": "markdown",
      "source": [
        "# 2.FoodVision model deployment experiment outline"
      ],
      "metadata": {
        "id": "Ik9es1afVPwB"
      }
    },
    {
      "cell_type": "markdown",
      "source": [
        "Deploy FoodVision Model via Gradio app with the metrics:\n",
        "- 95%+ accuracy\n",
        "- real-time inference of 30FPS+\n",
        "- latency of lower than ~0.03s per prediction."
      ],
      "metadata": {
        "id": "iWwhu6toO2rt"
      }
    },
    {
      "cell_type": "markdown",
      "source": [
        "![image.png](data:image/png;base64,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)"
      ],
      "metadata": {
        "id": "U5EWzmgGWmo3"
      }
    },
    {
      "cell_type": "markdown",
      "source": [
        "**The best 2 performing models**"
      ],
      "metadata": {
        "id": "TTW1-drIXjXL"
      }
    },
    {
      "cell_type": "markdown",
      "source": [
        "- EffNetB2 feature extractor (EffNetB2 for short) using torchvision.models.efficientnet_b2() with adjusted classifier layers.\n",
        "- ViT-B/16 feature extractor (ViT for short) using torchvision.models.vit_b_16() with adjusted head layers. Note ViT-B/16 stands for \"Vision Transformer Base, patch size 16\"."
      ],
      "metadata": {
        "id": "G1ASsv6SXgb-"
      }
    },
    {
      "cell_type": "markdown",
      "source": [
        "# 3.Creating an EffNetB2 feature extractor"
      ],
      "metadata": {
        "id": "heu58woIBwiV"
      }
    },
    {
      "cell_type": "code",
      "source": [
        "# 1. Setup pretrained EffNetB2 weights\n",
        "effnetb2_weights = torchvision.models.EfficientNet_B2_Weights.DEFAULT\n",
        "\n",
        "# 2. Get EffNetB2 transforms\n",
        "effnetb2_transforms = effnetb2_weights.transforms()\n",
        "\n",
        "# 3. Setup pretrained model\n",
        "effnetb2 = torchvision.models.efficientnet_b2(weights=effnetb2_weights) # could also use weights=\"DEFAULT\"\n",
        "\n",
        "# 4. Freeze the base layers in the model (this will freeze all layers to begin with)\n",
        "for param in effnetb2.parameters():\n",
        "    param.requires_grad = False"
      ],
      "metadata": {
        "colab": {
          "base_uri": "https://localhost:8080/"
        },
        "id": "vh1NSv26U4Rn",
        "outputId": "4688a3b2-c7a6-4090-a865-6a7f2dd35925"
      },
      "execution_count": null,
      "outputs": [
        {
          "output_type": "stream",
          "name": "stderr",
          "text": [
            "Downloading: \"https://download.pytorch.org/models/efficientnet_b2_rwightman-c35c1473.pth\" to C:\\Users\\User/.cache\\torch\\hub\\checkpoints\\efficientnet_b2_rwightman-c35c1473.pth\n",
            "100%|█████████████████████████████████████████████████████████████████████████████| 35.2M/35.2M [00:34<00:00, 1.07MB/s]\n"
          ]
        }
      ]
    },
    {
      "cell_type": "code",
      "source": [
        "# Check out EffNetB2 classifier head\n",
        "effnetb2.classifier"
      ],
      "metadata": {
        "colab": {
          "base_uri": "https://localhost:8080/"
        },
        "id": "wM6fuQ9wCAnQ",
        "outputId": "582e5b00-3541-49ec-9f67-db8efcde4e21"
      },
      "execution_count": null,
      "outputs": [
        {
          "output_type": "execute_result",
          "data": {
            "text/plain": [
              "Sequential(\n",
              "  (0): Dropout(p=0.3, inplace=True)\n",
              "  (1): Linear(in_features=1408, out_features=1000, bias=True)\n",
              ")"
            ]
          },
          "metadata": {},
          "execution_count": 11
        }
      ]
    },
    {
      "cell_type": "code",
      "source": [
        "# 5. Update the classifier head\n",
        "effnetb2.classifier = nn.Sequential(\n",
        "    nn.Dropout(p=0.3, inplace=True), # keep dropout layer same\n",
        "    nn.Linear(in_features=1408, # keep in_features same\n",
        "              out_features=3)) # class [pizza, steak,sushi]"
      ],
      "metadata": {
        "id": "h2vepWuqKLel"
      },
      "execution_count": null,
      "outputs": []
    },
    {
      "cell_type": "code",
      "source": [
        "summary(effnetb2,\n",
        "        input_size=(32, 3, 224, 224),\n",
        "        verbose=0,\n",
        "        col_names=[\"input_size\", \"output_size\", \"num_params\", \"trainable\"],\n",
        "        col_width=20,\n",
        "        row_settings=[\"var_names\"]\n",
        ")"
      ],
      "metadata": {
        "colab": {
          "base_uri": "https://localhost:8080/"
        },
        "id": "7kszKk0REO9r",
        "outputId": "9f924be2-6f70-42bb-b9d4-9bbe2591ff85"
      },
      "execution_count": null,
      "outputs": [
        {
          "output_type": "execute_result",
          "data": {
            "text/plain": [
              "============================================================================================================================================\n",
              "Layer (type (var_name))                                      Input Shape          Output Shape         Param #              Trainable\n",
              "============================================================================================================================================\n",
              "EfficientNet (EfficientNet)                                  [32, 3, 224, 224]    [32, 3]              --                   Partial\n",
              "├─Sequential (features)                                      [32, 3, 224, 224]    [32, 1408, 7, 7]     --                   False\n",
              "│    └─Conv2dNormActivation (0)                              [32, 3, 224, 224]    [32, 32, 112, 112]   --                   False\n",
              "│    │    └─Conv2d (0)                                       [32, 3, 224, 224]    [32, 32, 112, 112]   (864)                False\n",
              "│    │    └─BatchNorm2d (1)                                  [32, 32, 112, 112]   [32, 32, 112, 112]   (64)                 False\n",
              "│    │    └─SiLU (2)                                         [32, 32, 112, 112]   [32, 32, 112, 112]   --                   --\n",
              "│    └─Sequential (1)                                        [32, 32, 112, 112]   [32, 16, 112, 112]   --                   False\n",
              "│    │    └─MBConv (0)                                       [32, 32, 112, 112]   [32, 16, 112, 112]   (1,448)              False\n",
              "│    │    └─MBConv (1)                                       [32, 16, 112, 112]   [32, 16, 112, 112]   (612)                False\n",
              "│    └─Sequential (2)                                        [32, 16, 112, 112]   [32, 24, 56, 56]     --                   False\n",
              "│    │    └─MBConv (0)                                       [32, 16, 112, 112]   [32, 24, 56, 56]     (6,004)              False\n",
              "│    │    └─MBConv (1)                                       [32, 24, 56, 56]     [32, 24, 56, 56]     (10,710)             False\n",
              "│    │    └─MBConv (2)                                       [32, 24, 56, 56]     [32, 24, 56, 56]     (10,710)             False\n",
              "│    └─Sequential (3)                                        [32, 24, 56, 56]     [32, 48, 28, 28]     --                   False\n",
              "│    │    └─MBConv (0)                                       [32, 24, 56, 56]     [32, 48, 28, 28]     (16,518)             False\n",
              "│    │    └─MBConv (1)                                       [32, 48, 28, 28]     [32, 48, 28, 28]     (43,308)             False\n",
              "│    │    └─MBConv (2)                                       [32, 48, 28, 28]     [32, 48, 28, 28]     (43,308)             False\n",
              "│    └─Sequential (4)                                        [32, 48, 28, 28]     [32, 88, 14, 14]     --                   False\n",
              "│    │    └─MBConv (0)                                       [32, 48, 28, 28]     [32, 88, 14, 14]     (50,300)             False\n",
              "│    │    └─MBConv (1)                                       [32, 88, 14, 14]     [32, 88, 14, 14]     (123,750)            False\n",
              "│    │    └─MBConv (2)                                       [32, 88, 14, 14]     [32, 88, 14, 14]     (123,750)            False\n",
              "│    │    └─MBConv (3)                                       [32, 88, 14, 14]     [32, 88, 14, 14]     (123,750)            False\n",
              "│    └─Sequential (5)                                        [32, 88, 14, 14]     [32, 120, 14, 14]    --                   False\n",
              "│    │    └─MBConv (0)                                       [32, 88, 14, 14]     [32, 120, 14, 14]    (149,158)            False\n",
              "│    │    └─MBConv (1)                                       [32, 120, 14, 14]    [32, 120, 14, 14]    (237,870)            False\n",
              "│    │    └─MBConv (2)                                       [32, 120, 14, 14]    [32, 120, 14, 14]    (237,870)            False\n",
              "│    │    └─MBConv (3)                                       [32, 120, 14, 14]    [32, 120, 14, 14]    (237,870)            False\n",
              "│    └─Sequential (6)                                        [32, 120, 14, 14]    [32, 208, 7, 7]      --                   False\n",
              "│    │    └─MBConv (0)                                       [32, 120, 14, 14]    [32, 208, 7, 7]      (301,406)            False\n",
              "│    │    └─MBConv (1)                                       [32, 208, 7, 7]      [32, 208, 7, 7]      (686,868)            False\n",
              "│    │    └─MBConv (2)                                       [32, 208, 7, 7]      [32, 208, 7, 7]      (686,868)            False\n",
              "│    │    └─MBConv (3)                                       [32, 208, 7, 7]      [32, 208, 7, 7]      (686,868)            False\n",
              "│    │    └─MBConv (4)                                       [32, 208, 7, 7]      [32, 208, 7, 7]      (686,868)            False\n",
              "│    └─Sequential (7)                                        [32, 208, 7, 7]      [32, 352, 7, 7]      --                   False\n",
              "│    │    └─MBConv (0)                                       [32, 208, 7, 7]      [32, 352, 7, 7]      (846,900)            False\n",
              "│    │    └─MBConv (1)                                       [32, 352, 7, 7]      [32, 352, 7, 7]      (1,888,920)          False\n",
              "│    └─Conv2dNormActivation (8)                              [32, 352, 7, 7]      [32, 1408, 7, 7]     --                   False\n",
              "│    │    └─Conv2d (0)                                       [32, 352, 7, 7]      [32, 1408, 7, 7]     (495,616)            False\n",
              "│    │    └─BatchNorm2d (1)                                  [32, 1408, 7, 7]     [32, 1408, 7, 7]     (2,816)              False\n",
              "│    │    └─SiLU (2)                                         [32, 1408, 7, 7]     [32, 1408, 7, 7]     --                   --\n",
              "├─AdaptiveAvgPool2d (avgpool)                                [32, 1408, 7, 7]     [32, 1408, 1, 1]     --                   --\n",
              "├─Sequential (classifier)                                    [32, 1408]           [32, 3]              --                   True\n",
              "│    └─Dropout (0)                                           [32, 1408]           [32, 1408]           --                   --\n",
              "│    └─Linear (1)                                            [32, 1408]           [32, 3]              4,227                True\n",
              "============================================================================================================================================\n",
              "Total params: 7,705,221\n",
              "Trainable params: 4,227\n",
              "Non-trainable params: 7,700,994\n",
              "Total mult-adds (G): 21.04\n",
              "============================================================================================================================================\n",
              "Input size (MB): 19.27\n",
              "Forward/backward pass size (MB): 5017.53\n",
              "Params size (MB): 30.82\n",
              "Estimated Total Size (MB): 5067.62\n",
              "============================================================================================================================================"
            ]
          },
          "metadata": {},
          "execution_count": 13
        }
      ]
    },
    {
      "cell_type": "markdown",
      "source": [
        "## 3.1 Creating a function to make an EffNetB2 feature extractor"
      ],
      "metadata": {
        "id": "WZFGOS9KLAfm"
      }
    },
    {
      "cell_type": "code",
      "source": [
        "def create_effnetb2_model(num_classes:int=3,\n",
        "                          seed:int=42):\n",
        "    \"\"\"Creates an EfficientNetB2 feature extractor model and transforms.\n",
        "\n",
        "    Args:\n",
        "        num_classes (int, optional): number of classes in the classifier head.\n",
        "            Defaults to 3.\n",
        "        seed (int, optional): random seed value. Defaults to 42.\n",
        "\n",
        "    Returns:\n",
        "        model (torch.nn.Module): EffNetB2 feature extractor model.\n",
        "        transforms (torchvision.transforms): EffNetB2 image transforms.\n",
        "    \"\"\"\n",
        "    # 1, 2, 3. Create EffNetB2 pretrained weights, transforms and model\n",
        "    weights = torchvision.models.EfficientNet_B2_Weights.DEFAULT\n",
        "    transforms = weights.transforms()\n",
        "    model = torchvision.models.efficientnet_b2(weights=weights)\n",
        "\n",
        "    # 4. Freeze all layers in base model\n",
        "    for param in model.parameters():\n",
        "        param.requires_grad = False\n",
        "\n",
        "    # 5. Change classifier head with random seed for reproducibility\n",
        "    torch.manual_seed(seed)\n",
        "    model.classifier = nn.Sequential(\n",
        "        nn.Dropout(p=0.3, inplace=True),\n",
        "        nn.Linear(in_features=1408, out_features=num_classes),\n",
        "    )\n",
        "\n",
        "    return model, transforms"
      ],
      "metadata": {
        "id": "MnRl7TF2GOjW"
      },
      "execution_count": null,
      "outputs": []
    },
    {
      "cell_type": "code",
      "source": [
        "effnetb2, effnetb2_transforms = create_effnetb2_model(num_classes=3,\n",
        "                                                      seed=42)"
      ],
      "metadata": {
        "id": "Ohu6h4r6Mcdp"
      },
      "execution_count": null,
      "outputs": []
    },
    {
      "cell_type": "code",
      "source": [
        "from torchinfo import summary\n",
        "\n",
        "# # Print EffNetB2 model summary\n",
        "summary(effnetb2,\n",
        "        input_size=(1, 3, 224, 224),\n",
        "        col_names=[\"input_size\", \"output_size\", \"num_params\", \"trainable\"],\n",
        "        col_width=20,\n",
        "        row_settings=[\"var_names\"])"
      ],
      "metadata": {
        "colab": {
          "base_uri": "https://localhost:8080/"
        },
        "id": "J_9YkztGMw-s",
        "outputId": "e75463e2-01e4-49a2-fe36-72d12c8e9617"
      },
      "execution_count": null,
      "outputs": [
        {
          "output_type": "execute_result",
          "data": {
            "text/plain": [
              "============================================================================================================================================\n",
              "Layer (type (var_name))                                      Input Shape          Output Shape         Param #              Trainable\n",
              "============================================================================================================================================\n",
              "EfficientNet (EfficientNet)                                  [1, 3, 224, 224]     [1, 3]               --                   Partial\n",
              "├─Sequential (features)                                      [1, 3, 224, 224]     [1, 1408, 7, 7]      --                   False\n",
              "│    └─Conv2dNormActivation (0)                              [1, 3, 224, 224]     [1, 32, 112, 112]    --                   False\n",
              "│    │    └─Conv2d (0)                                       [1, 3, 224, 224]     [1, 32, 112, 112]    (864)                False\n",
              "│    │    └─BatchNorm2d (1)                                  [1, 32, 112, 112]    [1, 32, 112, 112]    (64)                 False\n",
              "│    │    └─SiLU (2)                                         [1, 32, 112, 112]    [1, 32, 112, 112]    --                   --\n",
              "│    └─Sequential (1)                                        [1, 32, 112, 112]    [1, 16, 112, 112]    --                   False\n",
              "│    │    └─MBConv (0)                                       [1, 32, 112, 112]    [1, 16, 112, 112]    (1,448)              False\n",
              "│    │    └─MBConv (1)                                       [1, 16, 112, 112]    [1, 16, 112, 112]    (612)                False\n",
              "│    └─Sequential (2)                                        [1, 16, 112, 112]    [1, 24, 56, 56]      --                   False\n",
              "│    │    └─MBConv (0)                                       [1, 16, 112, 112]    [1, 24, 56, 56]      (6,004)              False\n",
              "│    │    └─MBConv (1)                                       [1, 24, 56, 56]      [1, 24, 56, 56]      (10,710)             False\n",
              "│    │    └─MBConv (2)                                       [1, 24, 56, 56]      [1, 24, 56, 56]      (10,710)             False\n",
              "│    └─Sequential (3)                                        [1, 24, 56, 56]      [1, 48, 28, 28]      --                   False\n",
              "│    │    └─MBConv (0)                                       [1, 24, 56, 56]      [1, 48, 28, 28]      (16,518)             False\n",
              "│    │    └─MBConv (1)                                       [1, 48, 28, 28]      [1, 48, 28, 28]      (43,308)             False\n",
              "│    │    └─MBConv (2)                                       [1, 48, 28, 28]      [1, 48, 28, 28]      (43,308)             False\n",
              "│    └─Sequential (4)                                        [1, 48, 28, 28]      [1, 88, 14, 14]      --                   False\n",
              "│    │    └─MBConv (0)                                       [1, 48, 28, 28]      [1, 88, 14, 14]      (50,300)             False\n",
              "│    │    └─MBConv (1)                                       [1, 88, 14, 14]      [1, 88, 14, 14]      (123,750)            False\n",
              "│    │    └─MBConv (2)                                       [1, 88, 14, 14]      [1, 88, 14, 14]      (123,750)            False\n",
              "│    │    └─MBConv (3)                                       [1, 88, 14, 14]      [1, 88, 14, 14]      (123,750)            False\n",
              "│    └─Sequential (5)                                        [1, 88, 14, 14]      [1, 120, 14, 14]     --                   False\n",
              "│    │    └─MBConv (0)                                       [1, 88, 14, 14]      [1, 120, 14, 14]     (149,158)            False\n",
              "│    │    └─MBConv (1)                                       [1, 120, 14, 14]     [1, 120, 14, 14]     (237,870)            False\n",
              "│    │    └─MBConv (2)                                       [1, 120, 14, 14]     [1, 120, 14, 14]     (237,870)            False\n",
              "│    │    └─MBConv (3)                                       [1, 120, 14, 14]     [1, 120, 14, 14]     (237,870)            False\n",
              "│    └─Sequential (6)                                        [1, 120, 14, 14]     [1, 208, 7, 7]       --                   False\n",
              "│    │    └─MBConv (0)                                       [1, 120, 14, 14]     [1, 208, 7, 7]       (301,406)            False\n",
              "│    │    └─MBConv (1)                                       [1, 208, 7, 7]       [1, 208, 7, 7]       (686,868)            False\n",
              "│    │    └─MBConv (2)                                       [1, 208, 7, 7]       [1, 208, 7, 7]       (686,868)            False\n",
              "│    │    └─MBConv (3)                                       [1, 208, 7, 7]       [1, 208, 7, 7]       (686,868)            False\n",
              "│    │    └─MBConv (4)                                       [1, 208, 7, 7]       [1, 208, 7, 7]       (686,868)            False\n",
              "│    └─Sequential (7)                                        [1, 208, 7, 7]       [1, 352, 7, 7]       --                   False\n",
              "│    │    └─MBConv (0)                                       [1, 208, 7, 7]       [1, 352, 7, 7]       (846,900)            False\n",
              "│    │    └─MBConv (1)                                       [1, 352, 7, 7]       [1, 352, 7, 7]       (1,888,920)          False\n",
              "│    └─Conv2dNormActivation (8)                              [1, 352, 7, 7]       [1, 1408, 7, 7]      --                   False\n",
              "│    │    └─Conv2d (0)                                       [1, 352, 7, 7]       [1, 1408, 7, 7]      (495,616)            False\n",
              "│    │    └─BatchNorm2d (1)                                  [1, 1408, 7, 7]      [1, 1408, 7, 7]      (2,816)              False\n",
              "│    │    └─SiLU (2)                                         [1, 1408, 7, 7]      [1, 1408, 7, 7]      --                   --\n",
              "├─AdaptiveAvgPool2d (avgpool)                                [1, 1408, 7, 7]      [1, 1408, 1, 1]      --                   --\n",
              "├─Sequential (classifier)                                    [1, 1408]            [1, 3]               --                   True\n",
              "│    └─Dropout (0)                                           [1, 1408]            [1, 1408]            --                   --\n",
              "│    └─Linear (1)                                            [1, 1408]            [1, 3]               4,227                True\n",
              "============================================================================================================================================\n",
              "Total params: 7,705,221\n",
              "Trainable params: 4,227\n",
              "Non-trainable params: 7,700,994\n",
              "Total mult-adds (M): 657.64\n",
              "============================================================================================================================================\n",
              "Input size (MB): 0.60\n",
              "Forward/backward pass size (MB): 156.80\n",
              "Params size (MB): 30.82\n",
              "Estimated Total Size (MB): 188.22\n",
              "============================================================================================================================================"
            ]
          },
          "metadata": {},
          "execution_count": 16
        }
      ]
    },
    {
      "cell_type": "markdown",
      "source": [
        "## 3.2 Creating DataLoaders for EffNetB2"
      ],
      "metadata": {
        "id": "lMC5kbItNBaj"
      }
    },
    {
      "cell_type": "code",
      "source": [
        "# Setup DataLoaders\n",
        "from going_modular import data_setup\n",
        "train_dataloader_effnetb2, test_dataloader_effnetb2, class_names = data_setup.create_dataloaders(train_dir=train_dir,\n",
        "                                                                                                 test_dir=test_dir,\n",
        "                                                                                                 transform=effnetb2_transforms,\n",
        "                                                                                                 batch_size=32)"
      ],
      "metadata": {
        "id": "1ep49UznM4xt"
      },
      "execution_count": null,
      "outputs": []
    },
    {
      "cell_type": "markdown",
      "source": [
        "## 3.3 Training EffNetB2 feature extractor"
      ],
      "metadata": {
        "id": "GWerul5ENbhU"
      }
    },
    {
      "cell_type": "code",
      "source": [
        "from going_modular import engine\n",
        "\n",
        "# Setup optimizer\n",
        "optimizer = torch.optim.Adam(params=effnetb2.parameters(),\n",
        "                             lr=1e-3)\n",
        "# Setup loss function\n",
        "loss_fn = torch.nn.CrossEntropyLoss()\n",
        "\n",
        "# Set seeds for reproducibility and train the model\n",
        "set_seeds()\n",
        "effnetb2_results = engine.train(model=effnetb2,\n",
        "                                train_dataloader=train_dataloader_effnetb2,\n",
        "                                test_dataloader=test_dataloader_effnetb2,\n",
        "                                epochs=10,\n",
        "                                optimizer=optimizer,\n",
        "                                loss_fn=loss_fn,\n",
        "                                device=device)"
      ],
      "metadata": {
        "colab": {
          "base_uri": "https://localhost:8080/",
          "height": 191,
          "referenced_widgets": [
            "3d2c9bbbc3d047c5a7d58c523c6a491f",
            "7df162c6a03b4958ae27e74b606234bf",
            "f439f5f52410476a888c86f9c8ad66b8",
            "6f8ebc04e71146b080c59249b124b314",
            "d13a995c38a84a538cd2df75c2bb522b",
            "774cc44b581e4bbcb9724619e7f89e3e",
            "a42d416ca1cc458cbe69c892f37f338c",
            "06bdfd70281c48c9bc29fac2e32cfa28",
            "8659a0cd6a2c4d6c9667584d8e53b21e",
            "4869fd0d88c7475bbdcdf6d1afaf2a72",
            "388dab2f9a70441d891a4ee94962e0e4"
          ]
        },
        "id": "GmhW9g5CNI3-",
        "outputId": "fcfc47c7-33c0-4efd-cc3f-31007e750858"
      },
      "execution_count": null,
      "outputs": [
        {
          "output_type": "display_data",
          "data": {
            "text/plain": [
              "  0%|          | 0/10 [00:00<?, ?it/s]"
            ],
            "application/vnd.jupyter.widget-view+json": {
              "version_major": 2,
              "version_minor": 0,
              "model_id": "3d2c9bbbc3d047c5a7d58c523c6a491f"
            }
          },
          "metadata": {}
        },
        {
          "output_type": "stream",
          "name": "stdout",
          "text": [
            "Epoch: 1 | train_loss: 0.9747 | train_acc: 0.5875 | test_loss: 0.7445 | test_acc: 0.9409\n",
            "Epoch: 2 | train_loss: 0.7191 | train_acc: 0.8396 | test_loss: 0.5802 | test_acc: 0.9256\n",
            "Epoch: 3 | train_loss: 0.5871 | train_acc: 0.8750 | test_loss: 0.4841 | test_acc: 0.9500\n",
            "Epoch: 4 | train_loss: 0.4539 | train_acc: 0.8979 | test_loss: 0.4304 | test_acc: 0.9437\n",
            "Epoch: 5 | train_loss: 0.4285 | train_acc: 0.8833 | test_loss: 0.3901 | test_acc: 0.9409\n",
            "Epoch: 6 | train_loss: 0.4236 | train_acc: 0.8917 | test_loss: 0.3508 | test_acc: 0.9625\n",
            "Epoch: 7 | train_loss: 0.4192 | train_acc: 0.8479 | test_loss: 0.3208 | test_acc: 0.9625\n",
            "Epoch: 8 | train_loss: 0.4159 | train_acc: 0.8854 | test_loss: 0.3354 | test_acc: 0.9472\n",
            "Epoch: 9 | train_loss: 0.3648 | train_acc: 0.8917 | test_loss: 0.3098 | test_acc: 0.9347\n",
            "Epoch: 10 | train_loss: 0.3632 | train_acc: 0.8583 | test_loss: 0.2781 | test_acc: 0.9688\n"
          ]
        }
      ]
    },
    {
      "cell_type": "markdown",
      "source": [
        "## 3.4 Inspecting EffNetB2 loss curves"
      ],
      "metadata": {
        "id": "XByPZ2U4Pt6i"
      }
    },
    {
      "cell_type": "code",
      "source": [
        "from helper_functions import plot_loss_curves\n",
        "\n",
        "plot_loss_curves(effnetb2_results)"
      ],
      "metadata": {
        "colab": {
          "base_uri": "https://localhost:8080/",
          "height": 639
        },
        "id": "Z3rPZJKJNpsN",
        "outputId": "8fa13b7f-dc13-4ca3-802d-548210703ee8"
      },
      "execution_count": null,
      "outputs": [
        {
          "output_type": "display_data",
          "data": {
            "text/plain": [
              "<Figure size 1500x700 with 2 Axes>"
            ],
            "image/png": "[encoded data removed]"
          },
          "metadata": {}
        }
      ]
    },
    {
      "cell_type": "markdown",
      "source": [
        "## 3.5 Saving EffNetB2 feature extractor"
      ],
      "metadata": {
        "id": "7maiSjMSPEF-"
      }
    },
    {
      "cell_type": "code",
      "source": [
        "from going_modular import utils\n",
        "\n",
        "# Save the model\n",
        "utils.save_model(model=effnetb2,\n",
        "                 target_dir=\"models\",\n",
        "                 model_name=\"09_pretrained_effnetb2_feature_extractor_pizza_steak_sushi_20_percent.pth\")"
      ],
      "metadata": {
        "colab": {
          "base_uri": "https://localhost:8080/"
        },
        "id": "c17LX3-5ONjK",
        "outputId": "81d486dd-c1c8-4fb3-d1f2-b825e1fb8e8e"
      },
      "execution_count": null,
      "outputs": [
        {
          "output_type": "stream",
          "name": "stdout",
          "text": [
            "[INFO] Saving model to: models\\09_pretrained_effnetb2_feature_extractor_pizza_steak_sushi_20_percent.pth\n"
          ]
        }
      ]
    },
    {
      "cell_type": "markdown",
      "source": [
        "## 3.6 Checking the size of EffNetB2 feature extractor"
      ],
      "metadata": {
        "id": "VpU1Y23tRIxS"
      }
    },
    {
      "cell_type": "code",
      "source": [
        "from pathlib import Path\n",
        "\n",
        "# Get the model size in bytes then convert to megabytes\n",
        "pretrained_effnetb2_model_size = Path(\"models/09_pretrained_effnetb2_feature_extractor_pizza_steak_sushi_20_percent.pth\").stat().st_size // (1024*1024) # division converts bytes to megabytes (roughly)\n",
        "print(f\"Pretrained EffNetB2 feature extractor model size: {pretrained_effnetb2_model_size} MB\")"
      ],
      "metadata": {
        "colab": {
          "base_uri": "https://localhost:8080/"
        },
        "id": "qg2lKehsRIhS",
        "outputId": "60a6bbee-19f1-4ec7-e602-8e61dac39b96"
      },
      "execution_count": null,
      "outputs": [
        {
          "output_type": "stream",
          "name": "stdout",
          "text": [
            "Pretrained EffNetB2 feature extractor model size: 29 MB\n"
          ]
        }
      ]
    },
    {
      "cell_type": "markdown",
      "source": [
        "## 3.7 Collecting EffNetB2 feature extractor stats"
      ],
      "metadata": {
        "id": "mXs5hAjURwWJ"
      }
    },
    {
      "cell_type": "code",
      "source": [
        "# Count number of parameters in EffNetB2\n",
        "effnetb2_total_params = sum(torch.numel(param) for param in effnetb2.parameters())\n",
        "effnetb2_total_params"
      ],
      "metadata": {
        "colab": {
          "base_uri": "https://localhost:8080/"
        },
        "id": "Qj4E9TUMRNhG",
        "outputId": "7cc849aa-fd3e-4c1f-802e-42205ac247e6"
      },
      "execution_count": null,
      "outputs": [
        {
          "output_type": "execute_result",
          "data": {
            "text/plain": [
              "7705221"
            ]
          },
          "metadata": {},
          "execution_count": 22
        }
      ]
    },
    {
      "cell_type": "code",
      "source": [
        "# Create a dictionary with EffNetB2 statistics\n",
        "effnetb2_stats = {\"test_loss\": effnetb2_results[\"test_loss\"][-1],\n",
        "                  \"test_acc\": effnetb2_results[\"test_acc\"][-1],\n",
        "                  \"number_of_parameters\": effnetb2_total_params,\n",
        "                  \"model_size (MB)\": pretrained_effnetb2_model_size}\n",
        "effnetb2_stats"
      ],
      "metadata": {
        "colab": {
          "base_uri": "https://localhost:8080/"
        },
        "id": "sT8sCmOWSOjC",
        "outputId": "f3801242-f7b1-4abe-f2f9-4c8582168e21"
      },
      "execution_count": null,
      "outputs": [
        {
          "output_type": "execute_result",
          "data": {
            "text/plain": [
              "{'test_loss': 0.2781049519777298,\n",
              " 'test_acc': 0.96875,\n",
              " 'number_of_parameters': 7705221,\n",
              " 'model_size (MB)': 29}"
            ]
          },
          "metadata": {},
          "execution_count": 23
        }
      ]
    },
    {
      "cell_type": "markdown",
      "source": [
        "#4.Creating a ViT feature extractor"
      ],
      "metadata": {
        "id": "ECCJ0ZwGWboi"
      }
    },
    {
      "cell_type": "markdown",
      "source": [
        "**Our EffNetB2 model has achieved an accuracy of more than 95%.**"
      ],
      "metadata": {
        "id": "yPbgNFBaTRGf"
      }
    },
    {
      "cell_type": "code",
      "source": [
        "# Check out ViT heads layer\n",
        "vit = torchvision.models.vit_b_16()\n",
        "vit.heads"
      ],
      "metadata": {
        "colab": {
          "base_uri": "https://localhost:8080/"
        },
        "id": "x5O9irqWS7N0",
        "outputId": "4b7284b7-7638-43c3-b4ed-999813a19090"
      },
      "execution_count": null,
      "outputs": [
        {
          "output_type": "execute_result",
          "data": {
            "text/plain": [
              "Sequential(\n",
              "  (head): Linear(in_features=768, out_features=1000, bias=True)\n",
              ")"
            ]
          },
          "metadata": {},
          "execution_count": 24
        }
      ]
    },
    {
      "cell_type": "code",
      "source": [
        "def create_vit_model(num_classes:int=3,\n",
        "                     seed:int=42):\n",
        "    \"\"\"Creates a ViT-B/16 feature extractor model and transforms.\n",
        "\n",
        "    Args:\n",
        "        num_classes (int, optional): number of target classes. Defaults to 3.\n",
        "        seed (int, optional): random seed value for output layer. Defaults to 42.\n",
        "\n",
        "    Returns:\n",
        "        model (torch.nn.Module): ViT-B/16 feature extractor model.\n",
        "        transforms (torchvision.transforms): ViT-B/16 image transforms.\n",
        "    \"\"\"\n",
        "    # Create ViT_B_16 pretrained weights, transforms and model\n",
        "    weights = torchvision.models.ViT_B_16_Weights.DEFAULT\n",
        "    transforms = weights.transforms()\n",
        "    model = torchvision.models.vit_b_16(weights=weights)\n",
        "\n",
        "    # Freeze all layers in model\n",
        "    for param in model.parameters():\n",
        "        param.requires_grad = False\n",
        "\n",
        "    # Change classifier head to suit our needs (this will be trainable)\n",
        "    torch.manual_seed(seed)\n",
        "    model.heads = nn.Sequential(nn.Linear(in_features=768, # keep this the same as original model\n",
        "                                          out_features=num_classes)) # update to reflect target number of classes\n",
        "\n",
        "    return model, transforms"
      ],
      "metadata": {
        "id": "bAtpiw6uWbP4"
      },
      "execution_count": null,
      "outputs": []
    },
    {
      "cell_type": "code",
      "source": [
        "# Create ViT model and transforms\n",
        "vit, vit_transforms = create_vit_model(num_classes=3,\n",
        "                                       seed=42)"
      ],
      "metadata": {
        "colab": {
          "base_uri": "https://localhost:8080/"
        },
        "id": "Md4MU9ObW6YM",
        "outputId": "9c5e8fae-1f2e-4709-f9d7-1f2f4f430c9c"
      },
      "execution_count": null,
      "outputs": [
        {
          "output_type": "stream",
          "name": "stderr",
          "text": [
            "Downloading: \"https://download.pytorch.org/models/vit_b_16-c867db91.pth\" to C:\\Users\\User/.cache\\torch\\hub\\checkpoints\\vit_b_16-c867db91.pth\n",
            "100%|████████████████████████████████████████████████████████████████████████████████| 330M/330M [06:31<00:00, 884kB/s]\n"
          ]
        }
      ]
    },
    {
      "cell_type": "code",
      "source": [
        "from torchinfo import summary\n",
        "\n",
        "# # Print ViT feature extractor model summary\n",
        "summary(vit,\n",
        "        input_size=(1, 3, 224, 224),\n",
        "        col_names=[\"input_size\", \"output_size\", \"num_params\", \"trainable\"],\n",
        "        col_width=20,\n",
        "        row_settings=[\"var_names\"])"
      ],
      "metadata": {
        "colab": {
          "base_uri": "https://localhost:8080/"
        },
        "id": "MJqJWpRdXCfz",
        "outputId": "3ec0377f-0fab-4d8d-879e-f0463ec4be66"
      },
      "execution_count": null,
      "outputs": [
        {
          "output_type": "execute_result",
          "data": {
            "text/plain": [
              "============================================================================================================================================\n",
              "Layer (type (var_name))                                      Input Shape          Output Shape         Param #              Trainable\n",
              "============================================================================================================================================\n",
              "VisionTransformer (VisionTransformer)                        [1, 3, 224, 224]     [1, 3]               768                  Partial\n",
              "├─Conv2d (conv_proj)                                         [1, 3, 224, 224]     [1, 768, 14, 14]     (590,592)            False\n",
              "├─Encoder (encoder)                                          [1, 197, 768]        [1, 197, 768]        151,296              False\n",
              "│    └─Dropout (dropout)                                     [1, 197, 768]        [1, 197, 768]        --                   --\n",
              "│    └─Sequential (layers)                                   [1, 197, 768]        [1, 197, 768]        --                   False\n",
              "│    │    └─EncoderBlock (encoder_layer_0)                   [1, 197, 768]        [1, 197, 768]        (7,087,872)          False\n",
              "│    │    └─EncoderBlock (encoder_layer_1)                   [1, 197, 768]        [1, 197, 768]        (7,087,872)          False\n",
              "│    │    └─EncoderBlock (encoder_layer_2)                   [1, 197, 768]        [1, 197, 768]        (7,087,872)          False\n",
              "│    │    └─EncoderBlock (encoder_layer_3)                   [1, 197, 768]        [1, 197, 768]        (7,087,872)          False\n",
              "│    │    └─EncoderBlock (encoder_layer_4)                   [1, 197, 768]        [1, 197, 768]        (7,087,872)          False\n",
              "│    │    └─EncoderBlock (encoder_layer_5)                   [1, 197, 768]        [1, 197, 768]        (7,087,872)          False\n",
              "│    │    └─EncoderBlock (encoder_layer_6)                   [1, 197, 768]        [1, 197, 768]        (7,087,872)          False\n",
              "│    │    └─EncoderBlock (encoder_layer_7)                   [1, 197, 768]        [1, 197, 768]        (7,087,872)          False\n",
              "│    │    └─EncoderBlock (encoder_layer_8)                   [1, 197, 768]        [1, 197, 768]        (7,087,872)          False\n",
              "│    │    └─EncoderBlock (encoder_layer_9)                   [1, 197, 768]        [1, 197, 768]        (7,087,872)          False\n",
              "│    │    └─EncoderBlock (encoder_layer_10)                  [1, 197, 768]        [1, 197, 768]        (7,087,872)          False\n",
              "│    │    └─EncoderBlock (encoder_layer_11)                  [1, 197, 768]        [1, 197, 768]        (7,087,872)          False\n",
              "│    └─LayerNorm (ln)                                        [1, 197, 768]        [1, 197, 768]        (1,536)              False\n",
              "├─Sequential (heads)                                         [1, 768]             [1, 3]               --                   True\n",
              "│    └─Linear (0)                                            [1, 768]             [1, 3]               2,307                True\n",
              "============================================================================================================================================\n",
              "Total params: 85,800,963\n",
              "Trainable params: 2,307\n",
              "Non-trainable params: 85,798,656\n",
              "Total mult-adds (M): 172.47\n",
              "============================================================================================================================================\n",
              "Input size (MB): 0.60\n",
              "Forward/backward pass size (MB): 104.09\n",
              "Params size (MB): 229.20\n",
              "Estimated Total Size (MB): 333.89\n",
              "============================================================================================================================================"
            ]
          },
          "metadata": {},
          "execution_count": 27
        }
      ]
    },
    {
      "cell_type": "markdown",
      "source": [
        "## 4.1 Create DataLoaders for ViT"
      ],
      "metadata": {
        "id": "pLBiUUrPXWg3"
      }
    },
    {
      "cell_type": "code",
      "source": [
        "# Setup ViT DataLoaders\n",
        "from going_modular import data_setup\n",
        "train_dataloader_vit, test_dataloader_vit, class_names = data_setup.create_dataloaders(train_dir=train_dir,\n",
        "                                                                                       test_dir=test_dir,\n",
        "                                                                                       transform=vit_transforms,\n",
        "                                                                                       batch_size=32)"
      ],
      "metadata": {
        "id": "tR2zhnmLXNk6"
      },
      "execution_count": null,
      "outputs": []
    },
    {
      "cell_type": "markdown",
      "source": [
        "## 4.2 Training ViT feature extractor"
      ],
      "metadata": {
        "id": "QtFK1EDkX2pi"
      }
    },
    {
      "cell_type": "code",
      "source": [
        "from going_modular import engine\n",
        "\n",
        "# Setup optimizer\n",
        "optimizer = torch.optim.Adam(params=vit.parameters(),\n",
        "                             lr=1e-3)\n",
        "# Setup loss function\n",
        "loss_fn = torch.nn.CrossEntropyLoss()\n",
        "\n",
        "# Train ViT model with seeds set for reproducibility\n",
        "set_seeds()\n",
        "vit_results = engine.train(model=vit,\n",
        "                           train_dataloader=train_dataloader_vit,\n",
        "                           test_dataloader=test_dataloader_vit,\n",
        "                           epochs=10,\n",
        "                           optimizer=optimizer,\n",
        "                           loss_fn=loss_fn,\n",
        "                           device=device)"
      ],
      "metadata": {
        "colab": {
          "base_uri": "https://localhost:8080/",
          "height": 191,
          "referenced_widgets": [
            "89c5f0da6afa47f8b680b722265b31bb",
            "ec3c00b342a6482c8bda5e15ebeeb482",
            "60d1e961f0fe4bc9a579871f1c97d9a3",
            "8acf484001cd45349d6df0cbb2cafc84",
            "2e9ef461b0bd46c7aef1f216e99ad17f",
            "c18afff555d248038e24d174e3c092f4",
            "6c12d48a2048498983091aed8e4e8d88",
            "78c58581cca143d5826ad9ceec6ec38e",
            "a9cf1a83fdcf4150ac379ddf781e4c01",
            "80207656f1ed4b8dae9686bf015e857e",
            "4caa1c3d38734e7ba3df3b3d87d96837"
          ]
        },
        "id": "PrHlp-thXwQQ",
        "outputId": "9a018b8c-fd0f-4b38-a8ad-41222c1580ec"
      },
      "execution_count": null,
      "outputs": [
        {
          "output_type": "display_data",
          "data": {
            "text/plain": [
              "  0%|          | 0/10 [00:00<?, ?it/s]"
            ],
            "application/vnd.jupyter.widget-view+json": {
              "version_major": 2,
              "version_minor": 0,
              "model_id": "89c5f0da6afa47f8b680b722265b31bb"
            }
          },
          "metadata": {}
        },
        {
          "output_type": "stream",
          "name": "stdout",
          "text": [
            "Epoch: 1 | train_loss: 0.7023 | train_acc: 0.7500 | test_loss: 0.2714 | test_acc: 0.9290\n",
            "Epoch: 2 | train_loss: 0.2531 | train_acc: 0.9104 | test_loss: 0.1669 | test_acc: 0.9602\n",
            "Epoch: 3 | train_loss: 0.1766 | train_acc: 0.9542 | test_loss: 0.1270 | test_acc: 0.9693\n",
            "Epoch: 4 | train_loss: 0.1277 | train_acc: 0.9625 | test_loss: 0.1072 | test_acc: 0.9722\n",
            "Epoch: 5 | train_loss: 0.1163 | train_acc: 0.9646 | test_loss: 0.0950 | test_acc: 0.9784\n",
            "Epoch: 6 | train_loss: 0.1270 | train_acc: 0.9375 | test_loss: 0.0830 | test_acc: 0.9722\n",
            "Epoch: 7 | train_loss: 0.0899 | train_acc: 0.9771 | test_loss: 0.0844 | test_acc: 0.9784\n",
            "Epoch: 8 | train_loss: 0.0928 | train_acc: 0.9812 | test_loss: 0.0759 | test_acc: 0.9722\n",
            "Epoch: 9 | train_loss: 0.0933 | train_acc: 0.9792 | test_loss: 0.0729 | test_acc: 0.9784\n",
            "Epoch: 10 | train_loss: 0.0662 | train_acc: 0.9833 | test_loss: 0.0642 | test_acc: 0.9847\n"
          ]
        }
      ]
    },
    {
      "cell_type": "markdown",
      "source": [
        "## 4.3 Inspecting ViT loss curves"
      ],
      "metadata": {
        "id": "Iy6iTPsEZJLT"
      }
    },
    {
      "cell_type": "code",
      "source": [
        "from helper_functions import plot_loss_curves\n",
        "\n",
        "plot_loss_curves(vit_results)"
      ],
      "metadata": {
        "colab": {
          "base_uri": "https://localhost:8080/",
          "height": 639
        },
        "id": "Wzb3kSGtYYgt",
        "outputId": "7de6197a-1ea7-4d20-b7dc-fa0e80f2be74"
      },
      "execution_count": null,
      "outputs": [
        {
          "output_type": "display_data",
          "data": {
            "text/plain": [
              "<Figure size 1500x700 with 2 Axes>"
            ],
            "image/png": "[encoded data removed]"
          },
          "metadata": {}
        }
      ]
    },
    {
      "cell_type": "markdown",
      "source": [
        "## 4.4 Saving ViT feature extractor"
      ],
      "metadata": {
        "id": "UxhLFLk8aMXc"
      }
    },
    {
      "cell_type": "code",
      "source": [
        "# Save the model\n",
        "from going_modular import utils\n",
        "\n",
        "utils.save_model(model=vit,\n",
        "                 target_dir=\"models\",\n",
        "                 model_name=\"09_pretrained_vit_feature_extractor_pizza_steak_sushi_20_percent.pth\")"
      ],
      "metadata": {
        "colab": {
          "base_uri": "https://localhost:8080/"
        },
        "id": "u2AC4nnDaAcB",
        "outputId": "30cfe2e9-4384-42b7-e299-e21149be2465"
      },
      "execution_count": null,
      "outputs": [
        {
          "output_type": "stream",
          "name": "stdout",
          "text": [
            "[INFO] Saving model to: models\\09_pretrained_vit_feature_extractor_pizza_steak_sushi_20_percent.pth\n"
          ]
        }
      ]
    },
    {
      "cell_type": "markdown",
      "source": [
        "## 4.5 Checking the size of ViT feature extractor"
      ],
      "metadata": {
        "id": "fi-PqCCObpGp"
      }
    },
    {
      "cell_type": "code",
      "source": [
        "from pathlib import Path\n",
        "\n",
        "# Get the model size in bytes then convert to megabytes\n",
        "pretrained_vit_model_size = Path(\"models/09_pretrained_vit_feature_extractor_pizza_steak_sushi_20_percent.pth\").stat().st_size // (1024*1024) # division converts bytes to megabytes (roughly)\n",
        "print(f\"Pretrained ViT feature extractor model size: {pretrained_vit_model_size} MB\")"
      ],
      "metadata": {
        "colab": {
          "base_uri": "https://localhost:8080/"
        },
        "id": "rIuyeGp1aUfu",
        "outputId": "32a4b3e3-3a51-41da-a335-0c83056dc774"
      },
      "execution_count": null,
      "outputs": [
        {
          "output_type": "stream",
          "name": "stdout",
          "text": [
            "Pretrained ViT feature extractor model size: 327 MB\n"
          ]
        }
      ]
    },
    {
      "cell_type": "markdown",
      "source": [
        "## 4.6 Collecting ViT feature extractor stats"
      ],
      "metadata": {
        "id": "6D8u0WeccCJk"
      }
    },
    {
      "cell_type": "code",
      "source": [
        "# Count number of parameters in ViT\n",
        "vit_total_params = sum(torch.numel(param) for param in vit.parameters())\n",
        "vit_total_params"
      ],
      "metadata": {
        "colab": {
          "base_uri": "https://localhost:8080/"
        },
        "id": "e-xz_PUxb8v2",
        "outputId": "dc607eaa-3a9a-4230-eef2-2479976fa852"
      },
      "execution_count": null,
      "outputs": [
        {
          "output_type": "execute_result",
          "data": {
            "text/plain": [
              "85800963"
            ]
          },
          "metadata": {},
          "execution_count": 33
        }
      ]
    },
    {
      "cell_type": "code",
      "source": [
        "# Create ViT statistics dictionary\n",
        "vit_stats = {\"test_loss\": vit_results[\"test_loss\"][-1],\n",
        "             \"test_acc\": vit_results[\"test_acc\"][-1],\n",
        "             \"number_of_parameters\": vit_total_params,\n",
        "             \"model_size (MB)\": pretrained_vit_model_size}\n",
        "\n",
        "vit_stats"
      ],
      "metadata": {
        "colab": {
          "base_uri": "https://localhost:8080/"
        },
        "id": "M9zjbXAUPARh",
        "outputId": "356d5701-f414-4312-a602-97565a4c4c3d"
      },
      "execution_count": null,
      "outputs": [
        {
          "output_type": "execute_result",
          "data": {
            "text/plain": [
              "{'test_loss': 0.06418212326243519,\n",
              " 'test_acc': 0.984659090909091,\n",
              " 'number_of_parameters': 85800963,\n",
              " 'model_size (MB)': 327}"
            ]
          },
          "metadata": {},
          "execution_count": 55
        }
      ]
    },
    {
      "cell_type": "markdown",
      "source": [
        "**ViT model achieves over 95% accuracy too**"
      ],
      "metadata": {
        "id": "HqP5iiVxeGAu"
      }
    },
    {
      "cell_type": "markdown",
      "source": [
        "# 5.Making predictions with our trained models and timing them"
      ],
      "metadata": {
        "id": "FoIfltqJeRVG"
      }
    },
    {
      "cell_type": "code",
      "source": [
        "from pathlib import Path\n",
        "\n",
        "# Get all test data paths\n",
        "print(f\"[INFO] Finding all filepaths ending with '.jpg' in directory: {test_dir}\")\n",
        "test_data_paths = list(Path(test_dir).glob(\"*/*.jpg\"))\n",
        "test_data_paths[:5]"
      ],
      "metadata": {
        "colab": {
          "base_uri": "https://localhost:8080/"
        },
        "id": "Hj41WX9UeQbw",
        "outputId": "1b953d7b-212e-40ce-c05c-c66235992e8f"
      },
      "execution_count": null,
      "outputs": [
        {
          "output_type": "stream",
          "name": "stdout",
          "text": [
            "[INFO] Finding all filepaths ending with '.jpg' in directory: data\\pizza_steak_sushi_20_percent\\test\n"
          ]
        },
        {
          "output_type": "execute_result",
          "data": {
            "text/plain": [
              "[WindowsPath('data/pizza_steak_sushi_20_percent/test/pizza/1001116.jpg'),\n",
              " WindowsPath('data/pizza_steak_sushi_20_percent/test/pizza/1032754.jpg'),\n",
              " WindowsPath('data/pizza_steak_sushi_20_percent/test/pizza/1067986.jpg'),\n",
              " WindowsPath('data/pizza_steak_sushi_20_percent/test/pizza/129666.jpg'),\n",
              " WindowsPath('data/pizza_steak_sushi_20_percent/test/pizza/1315645.jpg')]"
            ]
          },
          "metadata": {},
          "execution_count": 34
        }
      ]
    },
    {
      "cell_type": "markdown",
      "source": [
        "## 5.1 Creating a function to make predictions across the test dataset"
      ],
      "metadata": {
        "id": "vp7PJJXVjHge"
      }
    },
    {
      "cell_type": "code",
      "source": [
        "import pathlib\n",
        "import torch\n",
        "\n",
        "from PIL import Image\n",
        "from timeit import default_timer as timer\n",
        "from tqdm.auto import tqdm\n",
        "from typing import List, Dict\n",
        "\n",
        "# 1. Create a function to return a list of dictionaries with sample, truth label, prediction, prediction probability and prediction time\n",
        "def pred_and_store(paths: List[pathlib.Path],\n",
        "                   model: torch.nn.Module,\n",
        "                   transform: torchvision.transforms,\n",
        "                   class_names: List[str],\n",
        "                   device: str = \"cuda\" if torch.cuda.is_available() else \"cpu\") -> List[Dict]:\n",
        "\n",
        "    # 2. Create an empty list to store prediction dictionaires\n",
        "    pred_list = []\n",
        "\n",
        "    # 3. Loop through target paths\n",
        "    for path in tqdm(paths):\n",
        "\n",
        "        # 4. Create empty dictionary to store prediction information for each sample\n",
        "        pred_dict = {}\n",
        "\n",
        "        # 5. Get the sample path and ground truth class name\n",
        "        pred_dict[\"image_path\"] = path\n",
        "        class_name = path.parent.stem\n",
        "        pred_dict[\"class_name\"] = class_name\n",
        "\n",
        "        # 6. Start the prediction timer\n",
        "        start_time = timer()\n",
        "\n",
        "        # 7. Open image path\n",
        "        img = Image.open(path)\n",
        "\n",
        "        # 8. Transform the image, add batch dimension and put image on target device\n",
        "        transformed_image = transform(img).unsqueeze(0).to(device)\n",
        "\n",
        "        # 9. Prepare model for inference by sending it to target device and turning on eval() mode\n",
        "        model.to(device)\n",
        "        model.eval()\n",
        "\n",
        "        # 10. Get prediction probability, predicition label and prediction class\n",
        "        with torch.inference_mode():\n",
        "            pred_logit = model(transformed_image) # perform inference on target sample\n",
        "            pred_prob = torch.softmax(pred_logit, dim=1) # turn logits into prediction probabilities\n",
        "            pred_label = torch.argmax(pred_prob, dim=1) # turn prediction probabilities into prediction label\n",
        "            pred_class = class_names[pred_label.cpu()] # hardcode prediction class to be on CPU\n",
        "\n",
        "            # 11. Make sure things in the dictionary are on CPU (required for inspecting predictions later on)\n",
        "            pred_dict[\"pred_prob\"] = round(pred_prob.unsqueeze(0).max().cpu().item(), 4)\n",
        "            pred_dict[\"pred_class\"] = pred_class\n",
        "\n",
        "            # 12. End the timer and calculate time per pred\n",
        "            end_time = timer()\n",
        "            pred_dict[\"time_for_pred\"] = round(end_time-start_time, 4)\n",
        "\n",
        "        # 13. Does the pred match the true label?\n",
        "        pred_dict[\"correct\"] = class_name == pred_class\n",
        "\n",
        "        # 14. Add the dictionary to the list of preds\n",
        "        pred_list.append(pred_dict)\n",
        "\n",
        "    # 15. Return list of prediction dictionaries\n",
        "    return pred_list"
      ],
      "metadata": {
        "id": "a58ECvisi65b"
      },
      "execution_count": null,
      "outputs": []
    },
    {
      "cell_type": "markdown",
      "source": [
        "## 5.2 Making and timing predictions with EffNetB2"
      ],
      "metadata": {
        "id": "AlNXWfgXsyys"
      }
    },
    {
      "cell_type": "code",
      "source": [
        "# Make predictions across test dataset with EffNetB2\n",
        "effnetb2_test_pred_dicts = pred_and_store(paths=test_data_paths,\n",
        "                                          model=effnetb2,\n",
        "                                          transform=effnetb2_transforms,\n",
        "                                          class_names=class_names,\n",
        "                                          device=\"cpu\") # make predictions on CPU"
      ],
      "metadata": {
        "colab": {
          "base_uri": "https://localhost:8080/",
          "height": 17,
          "referenced_widgets": [
            "bc6b12ccfb6b4b459890e9210b743915",
            "a3ee5225da844092a7e5e4bf10ccb6ac",
            "8ce412f065f44226baabc6a4fecaf1ae",
            "8210539929ea4451a2979a08e2c94ccc",
            "300cd7155eb74484bafdbab3081f495d",
            "16239a5af1b5447aa80420a939a4bebb",
            "0915c601f8c6483e8d1a5bb26196eac3",
            "b4bc5b3542724e4c9ab87aa3dcca7829",
            "065e637b22b14fa9949a3eca4995e198",
            "5230f5e1d5ff49938a0b23e8be79ad09",
            "b2b65829e8c34c5b8cbf09fd88feb0be"
          ]
        },
        "id": "OnDweJWys2wW",
        "outputId": "cd85727d-9043-4cd4-96a0-77f08b0e409d"
      },
      "execution_count": null,
      "outputs": [
        {
          "output_type": "display_data",
          "data": {
            "text/plain": [
              "  0%|          | 0/150 [00:00<?, ?it/s]"
            ],
            "application/vnd.jupyter.widget-view+json": {
              "version_major": 2,
              "version_minor": 0,
              "model_id": "bc6b12ccfb6b4b459890e9210b743915"
            }
          },
          "metadata": {}
        }
      ]
    },
    {
      "cell_type": "code",
      "source": [
        "# Inspect the first 2 prediction dictionaries\n",
        "effnetb2_test_pred_dicts[:2]"
      ],
      "metadata": {
        "colab": {
          "base_uri": "https://localhost:8080/"
        },
        "id": "9884WWGEtJ_y",
        "outputId": "49a70c0d-3d6a-46aa-c4c6-08594ea77825"
      },
      "execution_count": null,
      "outputs": [
        {
          "output_type": "execute_result",
          "data": {
            "text/plain": [
              "[{'image_path': WindowsPath('data/pizza_steak_sushi_20_percent/test/pizza/1001116.jpg'),\n",
              "  'class_name': 'pizza',\n",
              "  'pred_prob': 0.9947,\n",
              "  'pred_class': 'pizza',\n",
              "  'time_for_pred': 0.5294,\n",
              "  'correct': True},\n",
              " {'image_path': WindowsPath('data/pizza_steak_sushi_20_percent/test/pizza/1032754.jpg'),\n",
              "  'class_name': 'pizza',\n",
              "  'pred_prob': 0.5388,\n",
              "  'pred_class': 'pizza',\n",
              "  'time_for_pred': 0.2047,\n",
              "  'correct': True}]"
            ]
          },
          "metadata": {},
          "execution_count": 37
        }
      ]
    },
    {
      "cell_type": "code",
      "source": [
        "# Turn the test_pred_dicts into a DataFrame\n",
        "import pandas as pd\n",
        "effnetb2_test_pred_df = pd.DataFrame(effnetb2_test_pred_dicts)\n",
        "effnetb2_test_pred_df.head()"
      ],
      "metadata": {
        "colab": {
          "base_uri": "https://localhost:8080/",
          "height": 206
        },
        "id": "w_PrI0N-4A4A",
        "outputId": "834fbce0-6bc8-43b2-b89d-21ffb959a23b"
      },
      "execution_count": null,
      "outputs": [
        {
          "output_type": "execute_result",
          "data": {
            "text/plain": [
              "                                          image_path class_name  pred_prob  \\\n",
              "0  data\\pizza_steak_sushi_20_percent\\test\\pizza\\1...      pizza     0.9947   \n",
              "1  data\\pizza_steak_sushi_20_percent\\test\\pizza\\1...      pizza     0.5388   \n",
              "2  data\\pizza_steak_sushi_20_percent\\test\\pizza\\1...      pizza     0.9914   \n",
              "3  data\\pizza_steak_sushi_20_percent\\test\\pizza\\1...      pizza     0.7012   \n",
              "4  data\\pizza_steak_sushi_20_percent\\test\\pizza\\1...      pizza     0.7652   \n",
              "\n",
              "  pred_class  time_for_pred  correct  \n",
              "0      pizza         0.5294     True  \n",
              "1      pizza         0.2047     True  \n",
              "2      pizza         0.2065     True  \n",
              "3      pizza         0.2292     True  \n",
              "4      pizza         0.2001     True  "
            ],
            "text/html": [
              "<div>\n",
              "<style scoped>\n",
              "    .dataframe tbody tr th:only-of-type {\n",
              "        vertical-align: middle;\n",
              "    }\n",
              "\n",
              "    .dataframe tbody tr th {\n",
              "        vertical-align: top;\n",
              "    }\n",
              "\n",
              "    .dataframe thead th {\n",
              "        text-align: right;\n",
              "    }\n",
              "</style>\n",
              "<table border=\"1\" class=\"dataframe\">\n",
              "  <thead>\n",
              "    <tr style=\"text-align: right;\">\n",
              "      <th></th>\n",
              "      <th>image_path</th>\n",
              "      <th>class_name</th>\n",
              "      <th>pred_prob</th>\n",
              "      <th>pred_class</th>\n",
              "      <th>time_for_pred</th>\n",
              "      <th>correct</th>\n",
              "    </tr>\n",
              "  </thead>\n",
              "  <tbody>\n",
              "    <tr>\n",
              "      <th>0</th>\n",
              "      <td>data\\pizza_steak_sushi_20_percent\\test\\pizza\\1...</td>\n",
              "      <td>pizza</td>\n",
              "      <td>0.9947</td>\n",
              "      <td>pizza</td>\n",
              "      <td>0.5294</td>\n",
              "      <td>True</td>\n",
              "    </tr>\n",
              "    <tr>\n",
              "      <th>1</th>\n",
              "      <td>data\\pizza_steak_sushi_20_percent\\test\\pizza\\1...</td>\n",
              "      <td>pizza</td>\n",
              "      <td>0.5388</td>\n",
              "      <td>pizza</td>\n",
              "      <td>0.2047</td>\n",
              "      <td>True</td>\n",
              "    </tr>\n",
              "    <tr>\n",
              "      <th>2</th>\n",
              "      <td>data\\pizza_steak_sushi_20_percent\\test\\pizza\\1...</td>\n",
              "      <td>pizza</td>\n",
              "      <td>0.9914</td>\n",
              "      <td>pizza</td>\n",
              "      <td>0.2065</td>\n",
              "      <td>True</td>\n",
              "    </tr>\n",
              "    <tr>\n",
              "      <th>3</th>\n",
              "      <td>data\\pizza_steak_sushi_20_percent\\test\\pizza\\1...</td>\n",
              "      <td>pizza</td>\n",
              "      <td>0.7012</td>\n",
              "      <td>pizza</td>\n",
              "      <td>0.2292</td>\n",
              "      <td>True</td>\n",
              "    </tr>\n",
              "    <tr>\n",
              "      <th>4</th>\n",
              "      <td>data\\pizza_steak_sushi_20_percent\\test\\pizza\\1...</td>\n",
              "      <td>pizza</td>\n",
              "      <td>0.7652</td>\n",
              "      <td>pizza</td>\n",
              "      <td>0.2001</td>\n",
              "      <td>True</td>\n",
              "    </tr>\n",
              "  </tbody>\n",
              "</table>\n",
              "</div>"
            ]
          },
          "metadata": {},
          "execution_count": 38
        }
      ]
    },
    {
      "cell_type": "code",
      "source": [
        "# Check number of correct predictions\n",
        "effnetb2_test_pred_df.correct.value_counts()"
      ],
      "metadata": {
        "colab": {
          "base_uri": "https://localhost:8080/"
        },
        "id": "qd1VqE2p4DJI",
        "outputId": "31dbaaf6-1fe0-48da-e7e8-a89c7b09d8d8"
      },
      "execution_count": null,
      "outputs": [
        {
          "output_type": "execute_result",
          "data": {
            "text/plain": [
              "correct\n",
              "True     145\n",
              "False      5\n",
              "Name: count, dtype: int64"
            ]
          },
          "metadata": {},
          "execution_count": 39
        }
      ]
    },
    {
      "cell_type": "code",
      "source": [
        "# Find the average time per prediction\n",
        "effnetb2_average_time_per_pred = round(effnetb2_test_pred_df.time_for_pred.mean(), 4)\n",
        "print(f\"EffNetB2 average time per prediction: {effnetb2_average_time_per_pred} seconds\")"
      ],
      "metadata": {
        "colab": {
          "base_uri": "https://localhost:8080/"
        },
        "id": "IjAAqDd_4Dnu",
        "outputId": "ec705343-6ec4-4296-cd39-0fb1349ff665"
      },
      "execution_count": null,
      "outputs": [
        {
          "output_type": "stream",
          "name": "stdout",
          "text": [
            "EffNetB2 average time per prediction: 0.211 seconds\n"
          ]
        }
      ]
    },
    {
      "cell_type": "code",
      "source": [
        "# Add EffNetB2 average prediction time to stats dictionary\n",
        "effnetb2_stats[\"time_per_pred_cpu\"] = effnetb2_average_time_per_pred\n",
        "effnetb2_stats"
      ],
      "metadata": {
        "colab": {
          "base_uri": "https://localhost:8080/"
        },
        "id": "dnV33qaW4HyR",
        "outputId": "dd163c26-a293-4e5e-f0d8-7d991594c815"
      },
      "execution_count": null,
      "outputs": [
        {
          "output_type": "execute_result",
          "data": {
            "text/plain": [
              "{'test_loss': 0.2781049519777298,\n",
              " 'test_acc': 0.96875,\n",
              " 'number_of_parameters': 7705221,\n",
              " 'model_size (MB)': 29,\n",
              " 'time_per_pred_cpu': 0.211}"
            ]
          },
          "metadata": {},
          "execution_count": 41
        }
      ]
    },
    {
      "cell_type": "markdown",
      "source": [
        "## 5.3 Making and timing predictions with ViT"
      ],
      "metadata": {
        "id": "tMOLoB0CLNmI"
      }
    },
    {
      "cell_type": "code",
      "source": [
        "# Make list of prediction dictionaries with ViT feature extractor model on test images\n",
        "vit_test_pred_dicts = pred_and_store(paths=test_data_paths,\n",
        "                                     model=vit,\n",
        "                                     transform=vit_transforms,\n",
        "                                     class_names=class_names,\n",
        "                                     device=\"cpu\")"
      ],
      "metadata": {
        "colab": {
          "base_uri": "https://localhost:8080/",
          "height": 17,
          "referenced_widgets": [
            "2d5b5124552944d4a846ec780fcaad0f",
            "f77bddec45364335bab4ee35768e65b1",
            "dfe9a05485fe481d888ab34a1b02fcdd",
            "2e6139d2968940978b677554ff90e007",
            "8136298082044342afe25eb8404a6410",
            "191b7aabb75d4bb49086fbeb54204037",
            "c4d74c0be2ae4e5db3f777de006eb117",
            "a6444b813e694f58ae91c8766d19c97a",
            "941c9df481b744cd946e2baa066e921f",
            "9561a965d11840bfb1661290748f7adb",
            "5c6475bc77204924894c17eee72b8b9e"
          ]
        },
        "id": "pTVDx6hWLQa7",
        "outputId": "e4e566dd-91af-426e-8be4-912ab04da69f"
      },
      "execution_count": null,
      "outputs": [
        {
          "output_type": "display_data",
          "data": {
            "text/plain": [
              "  0%|          | 0/150 [00:00<?, ?it/s]"
            ],
            "application/vnd.jupyter.widget-view+json": {
              "version_major": 2,
              "version_minor": 0,
              "model_id": "2d5b5124552944d4a846ec780fcaad0f"
            }
          },
          "metadata": {}
        }
      ]
    },
    {
      "cell_type": "code",
      "source": [
        "# Check the first couple of ViT predictions on the test dataset\n",
        "vit_test_pred_dicts[:2]"
      ],
      "metadata": {
        "colab": {
          "base_uri": "https://localhost:8080/"
        },
        "id": "BTZjlrfQLdgv",
        "outputId": "565b5c84-096d-45cf-bab7-0c601bda10c2"
      },
      "execution_count": null,
      "outputs": [
        {
          "output_type": "execute_result",
          "data": {
            "text/plain": [
              "[{'image_path': WindowsPath('data/pizza_steak_sushi_20_percent/test/pizza/1001116.jpg'),\n",
              "  'class_name': 'pizza',\n",
              "  'pred_prob': 0.9986,\n",
              "  'pred_class': 'pizza',\n",
              "  'time_for_pred': 0.6587,\n",
              "  'correct': True},\n",
              " {'image_path': WindowsPath('data/pizza_steak_sushi_20_percent/test/pizza/1032754.jpg'),\n",
              "  'class_name': 'pizza',\n",
              "  'pred_prob': 0.9957,\n",
              "  'pred_class': 'pizza',\n",
              "  'time_for_pred': 0.3184,\n",
              "  'correct': True}]"
            ]
          },
          "metadata": {},
          "execution_count": 50
        }
      ]
    },
    {
      "cell_type": "code",
      "source": [
        "# Turn vit_test_pred_dicts into a DataFrame\n",
        "import pandas as pd\n",
        "vit_test_pred_df = pd.DataFrame(vit_test_pred_dicts)\n",
        "vit_test_pred_df.head()"
      ],
      "metadata": {
        "colab": {
          "base_uri": "https://localhost:8080/",
          "height": 206
        },
        "id": "HN43EqtAL_qE",
        "outputId": "f7bd2c04-72c4-4788-a45d-a5a799e10687"
      },
      "execution_count": null,
      "outputs": [
        {
          "output_type": "execute_result",
          "data": {
            "text/plain": [
              "                                          image_path class_name  pred_prob  \\\n",
              "0  data\\pizza_steak_sushi_20_percent\\test\\pizza\\1...      pizza     0.9986   \n",
              "1  data\\pizza_steak_sushi_20_percent\\test\\pizza\\1...      pizza     0.9957   \n",
              "2  data\\pizza_steak_sushi_20_percent\\test\\pizza\\1...      pizza     0.9987   \n",
              "3  data\\pizza_steak_sushi_20_percent\\test\\pizza\\1...      pizza     0.9869   \n",
              "4  data\\pizza_steak_sushi_20_percent\\test\\pizza\\1...      pizza     0.9710   \n",
              "\n",
              "  pred_class  time_for_pred  correct  \n",
              "0      pizza         0.6587     True  \n",
              "1      pizza         0.3184     True  \n",
              "2      pizza         0.2932     True  \n",
              "3      pizza         0.2830     True  \n",
              "4      pizza         0.2775     True  "
            ],
            "text/html": [
              "<div>\n",
              "<style scoped>\n",
              "    .dataframe tbody tr th:only-of-type {\n",
              "        vertical-align: middle;\n",
              "    }\n",
              "\n",
              "    .dataframe tbody tr th {\n",
              "        vertical-align: top;\n",
              "    }\n",
              "\n",
              "    .dataframe thead th {\n",
              "        text-align: right;\n",
              "    }\n",
              "</style>\n",
              "<table border=\"1\" class=\"dataframe\">\n",
              "  <thead>\n",
              "    <tr style=\"text-align: right;\">\n",
              "      <th></th>\n",
              "      <th>image_path</th>\n",
              "      <th>class_name</th>\n",
              "      <th>pred_prob</th>\n",
              "      <th>pred_class</th>\n",
              "      <th>time_for_pred</th>\n",
              "      <th>correct</th>\n",
              "    </tr>\n",
              "  </thead>\n",
              "  <tbody>\n",
              "    <tr>\n",
              "      <th>0</th>\n",
              "      <td>data\\pizza_steak_sushi_20_percent\\test\\pizza\\1...</td>\n",
              "      <td>pizza</td>\n",
              "      <td>0.9986</td>\n",
              "      <td>pizza</td>\n",
              "      <td>0.6587</td>\n",
              "      <td>True</td>\n",
              "    </tr>\n",
              "    <tr>\n",
              "      <th>1</th>\n",
              "      <td>data\\pizza_steak_sushi_20_percent\\test\\pizza\\1...</td>\n",
              "      <td>pizza</td>\n",
              "      <td>0.9957</td>\n",
              "      <td>pizza</td>\n",
              "      <td>0.3184</td>\n",
              "      <td>True</td>\n",
              "    </tr>\n",
              "    <tr>\n",
              "      <th>2</th>\n",
              "      <td>data\\pizza_steak_sushi_20_percent\\test\\pizza\\1...</td>\n",
              "      <td>pizza</td>\n",
              "      <td>0.9987</td>\n",
              "      <td>pizza</td>\n",
              "      <td>0.2932</td>\n",
              "      <td>True</td>\n",
              "    </tr>\n",
              "    <tr>\n",
              "      <th>3</th>\n",
              "      <td>data\\pizza_steak_sushi_20_percent\\test\\pizza\\1...</td>\n",
              "      <td>pizza</td>\n",
              "      <td>0.9869</td>\n",
              "      <td>pizza</td>\n",
              "      <td>0.2830</td>\n",
              "      <td>True</td>\n",
              "    </tr>\n",
              "    <tr>\n",
              "      <th>4</th>\n",
              "      <td>data\\pizza_steak_sushi_20_percent\\test\\pizza\\1...</td>\n",
              "      <td>pizza</td>\n",
              "      <td>0.9710</td>\n",
              "      <td>pizza</td>\n",
              "      <td>0.2775</td>\n",
              "      <td>True</td>\n",
              "    </tr>\n",
              "  </tbody>\n",
              "</table>\n",
              "</div>"
            ]
          },
          "metadata": {},
          "execution_count": 51
        }
      ]
    },
    {
      "cell_type": "code",
      "source": [
        "# Count the number of correct predictions\n",
        "vit_test_pred_df.correct.value_counts()"
      ],
      "metadata": {
        "colab": {
          "base_uri": "https://localhost:8080/"
        },
        "id": "YCCoQ8MZMQbM",
        "outputId": "f7741b95-f8c2-42a2-f4e6-3ea1384c1282"
      },
      "execution_count": null,
      "outputs": [
        {
          "output_type": "execute_result",
          "data": {
            "text/plain": [
              "correct\n",
              "True     148\n",
              "False      2\n",
              "Name: count, dtype: int64"
            ]
          },
          "metadata": {},
          "execution_count": 52
        }
      ]
    },
    {
      "cell_type": "code",
      "source": [
        "# Calculate average time per prediction for ViT model\n",
        "vit_average_time_per_pred = round(vit_test_pred_df.time_for_pred.mean(), 4)\n",
        "print(f\"ViT average time per prediction: {vit_average_time_per_pred} seconds\")"
      ],
      "metadata": {
        "colab": {
          "base_uri": "https://localhost:8080/"
        },
        "id": "Z0TNqfafMWa7",
        "outputId": "b98ff942-f74f-459c-a393-9a3421058e7b"
      },
      "execution_count": null,
      "outputs": [
        {
          "output_type": "stream",
          "name": "stdout",
          "text": [
            "ViT average time per prediction: 0.3154 seconds\n"
          ]
        }
      ]
    },
    {
      "cell_type": "code",
      "source": [
        "# Add average prediction time for ViT model on CPU\n",
        "vit_stats[\"time_per_pred_cpu\"] = vit_average_time_per_pred\n",
        "vit_stats"
      ],
      "metadata": {
        "colab": {
          "base_uri": "https://localhost:8080/"
        },
        "id": "Ql8KSg_1MZ-B",
        "outputId": "55772795-fef6-4ef5-80d1-c14719150f37"
      },
      "execution_count": null,
      "outputs": [
        {
          "output_type": "execute_result",
          "data": {
            "text/plain": [
              "{'test_loss': 0.06418212326243519,\n",
              " 'test_acc': 0.984659090909091,\n",
              " 'number_of_parameters': 85800963,\n",
              " 'model_size (MB)': 327,\n",
              " 'time_per_pred_cpu': 0.3154}"
            ]
          },
          "metadata": {},
          "execution_count": 56
        }
      ]
    },
    {
      "cell_type": "markdown",
      "source": [
        "# 6.Comparing model results, prediction times and size"
      ],
      "metadata": {
        "id": "lfYX1YquNLb2"
      }
    },
    {
      "cell_type": "code",
      "source": [
        "# Turn stat dictionaries into DataFrame\n",
        "df = pd.DataFrame([effnetb2_stats, vit_stats])\n",
        "\n",
        "# Add column for model names\n",
        "df[\"model\"] = [\"EffNetB2\", \"ViT\"]\n",
        "\n",
        "# Convert accuracy to percentages\n",
        "df[\"test_acc\"] = round(df[\"test_acc\"] * 100, 2)\n",
        "\n",
        "df"
      ],
      "metadata": {
        "colab": {
          "base_uri": "https://localhost:8080/",
          "height": 112
        },
        "id": "aQTrSGQ_Pk7d",
        "outputId": "cd96242d-e5cd-4643-c4ed-3b8afce9f624"
      },
      "execution_count": null,
      "outputs": [
        {
          "output_type": "execute_result",
          "data": {
            "text/plain": [
              "   test_loss  test_acc  number_of_parameters  model_size (MB)  \\\n",
              "0   0.278105     96.88               7705221               29   \n",
              "1   0.064182     98.47              85800963              327   \n",
              "\n",
              "   time_per_pred_cpu     model  \n",
              "0             0.2110  EffNetB2  \n",
              "1             0.3154       ViT  "
            ],
            "text/html": [
              "<div>\n",
              "<style scoped>\n",
              "    .dataframe tbody tr th:only-of-type {\n",
              "        vertical-align: middle;\n",
              "    }\n",
              "\n",
              "    .dataframe tbody tr th {\n",
              "        vertical-align: top;\n",
              "    }\n",
              "\n",
              "    .dataframe thead th {\n",
              "        text-align: right;\n",
              "    }\n",
              "</style>\n",
              "<table border=\"1\" class=\"dataframe\">\n",
              "  <thead>\n",
              "    <tr style=\"text-align: right;\">\n",
              "      <th></th>\n",
              "      <th>test_loss</th>\n",
              "      <th>test_acc</th>\n",
              "      <th>number_of_parameters</th>\n",
              "      <th>model_size (MB)</th>\n",
              "      <th>time_per_pred_cpu</th>\n",
              "      <th>model</th>\n",
              "    </tr>\n",
              "  </thead>\n",
              "  <tbody>\n",
              "    <tr>\n",
              "      <th>0</th>\n",
              "      <td>0.278105</td>\n",
              "      <td>96.88</td>\n",
              "      <td>7705221</td>\n",
              "      <td>29</td>\n",
              "      <td>0.2110</td>\n",
              "      <td>EffNetB2</td>\n",
              "    </tr>\n",
              "    <tr>\n",
              "      <th>1</th>\n",
              "      <td>0.064182</td>\n",
              "      <td>98.47</td>\n",
              "      <td>85800963</td>\n",
              "      <td>327</td>\n",
              "      <td>0.3154</td>\n",
              "      <td>ViT</td>\n",
              "    </tr>\n",
              "  </tbody>\n",
              "</table>\n",
              "</div>"
            ]
          },
          "metadata": {},
          "execution_count": 59
        }
      ]
    },
    {
      "cell_type": "code",
      "source": [
        "# Compare ViT to EffNetB2 across different characteristics\n",
        "pd.DataFrame(data=(df.set_index(\"model\").loc[\"ViT\"] / df.set_index(\"model\").loc[\"EffNetB2\"]), # divide ViT statistics by EffNetB2 statistics\n",
        "             columns=[\"ViT to EffNetB2 ratios\"]).T"
      ],
      "metadata": {
        "colab": {
          "base_uri": "https://localhost:8080/",
          "height": 81
        },
        "id": "TcorTZWVPliS",
        "outputId": "04545a91-48fe-4ac6-f486-8ec755d4ccfd"
      },
      "execution_count": null,
      "outputs": [
        {
          "output_type": "execute_result",
          "data": {
            "text/plain": [
              "                        test_loss  test_acc  number_of_parameters  \\\n",
              "ViT to EffNetB2 ratios   0.230784  1.016412             11.135432   \n",
              "\n",
              "                        model_size (MB)  time_per_pred_cpu  \n",
              "ViT to EffNetB2 ratios        11.275862           1.494787  "
            ],
            "text/html": [
              "<div>\n",
              "<style scoped>\n",
              "    .dataframe tbody tr th:only-of-type {\n",
              "        vertical-align: middle;\n",
              "    }\n",
              "\n",
              "    .dataframe tbody tr th {\n",
              "        vertical-align: top;\n",
              "    }\n",
              "\n",
              "    .dataframe thead th {\n",
              "        text-align: right;\n",
              "    }\n",
              "</style>\n",
              "<table border=\"1\" class=\"dataframe\">\n",
              "  <thead>\n",
              "    <tr style=\"text-align: right;\">\n",
              "      <th></th>\n",
              "      <th>test_loss</th>\n",
              "      <th>test_acc</th>\n",
              "      <th>number_of_parameters</th>\n",
              "      <th>model_size (MB)</th>\n",
              "      <th>time_per_pred_cpu</th>\n",
              "    </tr>\n",
              "  </thead>\n",
              "  <tbody>\n",
              "    <tr>\n",
              "      <th>ViT to EffNetB2 ratios</th>\n",
              "      <td>0.230784</td>\n",
              "      <td>1.016412</td>\n",
              "      <td>11.135432</td>\n",
              "      <td>11.275862</td>\n",
              "      <td>1.494787</td>\n",
              "    </tr>\n",
              "  </tbody>\n",
              "</table>\n",
              "</div>"
            ]
          },
          "metadata": {},
          "execution_count": 60
        }
      ]
    },
    {
      "cell_type": "markdown",
      "source": [
        "ViT model outperforms the EffNetB2 model across the performance metrics\n",
        "- 11x+ the number of parameters.\n",
        "- 11x+ the model size.\n",
        "- 2.5x+ the prediction time per image."
      ],
      "metadata": {
        "id": "Tg7aDcoYQDnQ"
      }
    },
    {
      "cell_type": "markdown",
      "source": [
        "If we were to have access to unlimited computing power, we might consider using the EffNetB2 model for faster predictions and significantly smaller size when deploying the FoodVision Mini model to a smaller device, such as a mobile phone. This would result in a slightly reduced performance, but it would be more suitable for our use case."
      ],
      "metadata": {
        "id": "02d7TB6-QV10"
      }
    },
    {
      "cell_type": "markdown",
      "source": [
        "## 6.1 Visualizing the speed vs. performance tradeoff"
      ],
      "metadata": {
        "id": "FNB28L8JQbrx"
      }
    },
    {
      "cell_type": "code",
      "source": [
        "# 1. Create a plot from model comparison DataFrame\n",
        "fig, ax = plt.subplots(figsize=(12, 8))\n",
        "scatter = ax.scatter(data=df,\n",
        "                     x=\"time_per_pred_cpu\",\n",
        "                     y=\"test_acc\",\n",
        "                     c=[\"blue\", \"orange\"], # what colours to use?\n",
        "                     s=\"model_size (MB)\") # size the dots by the model sizes\n",
        "\n",
        "# 2. Add titles, labels and customize fontsize for aesthetics\n",
        "ax.set_title(\"FoodVision Mini Inference Speed vs Performance\", fontsize=18)\n",
        "ax.set_xlabel(\"Prediction time per image (seconds)\", fontsize=14)\n",
        "ax.set_ylabel(\"Test accuracy (%)\", fontsize=14)\n",
        "ax.tick_params(axis='both', labelsize=12)\n",
        "ax.grid(True)\n",
        "\n",
        "# 3. Annotate with model names\n",
        "for index, row in df.iterrows():\n",
        "    ax.annotate(text=row[\"model\"], # note: depending on your version of Matplotlib, you may need to use \"s=...\" or \"text=...\", see: https://github.com/faustomorales/keras-ocr/issues/183#issuecomment-977733270\n",
        "                xy=(row[\"time_per_pred_cpu\"]+0.0006, row[\"test_acc\"]+0.03),\n",
        "                size=12)\n",
        "\n",
        "# 4. Create a legend based on model sizes\n",
        "handles, labels = scatter.legend_elements(prop=\"sizes\", alpha=0.5)\n",
        "model_size_legend = ax.legend(handles,\n",
        "                              labels,\n",
        "                              loc=\"lower right\",\n",
        "                              title=\"Model size (MB)\",\n",
        "                              fontsize=12)\n",
        "import os\n",
        "\n",
        "# Define the directory\n",
        "directory = \"food-vision-pytorch\"\n",
        "\n",
        "# Check if the directory exists\n",
        "if not os.path.exists(directory):\n",
        "    # If the directory does not exist, create it\n",
        "    os.makedirs(directory)\n",
        "\n",
        "#save your figure\n",
        "plt.savefig(f\"{directory}/09-foodvision-mini-inference-speed-vs-performance.jpg\")\n",
        "\n",
        "\n",
        "# Show the figure\n",
        "plt.show()"
      ],
      "metadata": {
        "colab": {
          "base_uri": "https://localhost:8080/",
          "height": 729
        },
        "id": "IA9nMYnqQVoe",
        "outputId": "d1da6a6d-efc4-4a00-a6eb-d7ead4c4ec29"
      },
      "execution_count": null,
      "outputs": [
        {
          "output_type": "display_data",
          "data": {
            "text/plain": [
              "<Figure size 1200x800 with 1 Axes>"
            ],
            "image/png": "[encoded data removed]"
          },
          "metadata": {}
        }
      ]
    },
    {
      "cell_type": "markdown",
      "source": [
        "# 7.Bringing FoodVision Mini to life by creating a Gradio demo"
      ],
      "metadata": {
        "id": "pvCRM3nRTa71"
      }
    },
    {
      "cell_type": "markdown",
      "source": [
        "The graph shows that bigger and better-performing deep models, like our ViT model, take longer to process data, resulting in higher latency. While there are exceptions and ongoing research to improve the speed of larger models, it's important to consider the deployment environment. In our case, we'll prioritize speed by deploying EffNetB2, which is faster and has a smaller footprint, despite the minor differences in performance compared to other models."
      ],
      "metadata": {
        "id": "GI6CVm9wT6JS"
      }
    },
    {
      "cell_type": "markdown",
      "source": [
        "- Focus on a quick and fun way to deploy a model to the internet using Gradio\n",
        "- Gradio is a tool for creating a friendly web interface to demo machine learning models\n",
        "- Allows anyone to use the models anywhere\n",
        "- Creating a demo of models is important to truly understand their performance in real-world scenarios"
      ],
      "metadata": {
        "id": "HZ9BBPVkUhUR"
      }
    },
    {
      "cell_type": "code",
      "source": [
        "# Import/install Gradio\n",
        "try:\n",
        "    import gradio as gr\n",
        "except:\n",
        "    !pip -q install gradio\n",
        "    import gradio as gr\n",
        "\n",
        "print(f\"Gradio version: {gr.__version__}\")"
      ],
      "metadata": {
        "colab": {
          "base_uri": "https://localhost:8080/"
        },
        "id": "kCqBvkynQVmA",
        "outputId": "87008083-bb11-41b6-d54c-21ad9ce9a388"
      },
      "execution_count": null,
      "outputs": [
        {
          "output_type": "stream",
          "name": "stderr",
          "text": [
            "WARNING: typer 0.12.2 does not provide the extra 'all'\n"
          ]
        },
        {
          "output_type": "stream",
          "name": "stdout",
          "text": [
            "Gradio version: 4.26.0\n"
          ]
        }
      ]
    },
    {
      "cell_type": "markdown",
      "source": [
        "\n",
        "## 7.1 Gradio overview"
      ],
      "metadata": {
        "id": "GgFG7fEFUzYQ"
      }
    },
    {
      "cell_type": "markdown",
      "source": [
        "![image.png](data:image/png;base64,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)"
      ],
      "metadata": {
        "id": "E8_OKl52WaeY"
      }
    },
    {
      "cell_type": "markdown",
      "source": [
        "![image.png](data:image/png;base64,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)"
      ],
      "metadata": {
        "id": "kt00GtPYXXW9"
      }
    },
    {
      "cell_type": "markdown",
      "source": [
        "## 7.2 Creating a function to map our inputs and outputs"
      ],
      "metadata": {
        "id": "_AtlxwmEWcAP"
      }
    },
    {
      "cell_type": "code",
      "source": [
        "# Put EffNetB2 on CPU\n",
        "effnetb2.to(\"cpu\")\n",
        "\n",
        "# Check the device\n",
        "next(iter(effnetb2.parameters())).device"
      ],
      "metadata": {
        "colab": {
          "base_uri": "https://localhost:8080/"
        },
        "id": "k4-gJ_HNP65f",
        "outputId": "1927bed4-736e-4c4d-f2d9-cbce182af3df"
      },
      "execution_count": null,
      "outputs": [
        {
          "output_type": "execute_result",
          "data": {
            "text/plain": [
              "device(type='cpu')"
            ]
          },
          "metadata": {},
          "execution_count": 64
        }
      ]
    },
    {
      "cell_type": "markdown",
      "source": [
        "![image.png](data:image/png;base64,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)"
      ],
      "metadata": {
        "id": "04s5foWPdMr0"
      }
    },
    {
      "cell_type": "code",
      "source": [
        "from typing import Tuple, Dict\n",
        "\n",
        "def predict(img) -> Tuple[Dict, float]:\n",
        "    \"\"\"Transforms and performs a prediction on img and returns prediction and time taken.\n",
        "    \"\"\"\n",
        "    # Start the timer\n",
        "    start_time = timer()\n",
        "\n",
        "    # Transform the target image and add a batch dimension\n",
        "    img = effnetb2_transforms(img).unsqueeze(0)\n",
        "\n",
        "    # Put model into evaluation mode and turn on inference mode\n",
        "    effnetb2.eval()\n",
        "    with torch.inference_mode():\n",
        "        # Pass the transformed image through the model and turn the prediction logits into prediction probabilities\n",
        "        pred_probs = torch.softmax(effnetb2(img), dim=1)\n",
        "\n",
        "    # Create a prediction label and prediction probability dictionary for each prediction class (this is the required format for Gradio's output parameter)\n",
        "    pred_labels_and_probs = {class_names[i]: float(pred_probs[0][i]) for i in range(len(class_names))}\n",
        "\n",
        "    # Calculate the prediction time\n",
        "    pred_time = round(timer() - start_time, 5)\n",
        "\n",
        "    # Return the prediction dictionary and prediction time\n",
        "    return pred_labels_and_probs, pred_time"
      ],
      "metadata": {
        "id": "foE86nKdbrQI"
      },
      "execution_count": null,
      "outputs": []
    },
    {
      "cell_type": "code",
      "source": [
        "import random\n",
        "from PIL import Image\n",
        "\n",
        "# Get a list of all test image filepaths\n",
        "test_data_paths = list(Path(test_dir).glob(\"*/*.jpg\"))\n",
        "\n",
        "# Randomly select a test image path\n",
        "random_image_path = random.sample(test_data_paths, k=1)[0]\n",
        "\n",
        "# Open the target image\n",
        "image = Image.open(random_image_path)\n",
        "print(f\"[INFO] Predicting on image at path: {random_image_path}\\n\")\n",
        "\n",
        "# Predict on the target image and print out the outputs\n",
        "pred_dict, pred_time = predict(img=image)\n",
        "print(f\"Prediction label and probability dictionary: \\n{pred_dict}\")\n",
        "print(f\"Prediction time: {pred_time} seconds\")"
      ],
      "metadata": {
        "colab": {
          "base_uri": "https://localhost:8080/"
        },
        "id": "zuxcyolGc8gX",
        "outputId": "5613deec-cf66-407a-cff9-81bc1e35635c"
      },
      "execution_count": null,
      "outputs": [
        {
          "output_type": "stream",
          "name": "stdout",
          "text": [
            "[INFO] Predicting on image at path: data\\pizza_steak_sushi_20_percent\\test\\steak\\1302563.jpg\n",
            "\n",
            "Prediction label and probability dictionary: \n",
            "{'pizza': 0.007333792746067047, 'steak': 0.9815731048583984, 'sushi': 0.011093203909695148}\n",
            "Prediction time: 0.12892 seconds\n"
          ]
        }
      ]
    },
    {
      "cell_type": "markdown",
      "source": [
        "## 7.3 Creating a list of example images"
      ],
      "metadata": {
        "id": "QPzsXASdeGPb"
      }
    },
    {
      "cell_type": "code",
      "source": [
        "# Create a list of example inputs to our Gradio demo\n",
        "example_list = [[str(filepath)] for filepath in random.sample(test_data_paths, k=3)]\n",
        "example_list"
      ],
      "metadata": {
        "colab": {
          "base_uri": "https://localhost:8080/"
        },
        "id": "FoUXaQyFdgAq",
        "outputId": "1f7ab127-c0d0-4373-b873-ab6c5fe8ec85"
      },
      "execution_count": null,
      "outputs": [
        {
          "output_type": "execute_result",
          "data": {
            "text/plain": [
              "[['data\\\\pizza_steak_sushi_20_percent\\\\test\\\\sushi\\\\3834718.jpg'],\n",
              " ['data\\\\pizza_steak_sushi_20_percent\\\\test\\\\steak\\\\3173402.jpg'],\n",
              " ['data\\\\pizza_steak_sushi_20_percent\\\\test\\\\sushi\\\\593071.jpg']]"
            ]
          },
          "metadata": {},
          "execution_count": 69
        }
      ]
    },
    {
      "cell_type": "markdown",
      "source": [
        "\n",
        "## 7.4 Building a Gradio interface"
      ],
      "metadata": {
        "id": "0JFWajFvfLbj"
      }
    },
    {
      "cell_type": "code",
      "source": [
        "import gradio as gr\n",
        "\n",
        "# Create title, description and article strings\n",
        "title = \"FoodVision Mini 🍕🥩🍣\"\n",
        "description = \"An EfficientNetB2 feature extractor computer vision model to classify images of food as pizza, steak or sushi.\"\n",
        "article = \"Created at [09. PyTorch Model Deployment](https://colab.research.google.com/drive/1nO05GTaA_kF85Dx7eoT3TdgJUuxAFFnO?usp=sharing).\"\n",
        "\n",
        "# Create the Gradio demo\n",
        "demo = gr.Interface(fn=predict, # mapping function from input to output\n",
        "                    inputs=gr.Image(type=\"pil\"), # what are the inputs?\n",
        "                    outputs=[gr.Label(num_top_classes=3, label=\"Predictions\"), # what are the outputs?\n",
        "                             gr.Number(label=\"Prediction time (s)\")], # our fn has two outputs, therefore we have two outputs\n",
        "                    examples=example_list,\n",
        "                    title=title,\n",
        "                    description=description,\n",
        "                    article=article)\n",
        "\n",
        "# Launch the demo!\n",
        "demo.launch(debug=False, # print errors locally?\n",
        "            share=True) # generate a publically shareable URL?"
      ],
      "metadata": {
        "colab": {
          "base_uri": "https://localhost:8080/",
          "height": 573
        },
        "id": "ajedwLvffIB_",
        "outputId": "84700089-4cbd-41f2-de66-8043ea71d43f"
      },
      "execution_count": null,
      "outputs": [
        {
          "output_type": "stream",
          "name": "stdout",
          "text": [
            "Running on local URL:  http://127.0.0.1:7861\n",
            "\n",
            "Could not create share link. Please check your internet connection or our status page: https://status.gradio.app.\n"
          ]
        },
        {
          "output_type": "display_data",
          "data": {
            "text/plain": [
              "<IPython.core.display.HTML object>"
            ],
            "text/html": [
              "<div><iframe src=\"http://127.0.0.1:7861/\" width=\"100%\" height=\"500\" allow=\"autoplay; camera; microphone; clipboard-read; clipboard-write;\" frameborder=\"0\" allowfullscreen></iframe></div>"
            ]
          },
          "metadata": {}
        },
        {
          "output_type": "execute_result",
          "data": {
            "text/plain": []
          },
          "metadata": {},
          "execution_count": 71
        }
      ]
    },
    {
      "cell_type": "markdown",
      "source": [
        "# 8.Turning our FoodVision Mini Gradio Demo into a deployable app"
      ],
      "metadata": {
        "id": "VA5D-q6SmbZa"
      }
    },
    {
      "cell_type": "markdown",
      "source": [
        "## 8.1 Creating a demos folder to store our FoodVision Mini app files"
      ],
      "metadata": {
        "id": "MylvLSrgxfnr"
      }
    },
    {
      "cell_type": "code",
      "source": [
        "import shutil\n",
        "from pathlib import Path\n",
        "\n",
        "# Create FoodVision mini demo path\n",
        "foodvision_mini_demo_path = Path(\"demos/foodvision_mini/\")\n",
        "\n",
        "# Remove files that might already exist there and create new directory\n",
        "if foodvision_mini_demo_path.exists():\n",
        "    shutil.rmtree(foodvision_mini_demo_path)\n",
        "    foodvision_mini_demo_path.mkdir(parents=True, # make the parent folders?\n",
        "                                    exist_ok=True) # create it even if it already exists?\n",
        "else:\n",
        "    # If the file doesn't exist, create it anyway\n",
        "    foodvision_mini_demo_path.mkdir(parents=True,\n",
        "                                    exist_ok=True)\n",
        "\n",
        "# Check what's in the folder\n",
        "!ls demos/foodvision_mini/"
      ],
      "metadata": {
        "colab": {
          "base_uri": "https://localhost:8080/"
        },
        "id": "kNEXCbRqhcNN",
        "outputId": "6f9e2cd7-8381-480c-8bac-42d18b970ed0"
      },
      "execution_count": null,
      "outputs": [
        {
          "output_type": "stream",
          "name": "stderr",
          "text": [
            "'ls' is not recognized as an internal or external command,\n",
            "operable program or batch file.\n"
          ]
        }
      ]
    },
    {
      "cell_type": "markdown",
      "source": [],
      "metadata": {
        "id": "HHaOjqsL04Zx"
      }
    },
    {
      "cell_type": "markdown",
      "source": [
        "demos/\n",
        "└── foodvision_mini/\n",
        "    ├── 09_pretrained_effnetb2_feature_extractor_pizza_steak_sushi_20_percent.pth\n",
        "    ├── app.py\n",
        "    ├── examples/\n",
        "    │   ├── example_1.jpg\n",
        "    │   ├── example_2.jpg\n",
        "    │   └── example_3.jpg\n",
        "    ├── model.py\n",
        "    └── requirements.tx"
      ],
      "metadata": {
        "id": "cU0bDnUg03g6"
      }
    },
    {
      "cell_type": "markdown",
      "source": [
        "## 8.2 Creating a folder of example images to use with our FoodVision Mini demo"
      ],
      "metadata": {
        "id": "iwmlGe4IzN4h"
      }
    },
    {
      "cell_type": "code",
      "source": [
        "import shutil\n",
        "from pathlib import Path\n",
        "\n",
        "# 1. Create an examples directory\n",
        "foodvision_mini_examples_path = foodvision_mini_demo_path / \"examples\"\n",
        "foodvision_mini_examples_path.mkdir(parents=True, exist_ok=True)\n",
        "\n",
        "# 2. Collect three random test dataset image paths\n",
        "foodvision_mini_examples = [Path('data/pizza_steak_sushi_20_percent/test/sushi/592799.jpg'),\n",
        "                            Path('data/pizza_steak_sushi_20_percent/test/steak/3622237.jpg'),\n",
        "                            Path('data/pizza_steak_sushi_20_percent/test/pizza/2582289.jpg')]\n",
        "\n",
        "# 3. Copy the three random images to the examples directory\n",
        "for example in foodvision_mini_examples:\n",
        "    destination = foodvision_mini_examples_path / example.name\n",
        "    print(f\"[INFO] Copying {example} to {destination}\")\n",
        "    shutil.copy2(src=example, dst=destination)"
      ],
      "metadata": {
        "colab": {
          "base_uri": "https://localhost:8080/"
        },
        "id": "F1r74071yE3u",
        "outputId": "5fa8f076-4457-4c8e-be88-554b2da1cb22"
      },
      "execution_count": null,
      "outputs": [
        {
          "output_type": "stream",
          "name": "stdout",
          "text": [
            "[INFO] Copying data\\pizza_steak_sushi_20_percent\\test\\sushi\\592799.jpg to demos\\foodvision_mini\\examples\\592799.jpg\n",
            "[INFO] Copying data\\pizza_steak_sushi_20_percent\\test\\steak\\3622237.jpg to demos\\foodvision_mini\\examples\\3622237.jpg\n",
            "[INFO] Copying data\\pizza_steak_sushi_20_percent\\test\\pizza\\2582289.jpg to demos\\foodvision_mini\\examples\\2582289.jpg\n"
          ]
        }
      ]
    },
    {
      "cell_type": "code",
      "source": [
        "import os\n",
        "\n",
        "# Get example filepaths in a list of lists\n",
        "example_list = [[\"examples/\" + example] for example in os.listdir(foodvision_mini_examples_path)]\n",
        "example_list"
      ],
      "metadata": {
        "colab": {
          "base_uri": "https://localhost:8080/"
        },
        "id": "__9iZ4B32AtU",
        "outputId": "c7d8573c-53c5-4b0e-aa45-27b6c18e89c3"
      },
      "execution_count": null,
      "outputs": [
        {
          "output_type": "execute_result",
          "data": {
            "text/plain": [
              "[['examples/2582289.jpg'], ['examples/3622237.jpg'], ['examples/592799.jpg']]"
            ]
          },
          "metadata": {},
          "execution_count": 79
        }
      ]
    },
    {
      "cell_type": "markdown",
      "source": [
        "## 8.3 Moving our trained EffNetB2 model to our FoodVision Mini demo directory"
      ],
      "metadata": {
        "id": "jrkiNUwR23zR"
      }
    },
    {
      "cell_type": "code",
      "source": [
        "import shutil\n",
        "\n",
        "# Create a source path for our target model\n",
        "effnetb2_foodvision_mini_model_path = \"models/09_pretrained_effnetb2_feature_extractor_pizza_steak_sushi_20_percent.pth\"\n",
        "\n",
        "# Create a destination path for our target model\n",
        "effnetb2_foodvision_mini_model_destination = foodvision_mini_demo_path / effnetb2_foodvision_mini_model_path.split(\"/\")[1]\n",
        "\n",
        "# Try to move the file\n",
        "try:\n",
        "    print(f\"[INFO] Attempting to move {effnetb2_foodvision_mini_model_path} to {effnetb2_foodvision_mini_model_destination}\")\n",
        "\n",
        "    # Move the model\n",
        "    shutil.move(src=effnetb2_foodvision_mini_model_path,\n",
        "                dst=effnetb2_foodvision_mini_model_destination)\n",
        "\n",
        "    print(f\"[INFO] Model move complete.\")\n",
        "\n",
        "# If the model has already been moved, check if it exists\n",
        "except:\n",
        "    print(f\"[INFO] No model found at {effnetb2_foodvision_mini_model_path}, perhaps its already been moved?\")\n",
        "    print(f\"[INFO] Model exists at {effnetb2_foodvision_mini_model_destination}: {effnetb2_foodvision_mini_model_destination.exists()}\")"
      ],
      "metadata": {
        "colab": {
          "base_uri": "https://localhost:8080/"
        },
        "id": "bi1ecKru2k7j",
        "outputId": "f900868e-f4fe-417a-88c0-e62c2fb4fd2f"
      },
      "execution_count": null,
      "outputs": [
        {
          "output_type": "stream",
          "name": "stdout",
          "text": [
            "[INFO] Attempting to move models/09_pretrained_effnetb2_feature_extractor_pizza_steak_sushi_20_percent.pth to demos\\foodvision_mini\\09_pretrained_effnetb2_feature_extractor_pizza_steak_sushi_20_percent.pth\n",
            "[INFO] Model move complete.\n"
          ]
        }
      ]
    },
    {
      "cell_type": "markdown",
      "source": [
        "## 8.4 Turning our EffNetB2 model into a Python script (model.py)"
      ],
      "metadata": {
        "id": "ymwQOFVh3kEN"
      }
    },
    {
      "cell_type": "code",
      "source": [
        "%%writefile demos/foodvision_mini/model.py\n",
        "import torch\n",
        "import torchvision\n",
        "\n",
        "from torch import nn\n",
        "\n",
        "\n",
        "def create_effnetb2_model(num_classes:int=3,\n",
        "                          seed:int=42):\n",
        "    \"\"\"Creates an EfficientNetB2 feature extractor model and transforms.\n",
        "\n",
        "    Args:\n",
        "        num_classes (int, optional): number of classes in the classifier head.\n",
        "            Defaults to 3.\n",
        "        seed (int, optional): random seed value. Defaults to 42.\n",
        "\n",
        "    Returns:\n",
        "        model (torch.nn.Module): EffNetB2 feature extractor model.\n",
        "        transforms (torchvision.transforms): EffNetB2 image transforms.\n",
        "    \"\"\"\n",
        "    # Create EffNetB2 pretrained weights, transforms and model\n",
        "    weights = torchvision.models.EfficientNet_B2_Weights.DEFAULT\n",
        "    transforms = weights.transforms()\n",
        "    model = torchvision.models.efficientnet_b2(weights=weights)\n",
        "\n",
        "    # Freeze all layers in base model\n",
        "    for param in model.parameters():\n",
        "        param.requires_grad = False\n",
        "\n",
        "    # Change classifier head with random seed for reproducibility\n",
        "    torch.manual_seed(seed)\n",
        "    model.classifier = nn.Sequential(\n",
        "        nn.Dropout(p=0.3, inplace=True),\n",
        "        nn.Linear(in_features=1408, out_features=num_classes),\n",
        "    )\n",
        "\n",
        "    return model, transforms"
      ],
      "metadata": {
        "colab": {
          "base_uri": "https://localhost:8080/"
        },
        "id": "flqFnIpy3mq1",
        "outputId": "959dcf8c-3552-4232-d0d5-f1f4f95cff42"
      },
      "execution_count": null,
      "outputs": [
        {
          "output_type": "stream",
          "name": "stdout",
          "text": [
            "Writing demos/foodvision_mini/model.py\n"
          ]
        }
      ]
    },
    {
      "cell_type": "markdown",
      "source": [
        "## 8.5 Turning our FoodVision Mini Gradio app into a Python script (app.py)"
      ],
      "metadata": {
        "id": "43gOzdfi4ocG"
      }
    },
    {
      "cell_type": "markdown",
      "source": [
        "app.py script contain four main part\n",
        "\n",
        "1.   Imports and class names setup\n",
        "2.   Model and transforms preparation\n",
        "3.   Predict function\n",
        "4.   Gradio app\n",
        "\n"
      ],
      "metadata": {
        "id": "DuBBdqDf5Bj7"
      }
    },
    {
      "cell_type": "code",
      "source": [
        "%%writefile demos/foodvision_mini/app.py\n",
        "### 1. Imports and class names setup ###\n",
        "import gradio as gr\n",
        "import os\n",
        "import torch\n",
        "\n",
        "from model import create_effnetb2_model\n",
        "from timeit import default_timer as timer\n",
        "from typing import Tuple, Dict\n",
        "\n",
        "# Setup class names\n",
        "class_names = [\"pizza\", \"steak\", \"sushi\"]\n",
        "\n",
        "### 2. Model and transforms preparation ###\n",
        "\n",
        "# Create EffNetB2 model\n",
        "effnetb2, effnetb2_transforms = create_effnetb2_model(\n",
        "    num_classes=3, # len(class_names) would also work\n",
        ")\n",
        "\n",
        "# Load saved weights\n",
        "effnetb2.load_state_dict(\n",
        "    torch.load(\n",
        "        f=\"09_pretrained_effnetb2_feature_extractor_pizza_steak_sushi_20_percent.pth\",\n",
        "        map_location=torch.device(\"cpu\"),  # load to CPU\n",
        "    )\n",
        ")\n",
        "\n",
        "### 3. Predict function ###\n",
        "\n",
        "# Create predict function\n",
        "def predict(img) -> Tuple[Dict, float]:\n",
        "    \"\"\"Transforms and performs a prediction on img and returns prediction and time taken.\n",
        "    \"\"\"\n",
        "    # Start the timer\n",
        "    start_time = timer()\n",
        "\n",
        "    # Transform the target image and add a batch dimension\n",
        "    img = effnetb2_transforms(img).unsqueeze(0)\n",
        "\n",
        "    # Put model into evaluation mode and turn on inference mode\n",
        "    effnetb2.eval()\n",
        "    with torch.inference_mode():\n",
        "        # Pass the transformed image through the model and turn the prediction logits into prediction probabilities\n",
        "        pred_probs = torch.softmax(effnetb2(img), dim=1)\n",
        "\n",
        "    # Create a prediction label and prediction probability dictionary for each prediction class (this is the required format for Gradio's output parameter)\n",
        "    pred_labels_and_probs = {class_names[i]: float(pred_probs[0][i]) for i in range(len(class_names))}\n",
        "\n",
        "    # Calculate the prediction time\n",
        "    pred_time = round(timer() - start_time, 5)\n",
        "\n",
        "    # Return the prediction dictionary and prediction time\n",
        "    return pred_labels_and_probs, pred_time\n",
        "\n",
        "### 4. Gradio app ###\n",
        "\n",
        "# Create title, description and article strings\n",
        "title = \"FoodVision Mini 🍕🥩🍣\"\n",
        "description = \"An EfficientNetB2 feature extractor computer vision model to classify images of food as pizza, steak or sushi.\"\n",
        "article = \"Created at [09. PyTorch Model Deployment](https://colab.research.google.com/drive/1nO05GTaA_kF85Dx7eoT3TdgJUuxAFFnO?usp=sharing).\"\n",
        "\n",
        "# Create examples list from \"examples/\" directory\n",
        "example_list = [[\"examples/\" + example] for example in os.listdir(\"examples\")]\n",
        "\n",
        "# Create the Gradio demo\n",
        "demo = gr.Interface(fn=predict, # mapping function from input to output\n",
        "                    inputs=gr.Image(type=\"pil\"), # what are the inputs?\n",
        "                    outputs=[gr.Label(num_top_classes=3, label=\"Predictions\"), # what are the outputs?\n",
        "                             gr.Number(label=\"Prediction time (s)\")], # our fn has two outputs, therefore we have two outputs\n",
        "                    # Create examples list from \"examples/\" directory\n",
        "                    examples=example_list,\n",
        "                    title=title,\n",
        "                    description=description,\n",
        "                    article=article)\n",
        "\n",
        "# Launch the demo!\n",
        "demo.launch()"
      ],
      "metadata": {
        "colab": {
          "base_uri": "https://localhost:8080/"
        },
        "id": "E2HXX0tj4hFa",
        "outputId": "99f077d0-2d5a-409f-8bbe-800a51eb3a31"
      },
      "execution_count": null,
      "outputs": [
        {
          "output_type": "stream",
          "name": "stdout",
          "text": [
            "Writing demos/foodvision_mini/app.py\n"
          ]
        }
      ]
    },
    {
      "cell_type": "markdown",
      "source": [
        "## 8.6 Creating a requirements file for FoodVision Mini (requirements.txt)"
      ],
      "metadata": {
        "id": "SOmdCVgn8Lh-"
      }
    },
    {
      "cell_type": "code",
      "source": [
        "%%writefile demos/foodvision_mini/requirements.txt\n",
        "torch==1.12.0\n",
        "torchvision==0.13.0\n",
        "gradio==3.1.4"
      ],
      "metadata": {
        "colab": {
          "base_uri": "https://localhost:8080/"
        },
        "id": "NY3jUH7p8QUE",
        "outputId": "778f8c56-f45b-40d9-d997-0fc6257be503"
      },
      "execution_count": null,
      "outputs": [
        {
          "output_type": "stream",
          "name": "stdout",
          "text": [
            "Writing demos/foodvision_mini/requirements.txt\n"
          ]
        }
      ]
    },
    {
      "cell_type": "markdown",
      "source": [
        "# 9.Deploying our FoodVision Mini app to HuggingFace Spaces"
      ],
      "metadata": {
        "id": "R249B61u8a4L"
      }
    },
    {
      "cell_type": "markdown",
      "source": [
        "## 9.1 Downloading our FoodVision Mini app files"
      ],
      "metadata": {
        "id": "qK1j_15N8wO0"
      }
    },
    {
      "cell_type": "code",
      "source": [
        "import os\n",
        "\n",
        "# Specify the directory path\n",
        "directory_path = 'demos/foodvision_mini/'\n",
        "\n",
        "# List the contents of the directory\n",
        "contents = os.listdir(directory_path)\n",
        "print(contents)"
      ],
      "metadata": {
        "colab": {
          "base_uri": "https://localhost:8080/"
        },
        "id": "o5jz61cB8TP8",
        "outputId": "645aad41-794a-415b-c1c3-2b649fd71366"
      },
      "execution_count": null,
      "outputs": [
        {
          "output_type": "stream",
          "name": "stdout",
          "text": [
            "['09_pretrained_effnetb2_feature_extractor_pizza_steak_sushi_20_percent.pth', 'app.py', 'examples', 'model.py', 'requirements.txt']\n"
          ]
        }
      ]
    },
    {
      "cell_type": "code",
      "source": [
        "import shutil\n",
        "\n",
        "# Specify the directory you want to zip and the output zip file name\n",
        "directory_to_zip = 'demos/foodvision_mini/'\n",
        "output_zip_file = 'foodvision_mini.zip'\n",
        "\n",
        "# Create a zip archive of the directory\n",
        "shutil.make_archive(output_zip_file.replace('.zip', ''), 'zip', directory_to_zip)"
      ],
      "metadata": {
        "colab": {
          "base_uri": "https://localhost:8080/"
        },
        "id": "QnUgYeAe-SC-",
        "outputId": "652f249f-9cee-4530-a750-844c5f5fa22b"
      },
      "execution_count": null,
      "outputs": [
        {
          "output_type": "execute_result",
          "data": {
            "text/plain": [
              "'C:\\\\Users\\\\User\\\\foodvision_mini.zip'"
            ]
          },
          "metadata": {},
          "execution_count": 86
        }
      ]
    },
    {
      "cell_type": "markdown",
      "source": [
        "## 9.2 Uploading to Hugging Face"
      ],
      "metadata": {
        "id": "xrXEOgcJ-DcU"
      }
    },
    {
      "cell_type": "markdown",
      "source": [
        "Demo: https://huggingface.co/spaces/Gareth0320/foodvision_mini"
      ],
      "metadata": {
        "id": "wiNNkds-goNt"
      }
    },
    {
      "cell_type": "code",
      "source": [
        "# IPython is a library to help make Python interactive\n",
        "from IPython.display import IFrame\n",
        "\n",
        "# Embed FoodVision Mini Gradio demo\n",
        "IFrame(src=\"https://hf.space/embed/Gareth0320/foodvision_mini/+\", width=900, height=750)"
      ],
      "metadata": {
        "colab": {
          "base_uri": "https://localhost:8080/",
          "height": 771
        },
        "id": "HoOhBVxq80ag",
        "outputId": "8fd6ff09-0563-47db-c311-c4a6375d9589"
      },
      "execution_count": null,
      "outputs": [
        {
          "output_type": "execute_result",
          "data": {
            "text/plain": [
              "<IPython.lib.display.IFrame at 0x25f1027c280>"
            ],
            "text/html": [
              "\n",
              "        <iframe\n",
              "            width=\"900\"\n",
              "            height=\"750\"\n",
              "            src=\"https://hf.space/embed/Gareth0320/foodvision_mini/+\"\n",
              "            frameborder=\"0\"\n",
              "            allowfullscreen\n",
              "            \n",
              "        ></iframe>\n",
              "        "
            ]
          },
          "metadata": {},
          "execution_count": 93
        }
      ]
    },
    {
      "cell_type": "markdown",
      "source": [
        "# 10.Creating FoodVision Big"
      ],
      "metadata": {
        "id": "n8kbYSnHWNBy"
      }
    },
    {
      "cell_type": "markdown",
      "source": [
        "![image.png](data:image/png;base64,iVBORw0KGgoAAAANSUhEUgAAA8MAAABJCAIAAACW1GNCAAAgAElEQVR4Ae19eVRTR/u/7/d8//q+7zl9/3h/5/T0HCcJIUA2giwicQNBg6whkNi6K2il2gputYvFvmqtS4Pd7IbVLtYKbe0uaq17sJtLSxeXiqKtGhfihrjOj7lPnFxvyE0ISQg49+To5d479858nmdmPvPMM8/0wOxgCDAEGAIMAYYAQ4AhwBBgCDAE2o9Aj/YnYSkYAgwBhgBDgCHAEGAIMAQYAgwBzJg0UwKGAEOAIcAQYAgwBBgCDAGGgD8IMCbtD2osDUOAIcAQYAgwBBgCDAGGAEOAMWmmAwwBhgBDgCHAEGAIMAQYAgwBfxBgTNof1FgahgBDgCHAEGAIMAQYAgwBhgBj0kwHGAIMAYYAQ4AhwBBgCDAEGAL+IMCYtD+osTQMAYYAQ4AhwBBgCDAEGAIMgQ4x6bq6OofDwUBkCDAEGAIMAYaAfwjU3TlYb+IfgCxVN0Tg1ll84yi+Xo+v/VS/d03dtjfqtr1St7Wybuviui0L2/fbupSk3V5Vt+O9uh1rPP/W1u1cV7fr6zrbN3V1O+5UyvD9P6yai/Yx6cbGxhUrVmRmZiJ2MAQYAgwBhkBoEcjMzLRYLNOmTVuxYkVdXR3usofNZps2bZper28TP41GY2nrKCkpqRQ9ampqAtjzBwPdAGbPl1eJotW+myUlJW3JxP9rbYqefzFzcELJmAE17z3SePBdfPtyMMQRmncCcbJYLBqNhl9Adh5WCGg0mpKSkpqamsbGxvYqRjuY9IoVK5gehJXgWWYYAgyBexyBadOm1dfX465zOBwOi8Vyj0uNFb+9CFQu0DtOruk6au7MaWNjY0lJSXsLy57vdATmzp3bLpu3r0x62rRpgrKpVbLy0viqF/vb1mdiu6V7/UbgM6PwmbH4TDE+OwGffRiffQSfexSfm4rPTcPnZ+Lzj+PzT+DzT+OmCtz0LHbMx47nsGMRdizBF6z4wov4wsv44qv44uv44lv40gp8aRW+9B6+vBpfXoMvV+MrNdzvI3zlY3zlE+73Kb7yKb7yGW7+HDd/gZu/5H5f4+avcfN63FyLmzfg5o346kZ89Rvutxlf/RZf3YKvbiW/lu3cbwdu2YlbduEWG/fbjVt245bv8LXv8bUf8LUfud8efG0PvrYXX9uHr+3H13/mfr+QWST2CyQCP3MI7+XQ/pHg3/IdJw4bJ6CdRF5Xt3ES/JYT6CYiXyLo9bj5K076nxN9IFrxCacnNURzLq/lVOgDokuX3sOX3uFUayWnY1X44pv44hv44mv44nKifhde5lRxGb5QiS+8gC8sJfpJtHQhp64LcNM83PRf3DSXU+M5RJ/PP8Up9uP4/Cyi5+em43Pl+FwZp/mP4rNTSEU4W8rViIn4zARSQc6M42rKGFJl7CO6VzsQXs2a47DJtj7TOk9fXhqf0juS3yCXlJS0q93HnXd4mtIsHqmrerF//Y5sbLfY1me6/6pXpFnn6T39ikfqzEa1+E8AGh/Ae/bckB4jDlqbdz1Jwf06MAR3abpfcRw2QetRvyOb6rlaJaOiycyIqf/++c7T3PZ9uaamRsChU3pHFo/UWefpbeszaWFZgxkmCDTuy7Otz6x62WQYkg4qp9FobDabj1L3iUkLaHR5aXxtdUaYlJ9lgyHAEGAI3IMINO7Lq3oxzTCkP7T7er3e93bfx+4h4I9ZrVaEkFodo1E7GZIhPaZL9CYwjHHnf6G/cq+pev2O7PLSeFByjVpm2/5uwNUysC+sr6/nz7oUj9RVr0hr3Jd3rwmuq5b3zBjb9lUGgwFUrrq62hf18M6kbTYbvBEhZDaqwWbQVTHqbrbz8LKZMa1gCDAEQo+AbWslbfdra2t9afc75RmHwyHwD7TO04ceLvbFroiA47CpeKQOqEg4jxjr6+v5Sl71Yv+uiDbLs+P0Z2azGfTNF/c570yaLgphOsHUiyHAEGAIhCECDvtOtVqNENJoNH4slwkNsa6uroaeCSFkSI9hRpkwVKQwzxKQaX1KQtj6MvGt0Ywyhbk6ecle83qwUGRmZnptIb0waWqQZq2eF9CZtZshwBBgCHQWAmfG2mzfAk8tLy/32u53ygOUZKhVMtahsA7FDwQch03gOV1VVdUpOiz+UcqXEELFI3V+FJAlCSsE6vd/jbjDq4+HGJPmJuOUCCE2BxdW0mWZYQgwBBgCQgQuvpaSkgLtfhiapR0OB+QNIVS9Ik2Y+c4agbDvdjUEwGdar0/B4XdUVFSAkqtVMramsDvU8bOl1hcWIYT0er24uokx6fLyclAL5izfHXSiq7WYDHOGAEOgXQhUvbUUWmyvFhTxXiEYd2trayFvZqO6XYViDzME+Ag07ssDRQpDb2nqWcuMj3yRde3zSyvBcU58CYoYk840kGgghvSYrg0EY5AMAYYAQ+AeQKD+u6eBZFRUVASDDXfkndRc1yUidbAuL5wRMKTHIITC0MEDah9CiBmkw1l/2pm3YRVzpiOExL3mPDJpOhlXXhrfzg+zgBIMAYYAQ4AhEHoEHlSrVSTIktncEdYbjLRgrkvpHcl6E4ZABxGomJlEHJGLi4OhqB15J+IONuvSQfmGW/Lqd8YjhMTXHXpk0tR3nvm0hZtcWX4YAgwBhkCbCJhNA8OTSUNoMDbr3abU2MV2IVBbneGL62pHOLF/aYFJMyVvlzTD/2Hb+kyQrIhWeGfS3XELw9DbitgXGQIMAYZA0BGomNU3DJk0neFkITvCnzeEfw6pq7QIs+mUW8C3mPEx/FWoXTl0HDaBZEWUyiOTrq+vh8RsuWG7QGcPMwQYAgyBzkLAOk8fhkwaZjiZa0dnaUX3+y7Ewgu3GDUQPIcZH7ufvvnPpDHGzsT3wEqd7id4ViKGAEPgHkSg6kWyebj44hgRy0qQbkHgDuY/eg8qZJCKbDaSfYjCLXwHLAZgTDpIQu/E1waASbP5uE6UH/s0Q4AhwBDwHQGwSVut1iBxYv9eCzZpxqR9lyN7UhyBcGbSbGtDcdl1ubsd8u6gNmk2wOpygmcZZggwBO5NBBiTvjflfq+VOlyZdCHbya77qWKHVhxSJs0WonY/zWAlYggwBLolAoxJd0uxskIJECgeqQtUSOmmpqZly5Y1NDT4N9/CT2UuIrvGsH3CBcLq6n+6mPTtZr64+eceVxxSJl0xM6mrA8HyzxBgCDAE7gUErPPTiFUscN4dW7ZsaWpq4vcZfpwz7457QfdCWcYAjhinTp3agzvi4uI6SKnNRblkvS/bxbN7La5zMenr9Z5aP+9MmqlFKBsI9i2GAEOAIeA3AmZjbACZ9N69e4FkGI3GTz/91FMv4vU6MGmNWuZ3uVhChgAfgQAy6b179+bn54Oed5BSm4uyEUJMz/mS6gbnLiZ99RtPbR1j0kGP8OquSXXrDRq17OOVae63wvDKB28MTOglj4iQpCRHbvt8SBjmsBOz1LVE2YlABfzTLz/fV6WUHd2T19437/hiiL6PIiJCEh8nf2/5wPYmD/PnwX+0urraU4vfrusNDQ0DBw6kJOPf//732LFj/aDUwKQRQp2I3ksL9Rq1LFYre/n5vrdPmyEnlfNT1CpZnC5i+ZK+nZi38P902aR4fR/FtROFvmQ1BK1iAJk01IhW746KigqJREK1vUePHu0dQJqLshB3+IJSuD0TAqmFW5F9zI+LSV/22K56Z9Kd2/z5WNT2Prb5k8ED+0X1S1Ec3J0jSPv3L/kzH03onShXKKTZhpi3X+rfclzYfIgkF7ytzT9fXUx2T5j3ZO8274bbxemT4xFCQwfHPPZwL3e4Oje3yxbo9X0UH7zRaXyoa4myc4UV2K9PGE0cJdd/mN7e1x7cnTN1UnzWECWJFlca397kYf58MFZiNTQ0VFZW6nQ6SjLaS6mDzaRfX9pPo5YBiYF/ZTLUp3fkT98MBXn9vosYC5Ux0qQEOUJozZukxfhlO+E9apUsMZ5c/GQVMW18+cEglVI267EEgaBbjhelDYjKSIu+/leR4JanP/+w5bz9Uv+bJ+96vulQwTCTRiJxZlahkAzoq3iiLPHIj7mC9+zbkjVhtE4XG6FQSMxG9Y4vDIIH+H9uqM5QxkiHm7WXGkz863D+46bM5KTIRyf2cr/ly5WW40WQ4eZjwq6wzeQhaBUDzqTxnWPdunUCE7VUKl22bJkvPk5gk0YIOQ63IYU2sfLlouOwafCgaISQRIJUSll6avT0yfE7vwywVSsEUvOlsH4/c6Cujerm99v4CV1M+tI7d9RE+P89x6Qv/FlQOj4O3Tm+XTeYD9mRH3OhVY3VygrzVFoNaZ3TU6PpWFw8Of9VIufLFpDdE55/JlnkmfC5tXBOMkLo03cHhU+WaE7mPdkbIeR3D0Hf4/dJ1xKl38UMw4RPTUtECH32np9q+cXq9C40mvUd/2Awadpp+E2pg8qkT+wny7wQQoMHRT9YqBlp0cKvdHyc/TcjQFe1jITZXjy3z8n6fGWMtHJ+CrZbXl/aDyFUOT/lr5/zY6Klry4mZulnZ5MmBSG0+vW7xuf1O5zmxitHfWKT2G55sFCDEKrfkcUX31uVJCcqpSwvS/lgoWaYSaOLjWgl99FRUtvXLq787brBMm5okJEWXZCjkkoRQj0FWeK/lmZ7UUUf/nVstzQdKuidSIYKCKFbp5zGeMEz4n/+9XN+KyAKhVT8MXo3BK1i8Jg05o42TdRjx47du3cvPNDmv+YiI+KOwEY8+3mbU/fMRnVOpjJW6xw0jhqmPfWrU8Mp+H6fhEBqfufNl4RjHiKObYLq5ktCr8+49tS89FabcscYizFpCDMe8AGW13wH9YHlS4g9OD01GjZJqlvvarxunTIb0mNam5s5M5JajhNDwsUjppxMYruiTZhIct+zXTmfMOkXn9P7nqQTn1z1ygA+Ap2YE/dP3/i76PRv+e7XQ3ala4kyZLCE4EOA/NqqVP++tebNgQihN639/EsetqmCyqRpL9LQ0DB16lT+VLi4lZoy6cDa6kAK6z8kg6IxD8WKCGXu40kIIXCoO/1bPkwzzplBLoKN4PRv+WAuWVTRB8hQVJTk8PeuGUvKpAU2ZpGPDjMRJi2Yx1s8l7yfPyHZcrxo7HBCAoaZNPRtMGey4sX+cGX/1iyJBEVFSS4fbdvYSZm0QiE5vu8ulyee5agnfX+7To7uIWMVXWyEj6lC0CoCky4uLqY6GaQTdxN1amrqqlWr2vyc2Uyi4JEtY9Zn+oiVL48d4/DnM7Ffd2bDpFxKcmSgyHQIpOZLYf1+Bpj0bzuz/X6DSEIQK/bPJk2ZdGDVQiS7Ibh1/mDBdxsyb582D+irQAjt3+oyGHyyiix7H9BXceNv13zc1s+GIIQK81SQN5Hkvmd+6X9TEEJvvNA1evHatRndknP4Li+RJ7uWKEUK0uVuWbnhKB3itjf/K7i9AGFCv71pw/l5YNIBjN2BRY+9e/e6U+qysjKB6Y4y6WB0JWDlnfu4WIypmY8mIIS++fiuGcjyUuK3JphtgzlucGbINsTQvuDg7px22WWx3ZKeGoUQOvP7XVZDmEb77xN3ufZ99t4ghJAhPYaqVt8U0j1dPOLizWD6cXcCgSQL5xCCDpOoE8fo6Hs+fZe8Ga77blSmyeHk2B4SkkLfRyG47unPELSKwKTNZrOoegbspruJWiqVuvPpIFGmluNOgv7Xz3eZjWAoOG6E2BjSk4zcr4dAau4fDdSVg7tzdLERMtldVSZQL6/fQXzDiJ/zlRpPKiVmk9briek04AOsQBWvg+/R9yFNFd9gAIaBD9+6y8p182SRMkYaESEBKzX9qHtyeouenP3D+PjUxPg4uVYjGz8y9s8fnJ5w0Oq98+oA+iS2Wz5emZafrYqJlqYkR5aXxvPtClcbC5cv6ZuRFq1QSBN6yadOim86VABpm48Vzn8yOTMjRqGQ6mIjZpcl8l3Zft+VPdys1WoiEuPlM6Yk/P2Lqx62HC9aVNEna4iyzYT8jO38kowlKuffZUE/uifv0Ym9dLERUVGSUcO0B+pcxht+Wjjfs3nog4Wa6CjipGidry8vjY/TRSQlyPn9hHuqtVWpGrUsJ1N56LucuY8nJSXIo6Ik40fGnr4zY4vtlq2fDVEpZTRv0HWB0sK/SQny8wcJVg8WaqKiJNwkKZLJyPLqghwVNfCsrUrNzIiJipIMGhg9/8lk3y1n7qK8ebLoxef0QwZFKxSS3onyJ8sT+RkWh11EB7Dd4gnGtVWpcbqIAX2J07/ta4MxRxUdRbTom48z+Kj6V8bP3x+k1USseXPgZ+8NSk+NioyUGNJjdn3lmskRKe/n7w+CjP35Q27L8aKnpyf1iovQxUYsnJNMl3xhu8VTNRGvFM8/Q5yOaG09tid3pEWr76O42uicfBdRfmy3vPw8mZva9NFd1IoPVxc9DzGTxncOd0oNMcXAuzSoTBrszcuXtG2YWPdOmkJxxyuZ3zTcfa5Ry8DD+N3lZApu0rg44LLWO+0e+JBoNXeFHzmxP+/xqYkJveQqpSzboAT3a2y3fLIqTaW8y2+7eJST7kBun53tYtJNhwpGmIn1+u2XnBZo0Hx+iX7YmIkQioiQUPUW6CcMLJ+enpSRRhxqt3xKFPvsH0atJkIiQV9+QMz2gpgS+7ZkjRsRq4yRqlUys1EtcHQ8sT9v6qR46DtgqUxGWjT/oyJdgHuryE8YkHNg0oMHD57rw7FV9LijwsL/20w0e/bsuLg4umDg/vvvnz17Nn0yK8vphlG9IsDhBGAsxKcr2G5pOV4EywPo5IknhfSlM21Tap6U5A9bTpwu4oV5xEuK/iaXxA3sF/XhmwO1GtmAvorWtMf25I0fGRsTTXjLh2+l/r4rG1Sud6L8I7eIC540atNHg1VK2cQxulO/Gh+d2CtWK1MoJM/MTKI+txtrMiIi7qrjlgI1zVXHT1x+0s21Qi2587cYk0Z3jmAYEjpevA6+AfyhG/e6JsK0GuKvxr8Cn0gbQEwLAiV2Ty7Iz7kDBcC2E+Pl0LppNTLwsauYRVzxqle4KPuXHxDLQUy0tDBPBcbypAT5uQNOujztEWI70ahJewcrZhbPdTrDga1Fq4koyleDv13ZJOciqgN1OZwZo2e2IQYykBgvpwaS2WXESKPVyEy5KkFCQUF+3EQacb5X918/58fpCFaJ8XLw4ZPLJT9uans+a//WLIVCKpWibENM7lDiKiOToZEW7cNj4/ikX/BRbLe8u3xAXhZ5HipJvxQFlCI9NZquAX1lEeFDJaOdNpiVL/efMSVhwmjdqGFacNRRKJzzoc89nTz6QacDZXqqc/UGkOwtnw7moCAYgkNhtkFJbVHuGeNfcRfl3m+HArBmo7ofZ1hKSY6kYwYR2MV1QATGNW8ONOWqEUIwLtJqIow5KoR6SiSIjnD8LiNYyziXzZ5aDRl+SCQoMlLy8zbnZI5IeT9emQYZmzElAabesoYoQdm+/MC5UlCkmogDArY98JPe9NFgsNiZjWrg6OLKj+0WMMDs+CLAq3b4utEp52aj+v7774+MjEztpEOj0dx///2UavTo0eM///mPXC7/5z//GSSjzOQSsu6ldfn4cLM2L0vZL0Wh1USk9o8CN4ztnw8ZadHGxxFH4WxDDPWiHmnR9oojjVi2QTnCrJkzIwk0Z907ZGby4bFxP2zMlEpJYwWqfu5AAUIoPk5OxXqyPh/ekBgvz88mNY5Ocn63IXN4ESHHUVGScSNiyybF0zEbuGGkJEdCTky5qshIQgIWPOVx2UzzsUJozSbcaehoHugJtIRzZiTt+srQOkTsm0KGlDOmkEZ+zoykv38hjs6J8a7MH9ydo1AQ5+sBfRW5Q5WcDb4nnaI5sT8PEKOtLkIoP9s5MYvtFvEuwL1VpPkM1MnUibH33Xff//3f//E1LRzOH3jggWBsczhoIOmz9m1xTaEDkiXcwuv3XyM+/SIK6Utn6i41ESWBmeqEXnJqE9m3hYwiIiMlq18fUJRP+qMBfRWJ8XK1Skb7o+goqURCalx0lBShnls/czW/Ihr1y/YsGAxzfUfP3KHOToRWmT2bh44dHiuVIoWCVLcZUxI21txlReqg1rmYdEvdHeYs/P/eZdIwmKNetnQCxZ1CZRsIn9v7rXMZOEhFkNxdVMBxJ4zWXTtRePu0+alpiUkJcjB7PD5VuFjq1K/GD99KdRx2UmewW1BzSFKCXCJBZ/8gs4TNxwoXzkneXeukrRyh73mynhibb/xd9NjDvahrnTGHtNF09TrMWr600GlaBjYJwwZBQkFZwEGQam3rEpapkwizLx0fB4NCYGmUwQuSg6M5XWgMbogC+4cgCf3z1ilzTDRp7kvHx8FamTLu0ytfdhpv3rSSNUPU3kMTXm0sbI270qZTiuNwAQyNqFno9G/5yxboYXHSrVNmmJoQzPnSNwtO3EWJ7ZZfd2bTGQxYGPf6UqfBTAR2cR3wCiP0tYnxzgEY2FwrZjlNX36X8ebJIhgP9OkdCQMPcIIaYXb5dIqUF9sthvQYmAqAQGObPyHjFho0Q6SaiAMC7X7t2oy3KvsDD1jwVDKtvOLKj+2W554mJu0fNt1VqQXC7Yp/mo3qf/7zn+FAKdzz8MADDwTDKAMVFiIbREVJEuPluUOVdJ4KhDhuBHFE3n53EM9Rw7QIIdqWwpPgdQ0z5rDYOiONrDi/1GBqje8Rq3XZpGFUPGVCL4jmAX4UtMZd/6uIW5ATJdCi+U8SxQPazZ3Qf3oWj4q98KezC6Cpbp4sAo9YqRT9vsujDyi4uDxRlojtloljSFib4WZSul5xEY7DBeCekZwUSV87aRwZfsDz2G7Z9BGplSql09Yz6zFCwZ8sTwSeBB60BTkuJi3eBbTZKtJPB+Tk//0n7Dh0jx49gEYHg0lD+//dBqG5CiS1bAHp1sUV0mtn6i41ESVxHDbJ5RLShG50ZglMG6Xj40C+kOFYrezEfmKsXPAUqD0C0v89N8dCnWa9kgpYn0btj3//kh8VJVGrZJTHY7tFLpf0S/HVAaldSuhi0tf/wB6Oe5dJw4icukncPm0G24C7oRTslA0/3RWlSJBcIJibJ4uiooieAccV3AU6+PXdAbyO78uzzteXjo97enoSGMyouxssGcnMiKmcn/L9xkz++uuHx5IGUd9HUTk/he9rf+FPYkFRq2Rg+Rhh1nDjQheDqZhFVtskJ0VWzk+hc0OCfMKfrbGcEELUDfH2aSe7hRpytbEQ5kNHWrTuyZuPEQcvvoPd7lpi4aZvc08iuNKndyS/uv70DbH4jhrm/NZ7y8m6MQGTvnK0ENb6lIzW8bHCdsu5AwUwLjIb1fxoVkf35C15tk+rmXzWYwkPccYk9yXwgozBn22KcscXQ54oSywZrXtmZhJ0QmWTnPGnxGH3pAO+wAh9W8Usp7forzuJaxcFCtstfpcRGuul/3VO5N0+bdZqIqRSRGmrSHlpE9kvRQGtXmusIoTIpAS2W8SrCbZbPAGC7RZo9zlbIOEiNW+7plO9Kj8N0SAYHrcp4q510WxU/+Mf/3BnsZ1+5X//93+5jtAlpkABC5VdPIrL6AcJraSGYfg0mI0FMfI3VJNlIaMfJPp57UQhDH0r5+tbjhNmHBPtjF9BecmBupxbp8zNxwqXLyGjeho+7+IRwryHDna5PsNHgZ3TYTy2WxyHTV+sTk9OIg0drb/w8K1T5ikTegHXhtAinkCDdeHTHiETksf35UHvQ+tFw0/E0Tkl2cmkW44XQv/FX6wGc6EwtQi2Gxg5Y7vluw2k0c7LUsLXvXYBbbaKnnLu33V9cs/77rtPpVJVuB2VlZVbRA8PXMh1uTWMuuAFlZWV8J2pU6cOGzZMqVT+61//EtSp//mf/6F+0tZ5dzlD+ldGfirovqlBit4CHV71ygCvContFvHOVCA1r0oCtOTp6c4eZwgXp4/ayMomEb2ld8E9SaFwuSfFx5FAw1AQrxr1wybS78dES6lHB8x2AgnBdsutU+ZWp6aB/YQDVwpUR04ok3acP+LSkrvPfGLSAXf66UipApL25knSLHKLYV02ADBV/rL9rgmU8wcLpFISooiKEBiAe3J+xk7Wk9k0ZUzbYYMenUiUjN+sr3snDWIewWvh30eKncO7y0dNj09NBKIPxJSOTS8eMZWXxlMnocyMGCAHELeIew+Zc4RDFxtBu41WGlQxK4kmnDKhF40YxS8ItlsOf0+ozzN3No13HCYc3f1Y9cpdbt/wkht/F0mlhK/Td9a8TSZPBdyX3nU/gQ6Guhof+o5khu67+dFK4dsuHjFBHTPlqgU+hfbfjNAvZhtiqLsFtlvWvDkQjKb8QkGcLPf8CK64i3LJs861//y3QQ8H8waeYBfRAV9gBOMudRn6jWPS40c6vTM7UsYny8kUCj9KRkoy6fXB7i5eXmy3QMaodxA/Y+LVRAQQbLfAcjGYQG+dVS/IUdEa6lX5sd0C0z7UR0Ug1q77p9mofuCBBx6ZmCugAh3/s3XRFRY9mpqaVq1aZTQa+QxDp9NVVlY2NTVBdQg4w8B2SwHxZUICw4RAgsWjiE36i9V3RR8HY7YgJDmYlmkkkD2bh0okSC6XwAhQKnVuLnP+YBvNoEyGqJPblaPEiJCeKuzawaF5dpkwXvX7rxGjQLbBxbxvnzaDgzKfoAvKRf9c/TpJTi2Cq18fKJMh6g3y5w+ESffp7WyHoYKoVS77OrZbwEK/6yvD9b9I9Og4nStSB9CgwYOcftJeuwD3VpHmM1AnsB4gZCsO9+7dO3bsWKlUytftHj163HfffWPGjFm5ciXUjuAxaXCMpP0+wHjkx1zouQ7uzvGqkNhuEe9MBVITVxJst4BVS6uRNR8rPPuHEaGeifFyGtkGLDt0RfjxfST8C5/pQnQaMHV51SjwIcwd6hzLYbsFhhZ80oJQT77NLlCahu0WyqRtNpunJtAnJh2MKbkAltOPV10+SgwGraGIqS8ytltemEdCam+Y0ZcAABkASURBVAhWVb/zKlmAIlge22ZyfjagGUWoJ1/S9AFw7KNM+srRQoVCEh0l3ViTcbWxsHFvHrCEmY86W1twC3YcLvjm44ynpiVGREhUSuf6mCM/5l5qMDUdKqhekQqTemqV7ObJout/FSkUUr5XH/06nDgOF1w7Udh0qGD16wNhNKnv47QaCp6EVpgaSziTpEwul8wuSygeFTtuROzsskQRtyRo8hbP7XPlaOF3GzLBwL9wjkenQMHXwS+cLgHc9jlZ/kg9ScCVlvJFx+ECmFQy5qgEOxRQf4/MjBj6NrBSR0RItJqIXV8Zrp0ovHjEBMTxrUrX6h9Blvh/CkTZdKggIkLSX684tifvxt9Fx/bkgUlpzgznwN0T7F51wCuMoDObP3EuoYNmbnIJGYydO0By5XcZYdKQuruAraJXHOlovZaXUt4N1U7HNX7GRKqJV0CgpR43IvbsH0aYZ6DDFa/KT5l0MIKP8tUj9OcVM8lck3XhCE8tfjCuA8/497//TXmGRCKZOnUqP4IH19yiYDBpSwFxyqQK1ibmwBL4o0Fst4BRTbDXLMyw0SaFTl8AX2/1iIAB2/W/iuRySWSkpHJ+yuSSuPEjY2c9lsA3Gd46ZZZK24gcBw7NtAWjuYURKZ2HpN8FVyjB3BpNRU8gqiO/n6IOZthuAQME9ZO+ebJIpZRJpYhva4BKdHRPHljT+csTv1rjXLAI00peuwBBq0gzGcCT0DDphoaGuXPnuhNod/WGakWZdNWd8IWBKjL4SfNDjZ2sz4eL4GjnVSGx3SLemQqkJq4kUC7wIHrn1QGfv08WevGnmqFyUWIARD8zwzVQhAoF3bRXjQJvEL4BDraq4XflyhipJ9tlB6XAmLRrVakASlg+IvC+OP0bWekslbpMFw0/5Sb0IktVBGPBNpMLPgHTLsWjYsFd5PJR0+rXB4JTEfjO0pXa8DYaAslx2PRIMfHZAPp17UShLjZiwmgdDTQBPceRH0k8BLlcYilQA9W+/lfRwH5kcSR8cfxIYoahLsW7a8kimGPc7sotxwuVMdIHCzWQ8NYpMyQUsE8o0ZEfiT2DP8AAEkMXjd34u+jbdYNp2uVL+uVkKmkV+nlbFvg6Q1faGju9KF9NdzcQPCzAENstsPBlz2biz3r5qAmWMtCZXFj3QB1LoGLTjb4uHjFR2zNMNqWnRvHHTq2WGBgnUIet4/vyYJmjILKKe8bgikCUjXvJyJuags4dKABjGISPFYFdXAew3SIOI7ZbYP4agKIGg4eKiDdzB8sI65ao4ylMT8+YQoZ54uUFiCBjf9ic0V2ASUPGsN3iqZp4BQQEClbGE/vzYAksnUkQUX7IFbirdj8mDTENyicPCQZjFrwTjND8UAY9evQYM2bMunXrBE9ijKH6B4NJA0vm9+Jnfjeufn3gYw/3osvHwaueNrn8yvvu8rsm08BJgxp3YWkKeD5AEWhDB1WbjjBh/wF4M/zbX0/CQ0HIJurQCUs7Hh7rnG+ECAyfvz+IayR7UpM2eGuANdorjcZ2y9qqVIQQrVb8bNB5RZXSZYQGovPaUuce6TC5l9o/CvIJSyOgcl07UQhbzNCQINRly1MXIGgVBZkJyJ9BZdKg2KmpqXRkCCcwwSIyOUOZdGCNjzdPFoEFqnFv3pnfjfu2ZC15tg8Eh0mMl1MPB68KKd6ZuktNXEmw3QKTFQP6KsBgxN+dA5p9utkQWJ37611+zBCvhs4KipMK6Oip6xS2W4BJ831uYaWQIDJEQJSNMek2mPRLC/WjhmmBjLYuhjXmqMY8FEvpZt16A0TwGNBXYcpVgU89f7GdeHK+2Bp+yoUwBbFaWVG+GvQe+Add3jFqmPbQd4RhQFSKbIMyP1sFHmzgFTRuBFmDAsHdtBqZpUCd2p9w5WxDDDSv4MmQGC835Tp3ZKTzknTFa9YQ5dDBMQj1pJOPt0+bYUFeYrz8oSINuLW4u/RBcSCQKh8E7s1kIWBOpnKYSQML2OnMKUwh5WS6JmJgOXl/vWL65PhP3x1E/WvpfBP/YT6GrdGgQBwKBYlqAngOL9LQrgVM1ODAB3wRIZQ7VFmQo4LAKVIp2dgMppY43JR08X7p+Lh176Td+LsIRuqmXHXWEKVUSnZkBReav37Ov3jENGdG0qMTewn4N82kQJS3T5uhE8odqszLUlKHHJVSVjwq9nKDSQR2ER2A8YAIjNhuAfsEdfx1HDZFRJCof68u7tvBMlJPzZxMJZCDxHg5RFQULy+MlyBjNGgMP2PYbhGpJuKAPD2dGF+plfGHjZmwvhvi4okoP8gOQj7xbTxUpl36xBlntyDJncsG8EqbRmjw4vD0FVKpUFBs0uDZjBDKSIsebtYOHhQNVZgfQBr2OHz5eSdxBBEDaYaFsFTolfPJzCSdD4TrezYPpd53dHB+cHcO0N+hg2OK8tXQDH5/ZwFWa0JYFBEfJ882KAcNdLpGgBsG7A42zKQxpJPgmwghqRR98IZzV8Ubf5PQqxDmaITZtWvjmIdiBbml2QYmbcp1LQqktyDUBuBPhwG03hnSYzIzyOJsZYyUth7g4iKRkHgdwOGgFsdqZRDQWrwLELSK/JwE6jxITHrdunVjx47lz6706NEDLNAiBBrfOYLEpKGHAiUBOcK/QwZF07Fiq1XCq0KKd6buUhNXEhAlWK8Q6qmMkfJ7do5yuIKNNB0i3lAJvVzRY2AxmCE9BrivuEZB+H+63IiO5UY/qKUxtmFWp3eifIRZQ6tbQPSNMek2mDRYHPnqKJMhvtfaif15T5YnpiRHKhSSIYOiP3wrlZoTWmP6ek3Ol1wrFZv2SDznWS9JT41eOCeZNmTPP5McHSXtr1fAoOrQdzk04vK4EbE7vjCUjNZFRkrMRjW4HCyck9w7US6Tof56xdzHk6h9+vJR0/TJ8Ynx8ogI8oklz/ahtyCIxLgRsVFRkl5xEWOHx9KGEswn0x4hCSUS4sg/cYzOE1mE2B0Cf4xftmc9PDZOFxshl0sG9ouqnK+nC/gWzkmOiZZSBylst8C2XtMnx2/5dPCxPbl8PN0f5gMIC3IjIiTFo0gp9H0U1vl66g6L7ZYT+/P6pihgKvbK0cLCPOfghy/fiWN0nm715Zb67tk8NNtAAnKnJEfOmJJwoC5n+uT4qCgS1+/Ynlxofaj1RZA9bLcIRPmHLcdsVEdFkWDSxaNid345ZNyI2MhIyXCz9vpfRa1mck+wi+uAOIytBvsZUxK0Ghk/ZPiri/vGREuBE3SkjGDfHfNQrFYj08VGTJ0Uz/+KeHlbYzM9PDYuOSmSP9fMzxh0821WE3FAvvyABLqmNg9st2z7fEhivJxuePTrThK7tE3lx3YLNLt83uMu2a54xcmkjfE4CIe7ERr8RPleHJ4+C1UyGDZpbLfUvJ02dHCMMkYKrYQxR/XMzCS+cI/uIbMWAvPzoe9yYrUyGgQaxL2xJkOtktWuFUbRWvXKgOgoMo/Hb74O1OVMGhcXqyXeboMHRXMLE117iV85Wji7LDE6igTTpXNcVxsLX1qoL8xTxenIRhIx0dJ+KYrS8XH86ZHbp82mXNghHGBz/dsvRUFbWr5+2r42xGplS54VbhUOz9w+bc4aQobB/NggrQbOySVxGrUsVkuC9dKImZBkQ3VG7lClQiFJSY5cvoSMxmc9lqBWyWi4G5EuwL1V5Gc1IOeBZdJNTU3uXhyeXDg8aTjGOEhM+iMunChMmIOGjx8ZW/M2MQMJwBRXSLlcItKZtik1cSWhZml3D9iySb3i45zByiCTeVkk3CTN8Mn6/KwhytZIOzS8mIhG7fxySHycnB9h/fdd2X1TFEkJ8mN7nKEgWo4XznyUqGicLoJOttDPdeQkYEya74zSkQyxtF0RAdiZhUawbm8Rbp1yrZuBDqF3olyEmPLfD6EJqXsf/1bIzv/7RO+ICEmbMVhClgdYm0yXH7UXRq/5FC8jTODwI8N4fWH4P7BsAdl2SrB5Tfhn22sO7zDpBJH+3o9bDQ0NZWVlfFudTqdbuXIlbLziywtBaYPEpL3Cwh7oZggEikk3NTWVlZXxvTh8Hxy6q32QmHRAZBe8zhTWDtKxYkByG1YvCRiTDqtSscyEGAFY1SfYzcj3PMwuI5EfXlnU99Svxm8+Hvz8M8mRkWSljnu0Qfd3nv7NiBAxw7vfCs2Vrz9Ml0jQwjltW3pCkwf4SkdgFM+n1zLCgtSjnIe9+Ku60F0Ir063ouhCORfPasC9O7Zs2cJ3GL3vvvsESwnd+USbVxiTFhccu9suBALFpLds2QI0GizQbbr4t6nPbV6kTLpxn2vHt3aVK3gPB68z5daSOTe1CF7+O/HNgWHSKXdC53RiSdinOxEBcOyD2O/tzQYXhJUEx6G7Ep753QgezL4wM1hyHqTQNr6U5edtWfwVRb4kCcYzHYRRPEteywgx78SDjot/Igzvvr6URP9tM3RjGObW9yzdYdL6Nnt6Py5Sc11+fv7KlSv9eAMkQdwR2JVYvsPCnuxmCACTLi4u9lshacKVK1f64p5Enxc5oUw6DNEOeGf67brBB3fnQHw6/v6XYVj2DmYpMEy6eKRzK+YO5oYl76IIgLP/gL6KscNj+W6pPhYHtolWq8hG09kGJUSwHj8ylu9u6OlVsL2ILtYV2dTTk93+ekdg7CA4EL6GLrLu4Ns6PfmPmzInjNbByl1P67c6PZN+Z8DJpE2pIv19u25VVFRUVlb6stxK/LWIOxiT9luyLCEfAWDSVqtVXOtCfBeYtNnYxiZl/Mx3ynnAO9P+eoVaJYPeoftN7vFlFBgmzTzb+Jjeg+dfrSEeDgghhULqhy/U5aOmZQv0/VIUMhnZa3fUMO0nq9J8odGtm3pcOVrYL0Ux3ByODVOINaEjMHYwq2WTyMrUTvcU72ApaPK1VakQ5aN1+4lwmHCgGQvIiZNJF2WHmEOIf87hcJAWBKEwnPUOCOzsJSFGIJyZdHkp2Wky3H4B70w3VGf0TVFERUlogNRwK3Kg8kOZtEgr531nFmZFCJQ82HsYAgwBhkBQEXAyaXORSKMf+ls2m43waOTcIDCoCLCX3wsIAJOura0NvTKLfBFs0sz42M00sH5HNtd6IRHRe2fSLHBHN1MLVhyGAEOguyIA5pOQ7aIs0rXwb1VXVyOEzEZ1d4WdlSvECACTFtm9ma9+ITsHJs2MjyFWhhB8DnGHiCJ5ZNL19fWQuH5Hdggyyj7BEGAIMAQYAh1EIDyZdFVVFWPSHZQsS85HAJh0dXW1CLkJ/S2NRoMQYkyaL6lucN64j2xdTKbUPB8emXRtbS2XFlWvSOsGWLAiMAQYAgyBbo8AeHeIN/qeu4Ng3QHvDn1yp4Wz7PZyv9cKGJ5+0kCZGJPuZtoI5gm1KlqkffTIpK1WK6hFeLrPdzNRseIwBBgCDIGOIxDOTBohxHwFOy5i9gZst8AO5wGJgidCj9p7CygTY9LdTEWrV6SRKTXRgEjembRGLetmuLDiMAQYAgyBbolAeDJpGrujtlq4C3e3lAIrVLARcJr5ysvbS3aD+rzBYEAIVb3YP9jFZ+8PJQIVM5M4Jj1ARHk8MmlYIwL6ypq/UIqNfYshwBBgCPiHAMx6q9VqkUa/U27BYiw2w+mfWFkqPgLUb7WqqqpTlNnTR4uLi1sdqypmJvFzy867OgIwAVLx5EOe5I4x9sikadwihJClQNPVsWD5ZwgwBBgC3R4BxB3hFrsDYwyLDpmDR7fXwBAUkMb3DbfYHWB/1PeJDgEI7BOhQcBx2ASNavXqZ/1h0hhjSK9Wydhy1NDIjH2FIcAQYAj4jQD48xGrWEWFSKPfKbccDodarWYWO7+FyxJSBMpL44GcdIomi3y0sbERMsbM0lRYXf2ENqr1P+8UEb1HmzTG2DCkP6gFM0t3dW1g+WcIMAS6PQKWAhKECyFUX1+Pw++gHoPMXbDbq2LwCkgN0uG23BAqXHl5OamBiAU9C7tdHv3TSWhUDRk6kK+nf8WYNA0pzSkG86PvJprhnz6xVAwBhkA4I0BtJ2Ho2kG7H3AkRQiteGlAOIPJ8ha2CACzUavVDoeD6lX4nFCztEYtY0E8wlaLfMxYbXUGsN/qNcvEdUyMSWOMrUvnwIvgX2ZL8FEA7DGGAEOAIRAyBGiLr1arGxsbxRv9TrzrcDggvgHMczKqETIN6QYfchw2TXvE6dcRbvuE8+sUNUsjhObO6t0NkL83i1C/I1ujJr7NKclar8M2L0waY1w8bhjQaPi3coH+3oSVlZohwBBgCIQbArb1mdSpAyEUzgwD2EZ9fT0l0xyf1ta8ncbiTIebXoVbfmreToMQCgih8jALfsen0Rhj/nARIaRRyyoX6JmGh5tGieSncV9e5QI95b2+LGz1zqQxxrXrP05JdnrggWaUjNJVLtDXvJ1Wtz6TbScuIhJ2iyHAEGAIBBCBxn15desza95Oq1ygpyY6hJBarQ5/Gg2cQ0A1oMcqGRW34qUBtDdxHDbVrc/syA8gqlygZ7/gIdARAfHTNu7L49cRKv0VLw2Y9ki8PllBaU2Y02iq4WZzIc0znGRmxFQu0G+oyahbn8kvbLvO+aB15DxQKlEySmcp0ITmB7SzvTkXQYkOb+CZDTUZlQv0fMME8Xf3bUd6n5g0KIfN9k35YyPUKpdOCxSF/ckQYAgwBBgCoUegvLw8nJ06cFuH1WqFaB6hh4t9sSsikNInsauMFUHfbTZbSkqfrgg1yzNCyGAw+L50ux1MGpSjtb2uqKhgLSBTNYYAQ4Ah0LkImM1mq9Xa5Tg0vnM0NjZWVVXxnT2CgadhyEBzUVYgf4VDzYWZ5kKDuXAI9xtsLswwF6aTn2mQ2ZRmNqVyv4Fm0wCzqb/Z1M9s6ms26csnZ1oXmq3PFVqfM5VPTjcX9DYXJAX7p1bJg4FqKN9ZPH5kdXW1V1/VO2oVXv/X19dXVVWZuYMRp1CqjX/fUqvV0K62S43azaTp2xsbG23c4bt+19fXQxI//q2urrZardYXFllfeM76wnzr0metSyusS+dYlzxpXTLbumSmdfF06+Iy6+LHrIsnWxeVWhdNtC4qsT4/3vr8OOvzY6zPj7IuHGldONy68CHrwmHmghRzQR9zQTLXlkFzlmguSDAbE8zGeLOxl9kYZzbquF+s2ag1GzVmo7ojP/+EylIxBDwhkNI7siMKGbK0xSN11nn6QPz6WecPsM5Ptc5Pty4YbF1gsC4Yal2QbX0uz/qc0fqcyfpckXWhxbrwQevCEaS+k1o/jjQCiyZYFz1cvXqObevLtq2v2ba9adu2wrb9Hdv292071th2rLXtqLHt+MS281Pbzs9tO7+07Vpv21Vr27XJZttss22x2bb50V7ZbLYgEVyHw+G7pQSzgyHQBRGgVMF3dtEFSynMssPh8K2p2U6apl0bbTu/su38zLbjI9uOD207PvD42/6ubdvbpN3buty29UXb1hdsWxbbvl1o+/a/ts3P2DY/Zdv8uO2bGbZvymybptg2lto2ThT9ldo2TSZPbnqMJPlmGkm7eZZt82zb5ie5tz1j2zzXtvlZ27fzGg8sx1dq8JWP8JV1+MrnuPlL3Pw1bt6Ar27CV7/FV7filu24ZRdu2Y2vfY+v/Yiv7cXX9uPr9fj6H/jGYXyzEd/8G986g2858O3LGF8TQhagvynsfjfa/jPpABWhK76mBd++gm9fxLea8K2z+NZpIuybjfjGUSL7Gwfw9d/w9V/wtX2cZnyPW2y4ZQdRmqubcfNG3Lye6NOVT/GVT4iSXV6LL6/Bl1fjy+/jS+/hS+/gSyvxpbfxpRX44lv44hv44uv44mv44qv4wsv4wkv4wjJ8oRJfeAFfWIodi7FjEXYsxI4F2DEfN83DTc/ipgrc9AxumoPPP4XPP4HPz8bnH8fnZ+Jz0/G5afhcOT43FZ97FJ+dgs9OxmdL8dlJ+OxEfGYCPlOMz4zHZ8biM2PwmVHYPrJd/lvs4ZAgMILI5cwoTkZjOXkVE9mdncjJsZST6RR87jFOyuWcxKcT6RMdmM3pw1NEN4iGzCUK43iOqNCFpZxSvUTUjOjbW5wGvoMvv8cp51pnU9j8OW7+CjfX3mkHt+GWnbil7k4juI9rAX/l9P8PUhFuHORqxBF8o4HUDtIsnsA3/+LqyylScUgTeRbfOk+q0u0LpE7dvsxVrmaMWzC+3hVbB5ZnhgBDgCHAELinEGBM+p4Sd6AKew3fbsG3mznec4kjQA6OD53jiJGdG12c5AjTCXzz+J1hxhF840+OWh0kI87rv3OUq56jX93mXz6PPOTikTeP8XjkSXzzFL5l53jkOQ43B8cjL3F4NuPbV4M3+A6UBrD3MAQYAgwBhgBDgCGAMWZMmqkBQ4AhwBBgCDAEGAIMAYYAQ8AfBBiT9gc1loYhwBBgCDAEGAIMAYYAQ4AhwJg00wGGAEOAIcAQYAgwBBgCDAGGgD8IMCbtD2osDUOAIcAQYAgwBBgCDAGGAEOAMWmmAwwBhgBDgCHAEGAIMAQYAgwBfxBgTNof1FgahgBDgCHAEGAIMAQYAgwBhsD/B4XSgzQCZDAyAAAAAElFTkSuQmCC)"
      ],
      "metadata": {
        "id": "tkGEoOMNaAdO"
      }
    },
    {
      "cell_type": "markdown",
      "source": [
        "## 10.1 Creating a model and transforms for FoodVision Big"
      ],
      "metadata": {
        "id": "-kIe3eGUWIk7"
      }
    },
    {
      "cell_type": "code",
      "source": [
        "# Create EffNetB2 model capable of fitting to 101 classes for Food101\n",
        "effnetb2_food101, effnetb2_transforms = create_effnetb2_model(num_classes=101)"
      ],
      "metadata": {
        "id": "frSWCabsb3BX"
      },
      "execution_count": null,
      "outputs": []
    },
    {
      "cell_type": "code",
      "source": [
        " # Get a summary of EffNetB2 feature extractor for Food101 with 101 output classes (uncomment for full output)\n",
        " summary(effnetb2_food101,\n",
        "         input_size=(1, 3, 224, 224),\n",
        "         col_names=[\"input_size\", \"output_size\", \"num_params\", \"trainable\"],\n",
        "         col_width=20,\n",
        "         row_settings=[\"var_names\"])"
      ],
      "metadata": {
        "colab": {
          "base_uri": "https://localhost:8080/"
        },
        "id": "Owz4O5EuXbVh",
        "outputId": "bf1aeebf-9fe7-4387-bc5c-2b70d1a69a34"
      },
      "execution_count": null,
      "outputs": [
        {
          "output_type": "execute_result",
          "data": {
            "text/plain": [
              "============================================================================================================================================\n",
              "Layer (type (var_name))                                      Input Shape          Output Shape         Param #              Trainable\n",
              "============================================================================================================================================\n",
              "EfficientNet (EfficientNet)                                  [1, 3, 224, 224]     [1, 101]             --                   Partial\n",
              "├─Sequential (features)                                      [1, 3, 224, 224]     [1, 1408, 7, 7]      --                   False\n",
              "│    └─Conv2dNormActivation (0)                              [1, 3, 224, 224]     [1, 32, 112, 112]    --                   False\n",
              "│    │    └─Conv2d (0)                                       [1, 3, 224, 224]     [1, 32, 112, 112]    (864)                False\n",
              "│    │    └─BatchNorm2d (1)                                  [1, 32, 112, 112]    [1, 32, 112, 112]    (64)                 False\n",
              "│    │    └─SiLU (2)                                         [1, 32, 112, 112]    [1, 32, 112, 112]    --                   --\n",
              "│    └─Sequential (1)                                        [1, 32, 112, 112]    [1, 16, 112, 112]    --                   False\n",
              "│    │    └─MBConv (0)                                       [1, 32, 112, 112]    [1, 16, 112, 112]    (1,448)              False\n",
              "│    │    └─MBConv (1)                                       [1, 16, 112, 112]    [1, 16, 112, 112]    (612)                False\n",
              "│    └─Sequential (2)                                        [1, 16, 112, 112]    [1, 24, 56, 56]      --                   False\n",
              "│    │    └─MBConv (0)                                       [1, 16, 112, 112]    [1, 24, 56, 56]      (6,004)              False\n",
              "│    │    └─MBConv (1)                                       [1, 24, 56, 56]      [1, 24, 56, 56]      (10,710)             False\n",
              "│    │    └─MBConv (2)                                       [1, 24, 56, 56]      [1, 24, 56, 56]      (10,710)             False\n",
              "│    └─Sequential (3)                                        [1, 24, 56, 56]      [1, 48, 28, 28]      --                   False\n",
              "│    │    └─MBConv (0)                                       [1, 24, 56, 56]      [1, 48, 28, 28]      (16,518)             False\n",
              "│    │    └─MBConv (1)                                       [1, 48, 28, 28]      [1, 48, 28, 28]      (43,308)             False\n",
              "│    │    └─MBConv (2)                                       [1, 48, 28, 28]      [1, 48, 28, 28]      (43,308)             False\n",
              "│    └─Sequential (4)                                        [1, 48, 28, 28]      [1, 88, 14, 14]      --                   False\n",
              "│    │    └─MBConv (0)                                       [1, 48, 28, 28]      [1, 88, 14, 14]      (50,300)             False\n",
              "│    │    └─MBConv (1)                                       [1, 88, 14, 14]      [1, 88, 14, 14]      (123,750)            False\n",
              "│    │    └─MBConv (2)                                       [1, 88, 14, 14]      [1, 88, 14, 14]      (123,750)            False\n",
              "│    │    └─MBConv (3)                                       [1, 88, 14, 14]      [1, 88, 14, 14]      (123,750)            False\n",
              "│    └─Sequential (5)                                        [1, 88, 14, 14]      [1, 120, 14, 14]     --                   False\n",
              "│    │    └─MBConv (0)                                       [1, 88, 14, 14]      [1, 120, 14, 14]     (149,158)            False\n",
              "│    │    └─MBConv (1)                                       [1, 120, 14, 14]     [1, 120, 14, 14]     (237,870)            False\n",
              "│    │    └─MBConv (2)                                       [1, 120, 14, 14]     [1, 120, 14, 14]     (237,870)            False\n",
              "│    │    └─MBConv (3)                                       [1, 120, 14, 14]     [1, 120, 14, 14]     (237,870)            False\n",
              "│    └─Sequential (6)                                        [1, 120, 14, 14]     [1, 208, 7, 7]       --                   False\n",
              "│    │    └─MBConv (0)                                       [1, 120, 14, 14]     [1, 208, 7, 7]       (301,406)            False\n",
              "│    │    └─MBConv (1)                                       [1, 208, 7, 7]       [1, 208, 7, 7]       (686,868)            False\n",
              "│    │    └─MBConv (2)                                       [1, 208, 7, 7]       [1, 208, 7, 7]       (686,868)            False\n",
              "│    │    └─MBConv (3)                                       [1, 208, 7, 7]       [1, 208, 7, 7]       (686,868)            False\n",
              "│    │    └─MBConv (4)                                       [1, 208, 7, 7]       [1, 208, 7, 7]       (686,868)            False\n",
              "│    └─Sequential (7)                                        [1, 208, 7, 7]       [1, 352, 7, 7]       --                   False\n",
              "│    │    └─MBConv (0)                                       [1, 208, 7, 7]       [1, 352, 7, 7]       (846,900)            False\n",
              "│    │    └─MBConv (1)                                       [1, 352, 7, 7]       [1, 352, 7, 7]       (1,888,920)          False\n",
              "│    └─Conv2dNormActivation (8)                              [1, 352, 7, 7]       [1, 1408, 7, 7]      --                   False\n",
              "│    │    └─Conv2d (0)                                       [1, 352, 7, 7]       [1, 1408, 7, 7]      (495,616)            False\n",
              "│    │    └─BatchNorm2d (1)                                  [1, 1408, 7, 7]      [1, 1408, 7, 7]      (2,816)              False\n",
              "│    │    └─SiLU (2)                                         [1, 1408, 7, 7]      [1, 1408, 7, 7]      --                   --\n",
              "├─AdaptiveAvgPool2d (avgpool)                                [1, 1408, 7, 7]      [1, 1408, 1, 1]      --                   --\n",
              "├─Sequential (classifier)                                    [1, 1408]            [1, 101]             --                   True\n",
              "│    └─Dropout (0)                                           [1, 1408]            [1, 1408]            --                   --\n",
              "│    └─Linear (1)                                            [1, 1408]            [1, 101]             142,309              True\n",
              "============================================================================================================================================\n",
              "Total params: 7,843,303\n",
              "Trainable params: 142,309\n",
              "Non-trainable params: 7,700,994\n",
              "Total mult-adds (M): 657.78\n",
              "============================================================================================================================================\n",
              "Input size (MB): 0.60\n",
              "Forward/backward pass size (MB): 156.80\n",
              "Params size (MB): 31.37\n",
              "Estimated Total Size (MB): 188.77\n",
              "============================================================================================================================================"
            ]
          },
          "metadata": {},
          "execution_count": 95
        }
      ]
    },
    {
      "cell_type": "code",
      "source": [
        "# Create Food101 training data transforms (only perform data augmentation on the training images)\n",
        "food101_train_transforms = torchvision.transforms.Compose([\n",
        "    torchvision.transforms.TrivialAugmentWide(),\n",
        "    effnetb2_transforms,\n",
        "])"
      ],
      "metadata": {
        "id": "ep2ClCCbZk05"
      },
      "execution_count": null,
      "outputs": []
    },
    {
      "cell_type": "code",
      "source": [
        "print(f\"Training transforms:\\n{food101_train_transforms}\\n\")  # for training data\n",
        "print(f\"Testing transforms:\\n{effnetb2_transforms}\") # for testing/inference data"
      ],
      "metadata": {
        "colab": {
          "base_uri": "https://localhost:8080/"
        },
        "id": "0jmhWJv7azve",
        "outputId": "714ec07b-8c1e-4bb7-8fbc-0148804949c4"
      },
      "execution_count": null,
      "outputs": [
        {
          "output_type": "stream",
          "name": "stdout",
          "text": [
            "Training transforms:\n",
            "Compose(\n",
            "    TrivialAugmentWide(num_magnitude_bins=31, interpolation=InterpolationMode.NEAREST, fill=None)\n",
            "    ImageClassification(\n",
            "    crop_size=[288]\n",
            "    resize_size=[288]\n",
            "    mean=[0.485, 0.456, 0.406]\n",
            "    std=[0.229, 0.224, 0.225]\n",
            "    interpolation=InterpolationMode.BICUBIC\n",
            ")\n",
            ")\n",
            "\n",
            "Testing transforms:\n",
            "ImageClassification(\n",
            "    crop_size=[288]\n",
            "    resize_size=[288]\n",
            "    mean=[0.485, 0.456, 0.406]\n",
            "    std=[0.229, 0.224, 0.225]\n",
            "    interpolation=InterpolationMode.BICUBIC\n",
            ")\n"
          ]
        }
      ]
    },
    {
      "cell_type": "markdown",
      "source": [
        "## 10.2 Getting data for FoodVision Big"
      ],
      "metadata": {
        "id": "Rhw6zQFCbVUM"
      }
    },
    {
      "cell_type": "markdown",
      "source": [
        " - torchvision.datasets.Food101()\n"
      ],
      "metadata": {
        "id": "B5WlW-eNbqqx"
      }
    },
    {
      "cell_type": "code",
      "source": [
        "from torchvision import datasets\n",
        "\n",
        "# Setup data directory\n",
        "from pathlib import Path\n",
        "data_dir = Path(\"data\")\n",
        "\n",
        "# Get training data (~750 images x 101 food classes)\n",
        "train_data = datasets.Food101(root=data_dir, # path to download data to\n",
        "                              split=\"train\", # dataset split to get\n",
        "                              transform=food101_train_transforms, # perform data augmentation on training data\n",
        "                              download=True) # want to download?\n",
        "\n",
        "# Get testing data (~250 images x 101 food classes)\n",
        "test_data = datasets.Food101(root=data_dir,\n",
        "                             split=\"test\",\n",
        "                             transform=effnetb2_transforms, # perform normal EffNetB2 transforms on test data\n",
        "                             download=True)"
      ],
      "metadata": {
        "colab": {
          "base_uri": "https://localhost:8080/"
        },
        "id": "-Lr0MANqa6cv",
        "outputId": "459dda84-58c1-4a98-8c2f-b032276e4f01"
      },
      "execution_count": null,
      "outputs": [
        {
          "output_type": "stream",
          "name": "stdout",
          "text": [
            "Downloading https://data.vision.ee.ethz.ch/cvl/food-101.tar.gz to data\\food-101.tar.gz\n"
          ]
        },
        {
          "output_type": "stream",
          "name": "stderr",
          "text": [
            "100%|████████████████████████████████████████████████████████████| 4996278331/4996278331 [3:13:47<00:00, 429703.21it/s]\n"
          ]
        },
        {
          "output_type": "stream",
          "name": "stdout",
          "text": [
            "Extracting data\\food-101.tar.gz to data\n"
          ]
        }
      ]
    },
    {
      "cell_type": "code",
      "source": [
        "# Get Food101 class names\n",
        "food101_class_names = train_data.classes\n",
        "\n",
        "# View the first 10\n",
        "food101_class_names[:10]"
      ],
      "metadata": {
        "colab": {
          "base_uri": "https://localhost:8080/"
        },
        "id": "3CNMuwVado7X",
        "outputId": "fa2cb64b-a1f1-4e4a-9bdf-cdfd2da3b8c5"
      },
      "execution_count": null,
      "outputs": [
        {
          "output_type": "execute_result",
          "data": {
            "text/plain": [
              "['apple_pie',\n",
              " 'baby_back_ribs',\n",
              " 'baklava',\n",
              " 'beef_carpaccio',\n",
              " 'beef_tartare',\n",
              " 'beet_salad',\n",
              " 'beignets',\n",
              " 'bibimbap',\n",
              " 'bread_pudding',\n",
              " 'breakfast_burrito']"
            ]
          },
          "metadata": {},
          "execution_count": 100
        }
      ]
    },
    {
      "cell_type": "code",
      "source": [
        "# last 10 classes\n",
        "food101_class_names[-10:]"
      ],
      "metadata": {
        "colab": {
          "base_uri": "https://localhost:8080/"
        },
        "id": "Zl5ZGja5ei-0",
        "outputId": "c3ecb026-1476-45c8-8219-ab7125af0182"
      },
      "execution_count": null,
      "outputs": [
        {
          "output_type": "execute_result",
          "data": {
            "text/plain": [
              "['spaghetti_carbonara',\n",
              " 'spring_rolls',\n",
              " 'steak',\n",
              " 'strawberry_shortcake',\n",
              " 'sushi',\n",
              " 'tacos',\n",
              " 'takoyaki',\n",
              " 'tiramisu',\n",
              " 'tuna_tartare',\n",
              " 'waffles']"
            ]
          },
          "metadata": {},
          "execution_count": 104
        }
      ]
    },
    {
      "cell_type": "markdown",
      "source": [
        "## 10.3 Creating a subset of the Food101 dataset for faster experimenting"
      ],
      "metadata": {
        "id": "Q_aRLyuRfBdg"
      }
    },
    {
      "cell_type": "markdown",
      "source": [
        "![image.png](data:image/png;base64,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)"
      ],
      "metadata": {
        "id": "68hrFPRhhHEQ"
      }
    },
    {
      "cell_type": "markdown",
      "source": [
        "Using 20% data of Food101 dataset for training\n",
        "\n",
        "100% = [20%,80%]\n",
        "\n"
      ],
      "metadata": {
        "id": "vUvojArghIQ8"
      }
    },
    {
      "cell_type": "code",
      "source": [
        "def split_dataset(dataset:torchvision.datasets, split_size:float=0.2, seed:int=42):\n",
        "    \"\"\"Randomly splits a given dataset into two proportions based on split_size and seed.\n",
        "\n",
        "    Args:\n",
        "        dataset (torchvision.datasets): A PyTorch Dataset, typically one from torchvision.datasets.\n",
        "        split_size (float, optional): How much of the dataset should be split?\n",
        "            E.g. split_size=0.2 means there will be a 20% split and an 80% split. Defaults to 0.2.\n",
        "        seed (int, optional): Seed for random generator. Defaults to 42.\n",
        "\n",
        "    Returns:\n",
        "        tuple: (random_split_1, random_split_2) where random_split_1 is of size split_size*len(dataset) and\n",
        "            random_split_2 is of size (1-split_size)*len(dataset).\n",
        "    \"\"\"\n",
        "    # Create split lengths based on original dataset length\n",
        "    length_1 = int(len(dataset) * split_size) # desired length\n",
        "    length_2 = len(dataset) - length_1 # remaining length\n",
        "\n",
        "    # Print out info\n",
        "    print(f\"[INFO] Splitting dataset of length {len(dataset)} into splits of size: {length_1} ({int(split_size*100)}%), {length_2} ({int((1-split_size)*100)}%)\")\n",
        "\n",
        "    # Create splits with given random seed\n",
        "    random_split_1, random_split_2 = torch.utils.data.random_split(dataset,\n",
        "                                                                   lengths=[length_1, length_2],\n",
        "                                                                   generator=torch.manual_seed(seed)) # set the random seed for reproducible splits\n",
        "    return random_split_1, random_split_2"
      ],
      "metadata": {
        "id": "lzVMMEELei7J"
      },
      "execution_count": null,
      "outputs": []
    },
    {
      "cell_type": "code",
      "source": [
        "# Create training 20% split of Food101\n",
        "train_data_food101_20_percent, _ = split_dataset(dataset=train_data,\n",
        "                                                 split_size=0.2)\n",
        "\n",
        "# Create testing 20% split of Food101\n",
        "test_data_food101_20_percent, _ = split_dataset(dataset=test_data,\n",
        "                                                split_size=0.2)\n",
        "\n",
        "len(train_data_food101_20_percent), len(test_data_food101_20_percent)"
      ],
      "metadata": {
        "colab": {
          "base_uri": "https://localhost:8080/"
        },
        "id": "G_ceTZR_jMj5",
        "outputId": "9c845ce5-86cc-41f1-8f9d-5c6ba058adfe"
      },
      "execution_count": null,
      "outputs": [
        {
          "output_type": "stream",
          "name": "stdout",
          "text": [
            "[INFO] Splitting dataset of length 75750 into splits of size: 15150 (20%), 60600 (80%)\n",
            "[INFO] Splitting dataset of length 25250 into splits of size: 5050 (20%), 20200 (80%)\n"
          ]
        },
        {
          "output_type": "execute_result",
          "data": {
            "text/plain": [
              "(15150, 5050)"
            ]
          },
          "metadata": {},
          "execution_count": 106
        }
      ]
    },
    {
      "cell_type": "markdown",
      "source": [
        "##10.4 Turning our Food101 datasets into DataLoaders"
      ],
      "metadata": {
        "id": "yFmAWsW4jrmZ"
      }
    },
    {
      "cell_type": "code",
      "source": [
        "import os\n",
        "import torch\n",
        "\n",
        "BATCH_SIZE = 32\n",
        "NUM_WORKERS = 2 if os.cpu_count() <= 4 else 4\n",
        "\n",
        "# Create Food101 20 percent training DataLoader\n",
        "train_dataloader_food101_20_percent = torch.utils.data.DataLoader(train_data_food101_20_percent,\n",
        "                                                                  batch_size=BATCH_SIZE,\n",
        "                                                                  shuffle=True,\n",
        "                                                                  num_workers=NUM_WORKERS)\n",
        "# Create Food101 20 percent testing DataLoader\n",
        "test_dataloader_food101_20_percent = torch.utils.data.DataLoader(test_data_food101_20_percent,\n",
        "                                                                 batch_size=BATCH_SIZE,\n",
        "                                                                 shuffle=False,\n",
        "                                                                 num_workers=NUM_WORKERS)"
      ],
      "metadata": {
        "id": "KKB5mlzyjrQW"
      },
      "execution_count": null,
      "outputs": []
    },
    {
      "cell_type": "markdown",
      "source": [
        "## 10.5 Training FoodVision Big model"
      ],
      "metadata": {
        "id": "LBnPxaWKmL86"
      }
    },
    {
      "cell_type": "markdown",
      "source": [
        "using label smoothing in CrossEntropyLoss"
      ],
      "metadata": {
        "id": "BjXqDXNgqrLm"
      }
    },
    {
      "cell_type": "markdown",
      "source": [
        "Label smoothing is a regularization technique that prevents overfitting by reducing a model's confidence on a single label and spreading it across other labels to aid in generalization. This helps the model consider multiple options rather than being overly confident in its predictions."
      ],
      "metadata": {
        "id": "6m2ZHMT4oRfG"
      }
    },
    {
      "cell_type": "code",
      "source": [
        "from going_modular import engine\n",
        "\n",
        "# Setup optimizer\n",
        "optimizer = torch.optim.Adam(params=effnetb2_food101.parameters(),\n",
        "                             lr=1e-3)\n",
        "\n",
        "# Setup loss function\n",
        "loss_fn = torch.nn.CrossEntropyLoss(label_smoothing=0.1) # throw in a little label smoothing because so many classes\n",
        "\n",
        "# Want to beat original Food101 paper with 20% of data, need 56.4%+ acc on test dataset\n",
        "set_seeds()\n",
        "effnetb2_food101_results = engine.train(model=effnetb2_food101,\n",
        "                                        train_dataloader=train_dataloader_food101_20_percent,\n",
        "                                        test_dataloader=test_dataloader_food101_20_percent,\n",
        "                                        optimizer=optimizer,\n",
        "                                        loss_fn=loss_fn,\n",
        "                                        epochs=5,\n",
        "                                        device=device)"
      ],
      "metadata": {
        "colab": {
          "base_uri": "https://localhost:8080/",
          "height": 104,
          "referenced_widgets": [
            "6b72d65b063e4ab3a49dba4406bb6ee9",
            "941bab4a18364dc5bb596b65464ca708",
            "d33727ce40864960a92bb2570dcf0048",
            "d8750feb04d04a0ea7ca010edfedf26d",
            "b054e5bae0b142a99de1e4a612053eb7",
            "1f67eedd0367413a81adc75ef8a47314",
            "6b96d040ce4a45029fac132eb09f8d99",
            "089dae93fb95477abf4ecec7d9c8a046",
            "d2d0180859a0482d85b6cf64542a7570",
            "b07dab2403f34ccc9144b2dc5b71a792",
            "fd8c6bc1e52d414a80b1307d9d7b1ec9"
          ]
        },
        "id": "2PDk-5i3mOXk",
        "outputId": "0df5476f-1a0a-4388-bcc0-8ec87f7d550e"
      },
      "execution_count": null,
      "outputs": [
        {
          "output_type": "display_data",
          "data": {
            "text/plain": [
              "  0%|          | 0/5 [00:00<?, ?it/s]"
            ],
            "application/vnd.jupyter.widget-view+json": {
              "version_major": 2,
              "version_minor": 0,
              "model_id": "6b72d65b063e4ab3a49dba4406bb6ee9"
            }
          },
          "metadata": {}
        },
        {
          "output_type": "stream",
          "name": "stdout",
          "text": [
            "Epoch: 1 | train_loss: 3.6358 | train_acc: 0.2848 | test_loss: 2.7814 | test_acc: 0.4877\n",
            "Epoch: 2 | train_loss: 2.8598 | train_acc: 0.4381 | test_loss: 2.4658 | test_acc: 0.5418\n",
            "Epoch: 3 | train_loss: 2.6606 | train_acc: 0.4829 | test_loss: 2.3494 | test_acc: 0.5660\n",
            "Epoch: 4 | train_loss: 2.5466 | train_acc: 0.5129 | test_loss: 2.3059 | test_acc: 0.5737\n",
            "Epoch: 5 | train_loss: 2.4922 | train_acc: 0.5237 | test_loss: 2.2756 | test_acc: 0.5823\n"
          ]
        }
      ]
    },
    {
      "cell_type": "markdown",
      "source": [
        "## 10.6 Inspecting loss curves of FoodVision Big model"
      ],
      "metadata": {
        "id": "wPkYXCyvtrXq"
      }
    },
    {
      "cell_type": "code",
      "source": [
        "from helper_functions import plot_loss_curves\n",
        "\n",
        "# Check out the loss curves for FoodVision Big\n",
        "plot_loss_curves(effnetb2_food101_results)"
      ],
      "metadata": {
        "colab": {
          "base_uri": "https://localhost:8080/",
          "height": 639
        },
        "id": "7370aM5QsZag",
        "outputId": "6edb011f-b487-47da-847d-f65648d25f35"
      },
      "execution_count": null,
      "outputs": [
        {
          "output_type": "display_data",
          "data": {
            "text/plain": [
              "<Figure size 1500x700 with 2 Axes>"
            ],
            "image/png": "[encoded data removed]"
          },
          "metadata": {}
        }
      ]
    },
    {
      "cell_type": "markdown",
      "source": [
        "## 10.7 Saving and loading FoodVision Big"
      ],
      "metadata": {
        "id": "6dRVUV1lxiqm"
      }
    },
    {
      "cell_type": "code",
      "source": [
        "from going_modular import utils\n",
        "\n",
        "# Create a model path\n",
        "effnetb2_food101_model_path = \"09_pretrained_effnetb2_feature_extractor_food101_20_percent.pth\"\n",
        "\n",
        "# Save FoodVision Big model\n",
        "utils.save_model(model=effnetb2_food101,\n",
        "                 target_dir=\"models\",\n",
        "                 model_name=effnetb2_food101_model_path)"
      ],
      "metadata": {
        "colab": {
          "base_uri": "https://localhost:8080/"
        },
        "id": "or7kfFmWxk28",
        "outputId": "f6c6e39b-1085-4ee3-9f01-ffb1020fb4cc"
      },
      "execution_count": null,
      "outputs": [
        {
          "output_type": "stream",
          "name": "stdout",
          "text": [
            "[INFO] Saving model to: models\\09_pretrained_effnetb2_feature_extractor_food101_20_percent.pth\n"
          ]
        }
      ]
    },
    {
      "cell_type": "code",
      "source": [
        "# Create Food101 compatible EffNetB2 instance\n",
        "loaded_effnetb2_food101, effnetb2_transforms = create_effnetb2_model(num_classes=101)\n",
        "\n",
        "# Load the saved model's state_dict()\n",
        "loaded_effnetb2_food101.load_state_dict(torch.load(\"models/09_pretrained_effnetb2_feature_extractor_food101_20_percent.pth\"))"
      ],
      "metadata": {
        "colab": {
          "base_uri": "https://localhost:8080/"
        },
        "id": "XgP35gc2zXsY",
        "outputId": "7d61b8cf-0efe-484d-a78c-8cf856851456"
      },
      "execution_count": null,
      "outputs": [
        {
          "output_type": "execute_result",
          "data": {
            "text/plain": [
              "<All keys matched successfully>"
            ]
          },
          "metadata": {},
          "execution_count": 132
        }
      ]
    },
    {
      "cell_type": "markdown",
      "source": [
        "## 10.8 Checking FoodVision Big model size"
      ],
      "metadata": {
        "id": "demu7oPjzLGE"
      }
    },
    {
      "cell_type": "code",
      "source": [
        "from pathlib import Path\n",
        "\n",
        "# Get the model size in bytes then convert to megabytes\n",
        "pretrained_effnetb2_food101_model_size = Path(\"models\", effnetb2_food101_model_path).stat().st_size // (1024*1024) # division converts bytes to megabytes (roughly)\n",
        "print(f\"Pretrained EffNetB2 feature extractor Food101 model size: {pretrained_effnetb2_food101_model_size} MB\")"
      ],
      "metadata": {
        "colab": {
          "base_uri": "https://localhost:8080/"
        },
        "id": "8_qwT7uizoe4",
        "outputId": "dc7834e7-cf4b-494d-a62c-3588c93b9fd0"
      },
      "execution_count": null,
      "outputs": [
        {
          "output_type": "stream",
          "name": "stdout",
          "text": [
            "Pretrained EffNetB2 feature extractor Food101 model size: 30 MB\n"
          ]
        }
      ]
    },
    {
      "cell_type": "markdown",
      "source": [
        "# 11.Turning our FoodVision Big model into a deployable app"
      ],
      "metadata": {
        "id": "DwS5lMHGz8G5"
      }
    },
    {
      "cell_type": "markdown",
      "source": [
        "## 11.1 Create directory"
      ],
      "metadata": {
        "id": "Aml5bg3f3azc"
      }
    },
    {
      "cell_type": "code",
      "source": [
        "from pathlib import Path\n",
        "\n",
        "# Create FoodVision Big demo path\n",
        "foodvision_big_demo_path = Path(\"demos/foodvision_big/\")\n",
        "\n",
        "# Make FoodVision Big demo directory\n",
        "foodvision_big_demo_path.mkdir(parents=True, exist_ok=True)\n",
        "\n",
        "# Make FoodVision Big demo examples directory\n",
        "(foodvision_big_demo_path / \"examples\").mkdir(parents=True, exist_ok=True)"
      ],
      "metadata": {
        "id": "Vumn3D40z74T"
      },
      "execution_count": null,
      "outputs": []
    },
    {
      "cell_type": "code",
      "source": [
        "# Download and move an example image\n",
        "import shutil\n",
        "import requests\n",
        "import os\n",
        "\n",
        "# URL of the raw image on GitHub\n",
        "image_url = 'https://github.com/Junying123/food-vision-pytorch/blob/main/images.jpeg?raw=true'\n",
        "# The name you want to save the file as\n",
        "image_filename = 'images.jpeg'\n",
        "\n",
        "# Download the image\n",
        "response = requests.get(image_url)\n",
        "if response.status_code == 200:\n",
        "    with open(image_filename, 'wb') as f:\n",
        "        f.write(response.content)\n",
        "\n",
        "# Define your destination path\n",
        "destination_path = 'demos/foodvision_big/examples/'\n",
        "\n",
        "# Create the destination directory if it doesn't exist\n",
        "os.makedirs(destination_path, exist_ok=True)\n",
        "\n",
        "# Move the file\n",
        "os.rename(image_filename, os.path.join(destination_path, image_filename))"
      ],
      "metadata": {
        "id": "xj38QStR4SB4"
      },
      "execution_count": null,
      "outputs": []
    },
    {
      "cell_type": "code",
      "source": [
        "import os\n",
        "import shutil\n",
        "\n",
        "# Define the path to the model file\n",
        "model_file = 'models/09_pretrained_effnetb2_feature_extractor_food101_20_percent.pth'\n",
        "destination_directory = 'demos/foodvision_big'\n",
        "\n",
        "# Check if the file exists\n",
        "if os.path.exists(model_file):\n",
        "    # Ensure the destination directory exists\n",
        "    if not os.path.exists(destination_directory):\n",
        "        os.makedirs(destination_directory)\n",
        "    # Move the file\n",
        "    shutil.move(model_file, destination_directory)\n",
        "    print(f\"Moved {model_file} to {destination_directory}\")\n",
        "else:\n",
        "    print(f\"File not found: {model_file}. Please check the file path.\")\n"
      ],
      "metadata": {
        "colab": {
          "base_uri": "https://localhost:8080/"
        },
        "id": "X-cqWpJWYEdm",
        "outputId": "bbb26ce7-4023-4f23-d73f-388cdf168493"
      },
      "execution_count": null,
      "outputs": [
        {
          "output_type": "stream",
          "name": "stdout",
          "text": [
            "Moved models/09_pretrained_effnetb2_feature_extractor_food101_20_percent.pth to demos/foodvision_big\n"
          ]
        }
      ]
    },
    {
      "cell_type": "markdown",
      "source": [
        "## 11.2 Saving Food101 class names to file (class_names.txt)"
      ],
      "metadata": {
        "id": "yBrGp0i64zfH"
      }
    },
    {
      "cell_type": "code",
      "source": [
        "# Create path to Food101 class names\n",
        "foodvision_big_class_names_path = foodvision_big_demo_path / \"class_names.txt\"\n",
        "\n",
        "# Write Food101 class names list to file\n",
        "with open(foodvision_big_class_names_path, \"w\") as f:\n",
        "    print(f\"[INFO] Saving Food101 class names to {foodvision_big_class_names_path}\")\n",
        "    f.write(\"\\n\".join(food101_class_names)) # leave a new line between each class"
      ],
      "metadata": {
        "colab": {
          "base_uri": "https://localhost:8080/"
        },
        "id": "YCZW_tyY42K6",
        "outputId": "0b487326-0c7c-4d1a-c114-699b0287ce43"
      },
      "execution_count": null,
      "outputs": [
        {
          "output_type": "stream",
          "name": "stdout",
          "text": [
            "[INFO] Saving Food101 class names to demos\\foodvision_big\\class_names.txt\n"
          ]
        }
      ]
    },
    {
      "cell_type": "code",
      "source": [
        "# Open Food101 class names file and read each line into a list\n",
        "with open(foodvision_big_class_names_path, \"r\") as f:\n",
        "    food101_class_names_loaded = [food.strip() for food in  f.readlines()]\n",
        "\n",
        "# View the first 5 class names loaded back in\n",
        "food101_class_names_loaded[:5]"
      ],
      "metadata": {
        "colab": {
          "base_uri": "https://localhost:8080/"
        },
        "id": "QmkHPoXv5aLv",
        "outputId": "2b90ac46-321a-4ec3-d7fd-423128dbbfcb"
      },
      "execution_count": null,
      "outputs": [
        {
          "output_type": "execute_result",
          "data": {
            "text/plain": [
              "['apple_pie', 'baby_back_ribs', 'baklava', 'beef_carpaccio', 'beef_tartare']"
            ]
          },
          "metadata": {},
          "execution_count": 116
        }
      ]
    },
    {
      "cell_type": "markdown",
      "source": [
        "## 11.3 Turning our FoodVision Big model into a Python script (model.py)"
      ],
      "metadata": {
        "id": "A4qsl0pT5t6U"
      }
    },
    {
      "cell_type": "code",
      "source": [
        "%%writefile demos/foodvision_big/model.py\n",
        "import torch\n",
        "import torchvision\n",
        "\n",
        "from torch import nn\n",
        "\n",
        "\n",
        "def create_effnetb2_model(num_classes:int=3,\n",
        "                          seed:int=42):\n",
        "    \"\"\"Creates an EfficientNetB2 feature extractor model and transforms.\n",
        "\n",
        "    Args:\n",
        "        num_classes (int, optional): number of classes in the classifier head.\n",
        "            Defaults to 3.\n",
        "        seed (int, optional): random seed value. Defaults to 42.\n",
        "\n",
        "    Returns:\n",
        "        model (torch.nn.Module): EffNetB2 feature extractor model.\n",
        "        transforms (torchvision.transforms): EffNetB2 image transforms.\n",
        "    \"\"\"\n",
        "    # Create EffNetB2 pretrained weights, transforms and model\n",
        "    weights = torchvision.models.EfficientNet_B2_Weights.DEFAULT\n",
        "    transforms = weights.transforms()\n",
        "    model = torchvision.models.efficientnet_b2(weights=weights)\n",
        "\n",
        "    # Freeze all layers in base model\n",
        "    for param in model.parameters():\n",
        "        param.requires_grad = False\n",
        "\n",
        "    # Change classifier head with random seed for reproducibility\n",
        "    torch.manual_seed(seed)\n",
        "    model.classifier = nn.Sequential(\n",
        "        nn.Dropout(p=0.3, inplace=True),\n",
        "        nn.Linear(in_features=1408, out_features=num_classes),\n",
        "    )\n",
        "\n",
        "    return model, transforms"
      ],
      "metadata": {
        "colab": {
          "base_uri": "https://localhost:8080/"
        },
        "id": "_JdcogPH6WCF",
        "outputId": "70a29314-d9fd-4a20-e9ac-3f15739a20a6"
      },
      "execution_count": null,
      "outputs": [
        {
          "output_type": "stream",
          "name": "stdout",
          "text": [
            "Writing demos/foodvision_big/model.py\n"
          ]
        }
      ]
    },
    {
      "cell_type": "markdown",
      "source": [
        "##11.4 Turning our FoodVision Big Gradio app into a Python script (app.py)"
      ],
      "metadata": {
        "id": "GhH3cNnQ6dlz"
      }
    },
    {
      "cell_type": "code",
      "source": [
        "%%writefile demos/foodvision_big/app.py\n",
        "### 1. Imports and class names setup ###\n",
        "import gradio as gr\n",
        "import os\n",
        "import torch\n",
        "\n",
        "from model import create_effnetb2_model\n",
        "from timeit import default_timer as timer\n",
        "from typing import Tuple, Dict\n",
        "\n",
        "# Setup class names\n",
        "with open(\"class_names.txt\", \"r\") as f: # reading them in from class_names.txt\n",
        "    class_names = [food_name.strip() for food_name in  f.readlines()]\n",
        "\n",
        "### 2. Model and transforms preparation ###\n",
        "\n",
        "# Create model\n",
        "effnetb2, effnetb2_transforms = create_effnetb2_model(\n",
        "    num_classes=101, # could also use len(class_names)\n",
        ")\n",
        "\n",
        "# Load saved weights\n",
        "effnetb2.load_state_dict(\n",
        "    torch.load(\n",
        "        f=\"09_pretrained_effnetb2_feature_extractor_food101_20_percent.pth\",\n",
        "        map_location=torch.device(\"cpu\"),  # load to CPU\n",
        "    )\n",
        ")\n",
        "\n",
        "### 3. Predict function ###\n",
        "\n",
        "# Create predict function\n",
        "def predict(img) -> Tuple[Dict, float]:\n",
        "    \"\"\"Transforms and performs a prediction on img and returns prediction and time taken.\n",
        "    \"\"\"\n",
        "    # Start the timer\n",
        "    start_time = timer()\n",
        "\n",
        "    # Transform the target image and add a batch dimension\n",
        "    img = effnetb2_transforms(img).unsqueeze(0)\n",
        "\n",
        "    # Put model into evaluation mode and turn on inference mode\n",
        "    effnetb2.eval()\n",
        "    with torch.inference_mode():\n",
        "        # Pass the transformed image through the model and turn the prediction logits into prediction probabilities\n",
        "        pred_probs = torch.softmax(effnetb2(img), dim=1)\n",
        "\n",
        "    # Create a prediction label and prediction probability dictionary for each prediction class (this is the required format for Gradio's output parameter)\n",
        "    pred_labels_and_probs = {class_names[i]: float(pred_probs[0][i]) for i in range(len(class_names))}\n",
        "\n",
        "    # Calculate the prediction time\n",
        "    pred_time = round(timer() - start_time, 5)\n",
        "\n",
        "    # Return the prediction dictionary and prediction time\n",
        "    return pred_labels_and_probs, pred_time\n",
        "\n",
        "### 4. Gradio app ###\n",
        "\n",
        "# Create title, description and article strings\n",
        "title = \"FoodVision Big 🍔👁\"\n",
        "description = \"An EfficientNetB2 feature extractor computer vision model to classify images of food into [101 different classes](https://raw.githubusercontent.com/Junying123/food-vision-pytorch/main/class_names.txt).\"\n",
        "article = \"Created at [09. PyTorch Model Deployment](https://colab.research.google.com/drive/1nO05GTaA_kF85Dx7eoT3TdgJUuxAFFnO?usp=sharing/).\"\n",
        "\n",
        "# Create examples list from \"examples/\" directory\n",
        "example_list = [[\"examples/\" + example] for example in os.listdir(\"examples\")]\n",
        "\n",
        "# Create Gradio interface\n",
        "demo = gr.Interface(\n",
        "    fn=predict,\n",
        "    inputs=gr.Image(type=\"pil\"),\n",
        "    outputs=[\n",
        "        gr.Label(num_top_classes=5, label=\"Predictions\"),\n",
        "        gr.Number(label=\"Prediction time (s)\"),\n",
        "    ],\n",
        "    examples=example_list,\n",
        "    title=title,\n",
        "    description=description,\n",
        "    article=article,\n",
        ")\n",
        "\n",
        "# Launch the app!\n",
        "demo.launch()"
      ],
      "metadata": {
        "colab": {
          "base_uri": "https://localhost:8080/"
        },
        "id": "BwdcKaOX6f4k",
        "outputId": "9a182a27-8abd-408f-ac88-a5a4beb84d22"
      },
      "execution_count": null,
      "outputs": [
        {
          "output_type": "stream",
          "name": "stdout",
          "text": [
            "Overwriting demos/foodvision_big/app.py\n"
          ]
        }
      ]
    },
    {
      "cell_type": "markdown",
      "source": [
        "## 11.5 Creating a requirements file for FoodVision Big (requirements.txt)"
      ],
      "metadata": {
        "id": "MIwcetDL6xly"
      }
    },
    {
      "cell_type": "code",
      "source": [
        "%%writefile demos/foodvision_big/requirements.txt\n",
        "torch==2.1.2\n",
        "torchvision==0.16.2\n",
        "gradio==4.26.0"
      ],
      "metadata": {
        "colab": {
          "base_uri": "https://localhost:8080/"
        },
        "id": "HnaJfdeQ67_f",
        "outputId": "7c27e206-f671-4508-8281-cd136b22cfe5"
      },
      "execution_count": null,
      "outputs": [
        {
          "output_type": "stream",
          "name": "stdout",
          "text": [
            "Overwriting demos/foodvision_big/requirements.txt\n"
          ]
        }
      ]
    },
    {
      "cell_type": "markdown",
      "source": [
        "## 11.6 Deploying our FoodVision Big app to HuggingFace Spaces"
      ],
      "metadata": {
        "id": "VZQuIj5EY9Ov"
      }
    },
    {
      "cell_type": "code",
      "source": [],
      "metadata": {
        "id": "MGQWD1dcY_qn"
      },
      "execution_count": null,
      "outputs": []
    }
  ]
}